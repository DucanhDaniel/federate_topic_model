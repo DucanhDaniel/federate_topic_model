{
 "cells": [
  {
   "cell_type": "code",
   "execution_count": 1,
   "id": "f6acd201",
   "metadata": {},
   "outputs": [],
   "source": [
    "import sys\n",
    "project_root = \"d:/MachineLearning/federated_vae\"\n",
    "sys.path.append(project_root)"
   ]
  },
  {
   "cell_type": "code",
   "execution_count": 3,
   "id": "7adddc2a",
   "metadata": {},
   "outputs": [],
   "source": [
    "from main.model.ETM import ETM\n",
    "from main.data.basic_dataset import BasicDataset\n",
    "from main.trainer.basic_trainer import BasicTrainer\n",
    "\n",
    "import torch\n",
    "import torch.nn as nn"
   ]
  },
  {
   "cell_type": "code",
   "execution_count": null,
   "id": "5b31456a",
   "metadata": {},
   "outputs": [],
   "source": [
    "class Client:\n",
    "    def __init__(self, model, \n",
    "                 dataset: BasicDataset, \n",
    "                 embed_size: int = 200, \n",
    "                 num_topics: int = 50, \n",
    "                 en_units: int = 800, \n",
    "                 dropout: float = 0, \n",
    "                 pretrained_WE = None, \n",
    "                 train_WE: bool = False, \n",
    "                 num_top_words = 15,\n",
    "                 learning_rate = 0.002,\n",
    "                 batch_size = 200, \n",
    "                 num_epochs = 200, \n",
    "                 verbose = False,\n",
    "                 all_local = True):\n",
    "        self.dataset = dataset\n",
    "\n",
    "        self.all_local = all_local\n",
    "\n",
    "        if not isinstance(model, str):\n",
    "            self.model = model\n",
    "        else:\n",
    "            if model == \"ETM\":\n",
    "                self.model = ETM(dataset.vocab_size, embed_size, num_topics, en_units, dropout, pretrained_WE, train_WE)\n",
    "        \n",
    "        # Create trainer\n",
    "        if all_local:\n",
    "            self.trainer = BasicTrainer(self.model, self.dataset, num_top_words, num_epochs, learning_rate, batch_size, verbose)\n",
    "\n",
    "    "
   ]
  }
 ],
 "metadata": {
  "kernelspec": {
   "display_name": "TMenv",
   "language": "python",
   "name": "python3"
  },
  "language_info": {
   "codemirror_mode": {
    "name": "ipython",
    "version": 3
   },
   "file_extension": ".py",
   "mimetype": "text/x-python",
   "name": "python",
   "nbconvert_exporter": "python",
   "pygments_lexer": "ipython3",
   "version": "3.9.21"
  }
 },
 "nbformat": 4,
 "nbformat_minor": 5
}
