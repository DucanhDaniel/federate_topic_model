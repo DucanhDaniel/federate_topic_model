{
 "cells": [
  {
   "cell_type": "code",
   "execution_count": 1,
   "id": "c28c9457",
   "metadata": {},
   "outputs": [],
   "source": [
    "import sys\n",
    "project_root = \"d:/MachineLearning/federated_vae\"\n",
    "sys.path.append(project_root)"
   ]
  },
  {
   "cell_type": "code",
   "execution_count": null,
   "id": "788db8cf",
   "metadata": {},
   "outputs": [
    {
     "name": "stderr",
     "output_type": "stream",
     "text": [
      "d:\\Anaconda\\envs\\TMenv\\lib\\site-packages\\tqdm\\auto.py:21: TqdmWarning: IProgress not found. Please update jupyter and ipywidgets. See https://ipywidgets.readthedocs.io/en/stable/user_install.html\n",
      "  from .autonotebook import tqdm as notebook_tqdm\n"
     ]
    }
   ],
   "source": [
    "import torch\n",
    "import torch.nn as nn\n",
    "\n",
    "from main.trainer.basic_trainer import BasicTrainer\n",
    "from main.model.ETM import ETM"
   ]
  },
  {
   "cell_type": "code",
   "execution_count": null,
   "id": "c279d62f",
   "metadata": {},
   "outputs": [],
   "source": [
    "class LocalUpdate:\n",
    "    def __init__(self, client_name, global_round):\n",
    "        self.client_name = client_name\n",
    "        self.global_round = global_round\n",
    "\n",
    "    def update_weight(self, trainer : BasicTrainer):\n",
    "        total_loss = trainer.train(model_name=self.client_name, global_round=self.global_round)\n",
    "\n",
    "        return trainer.model.state_dict(), total_loss\n"
   ]
  },
  {
   "cell_type": "code",
   "execution_count": null,
   "id": "108f6610",
   "metadata": {},
   "outputs": [],
   "source": [
    "def fedavg(model_type, num_global_round, list_client, model_args\n",
    "           ):\n",
    "    if (model_type == \"ETM\"):\n",
    "        global_model = ETM(**model_args)"
   ]
  }
 ],
 "metadata": {
  "kernelspec": {
   "display_name": "TMenv",
   "language": "python",
   "name": "python3"
  },
  "language_info": {
   "codemirror_mode": {
    "name": "ipython",
    "version": 3
   },
   "file_extension": ".py",
   "mimetype": "text/x-python",
   "name": "python",
   "nbconvert_exporter": "python",
   "pygments_lexer": "ipython3",
   "version": "3.9.21"
  }
 },
 "nbformat": 4,
 "nbformat_minor": 5
}
