{
 "cells": [
  {
   "cell_type": "code",
   "execution_count": 1,
   "id": "c1964b06",
   "metadata": {},
   "outputs": [
    {
     "name": "stderr",
     "output_type": "stream",
     "text": [
      "d:\\Anaconda\\envs\\TMenv\\lib\\site-packages\\tqdm\\auto.py:21: TqdmWarning: IProgress not found. Please update jupyter and ipywidgets. See https://ipywidgets.readthedocs.io/en/stable/user_install.html\n",
      "  from .autonotebook import tqdm as notebook_tqdm\n",
      "2025-07-15 14:10:45,267\tINFO util.py:154 -- Missing packages: ['ipywidgets']. Run `pip install -U ipywidgets`, then restart the notebook server for rich notebook output.\n"
     ]
    },
    {
     "name": "stdout",
     "output_type": "stream",
     "text": [
      "Training on cuda\n",
      "Flower 1.19.0 / PyTorch 2.5.1+cu121\n"
     ]
    }
   ],
   "source": [
    "from collections import OrderedDict\n",
    "from typing import List, Tuple, Union, Optional\n",
    "\n",
    "import matplotlib.pyplot as plt\n",
    "import numpy as np\n",
    "import torch\n",
    "import torch.nn as nn\n",
    "import torch.nn.functional as F\n",
    "import torchvision.transforms as transforms\n",
    "from datasets.utils.logging import disable_progress_bar\n",
    "from torch.utils.data import DataLoader\n",
    "\n",
    "import flwr as fl\n",
    "import numpy as np\n",
    "import torch\n",
    "import glob\n",
    "import os\n",
    "from flwr.common import ndarrays_to_parameters\n",
    "from flwr.client import Client, ClientApp, NumPyClient\n",
    "from flwr.common import Metrics, Context, FitRes, Parameters, Scalar\n",
    "from flwr.server import ServerApp, ServerConfig, ServerAppComponents\n",
    "from flwr.server.client_proxy import ClientProxy\n",
    "from flwr.server.strategy import FedAvg\n",
    "from flwr.simulation import run_simulation\n",
    "from flwr_datasets import FederatedDataset\n",
    "\n",
    "DEVICE = \"cuda\" if torch.cuda.is_available() else \"cpu\"\n",
    "print(f\"Training on {DEVICE}\")\n",
    "print(f\"Flower {fl.__version__} / PyTorch {torch.__version__}\")\n",
    "disable_progress_bar()"
   ]
  },
  {
   "cell_type": "code",
   "execution_count": 2,
   "id": "6c028d54",
   "metadata": {},
   "outputs": [
    {
     "name": "stdout",
     "output_type": "stream",
     "text": [
      "train_size:  11314\n",
      "test_size:  7532\n",
      "vocab_size:  5000\n",
      "average length: 110.543\n"
     ]
    },
    {
     "name": "stderr",
     "output_type": "stream",
     "text": [
      "loading train texts: 100%|██████████| 5657/5657 [00:00<00:00, 6372.63it/s]\n",
      "parsing texts: 100%|██████████| 5657/5657 [00:00<00:00, 10515.64it/s]\n",
      "loading train texts: 100%|██████████| 5657/5657 [00:00<00:00, 8770.62it/s]\n",
      "parsing texts: 100%|██████████| 5657/5657 [00:00<00:00, 11119.96it/s]\n"
     ]
    }
   ],
   "source": [
    "NUM_CLIENTS = 2\n",
    "BATCH_SIZE = 256\n",
    "NUM_ROUNDS = 200\n",
    "\n",
    "from test_flwr import get_all_vocab, split_data\n",
    "vocab = get_all_vocab([\"datasets/20NG\"])\n",
    "datasets = split_data(dir = \"datasets/20NG\", num_split=NUM_CLIENTS, vocab = vocab, batch_size= BATCH_SIZE)"
   ]
  },
  {
   "cell_type": "code",
   "execution_count": 3,
   "id": "805637fd",
   "metadata": {},
   "outputs": [],
   "source": [
    "from model.ETM import ETM\n",
    "from trainer.basic_trainer import BasicTrainer\n",
    "\n"
   ]
  },
  {
   "cell_type": "code",
   "execution_count": 4,
   "id": "caebed0f",
   "metadata": {},
   "outputs": [],
   "source": [
    "def set_parameters(net, parameters: List[np.ndarray]):\n",
    "    params_dict = zip(net.state_dict().keys(), parameters)\n",
    "    state_dict = OrderedDict({k: torch.Tensor(v) for k, v in params_dict})\n",
    "    net.load_state_dict(state_dict, strict=True)\n",
    "\n",
    "\n",
    "def get_parameters(net) -> List[np.ndarray]:\n",
    "    return [val.cpu().numpy() for _, val in net.state_dict().items()]"
   ]
  },
  {
   "cell_type": "code",
   "execution_count": 5,
   "id": "dfa431d2",
   "metadata": {},
   "outputs": [],
   "source": [
    "from data.basic_dataset import RawDataset\n",
    "class FlowerClient(NumPyClient):\n",
    "  def __init__(self, net, dataset : RawDataset, id):\n",
    "    self.net = net\n",
    "    self.dataset = dataset\n",
    "    self.trainer = BasicTrainer(net, dataset, epochs = 1, log_interval=10, device = DEVICE, save_model = True, save_interval=NUM_ROUNDS)\n",
    "    self.id = id\n",
    "    self.save_dir = \"model_parameters/\"\n",
    "    self.round_id = 0\n",
    "    self.total_round = NUM_ROUNDS\n",
    "\n",
    "  # return the current local model parameters\n",
    "  def get_parameters(self, config):\n",
    "    return get_parameters(self.net)\n",
    "\n",
    "  # receive global parameter, train, return updated model to server\n",
    "  def fit(self, parameters, config):\n",
    "    set_parameters(self.net, parameters)\n",
    "    self.trainer.train(model_name = f\"ETM_Client{self.id}\")\n",
    "\n",
    "    return get_parameters(self.net), len(self.dataset.train_texts), {}\n",
    "\n",
    "  # receive global parameter, evaluate model from local's data, return the evaluation result\n",
    "  def evaluate(self, parameters, config):\n",
    "    set_parameters(self.net, parameters)\n",
    "    loss, acc = -1, -1\n",
    "    return float(loss), 1, {\"accuracy\":float(acc)}\n",
    "\n",
    "\n",
    "test = FlowerClient(ETM(len(vocab)), datasets[0], 0)"
   ]
  },
  {
   "cell_type": "code",
   "execution_count": 6,
   "id": "8236b702",
   "metadata": {},
   "outputs": [],
   "source": [
    "def client_fn(context: Context) -> Client:\n",
    "    \"\"\"Create a Flower client representing a single organization.\"\"\"\n",
    "\n",
    "    # Load model\n",
    "    net = ETM(len(vocab)).to(DEVICE)\n",
    "\n",
    "    # Load data\n",
    "    partition_id = context.node_config[\"partition-id\"]\n",
    "    dataset = datasets[partition_id]\n",
    "\n",
    "    # Create a single Flower client representing a single organization\n",
    "    return FlowerClient(net, dataset, partition_id).to_client()\n",
    "\n",
    "\n",
    "# Create the ClientApp\n",
    "client = ClientApp(client_fn=client_fn)"
   ]
  },
  {
   "cell_type": "code",
   "execution_count": 7,
   "id": "85551854",
   "metadata": {},
   "outputs": [],
   "source": [
    "class SaveModelStrategy(fl.server.strategy.FedAvg):\n",
    "    def aggregate_fit(\n",
    "        self,\n",
    "        server_round: int,\n",
    "        results: list[tuple[fl.server.client_proxy.ClientProxy, fl.common.FitRes]],\n",
    "        failures: list[Union[tuple[ClientProxy, FitRes], BaseException]],\n",
    "    ) -> tuple[Optional[Parameters], dict[str, Scalar]]:\n",
    "\n",
    "        # Call aggregate_fit from base class (FedAvg) to aggregate parameters and metrics\n",
    "        aggregated_parameters, aggregated_metrics = super().aggregate_fit(\n",
    "            server_round, results, failures\n",
    "        )\n",
    "\n",
    "        if aggregated_parameters is not None:\n",
    "            # Convert `Parameters` to `list[np.ndarray]`\n",
    "            aggregated_ndarrays: list[np.ndarray] = fl.common.parameters_to_ndarrays(\n",
    "                aggregated_parameters\n",
    "            )\n",
    "\n",
    "            # Save aggregated_ndarrays to disk\n",
    "            if server_round % 10 == 0:\n",
    "                print(f\"Saving round {server_round} aggregated_ndarrays...\")\n",
    "                np.savez(f\"model_parameters/model_round_{server_round}.npz\", *aggregated_ndarrays)\n",
    "\n",
    "        return aggregated_parameters, aggregated_metrics\n",
    "\n",
    "\n",
    "# Create strategy and pass into ServerApp\n",
    "def server_fn(context):\n",
    "    strategy = SaveModelStrategy(\n",
    "        fraction_fit=1.0,\n",
    "        fraction_evaluate=0.5,\n",
    "        min_fit_clients=NUM_CLIENTS,\n",
    "        min_available_clients=NUM_CLIENTS,\n",
    "    )\n",
    "    config = ServerConfig(num_rounds=NUM_ROUNDS)\n",
    "    return ServerAppComponents(strategy=strategy, config=config)\n",
    "\n",
    "\n",
    "server = ServerApp(server_fn=server_fn)"
   ]
  },
  {
   "cell_type": "code",
   "execution_count": 8,
   "id": "7bd19cd1",
   "metadata": {},
   "outputs": [],
   "source": [
    "def get_latest_server_model(net):\n",
    "    list_of_files = [fname for fname in glob.glob(\"model_parameters/model_round_*\")]\n",
    "    latest_round_file = max(list_of_files, key=os.path.getctime)\n",
    "    print(\"Loading pre-trained model from: \", latest_round_file)\n",
    "    \n",
    "    # Load NumPy arrays from .npz file\n",
    "    with np.load(latest_round_file) as data:\n",
    "        arrays = [data[f'arr_{i}'] for i in range(len(data.files))]\n",
    "    \n",
    "    # Convert to PyTorch state_dict\n",
    "    state_dict = {k: torch.from_numpy(v) for k, v in zip(net.state_dict().keys(), arrays)}\n",
    "    net.load_state_dict(state_dict)\n",
    "    \n",
    "    # Convert to Flower Parameters\n",
    "    state_dict_ndarrays = [v.cpu().numpy() for v in net.state_dict().values()]\n",
    "    parameters = fl.common.ndarrays_to_parameters(state_dict_ndarrays)\n",
    "    return parameters"
   ]
  },
  {
   "cell_type": "code",
   "execution_count": 9,
   "id": "a830fd98",
   "metadata": {},
   "outputs": [],
   "source": [
    "# Specify the resources each of your clients need\n",
    "# By default, each client will be allocated 1x CPU and 0x GPUs\n",
    "backend_config = {\"client_resources\": {\"num_cpus\": 1, \"num_gpus\": 0.0}}\n",
    "\n",
    "# When running on GPU, assign an entire GPU for each client\n",
    "if DEVICE == \"cuda\":\n",
    "    backend_config = {\"client_resources\": {\"num_cpus\": 1, \"num_gpus\": 1.0}}\n",
    "    # Refer to our Flower framework documentation for more details about Flower simulations\n",
    "    # and how to set up the `backend_config`"
   ]
  },
  {
   "cell_type": "code",
   "execution_count": 10,
   "id": "22fadb84",
   "metadata": {},
   "outputs": [
    {
     "name": "stderr",
     "output_type": "stream",
     "text": [
      "\u001b[92mINFO \u001b[0m:      Starting Flower ServerApp, config: num_rounds=200, no round_timeout\n",
      "\u001b[92mINFO \u001b[0m:      \n"
     ]
    },
    {
     "name": "stderr",
     "output_type": "stream",
     "text": [
      "\u001b[92mINFO \u001b[0m:      [INIT]\n",
      "\u001b[92mINFO \u001b[0m:      Requesting initial parameters from one random client\n",
      "\u001b[92mINFO \u001b[0m:      Received initial parameters from one random client\n",
      "\u001b[92mINFO \u001b[0m:      Starting evaluation of initial global parameters\n",
      "\u001b[92mINFO \u001b[0m:      Evaluation returned no results (`None`)\n",
      "\u001b[92mINFO \u001b[0m:      \n",
      "\u001b[92mINFO \u001b[0m:      [ROUND 1]\n",
      "\u001b[92mINFO \u001b[0m:      configure_fit: strategy sampled 2 clients (out of 2)\n"
     ]
    },
    {
     "name": "stdout",
     "output_type": "stream",
     "text": [
      "\u001b[36m(ClientAppActor pid=14088)\u001b[0m Client's model: ETM_Client0\n",
      "\u001b[36m(ClientAppActor pid=14088)\u001b[0m Epoch: 000 | Loss: 1969.922607421875\n"
     ]
    },
    {
     "name": "stderr",
     "output_type": "stream",
     "text": [
      "\u001b[92mINFO \u001b[0m:      aggregate_fit: received 2 results and 0 failures\n",
      "\u001b[93mWARNING \u001b[0m:   No fit_metrics_aggregation_fn provided\n",
      "\u001b[92mINFO \u001b[0m:      configure_evaluate: strategy sampled 2 clients (out of 2)\n"
     ]
    },
    {
     "name": "stdout",
     "output_type": "stream",
     "text": [
      "\u001b[36m(ClientAppActor pid=14088)\u001b[0m Client's model: ETM_Client1\n",
      "\u001b[36m(ClientAppActor pid=14088)\u001b[0m Epoch: 000 | Loss: 1933.206298828125\n"
     ]
    },
    {
     "name": "stderr",
     "output_type": "stream",
     "text": [
      "\u001b[92mINFO \u001b[0m:      aggregate_evaluate: received 2 results and 0 failures\n",
      "\u001b[93mWARNING \u001b[0m:   No evaluate_metrics_aggregation_fn provided\n",
      "\u001b[92mINFO \u001b[0m:      \n",
      "\u001b[92mINFO \u001b[0m:      [ROUND 2]\n",
      "\u001b[92mINFO \u001b[0m:      configure_fit: strategy sampled 2 clients (out of 2)\n"
     ]
    },
    {
     "name": "stdout",
     "output_type": "stream",
     "text": [
      "\u001b[36m(ClientAppActor pid=14088)\u001b[0m Client's model: ETM_Client0\n",
      "\u001b[36m(ClientAppActor pid=14088)\u001b[0m Epoch: 000 | Loss: 1635.850830078125\n"
     ]
    },
    {
     "name": "stderr",
     "output_type": "stream",
     "text": [
      "\u001b[92mINFO \u001b[0m:      aggregate_fit: received 2 results and 0 failures\n"
     ]
    },
    {
     "name": "stdout",
     "output_type": "stream",
     "text": [
      "\u001b[36m(ClientAppActor pid=14088)\u001b[0m Client's model: ETM_Client1\n",
      "\u001b[36m(ClientAppActor pid=14088)\u001b[0m Epoch: 000 | Loss: 1602.7554931640625\n"
     ]
    },
    {
     "name": "stderr",
     "output_type": "stream",
     "text": [
      "\u001b[92mINFO \u001b[0m:      configure_evaluate: strategy sampled 2 clients (out of 2)\n",
      "\u001b[92mINFO \u001b[0m:      aggregate_evaluate: received 2 results and 0 failures\n",
      "\u001b[92mINFO \u001b[0m:      \n",
      "\u001b[92mINFO \u001b[0m:      [ROUND 3]\n",
      "\u001b[92mINFO \u001b[0m:      configure_fit: strategy sampled 2 clients (out of 2)\n"
     ]
    },
    {
     "name": "stdout",
     "output_type": "stream",
     "text": [
      "\u001b[36m(ClientAppActor pid=14088)\u001b[0m Client's model: ETM_Client0\n",
      "\u001b[36m(ClientAppActor pid=14088)\u001b[0m Epoch: 000 | Loss: 1402.419921875\n"
     ]
    },
    {
     "name": "stderr",
     "output_type": "stream",
     "text": [
      "\u001b[92mINFO \u001b[0m:      aggregate_fit: received 2 results and 0 failures\n"
     ]
    },
    {
     "name": "stdout",
     "output_type": "stream",
     "text": [
      "\u001b[36m(ClientAppActor pid=14088)\u001b[0m Client's model: ETM_Client1\n",
      "\u001b[36m(ClientAppActor pid=14088)\u001b[0m Epoch: 000 | Loss: 1372.3997802734375\n"
     ]
    },
    {
     "name": "stderr",
     "output_type": "stream",
     "text": [
      "\u001b[92mINFO \u001b[0m:      configure_evaluate: strategy sampled 2 clients (out of 2)\n",
      "\u001b[92mINFO \u001b[0m:      aggregate_evaluate: received 2 results and 0 failures\n",
      "\u001b[92mINFO \u001b[0m:      \n",
      "\u001b[92mINFO \u001b[0m:      [ROUND 4]\n",
      "\u001b[92mINFO \u001b[0m:      configure_fit: strategy sampled 2 clients (out of 2)\n"
     ]
    },
    {
     "name": "stdout",
     "output_type": "stream",
     "text": [
      "\u001b[36m(ClientAppActor pid=14088)\u001b[0m Client's model: ETM_Client0\n",
      "\u001b[36m(ClientAppActor pid=14088)\u001b[0m Epoch: 000 | Loss: 1239.194091796875\n"
     ]
    },
    {
     "name": "stderr",
     "output_type": "stream",
     "text": [
      "\u001b[92mINFO \u001b[0m:      aggregate_fit: received 2 results and 0 failures\n",
      "\u001b[92mINFO \u001b[0m:      configure_evaluate: strategy sampled 2 clients (out of 2)\n"
     ]
    },
    {
     "name": "stdout",
     "output_type": "stream",
     "text": [
      "\u001b[36m(ClientAppActor pid=14088)\u001b[0m Client's model: ETM_Client1\n",
      "\u001b[36m(ClientAppActor pid=14088)\u001b[0m Epoch: 000 | Loss: 1211.341552734375\n"
     ]
    },
    {
     "name": "stderr",
     "output_type": "stream",
     "text": [
      "\u001b[92mINFO \u001b[0m:      aggregate_evaluate: received 2 results and 0 failures\n",
      "\u001b[92mINFO \u001b[0m:      \n",
      "\u001b[92mINFO \u001b[0m:      [ROUND 5]\n",
      "\u001b[92mINFO \u001b[0m:      configure_fit: strategy sampled 2 clients (out of 2)\n"
     ]
    },
    {
     "name": "stdout",
     "output_type": "stream",
     "text": [
      "\u001b[36m(ClientAppActor pid=14088)\u001b[0m Client's model: ETM_Client0\n",
      "\u001b[36m(ClientAppActor pid=14088)\u001b[0m Epoch: 000 | Loss: 1118.16650390625\n"
     ]
    },
    {
     "name": "stderr",
     "output_type": "stream",
     "text": [
      "\u001b[92mINFO \u001b[0m:      aggregate_fit: received 2 results and 0 failures\n",
      "\u001b[92mINFO \u001b[0m:      configure_evaluate: strategy sampled 2 clients (out of 2)\n"
     ]
    },
    {
     "name": "stdout",
     "output_type": "stream",
     "text": [
      "\u001b[36m(ClientAppActor pid=14088)\u001b[0m Client's model: ETM_Client1\n",
      "\u001b[36m(ClientAppActor pid=14088)\u001b[0m Epoch: 000 | Loss: 1097.221435546875\n"
     ]
    },
    {
     "name": "stderr",
     "output_type": "stream",
     "text": [
      "\u001b[92mINFO \u001b[0m:      aggregate_evaluate: received 2 results and 0 failures\n",
      "\u001b[92mINFO \u001b[0m:      \n",
      "\u001b[92mINFO \u001b[0m:      [ROUND 6]\n",
      "\u001b[92mINFO \u001b[0m:      configure_fit: strategy sampled 2 clients (out of 2)\n"
     ]
    },
    {
     "name": "stdout",
     "output_type": "stream",
     "text": [
      "\u001b[36m(ClientAppActor pid=14088)\u001b[0m Client's model: ETM_Client0\n",
      "\u001b[36m(ClientAppActor pid=14088)\u001b[0m Epoch: 000 | Loss: 1035.2899169921875\n"
     ]
    },
    {
     "name": "stderr",
     "output_type": "stream",
     "text": [
      "\u001b[92mINFO \u001b[0m:      aggregate_fit: received 2 results and 0 failures\n"
     ]
    },
    {
     "name": "stdout",
     "output_type": "stream",
     "text": [
      "\u001b[36m(ClientAppActor pid=14088)\u001b[0m Client's model: ETM_Client1\n",
      "\u001b[36m(ClientAppActor pid=14088)\u001b[0m Epoch: 000 | Loss: 1012.9363403320312\n"
     ]
    },
    {
     "name": "stderr",
     "output_type": "stream",
     "text": [
      "\u001b[92mINFO \u001b[0m:      configure_evaluate: strategy sampled 2 clients (out of 2)\n",
      "\u001b[92mINFO \u001b[0m:      aggregate_evaluate: received 2 results and 0 failures\n",
      "\u001b[92mINFO \u001b[0m:      \n",
      "\u001b[92mINFO \u001b[0m:      [ROUND 7]\n",
      "\u001b[92mINFO \u001b[0m:      configure_fit: strategy sampled 2 clients (out of 2)\n"
     ]
    },
    {
     "name": "stdout",
     "output_type": "stream",
     "text": [
      "\u001b[36m(ClientAppActor pid=14088)\u001b[0m Client's model: ETM_Client0\n",
      "\u001b[36m(ClientAppActor pid=14088)\u001b[0m Epoch: 000 | Loss: 975.6473999023438\n"
     ]
    },
    {
     "name": "stderr",
     "output_type": "stream",
     "text": [
      "\u001b[92mINFO \u001b[0m:      aggregate_fit: received 2 results and 0 failures\n",
      "\u001b[92mINFO \u001b[0m:      configure_evaluate: strategy sampled 2 clients (out of 2)\n"
     ]
    },
    {
     "name": "stdout",
     "output_type": "stream",
     "text": [
      "\u001b[36m(ClientAppActor pid=14088)\u001b[0m Client's model: ETM_Client1\n",
      "\u001b[36m(ClientAppActor pid=14088)\u001b[0m Epoch: 000 | Loss: 955.85302734375\n"
     ]
    },
    {
     "name": "stderr",
     "output_type": "stream",
     "text": [
      "\u001b[92mINFO \u001b[0m:      aggregate_evaluate: received 2 results and 0 failures\n",
      "\u001b[92mINFO \u001b[0m:      \n",
      "\u001b[92mINFO \u001b[0m:      [ROUND 8]\n",
      "\u001b[92mINFO \u001b[0m:      configure_fit: strategy sampled 2 clients (out of 2)\n"
     ]
    },
    {
     "name": "stdout",
     "output_type": "stream",
     "text": [
      "\u001b[36m(ClientAppActor pid=14088)\u001b[0m Client's model: ETM_Client0\n",
      "\u001b[36m(ClientAppActor pid=14088)\u001b[0m Epoch: 000 | Loss: 931.657958984375\n"
     ]
    },
    {
     "name": "stderr",
     "output_type": "stream",
     "text": [
      "\u001b[92mINFO \u001b[0m:      aggregate_fit: received 2 results and 0 failures\n",
      "\u001b[92mINFO \u001b[0m:      configure_evaluate: strategy sampled 2 clients (out of 2)\n"
     ]
    },
    {
     "name": "stdout",
     "output_type": "stream",
     "text": [
      "\u001b[36m(ClientAppActor pid=14088)\u001b[0m Client's model: ETM_Client1\n",
      "\u001b[36m(ClientAppActor pid=14088)\u001b[0m Epoch: 000 | Loss: 913.3383178710938\n"
     ]
    },
    {
     "name": "stderr",
     "output_type": "stream",
     "text": [
      "\u001b[92mINFO \u001b[0m:      aggregate_evaluate: received 2 results and 0 failures\n",
      "\u001b[92mINFO \u001b[0m:      \n",
      "\u001b[92mINFO \u001b[0m:      [ROUND 9]\n",
      "\u001b[92mINFO \u001b[0m:      configure_fit: strategy sampled 2 clients (out of 2)\n"
     ]
    },
    {
     "name": "stdout",
     "output_type": "stream",
     "text": [
      "\u001b[36m(ClientAppActor pid=14088)\u001b[0m Client's model: ETM_Client0\n",
      "\u001b[36m(ClientAppActor pid=14088)\u001b[0m Epoch: 000 | Loss: 898.578857421875\n"
     ]
    },
    {
     "name": "stderr",
     "output_type": "stream",
     "text": [
      "\u001b[92mINFO \u001b[0m:      aggregate_fit: received 2 results and 0 failures\n",
      "\u001b[92mINFO \u001b[0m:      configure_evaluate: strategy sampled 2 clients (out of 2)\n"
     ]
    },
    {
     "name": "stdout",
     "output_type": "stream",
     "text": [
      "\u001b[36m(ClientAppActor pid=14088)\u001b[0m Client's model: ETM_Client1\n",
      "\u001b[36m(ClientAppActor pid=14088)\u001b[0m Epoch: 000 | Loss: 880.6049194335938\n"
     ]
    },
    {
     "name": "stderr",
     "output_type": "stream",
     "text": [
      "\u001b[92mINFO \u001b[0m:      aggregate_evaluate: received 2 results and 0 failures\n",
      "\u001b[92mINFO \u001b[0m:      \n",
      "\u001b[92mINFO \u001b[0m:      [ROUND 10]\n",
      "\u001b[92mINFO \u001b[0m:      configure_fit: strategy sampled 2 clients (out of 2)\n"
     ]
    },
    {
     "name": "stdout",
     "output_type": "stream",
     "text": [
      "\u001b[36m(ClientAppActor pid=14088)\u001b[0m Client's model: ETM_Client0\n",
      "\u001b[36m(ClientAppActor pid=14088)\u001b[0m Epoch: 000 | Loss: 874.7509155273438\n"
     ]
    },
    {
     "name": "stderr",
     "output_type": "stream",
     "text": [
      "\u001b[92mINFO \u001b[0m:      aggregate_fit: received 2 results and 0 failures\n"
     ]
    },
    {
     "name": "stdout",
     "output_type": "stream",
     "text": [
      "\u001b[36m(ClientAppActor pid=14088)\u001b[0m Client's model: ETM_Client1\n",
      "\u001b[36m(ClientAppActor pid=14088)\u001b[0m Epoch: 000 | Loss: 856.625244140625\n",
      "Saving round 10 aggregated_ndarrays...\n"
     ]
    },
    {
     "name": "stderr",
     "output_type": "stream",
     "text": [
      "\u001b[92mINFO \u001b[0m:      configure_evaluate: strategy sampled 2 clients (out of 2)\n",
      "\u001b[92mINFO \u001b[0m:      aggregate_evaluate: received 2 results and 0 failures\n",
      "\u001b[92mINFO \u001b[0m:      \n",
      "\u001b[92mINFO \u001b[0m:      [ROUND 11]\n",
      "\u001b[92mINFO \u001b[0m:      configure_fit: strategy sampled 2 clients (out of 2)\n"
     ]
    },
    {
     "name": "stdout",
     "output_type": "stream",
     "text": [
      "\u001b[36m(ClientAppActor pid=14088)\u001b[0m Client's model: ETM_Client0\n",
      "\u001b[36m(ClientAppActor pid=14088)\u001b[0m Epoch: 000 | Loss: 856.0418701171875\n"
     ]
    },
    {
     "name": "stderr",
     "output_type": "stream",
     "text": [
      "\u001b[92mINFO \u001b[0m:      aggregate_fit: received 2 results and 0 failures\n"
     ]
    },
    {
     "name": "stdout",
     "output_type": "stream",
     "text": [
      "\u001b[36m(ClientAppActor pid=14088)\u001b[0m Client's model: ETM_Client1\n",
      "\u001b[36m(ClientAppActor pid=14088)\u001b[0m Epoch: 000 | Loss: 838.3673095703125\n"
     ]
    },
    {
     "name": "stderr",
     "output_type": "stream",
     "text": [
      "\u001b[92mINFO \u001b[0m:      configure_evaluate: strategy sampled 2 clients (out of 2)\n",
      "\u001b[92mINFO \u001b[0m:      aggregate_evaluate: received 2 results and 0 failures\n",
      "\u001b[92mINFO \u001b[0m:      \n",
      "\u001b[92mINFO \u001b[0m:      [ROUND 12]\n",
      "\u001b[92mINFO \u001b[0m:      configure_fit: strategy sampled 2 clients (out of 2)\n"
     ]
    },
    {
     "name": "stdout",
     "output_type": "stream",
     "text": [
      "\u001b[36m(ClientAppActor pid=14088)\u001b[0m Client's model: ETM_Client0\n",
      "\u001b[36m(ClientAppActor pid=14088)\u001b[0m Epoch: 000 | Loss: 841.7355346679688\n"
     ]
    },
    {
     "name": "stderr",
     "output_type": "stream",
     "text": [
      "\u001b[92mINFO \u001b[0m:      aggregate_fit: received 2 results and 0 failures\n",
      "\u001b[92mINFO \u001b[0m:      configure_evaluate: strategy sampled 2 clients (out of 2)\n"
     ]
    },
    {
     "name": "stdout",
     "output_type": "stream",
     "text": [
      "\u001b[36m(ClientAppActor pid=14088)\u001b[0m Client's model: ETM_Client1\n",
      "\u001b[36m(ClientAppActor pid=14088)\u001b[0m Epoch: 000 | Loss: 824.1516723632812\n"
     ]
    },
    {
     "name": "stderr",
     "output_type": "stream",
     "text": [
      "\u001b[92mINFO \u001b[0m:      aggregate_evaluate: received 2 results and 0 failures\n",
      "\u001b[92mINFO \u001b[0m:      \n",
      "\u001b[92mINFO \u001b[0m:      [ROUND 13]\n",
      "\u001b[92mINFO \u001b[0m:      configure_fit: strategy sampled 2 clients (out of 2)\n"
     ]
    },
    {
     "name": "stdout",
     "output_type": "stream",
     "text": [
      "\u001b[36m(ClientAppActor pid=14088)\u001b[0m Client's model: ETM_Client0\n",
      "\u001b[36m(ClientAppActor pid=14088)\u001b[0m Epoch: 000 | Loss: 830.3394165039062\n"
     ]
    },
    {
     "name": "stderr",
     "output_type": "stream",
     "text": [
      "\u001b[92mINFO \u001b[0m:      aggregate_fit: received 2 results and 0 failures\n"
     ]
    },
    {
     "name": "stdout",
     "output_type": "stream",
     "text": [
      "\u001b[36m(ClientAppActor pid=14088)\u001b[0m Client's model: ETM_Client1\n",
      "\u001b[36m(ClientAppActor pid=14088)\u001b[0m Epoch: 000 | Loss: 813.3403930664062\n"
     ]
    },
    {
     "name": "stderr",
     "output_type": "stream",
     "text": [
      "\u001b[92mINFO \u001b[0m:      configure_evaluate: strategy sampled 2 clients (out of 2)\n",
      "\u001b[92mINFO \u001b[0m:      aggregate_evaluate: received 2 results and 0 failures\n",
      "\u001b[92mINFO \u001b[0m:      \n",
      "\u001b[92mINFO \u001b[0m:      [ROUND 14]\n",
      "\u001b[92mINFO \u001b[0m:      configure_fit: strategy sampled 2 clients (out of 2)\n"
     ]
    },
    {
     "name": "stdout",
     "output_type": "stream",
     "text": [
      "\u001b[36m(ClientAppActor pid=14088)\u001b[0m Client's model: ETM_Client0\n",
      "\u001b[36m(ClientAppActor pid=14088)\u001b[0m Epoch: 000 | Loss: 821.34716796875\n"
     ]
    },
    {
     "name": "stderr",
     "output_type": "stream",
     "text": [
      "\u001b[92mINFO \u001b[0m:      aggregate_fit: received 2 results and 0 failures\n"
     ]
    },
    {
     "name": "stdout",
     "output_type": "stream",
     "text": [
      "\u001b[36m(ClientAppActor pid=14088)\u001b[0m Client's model: ETM_Client1\n",
      "\u001b[36m(ClientAppActor pid=14088)\u001b[0m Epoch: 000 | Loss: 804.5615234375\n"
     ]
    },
    {
     "name": "stderr",
     "output_type": "stream",
     "text": [
      "\u001b[92mINFO \u001b[0m:      configure_evaluate: strategy sampled 2 clients (out of 2)\n",
      "\u001b[92mINFO \u001b[0m:      aggregate_evaluate: received 2 results and 0 failures\n",
      "\u001b[92mINFO \u001b[0m:      \n",
      "\u001b[92mINFO \u001b[0m:      [ROUND 15]\n",
      "\u001b[92mINFO \u001b[0m:      configure_fit: strategy sampled 2 clients (out of 2)\n"
     ]
    },
    {
     "name": "stdout",
     "output_type": "stream",
     "text": [
      "\u001b[36m(ClientAppActor pid=14088)\u001b[0m Client's model: ETM_Client0\n",
      "\u001b[36m(ClientAppActor pid=14088)\u001b[0m Epoch: 000 | Loss: 814.5153198242188\n"
     ]
    },
    {
     "name": "stderr",
     "output_type": "stream",
     "text": [
      "\u001b[92mINFO \u001b[0m:      aggregate_fit: received 2 results and 0 failures\n",
      "\u001b[92mINFO \u001b[0m:      configure_evaluate: strategy sampled 2 clients (out of 2)\n"
     ]
    },
    {
     "name": "stdout",
     "output_type": "stream",
     "text": [
      "\u001b[36m(ClientAppActor pid=14088)\u001b[0m Client's model: ETM_Client1\n",
      "\u001b[36m(ClientAppActor pid=14088)\u001b[0m Epoch: 000 | Loss: 797.8175659179688\n"
     ]
    },
    {
     "name": "stderr",
     "output_type": "stream",
     "text": [
      "\u001b[92mINFO \u001b[0m:      aggregate_evaluate: received 2 results and 0 failures\n",
      "\u001b[92mINFO \u001b[0m:      \n",
      "\u001b[92mINFO \u001b[0m:      [ROUND 16]\n",
      "\u001b[92mINFO \u001b[0m:      configure_fit: strategy sampled 2 clients (out of 2)\n"
     ]
    },
    {
     "name": "stdout",
     "output_type": "stream",
     "text": [
      "\u001b[36m(ClientAppActor pid=14088)\u001b[0m Client's model: ETM_Client0\n",
      "\u001b[36m(ClientAppActor pid=14088)\u001b[0m Epoch: 000 | Loss: 808.85302734375\n"
     ]
    },
    {
     "name": "stderr",
     "output_type": "stream",
     "text": [
      "\u001b[92mINFO \u001b[0m:      aggregate_fit: received 2 results and 0 failures\n",
      "\u001b[92mINFO \u001b[0m:      configure_evaluate: strategy sampled 2 clients (out of 2)\n"
     ]
    },
    {
     "name": "stdout",
     "output_type": "stream",
     "text": [
      "\u001b[36m(ClientAppActor pid=14088)\u001b[0m Client's model: ETM_Client1\n",
      "\u001b[36m(ClientAppActor pid=14088)\u001b[0m Epoch: 000 | Loss: 792.0189819335938\n"
     ]
    },
    {
     "name": "stderr",
     "output_type": "stream",
     "text": [
      "\u001b[92mINFO \u001b[0m:      aggregate_evaluate: received 2 results and 0 failures\n",
      "\u001b[92mINFO \u001b[0m:      \n",
      "\u001b[92mINFO \u001b[0m:      [ROUND 17]\n",
      "\u001b[92mINFO \u001b[0m:      configure_fit: strategy sampled 2 clients (out of 2)\n"
     ]
    },
    {
     "name": "stdout",
     "output_type": "stream",
     "text": [
      "\u001b[36m(ClientAppActor pid=14088)\u001b[0m Client's model: ETM_Client0\n",
      "\u001b[36m(ClientAppActor pid=14088)\u001b[0m Epoch: 000 | Loss: 803.708251953125\n"
     ]
    },
    {
     "name": "stderr",
     "output_type": "stream",
     "text": [
      "\u001b[92mINFO \u001b[0m:      aggregate_fit: received 2 results and 0 failures\n",
      "\u001b[92mINFO \u001b[0m:      configure_evaluate: strategy sampled 2 clients (out of 2)\n"
     ]
    },
    {
     "name": "stdout",
     "output_type": "stream",
     "text": [
      "\u001b[36m(ClientAppActor pid=14088)\u001b[0m Client's model: ETM_Client1\n",
      "\u001b[36m(ClientAppActor pid=14088)\u001b[0m Epoch: 000 | Loss: 787.3823852539062\n"
     ]
    },
    {
     "name": "stderr",
     "output_type": "stream",
     "text": [
      "\u001b[92mINFO \u001b[0m:      aggregate_evaluate: received 2 results and 0 failures\n",
      "\u001b[92mINFO \u001b[0m:      \n",
      "\u001b[92mINFO \u001b[0m:      [ROUND 18]\n",
      "\u001b[92mINFO \u001b[0m:      configure_fit: strategy sampled 2 clients (out of 2)\n"
     ]
    },
    {
     "name": "stdout",
     "output_type": "stream",
     "text": [
      "\u001b[36m(ClientAppActor pid=14088)\u001b[0m Client's model: ETM_Client0\n",
      "\u001b[36m(ClientAppActor pid=14088)\u001b[0m Epoch: 000 | Loss: 800.2461547851562\n"
     ]
    },
    {
     "name": "stderr",
     "output_type": "stream",
     "text": [
      "\u001b[92mINFO \u001b[0m:      aggregate_fit: received 2 results and 0 failures\n"
     ]
    },
    {
     "name": "stdout",
     "output_type": "stream",
     "text": [
      "\u001b[36m(ClientAppActor pid=14088)\u001b[0m Client's model: ETM_Client1\n",
      "\u001b[36m(ClientAppActor pid=14088)\u001b[0m Epoch: 000 | Loss: 783.1719360351562\n"
     ]
    },
    {
     "name": "stderr",
     "output_type": "stream",
     "text": [
      "\u001b[92mINFO \u001b[0m:      configure_evaluate: strategy sampled 2 clients (out of 2)\n",
      "\u001b[92mINFO \u001b[0m:      aggregate_evaluate: received 2 results and 0 failures\n",
      "\u001b[92mINFO \u001b[0m:      \n",
      "\u001b[92mINFO \u001b[0m:      [ROUND 19]\n",
      "\u001b[92mINFO \u001b[0m:      configure_fit: strategy sampled 2 clients (out of 2)\n"
     ]
    },
    {
     "name": "stdout",
     "output_type": "stream",
     "text": [
      "\u001b[36m(ClientAppActor pid=14088)\u001b[0m Client's model: ETM_Client0\n",
      "\u001b[36m(ClientAppActor pid=14088)\u001b[0m Epoch: 000 | Loss: 795.7869873046875\n"
     ]
    },
    {
     "name": "stderr",
     "output_type": "stream",
     "text": [
      "\u001b[92mINFO \u001b[0m:      aggregate_fit: received 2 results and 0 failures\n",
      "\u001b[92mINFO \u001b[0m:      configure_evaluate: strategy sampled 2 clients (out of 2)\n"
     ]
    },
    {
     "name": "stdout",
     "output_type": "stream",
     "text": [
      "\u001b[36m(ClientAppActor pid=14088)\u001b[0m Client's model: ETM_Client1\n",
      "\u001b[36m(ClientAppActor pid=14088)\u001b[0m Epoch: 000 | Loss: 779.6865234375\n"
     ]
    },
    {
     "name": "stderr",
     "output_type": "stream",
     "text": [
      "\u001b[92mINFO \u001b[0m:      aggregate_evaluate: received 2 results and 0 failures\n",
      "\u001b[92mINFO \u001b[0m:      \n",
      "\u001b[92mINFO \u001b[0m:      [ROUND 20]\n",
      "\u001b[92mINFO \u001b[0m:      configure_fit: strategy sampled 2 clients (out of 2)\n"
     ]
    },
    {
     "name": "stdout",
     "output_type": "stream",
     "text": [
      "\u001b[36m(ClientAppActor pid=14088)\u001b[0m Client's model: ETM_Client0\n",
      "\u001b[36m(ClientAppActor pid=14088)\u001b[0m Epoch: 000 | Loss: 792.583251953125\n"
     ]
    },
    {
     "name": "stderr",
     "output_type": "stream",
     "text": [
      "\u001b[92mINFO \u001b[0m:      aggregate_fit: received 2 results and 0 failures\n"
     ]
    },
    {
     "name": "stdout",
     "output_type": "stream",
     "text": [
      "\u001b[36m(ClientAppActor pid=14088)\u001b[0m Client's model: ETM_Client1\n",
      "\u001b[36m(ClientAppActor pid=14088)\u001b[0m Epoch: 000 | Loss: 776.750732421875\n"
     ]
    },
    {
     "name": "stderr",
     "output_type": "stream",
     "text": [
      "\u001b[92mINFO \u001b[0m:      configure_evaluate: strategy sampled 2 clients (out of 2)\n"
     ]
    },
    {
     "name": "stdout",
     "output_type": "stream",
     "text": [
      "Saving round 20 aggregated_ndarrays...\n"
     ]
    },
    {
     "name": "stderr",
     "output_type": "stream",
     "text": [
      "\u001b[92mINFO \u001b[0m:      aggregate_evaluate: received 2 results and 0 failures\n",
      "\u001b[92mINFO \u001b[0m:      \n",
      "\u001b[92mINFO \u001b[0m:      [ROUND 21]\n",
      "\u001b[92mINFO \u001b[0m:      configure_fit: strategy sampled 2 clients (out of 2)\n"
     ]
    },
    {
     "name": "stdout",
     "output_type": "stream",
     "text": [
      "\u001b[36m(ClientAppActor pid=14088)\u001b[0m Client's model: ETM_Client0\n",
      "\u001b[36m(ClientAppActor pid=14088)\u001b[0m Epoch: 000 | Loss: 790.0762939453125\n"
     ]
    },
    {
     "name": "stderr",
     "output_type": "stream",
     "text": [
      "\u001b[92mINFO \u001b[0m:      aggregate_fit: received 2 results and 0 failures\n",
      "\u001b[92mINFO \u001b[0m:      configure_evaluate: strategy sampled 2 clients (out of 2)\n"
     ]
    },
    {
     "name": "stdout",
     "output_type": "stream",
     "text": [
      "\u001b[36m(ClientAppActor pid=14088)\u001b[0m Client's model: ETM_Client1\n",
      "\u001b[36m(ClientAppActor pid=14088)\u001b[0m Epoch: 000 | Loss: 773.7368774414062\n"
     ]
    },
    {
     "name": "stderr",
     "output_type": "stream",
     "text": [
      "\u001b[92mINFO \u001b[0m:      aggregate_evaluate: received 2 results and 0 failures\n",
      "\u001b[92mINFO \u001b[0m:      \n",
      "\u001b[92mINFO \u001b[0m:      [ROUND 22]\n",
      "\u001b[92mINFO \u001b[0m:      configure_fit: strategy sampled 2 clients (out of 2)\n"
     ]
    },
    {
     "name": "stdout",
     "output_type": "stream",
     "text": [
      "\u001b[36m(ClientAppActor pid=14088)\u001b[0m Client's model: ETM_Client0\n",
      "\u001b[36m(ClientAppActor pid=14088)\u001b[0m Epoch: 000 | Loss: 787.5709838867188\n"
     ]
    },
    {
     "name": "stderr",
     "output_type": "stream",
     "text": [
      "\u001b[92mINFO \u001b[0m:      aggregate_fit: received 2 results and 0 failures\n",
      "\u001b[92mINFO \u001b[0m:      configure_evaluate: strategy sampled 2 clients (out of 2)\n"
     ]
    },
    {
     "name": "stdout",
     "output_type": "stream",
     "text": [
      "\u001b[36m(ClientAppActor pid=14088)\u001b[0m Client's model: ETM_Client1\n",
      "\u001b[36m(ClientAppActor pid=14088)\u001b[0m Epoch: 000 | Loss: 771.69580078125\n"
     ]
    },
    {
     "name": "stderr",
     "output_type": "stream",
     "text": [
      "\u001b[92mINFO \u001b[0m:      aggregate_evaluate: received 2 results and 0 failures\n",
      "\u001b[92mINFO \u001b[0m:      \n",
      "\u001b[92mINFO \u001b[0m:      [ROUND 23]\n",
      "\u001b[92mINFO \u001b[0m:      configure_fit: strategy sampled 2 clients (out of 2)\n"
     ]
    },
    {
     "name": "stdout",
     "output_type": "stream",
     "text": [
      "\u001b[36m(ClientAppActor pid=14088)\u001b[0m Client's model: ETM_Client0\n",
      "\u001b[36m(ClientAppActor pid=14088)\u001b[0m Epoch: 000 | Loss: 785.369384765625\n"
     ]
    },
    {
     "name": "stderr",
     "output_type": "stream",
     "text": [
      "\u001b[92mINFO \u001b[0m:      aggregate_fit: received 2 results and 0 failures\n",
      "\u001b[92mINFO \u001b[0m:      configure_evaluate: strategy sampled 2 clients (out of 2)\n"
     ]
    },
    {
     "name": "stdout",
     "output_type": "stream",
     "text": [
      "\u001b[36m(ClientAppActor pid=14088)\u001b[0m Client's model: ETM_Client1\n",
      "\u001b[36m(ClientAppActor pid=14088)\u001b[0m Epoch: 000 | Loss: 769.3301391601562\n"
     ]
    },
    {
     "name": "stderr",
     "output_type": "stream",
     "text": [
      "\u001b[92mINFO \u001b[0m:      aggregate_evaluate: received 2 results and 0 failures\n",
      "\u001b[92mINFO \u001b[0m:      \n",
      "\u001b[92mINFO \u001b[0m:      [ROUND 24]\n",
      "\u001b[92mINFO \u001b[0m:      configure_fit: strategy sampled 2 clients (out of 2)\n"
     ]
    },
    {
     "name": "stdout",
     "output_type": "stream",
     "text": [
      "\u001b[36m(ClientAppActor pid=14088)\u001b[0m Client's model: ETM_Client0\n",
      "\u001b[36m(ClientAppActor pid=14088)\u001b[0m Epoch: 000 | Loss: 783.519287109375\n"
     ]
    },
    {
     "name": "stderr",
     "output_type": "stream",
     "text": [
      "\u001b[92mINFO \u001b[0m:      aggregate_fit: received 2 results and 0 failures\n",
      "\u001b[92mINFO \u001b[0m:      configure_evaluate: strategy sampled 2 clients (out of 2)\n"
     ]
    },
    {
     "name": "stdout",
     "output_type": "stream",
     "text": [
      "\u001b[36m(ClientAppActor pid=14088)\u001b[0m Client's model: ETM_Client1\n",
      "\u001b[36m(ClientAppActor pid=14088)\u001b[0m Epoch: 000 | Loss: 767.7171020507812\n"
     ]
    },
    {
     "name": "stderr",
     "output_type": "stream",
     "text": [
      "\u001b[92mINFO \u001b[0m:      aggregate_evaluate: received 2 results and 0 failures\n",
      "\u001b[92mINFO \u001b[0m:      \n",
      "\u001b[92mINFO \u001b[0m:      [ROUND 25]\n",
      "\u001b[92mINFO \u001b[0m:      configure_fit: strategy sampled 2 clients (out of 2)\n"
     ]
    },
    {
     "name": "stdout",
     "output_type": "stream",
     "text": [
      "\u001b[36m(ClientAppActor pid=14088)\u001b[0m Client's model: ETM_Client0\n",
      "\u001b[36m(ClientAppActor pid=14088)\u001b[0m Epoch: 000 | Loss: 781.741455078125\n"
     ]
    },
    {
     "name": "stderr",
     "output_type": "stream",
     "text": [
      "\u001b[92mINFO \u001b[0m:      aggregate_fit: received 2 results and 0 failures\n",
      "\u001b[92mINFO \u001b[0m:      configure_evaluate: strategy sampled 2 clients (out of 2)\n"
     ]
    },
    {
     "name": "stdout",
     "output_type": "stream",
     "text": [
      "\u001b[36m(ClientAppActor pid=14088)\u001b[0m Client's model: ETM_Client1\n",
      "\u001b[36m(ClientAppActor pid=14088)\u001b[0m Epoch: 000 | Loss: 765.6709594726562\n"
     ]
    },
    {
     "name": "stderr",
     "output_type": "stream",
     "text": [
      "\u001b[92mINFO \u001b[0m:      aggregate_evaluate: received 2 results and 0 failures\n",
      "\u001b[92mINFO \u001b[0m:      \n",
      "\u001b[92mINFO \u001b[0m:      [ROUND 26]\n",
      "\u001b[92mINFO \u001b[0m:      configure_fit: strategy sampled 2 clients (out of 2)\n"
     ]
    },
    {
     "name": "stdout",
     "output_type": "stream",
     "text": [
      "\u001b[36m(ClientAppActor pid=14088)\u001b[0m Client's model: ETM_Client0\n",
      "\u001b[36m(ClientAppActor pid=14088)\u001b[0m Epoch: 000 | Loss: 780.1578369140625\n"
     ]
    },
    {
     "name": "stderr",
     "output_type": "stream",
     "text": [
      "\u001b[92mINFO \u001b[0m:      aggregate_fit: received 2 results and 0 failures\n",
      "\u001b[92mINFO \u001b[0m:      configure_evaluate: strategy sampled 2 clients (out of 2)\n"
     ]
    },
    {
     "name": "stdout",
     "output_type": "stream",
     "text": [
      "\u001b[36m(ClientAppActor pid=14088)\u001b[0m Client's model: ETM_Client1\n",
      "\u001b[36m(ClientAppActor pid=14088)\u001b[0m Epoch: 000 | Loss: 764.3348999023438\n"
     ]
    },
    {
     "name": "stderr",
     "output_type": "stream",
     "text": [
      "\u001b[92mINFO \u001b[0m:      aggregate_evaluate: received 2 results and 0 failures\n",
      "\u001b[92mINFO \u001b[0m:      \n",
      "\u001b[92mINFO \u001b[0m:      [ROUND 27]\n",
      "\u001b[92mINFO \u001b[0m:      configure_fit: strategy sampled 2 clients (out of 2)\n"
     ]
    },
    {
     "name": "stdout",
     "output_type": "stream",
     "text": [
      "\u001b[36m(ClientAppActor pid=14088)\u001b[0m Client's model: ETM_Client0\n",
      "\u001b[36m(ClientAppActor pid=14088)\u001b[0m Epoch: 000 | Loss: 778.4483032226562\n"
     ]
    },
    {
     "name": "stderr",
     "output_type": "stream",
     "text": [
      "\u001b[92mINFO \u001b[0m:      aggregate_fit: received 2 results and 0 failures\n",
      "\u001b[92mINFO \u001b[0m:      configure_evaluate: strategy sampled 2 clients (out of 2)\n"
     ]
    },
    {
     "name": "stdout",
     "output_type": "stream",
     "text": [
      "\u001b[36m(ClientAppActor pid=14088)\u001b[0m Client's model: ETM_Client1\n",
      "\u001b[36m(ClientAppActor pid=14088)\u001b[0m Epoch: 000 | Loss: 762.9473266601562\n"
     ]
    },
    {
     "name": "stderr",
     "output_type": "stream",
     "text": [
      "\u001b[92mINFO \u001b[0m:      aggregate_evaluate: received 2 results and 0 failures\n",
      "\u001b[92mINFO \u001b[0m:      \n",
      "\u001b[92mINFO \u001b[0m:      [ROUND 28]\n",
      "\u001b[92mINFO \u001b[0m:      configure_fit: strategy sampled 2 clients (out of 2)\n"
     ]
    },
    {
     "name": "stdout",
     "output_type": "stream",
     "text": [
      "\u001b[36m(ClientAppActor pid=14088)\u001b[0m Client's model: ETM_Client0\n",
      "\u001b[36m(ClientAppActor pid=14088)\u001b[0m Epoch: 000 | Loss: 777.2354736328125\n"
     ]
    },
    {
     "name": "stderr",
     "output_type": "stream",
     "text": [
      "\u001b[92mINFO \u001b[0m:      aggregate_fit: received 2 results and 0 failures\n",
      "\u001b[92mINFO \u001b[0m:      configure_evaluate: strategy sampled 2 clients (out of 2)\n"
     ]
    },
    {
     "name": "stdout",
     "output_type": "stream",
     "text": [
      "\u001b[36m(ClientAppActor pid=14088)\u001b[0m Client's model: ETM_Client1\n",
      "\u001b[36m(ClientAppActor pid=14088)\u001b[0m Epoch: 000 | Loss: 761.5540771484375\n"
     ]
    },
    {
     "name": "stderr",
     "output_type": "stream",
     "text": [
      "\u001b[92mINFO \u001b[0m:      aggregate_evaluate: received 2 results and 0 failures\n",
      "\u001b[92mINFO \u001b[0m:      \n",
      "\u001b[92mINFO \u001b[0m:      [ROUND 29]\n",
      "\u001b[92mINFO \u001b[0m:      configure_fit: strategy sampled 2 clients (out of 2)\n"
     ]
    },
    {
     "name": "stdout",
     "output_type": "stream",
     "text": [
      "\u001b[36m(ClientAppActor pid=14088)\u001b[0m Client's model: ETM_Client0\n",
      "\u001b[36m(ClientAppActor pid=14088)\u001b[0m Epoch: 000 | Loss: 776.1260375976562\n"
     ]
    },
    {
     "name": "stderr",
     "output_type": "stream",
     "text": [
      "\u001b[92mINFO \u001b[0m:      aggregate_fit: received 2 results and 0 failures\n",
      "\u001b[92mINFO \u001b[0m:      configure_evaluate: strategy sampled 2 clients (out of 2)\n"
     ]
    },
    {
     "name": "stdout",
     "output_type": "stream",
     "text": [
      "\u001b[36m(ClientAppActor pid=14088)\u001b[0m Client's model: ETM_Client1\n",
      "\u001b[36m(ClientAppActor pid=14088)\u001b[0m Epoch: 000 | Loss: 760.2391967773438\n"
     ]
    },
    {
     "name": "stderr",
     "output_type": "stream",
     "text": [
      "\u001b[92mINFO \u001b[0m:      aggregate_evaluate: received 2 results and 0 failures\n",
      "\u001b[92mINFO \u001b[0m:      \n",
      "\u001b[92mINFO \u001b[0m:      [ROUND 30]\n",
      "\u001b[92mINFO \u001b[0m:      configure_fit: strategy sampled 2 clients (out of 2)\n"
     ]
    },
    {
     "name": "stdout",
     "output_type": "stream",
     "text": [
      "\u001b[36m(ClientAppActor pid=14088)\u001b[0m Client's model: ETM_Client0\n",
      "\u001b[36m(ClientAppActor pid=14088)\u001b[0m Epoch: 000 | Loss: 774.75537109375\n"
     ]
    },
    {
     "name": "stderr",
     "output_type": "stream",
     "text": [
      "\u001b[92mINFO \u001b[0m:      aggregate_fit: received 2 results and 0 failures\n",
      "\u001b[92mINFO \u001b[0m:      configure_evaluate: strategy sampled 2 clients (out of 2)\n"
     ]
    },
    {
     "name": "stdout",
     "output_type": "stream",
     "text": [
      "\u001b[36m(ClientAppActor pid=14088)\u001b[0m Client's model: ETM_Client1\n",
      "\u001b[36m(ClientAppActor pid=14088)\u001b[0m Epoch: 000 | Loss: 759.184814453125\n",
      "Saving round 30 aggregated_ndarrays...\n"
     ]
    },
    {
     "name": "stderr",
     "output_type": "stream",
     "text": [
      "\u001b[92mINFO \u001b[0m:      aggregate_evaluate: received 2 results and 0 failures\n",
      "\u001b[92mINFO \u001b[0m:      \n",
      "\u001b[92mINFO \u001b[0m:      [ROUND 31]\n",
      "\u001b[92mINFO \u001b[0m:      configure_fit: strategy sampled 2 clients (out of 2)\n"
     ]
    },
    {
     "name": "stdout",
     "output_type": "stream",
     "text": [
      "\u001b[36m(ClientAppActor pid=14088)\u001b[0m Client's model: ETM_Client0\n",
      "\u001b[36m(ClientAppActor pid=14088)\u001b[0m Epoch: 000 | Loss: 773.9312133789062\n"
     ]
    },
    {
     "name": "stderr",
     "output_type": "stream",
     "text": [
      "\u001b[92mINFO \u001b[0m:      aggregate_fit: received 2 results and 0 failures\n",
      "\u001b[92mINFO \u001b[0m:      configure_evaluate: strategy sampled 2 clients (out of 2)\n"
     ]
    },
    {
     "name": "stdout",
     "output_type": "stream",
     "text": [
      "\u001b[36m(ClientAppActor pid=14088)\u001b[0m Client's model: ETM_Client1\n",
      "\u001b[36m(ClientAppActor pid=14088)\u001b[0m Epoch: 000 | Loss: 757.9871215820312\n"
     ]
    },
    {
     "name": "stderr",
     "output_type": "stream",
     "text": [
      "\u001b[92mINFO \u001b[0m:      aggregate_evaluate: received 2 results and 0 failures\n",
      "\u001b[92mINFO \u001b[0m:      \n",
      "\u001b[92mINFO \u001b[0m:      [ROUND 32]\n",
      "\u001b[92mINFO \u001b[0m:      configure_fit: strategy sampled 2 clients (out of 2)\n"
     ]
    },
    {
     "name": "stdout",
     "output_type": "stream",
     "text": [
      "\u001b[36m(ClientAppActor pid=14088)\u001b[0m Client's model: ETM_Client0\n",
      "\u001b[36m(ClientAppActor pid=14088)\u001b[0m Epoch: 000 | Loss: 772.6055908203125\n"
     ]
    },
    {
     "name": "stderr",
     "output_type": "stream",
     "text": [
      "\u001b[92mINFO \u001b[0m:      aggregate_fit: received 2 results and 0 failures\n",
      "\u001b[92mINFO \u001b[0m:      configure_evaluate: strategy sampled 2 clients (out of 2)\n"
     ]
    },
    {
     "name": "stdout",
     "output_type": "stream",
     "text": [
      "\u001b[36m(ClientAppActor pid=14088)\u001b[0m Client's model: ETM_Client1\n",
      "\u001b[36m(ClientAppActor pid=14088)\u001b[0m Epoch: 000 | Loss: 757.2012329101562\n"
     ]
    },
    {
     "name": "stderr",
     "output_type": "stream",
     "text": [
      "\u001b[92mINFO \u001b[0m:      aggregate_evaluate: received 2 results and 0 failures\n",
      "\u001b[92mINFO \u001b[0m:      \n",
      "\u001b[92mINFO \u001b[0m:      [ROUND 33]\n",
      "\u001b[92mINFO \u001b[0m:      configure_fit: strategy sampled 2 clients (out of 2)\n"
     ]
    },
    {
     "name": "stdout",
     "output_type": "stream",
     "text": [
      "\u001b[36m(ClientAppActor pid=14088)\u001b[0m Client's model: ETM_Client0\n",
      "\u001b[36m(ClientAppActor pid=14088)\u001b[0m Epoch: 000 | Loss: 771.8536376953125\n"
     ]
    },
    {
     "name": "stderr",
     "output_type": "stream",
     "text": [
      "\u001b[92mINFO \u001b[0m:      aggregate_fit: received 2 results and 0 failures\n"
     ]
    },
    {
     "name": "stdout",
     "output_type": "stream",
     "text": [
      "\u001b[36m(ClientAppActor pid=14088)\u001b[0m Client's model: ETM_Client1\n",
      "\u001b[36m(ClientAppActor pid=14088)\u001b[0m Epoch: 000 | Loss: 756.168212890625\n"
     ]
    },
    {
     "name": "stderr",
     "output_type": "stream",
     "text": [
      "\u001b[92mINFO \u001b[0m:      configure_evaluate: strategy sampled 2 clients (out of 2)\n",
      "\u001b[92mINFO \u001b[0m:      aggregate_evaluate: received 2 results and 0 failures\n",
      "\u001b[92mINFO \u001b[0m:      \n",
      "\u001b[92mINFO \u001b[0m:      [ROUND 34]\n",
      "\u001b[92mINFO \u001b[0m:      configure_fit: strategy sampled 2 clients (out of 2)\n"
     ]
    },
    {
     "name": "stdout",
     "output_type": "stream",
     "text": [
      "\u001b[36m(ClientAppActor pid=14088)\u001b[0m Client's model: ETM_Client0\n",
      "\u001b[36m(ClientAppActor pid=14088)\u001b[0m Epoch: 000 | Loss: 771.0459594726562\n"
     ]
    },
    {
     "name": "stderr",
     "output_type": "stream",
     "text": [
      "\u001b[92mINFO \u001b[0m:      aggregate_fit: received 2 results and 0 failures\n"
     ]
    },
    {
     "name": "stdout",
     "output_type": "stream",
     "text": [
      "\u001b[36m(ClientAppActor pid=14088)\u001b[0m Client's model: ETM_Client1\n",
      "\u001b[36m(ClientAppActor pid=14088)\u001b[0m Epoch: 000 | Loss: 755.4463500976562\n"
     ]
    },
    {
     "name": "stderr",
     "output_type": "stream",
     "text": [
      "\u001b[92mINFO \u001b[0m:      configure_evaluate: strategy sampled 2 clients (out of 2)\n",
      "\u001b[92mINFO \u001b[0m:      aggregate_evaluate: received 2 results and 0 failures\n",
      "\u001b[92mINFO \u001b[0m:      \n",
      "\u001b[92mINFO \u001b[0m:      [ROUND 35]\n",
      "\u001b[92mINFO \u001b[0m:      configure_fit: strategy sampled 2 clients (out of 2)\n"
     ]
    },
    {
     "name": "stdout",
     "output_type": "stream",
     "text": [
      "\u001b[36m(ClientAppActor pid=14088)\u001b[0m Client's model: ETM_Client0\n",
      "\u001b[36m(ClientAppActor pid=14088)\u001b[0m Epoch: 000 | Loss: 770.2003784179688\n"
     ]
    },
    {
     "name": "stderr",
     "output_type": "stream",
     "text": [
      "\u001b[92mINFO \u001b[0m:      aggregate_fit: received 2 results and 0 failures\n"
     ]
    },
    {
     "name": "stdout",
     "output_type": "stream",
     "text": [
      "\u001b[36m(ClientAppActor pid=14088)\u001b[0m Client's model: ETM_Client1\n",
      "\u001b[36m(ClientAppActor pid=14088)\u001b[0m Epoch: 000 | Loss: 754.6769409179688\n"
     ]
    },
    {
     "name": "stderr",
     "output_type": "stream",
     "text": [
      "\u001b[92mINFO \u001b[0m:      configure_evaluate: strategy sampled 2 clients (out of 2)\n",
      "\u001b[92mINFO \u001b[0m:      aggregate_evaluate: received 2 results and 0 failures\n",
      "\u001b[92mINFO \u001b[0m:      \n",
      "\u001b[92mINFO \u001b[0m:      [ROUND 36]\n",
      "\u001b[92mINFO \u001b[0m:      configure_fit: strategy sampled 2 clients (out of 2)\n"
     ]
    },
    {
     "name": "stdout",
     "output_type": "stream",
     "text": [
      "\u001b[36m(ClientAppActor pid=14088)\u001b[0m Client's model: ETM_Client0\n",
      "\u001b[36m(ClientAppActor pid=14088)\u001b[0m Epoch: 000 | Loss: 769.3252563476562\n"
     ]
    },
    {
     "name": "stderr",
     "output_type": "stream",
     "text": [
      "\u001b[92mINFO \u001b[0m:      aggregate_fit: received 2 results and 0 failures\n"
     ]
    },
    {
     "name": "stdout",
     "output_type": "stream",
     "text": [
      "\u001b[36m(ClientAppActor pid=14088)\u001b[0m Client's model: ETM_Client1\n",
      "\u001b[36m(ClientAppActor pid=14088)\u001b[0m Epoch: 000 | Loss: 753.8374633789062\n"
     ]
    },
    {
     "name": "stderr",
     "output_type": "stream",
     "text": [
      "\u001b[92mINFO \u001b[0m:      configure_evaluate: strategy sampled 2 clients (out of 2)\n",
      "\u001b[92mINFO \u001b[0m:      aggregate_evaluate: received 2 results and 0 failures\n",
      "\u001b[92mINFO \u001b[0m:      \n",
      "\u001b[92mINFO \u001b[0m:      [ROUND 37]\n",
      "\u001b[92mINFO \u001b[0m:      configure_fit: strategy sampled 2 clients (out of 2)\n"
     ]
    },
    {
     "name": "stdout",
     "output_type": "stream",
     "text": [
      "\u001b[36m(ClientAppActor pid=14088)\u001b[0m Client's model: ETM_Client0\n",
      "\u001b[36m(ClientAppActor pid=14088)\u001b[0m Epoch: 000 | Loss: 768.5344848632812\n"
     ]
    },
    {
     "name": "stderr",
     "output_type": "stream",
     "text": [
      "\u001b[92mINFO \u001b[0m:      aggregate_fit: received 2 results and 0 failures\n",
      "\u001b[92mINFO \u001b[0m:      configure_evaluate: strategy sampled 2 clients (out of 2)\n"
     ]
    },
    {
     "name": "stdout",
     "output_type": "stream",
     "text": [
      "\u001b[36m(ClientAppActor pid=14088)\u001b[0m Client's model: ETM_Client1\n",
      "\u001b[36m(ClientAppActor pid=14088)\u001b[0m Epoch: 000 | Loss: 753.551513671875\n"
     ]
    },
    {
     "name": "stderr",
     "output_type": "stream",
     "text": [
      "\u001b[92mINFO \u001b[0m:      aggregate_evaluate: received 2 results and 0 failures\n",
      "\u001b[92mINFO \u001b[0m:      \n",
      "\u001b[92mINFO \u001b[0m:      [ROUND 38]\n",
      "\u001b[92mINFO \u001b[0m:      configure_fit: strategy sampled 2 clients (out of 2)\n"
     ]
    },
    {
     "name": "stdout",
     "output_type": "stream",
     "text": [
      "\u001b[36m(ClientAppActor pid=14088)\u001b[0m Client's model: ETM_Client0\n",
      "\u001b[36m(ClientAppActor pid=14088)\u001b[0m Epoch: 000 | Loss: 767.9866333007812\n"
     ]
    },
    {
     "name": "stderr",
     "output_type": "stream",
     "text": [
      "\u001b[92mINFO \u001b[0m:      aggregate_fit: received 2 results and 0 failures\n",
      "\u001b[92mINFO \u001b[0m:      configure_evaluate: strategy sampled 2 clients (out of 2)\n"
     ]
    },
    {
     "name": "stdout",
     "output_type": "stream",
     "text": [
      "\u001b[36m(ClientAppActor pid=14088)\u001b[0m Client's model: ETM_Client1\n",
      "\u001b[36m(ClientAppActor pid=14088)\u001b[0m Epoch: 000 | Loss: 752.4443969726562\n"
     ]
    },
    {
     "name": "stderr",
     "output_type": "stream",
     "text": [
      "\u001b[92mINFO \u001b[0m:      aggregate_evaluate: received 2 results and 0 failures\n",
      "\u001b[92mINFO \u001b[0m:      \n",
      "\u001b[92mINFO \u001b[0m:      [ROUND 39]\n",
      "\u001b[92mINFO \u001b[0m:      configure_fit: strategy sampled 2 clients (out of 2)\n"
     ]
    },
    {
     "name": "stdout",
     "output_type": "stream",
     "text": [
      "\u001b[36m(ClientAppActor pid=14088)\u001b[0m Client's model: ETM_Client0\n",
      "\u001b[36m(ClientAppActor pid=14088)\u001b[0m Epoch: 000 | Loss: 767.3320922851562\n"
     ]
    },
    {
     "name": "stderr",
     "output_type": "stream",
     "text": [
      "\u001b[92mINFO \u001b[0m:      aggregate_fit: received 2 results and 0 failures\n",
      "\u001b[92mINFO \u001b[0m:      configure_evaluate: strategy sampled 2 clients (out of 2)\n"
     ]
    },
    {
     "name": "stdout",
     "output_type": "stream",
     "text": [
      "\u001b[36m(ClientAppActor pid=14088)\u001b[0m Client's model: ETM_Client1\n",
      "\u001b[36m(ClientAppActor pid=14088)\u001b[0m Epoch: 000 | Loss: 751.9796752929688\n"
     ]
    },
    {
     "name": "stderr",
     "output_type": "stream",
     "text": [
      "\u001b[92mINFO \u001b[0m:      aggregate_evaluate: received 2 results and 0 failures\n",
      "\u001b[92mINFO \u001b[0m:      \n",
      "\u001b[92mINFO \u001b[0m:      [ROUND 40]\n",
      "\u001b[92mINFO \u001b[0m:      configure_fit: strategy sampled 2 clients (out of 2)\n"
     ]
    },
    {
     "name": "stdout",
     "output_type": "stream",
     "text": [
      "\u001b[36m(ClientAppActor pid=14088)\u001b[0m Client's model: ETM_Client0\n",
      "\u001b[36m(ClientAppActor pid=14088)\u001b[0m Epoch: 000 | Loss: 766.9201049804688\n"
     ]
    },
    {
     "name": "stderr",
     "output_type": "stream",
     "text": [
      "\u001b[92mINFO \u001b[0m:      aggregate_fit: received 2 results and 0 failures\n",
      "\u001b[92mINFO \u001b[0m:      configure_evaluate: strategy sampled 2 clients (out of 2)\n"
     ]
    },
    {
     "name": "stdout",
     "output_type": "stream",
     "text": [
      "\u001b[36m(ClientAppActor pid=14088)\u001b[0m Client's model: ETM_Client1\n",
      "\u001b[36m(ClientAppActor pid=14088)\u001b[0m Epoch: 000 | Loss: 751.3624877929688\n",
      "Saving round 40 aggregated_ndarrays...\n"
     ]
    },
    {
     "name": "stderr",
     "output_type": "stream",
     "text": [
      "\u001b[92mINFO \u001b[0m:      aggregate_evaluate: received 2 results and 0 failures\n",
      "\u001b[92mINFO \u001b[0m:      \n",
      "\u001b[92mINFO \u001b[0m:      [ROUND 41]\n",
      "\u001b[92mINFO \u001b[0m:      configure_fit: strategy sampled 2 clients (out of 2)\n"
     ]
    },
    {
     "name": "stdout",
     "output_type": "stream",
     "text": [
      "\u001b[36m(ClientAppActor pid=14088)\u001b[0m Client's model: ETM_Client0\n",
      "\u001b[36m(ClientAppActor pid=14088)\u001b[0m Epoch: 000 | Loss: 766.3463745117188\n"
     ]
    },
    {
     "name": "stderr",
     "output_type": "stream",
     "text": [
      "\u001b[92mINFO \u001b[0m:      aggregate_fit: received 2 results and 0 failures\n"
     ]
    },
    {
     "name": "stdout",
     "output_type": "stream",
     "text": [
      "\u001b[36m(ClientAppActor pid=14088)\u001b[0m Client's model: ETM_Client1\n",
      "\u001b[36m(ClientAppActor pid=14088)\u001b[0m Epoch: 000 | Loss: 750.6680908203125\n"
     ]
    },
    {
     "name": "stderr",
     "output_type": "stream",
     "text": [
      "\u001b[92mINFO \u001b[0m:      configure_evaluate: strategy sampled 2 clients (out of 2)\n",
      "\u001b[92mINFO \u001b[0m:      aggregate_evaluate: received 2 results and 0 failures\n",
      "\u001b[92mINFO \u001b[0m:      \n",
      "\u001b[92mINFO \u001b[0m:      [ROUND 42]\n",
      "\u001b[92mINFO \u001b[0m:      configure_fit: strategy sampled 2 clients (out of 2)\n"
     ]
    },
    {
     "name": "stdout",
     "output_type": "stream",
     "text": [
      "\u001b[36m(ClientAppActor pid=14088)\u001b[0m Client's model: ETM_Client0\n",
      "\u001b[36m(ClientAppActor pid=14088)\u001b[0m Epoch: 000 | Loss: 765.6567993164062\n"
     ]
    },
    {
     "name": "stderr",
     "output_type": "stream",
     "text": [
      "\u001b[92mINFO \u001b[0m:      aggregate_fit: received 2 results and 0 failures\n",
      "\u001b[92mINFO \u001b[0m:      configure_evaluate: strategy sampled 2 clients (out of 2)\n"
     ]
    },
    {
     "name": "stdout",
     "output_type": "stream",
     "text": [
      "\u001b[36m(ClientAppActor pid=14088)\u001b[0m Client's model: ETM_Client1\n",
      "\u001b[36m(ClientAppActor pid=14088)\u001b[0m Epoch: 000 | Loss: 750.297607421875\n"
     ]
    },
    {
     "name": "stderr",
     "output_type": "stream",
     "text": [
      "\u001b[92mINFO \u001b[0m:      aggregate_evaluate: received 2 results and 0 failures\n",
      "\u001b[92mINFO \u001b[0m:      \n",
      "\u001b[92mINFO \u001b[0m:      [ROUND 43]\n",
      "\u001b[92mINFO \u001b[0m:      configure_fit: strategy sampled 2 clients (out of 2)\n"
     ]
    },
    {
     "name": "stdout",
     "output_type": "stream",
     "text": [
      "\u001b[36m(ClientAppActor pid=14088)\u001b[0m Client's model: ETM_Client0\n",
      "\u001b[36m(ClientAppActor pid=14088)\u001b[0m Epoch: 000 | Loss: 765.2230834960938\n"
     ]
    },
    {
     "name": "stderr",
     "output_type": "stream",
     "text": [
      "\u001b[92mINFO \u001b[0m:      aggregate_fit: received 2 results and 0 failures\n",
      "\u001b[92mINFO \u001b[0m:      configure_evaluate: strategy sampled 2 clients (out of 2)\n"
     ]
    },
    {
     "name": "stdout",
     "output_type": "stream",
     "text": [
      "\u001b[36m(ClientAppActor pid=14088)\u001b[0m Client's model: ETM_Client1\n",
      "\u001b[36m(ClientAppActor pid=14088)\u001b[0m Epoch: 000 | Loss: 749.7230224609375\n"
     ]
    },
    {
     "name": "stderr",
     "output_type": "stream",
     "text": [
      "\u001b[92mINFO \u001b[0m:      aggregate_evaluate: received 2 results and 0 failures\n",
      "\u001b[92mINFO \u001b[0m:      \n",
      "\u001b[92mINFO \u001b[0m:      [ROUND 44]\n",
      "\u001b[92mINFO \u001b[0m:      configure_fit: strategy sampled 2 clients (out of 2)\n"
     ]
    },
    {
     "name": "stdout",
     "output_type": "stream",
     "text": [
      "\u001b[36m(ClientAppActor pid=14088)\u001b[0m Client's model: ETM_Client0\n",
      "\u001b[36m(ClientAppActor pid=14088)\u001b[0m Epoch: 000 | Loss: 764.8619995117188\n"
     ]
    },
    {
     "name": "stderr",
     "output_type": "stream",
     "text": [
      "\u001b[92mINFO \u001b[0m:      aggregate_fit: received 2 results and 0 failures\n",
      "\u001b[92mINFO \u001b[0m:      configure_evaluate: strategy sampled 2 clients (out of 2)\n"
     ]
    },
    {
     "name": "stdout",
     "output_type": "stream",
     "text": [
      "\u001b[36m(ClientAppActor pid=14088)\u001b[0m Client's model: ETM_Client1\n",
      "\u001b[36m(ClientAppActor pid=14088)\u001b[0m Epoch: 000 | Loss: 749.2940673828125\n"
     ]
    },
    {
     "name": "stderr",
     "output_type": "stream",
     "text": [
      "\u001b[92mINFO \u001b[0m:      aggregate_evaluate: received 2 results and 0 failures\n",
      "\u001b[92mINFO \u001b[0m:      \n",
      "\u001b[92mINFO \u001b[0m:      [ROUND 45]\n",
      "\u001b[92mINFO \u001b[0m:      configure_fit: strategy sampled 2 clients (out of 2)\n"
     ]
    },
    {
     "name": "stdout",
     "output_type": "stream",
     "text": [
      "\u001b[36m(ClientAppActor pid=14088)\u001b[0m Client's model: ETM_Client0\n",
      "\u001b[36m(ClientAppActor pid=14088)\u001b[0m Epoch: 000 | Loss: 764.10888671875\n"
     ]
    },
    {
     "name": "stderr",
     "output_type": "stream",
     "text": [
      "\u001b[92mINFO \u001b[0m:      aggregate_fit: received 2 results and 0 failures\n"
     ]
    },
    {
     "name": "stdout",
     "output_type": "stream",
     "text": [
      "\u001b[36m(ClientAppActor pid=14088)\u001b[0m Client's model: ETM_Client1\n",
      "\u001b[36m(ClientAppActor pid=14088)\u001b[0m Epoch: 000 | Loss: 749.0114135742188\n"
     ]
    },
    {
     "name": "stderr",
     "output_type": "stream",
     "text": [
      "\u001b[92mINFO \u001b[0m:      configure_evaluate: strategy sampled 2 clients (out of 2)\n",
      "\u001b[92mINFO \u001b[0m:      aggregate_evaluate: received 2 results and 0 failures\n",
      "\u001b[92mINFO \u001b[0m:      \n",
      "\u001b[92mINFO \u001b[0m:      [ROUND 46]\n",
      "\u001b[92mINFO \u001b[0m:      configure_fit: strategy sampled 2 clients (out of 2)\n"
     ]
    },
    {
     "name": "stdout",
     "output_type": "stream",
     "text": [
      "\u001b[36m(ClientAppActor pid=14088)\u001b[0m Client's model: ETM_Client0\n",
      "\u001b[36m(ClientAppActor pid=14088)\u001b[0m Epoch: 000 | Loss: 763.8138427734375\n"
     ]
    },
    {
     "name": "stderr",
     "output_type": "stream",
     "text": [
      "\u001b[92mINFO \u001b[0m:      aggregate_fit: received 2 results and 0 failures\n",
      "\u001b[92mINFO \u001b[0m:      configure_evaluate: strategy sampled 2 clients (out of 2)\n"
     ]
    },
    {
     "name": "stdout",
     "output_type": "stream",
     "text": [
      "\u001b[36m(ClientAppActor pid=14088)\u001b[0m Client's model: ETM_Client1\n",
      "\u001b[36m(ClientAppActor pid=14088)\u001b[0m Epoch: 000 | Loss: 748.659912109375\n"
     ]
    },
    {
     "name": "stderr",
     "output_type": "stream",
     "text": [
      "\u001b[92mINFO \u001b[0m:      aggregate_evaluate: received 2 results and 0 failures\n",
      "\u001b[92mINFO \u001b[0m:      \n",
      "\u001b[92mINFO \u001b[0m:      [ROUND 47]\n",
      "\u001b[92mINFO \u001b[0m:      configure_fit: strategy sampled 2 clients (out of 2)\n"
     ]
    },
    {
     "name": "stdout",
     "output_type": "stream",
     "text": [
      "\u001b[36m(ClientAppActor pid=14088)\u001b[0m Client's model: ETM_Client0\n",
      "\u001b[36m(ClientAppActor pid=14088)\u001b[0m Epoch: 000 | Loss: 763.4124145507812\n"
     ]
    },
    {
     "name": "stderr",
     "output_type": "stream",
     "text": [
      "\u001b[92mINFO \u001b[0m:      aggregate_fit: received 2 results and 0 failures\n"
     ]
    },
    {
     "name": "stdout",
     "output_type": "stream",
     "text": [
      "\u001b[36m(ClientAppActor pid=14088)\u001b[0m Client's model: ETM_Client1\n",
      "\u001b[36m(ClientAppActor pid=14088)\u001b[0m Epoch: 000 | Loss: 747.8023681640625\n"
     ]
    },
    {
     "name": "stderr",
     "output_type": "stream",
     "text": [
      "\u001b[92mINFO \u001b[0m:      configure_evaluate: strategy sampled 2 clients (out of 2)\n",
      "\u001b[92mINFO \u001b[0m:      aggregate_evaluate: received 2 results and 0 failures\n",
      "\u001b[92mINFO \u001b[0m:      \n",
      "\u001b[92mINFO \u001b[0m:      [ROUND 48]\n",
      "\u001b[92mINFO \u001b[0m:      configure_fit: strategy sampled 2 clients (out of 2)\n"
     ]
    },
    {
     "name": "stdout",
     "output_type": "stream",
     "text": [
      "\u001b[36m(ClientAppActor pid=14088)\u001b[0m Client's model: ETM_Client0\n",
      "\u001b[36m(ClientAppActor pid=14088)\u001b[0m Epoch: 000 | Loss: 762.842041015625\n"
     ]
    },
    {
     "name": "stderr",
     "output_type": "stream",
     "text": [
      "\u001b[92mINFO \u001b[0m:      aggregate_fit: received 2 results and 0 failures\n",
      "\u001b[92mINFO \u001b[0m:      configure_evaluate: strategy sampled 2 clients (out of 2)\n"
     ]
    },
    {
     "name": "stdout",
     "output_type": "stream",
     "text": [
      "\u001b[36m(ClientAppActor pid=14088)\u001b[0m Client's model: ETM_Client1\n",
      "\u001b[36m(ClientAppActor pid=14088)\u001b[0m Epoch: 000 | Loss: 748.080322265625\n"
     ]
    },
    {
     "name": "stderr",
     "output_type": "stream",
     "text": [
      "\u001b[92mINFO \u001b[0m:      aggregate_evaluate: received 2 results and 0 failures\n",
      "\u001b[92mINFO \u001b[0m:      \n",
      "\u001b[92mINFO \u001b[0m:      [ROUND 49]\n",
      "\u001b[92mINFO \u001b[0m:      configure_fit: strategy sampled 2 clients (out of 2)\n"
     ]
    },
    {
     "name": "stdout",
     "output_type": "stream",
     "text": [
      "\u001b[36m(ClientAppActor pid=14088)\u001b[0m Client's model: ETM_Client0\n",
      "\u001b[36m(ClientAppActor pid=14088)\u001b[0m Epoch: 000 | Loss: 762.78564453125\n"
     ]
    },
    {
     "name": "stderr",
     "output_type": "stream",
     "text": [
      "\u001b[92mINFO \u001b[0m:      aggregate_fit: received 2 results and 0 failures\n",
      "\u001b[92mINFO \u001b[0m:      configure_evaluate: strategy sampled 2 clients (out of 2)\n"
     ]
    },
    {
     "name": "stdout",
     "output_type": "stream",
     "text": [
      "\u001b[36m(ClientAppActor pid=14088)\u001b[0m Client's model: ETM_Client1\n",
      "\u001b[36m(ClientAppActor pid=14088)\u001b[0m Epoch: 000 | Loss: 747.2763061523438\n"
     ]
    },
    {
     "name": "stderr",
     "output_type": "stream",
     "text": [
      "\u001b[92mINFO \u001b[0m:      aggregate_evaluate: received 2 results and 0 failures\n",
      "\u001b[92mINFO \u001b[0m:      \n",
      "\u001b[92mINFO \u001b[0m:      [ROUND 50]\n",
      "\u001b[92mINFO \u001b[0m:      configure_fit: strategy sampled 2 clients (out of 2)\n"
     ]
    },
    {
     "name": "stdout",
     "output_type": "stream",
     "text": [
      "\u001b[36m(ClientAppActor pid=14088)\u001b[0m Client's model: ETM_Client0\n",
      "\u001b[36m(ClientAppActor pid=14088)\u001b[0m Epoch: 000 | Loss: 762.3798828125\n"
     ]
    },
    {
     "name": "stderr",
     "output_type": "stream",
     "text": [
      "\u001b[92mINFO \u001b[0m:      aggregate_fit: received 2 results and 0 failures\n"
     ]
    },
    {
     "name": "stdout",
     "output_type": "stream",
     "text": [
      "\u001b[36m(ClientAppActor pid=14088)\u001b[0m Client's model: ETM_Client1\n",
      "\u001b[36m(ClientAppActor pid=14088)\u001b[0m Epoch: 000 | Loss: 747.000732421875\n",
      "Saving round 50 aggregated_ndarrays...\n"
     ]
    },
    {
     "name": "stderr",
     "output_type": "stream",
     "text": [
      "\u001b[92mINFO \u001b[0m:      configure_evaluate: strategy sampled 2 clients (out of 2)\n",
      "\u001b[92mINFO \u001b[0m:      aggregate_evaluate: received 2 results and 0 failures\n",
      "\u001b[92mINFO \u001b[0m:      \n",
      "\u001b[92mINFO \u001b[0m:      [ROUND 51]\n",
      "\u001b[92mINFO \u001b[0m:      configure_fit: strategy sampled 2 clients (out of 2)\n"
     ]
    },
    {
     "name": "stdout",
     "output_type": "stream",
     "text": [
      "\u001b[36m(ClientAppActor pid=14088)\u001b[0m Client's model: ETM_Client0\n",
      "\u001b[36m(ClientAppActor pid=14088)\u001b[0m Epoch: 000 | Loss: 762.0755615234375\n"
     ]
    },
    {
     "name": "stderr",
     "output_type": "stream",
     "text": [
      "\u001b[92mINFO \u001b[0m:      aggregate_fit: received 2 results and 0 failures\n",
      "\u001b[92mINFO \u001b[0m:      configure_evaluate: strategy sampled 2 clients (out of 2)\n"
     ]
    },
    {
     "name": "stdout",
     "output_type": "stream",
     "text": [
      "\u001b[36m(ClientAppActor pid=14088)\u001b[0m Client's model: ETM_Client1\n",
      "\u001b[36m(ClientAppActor pid=14088)\u001b[0m Epoch: 000 | Loss: 746.869873046875\n"
     ]
    },
    {
     "name": "stderr",
     "output_type": "stream",
     "text": [
      "\u001b[92mINFO \u001b[0m:      aggregate_evaluate: received 2 results and 0 failures\n",
      "\u001b[92mINFO \u001b[0m:      \n",
      "\u001b[92mINFO \u001b[0m:      [ROUND 52]\n",
      "\u001b[92mINFO \u001b[0m:      configure_fit: strategy sampled 2 clients (out of 2)\n"
     ]
    },
    {
     "name": "stdout",
     "output_type": "stream",
     "text": [
      "\u001b[36m(ClientAppActor pid=14088)\u001b[0m Client's model: ETM_Client0\n",
      "\u001b[36m(ClientAppActor pid=14088)\u001b[0m Epoch: 000 | Loss: 761.7197875976562\n"
     ]
    },
    {
     "name": "stderr",
     "output_type": "stream",
     "text": [
      "\u001b[92mINFO \u001b[0m:      aggregate_fit: received 2 results and 0 failures\n",
      "\u001b[92mINFO \u001b[0m:      configure_evaluate: strategy sampled 2 clients (out of 2)\n"
     ]
    },
    {
     "name": "stdout",
     "output_type": "stream",
     "text": [
      "\u001b[36m(ClientAppActor pid=14088)\u001b[0m Client's model: ETM_Client1\n",
      "\u001b[36m(ClientAppActor pid=14088)\u001b[0m Epoch: 000 | Loss: 746.248779296875\n"
     ]
    },
    {
     "name": "stderr",
     "output_type": "stream",
     "text": [
      "\u001b[92mINFO \u001b[0m:      aggregate_evaluate: received 2 results and 0 failures\n",
      "\u001b[92mINFO \u001b[0m:      \n",
      "\u001b[92mINFO \u001b[0m:      [ROUND 53]\n",
      "\u001b[92mINFO \u001b[0m:      configure_fit: strategy sampled 2 clients (out of 2)\n"
     ]
    },
    {
     "name": "stdout",
     "output_type": "stream",
     "text": [
      "\u001b[36m(ClientAppActor pid=14088)\u001b[0m Client's model: ETM_Client0\n",
      "\u001b[36m(ClientAppActor pid=14088)\u001b[0m Epoch: 000 | Loss: 761.4398193359375\n",
      "\u001b[36m(ClientAppActor pid=14088)\u001b[0m Client's model: ETM_Client1\n",
      "\u001b[36m(ClientAppActor pid=14088)\u001b[0m Epoch: 000 | Loss: 746.354248046875\n"
     ]
    },
    {
     "name": "stderr",
     "output_type": "stream",
     "text": [
      "\u001b[92mINFO \u001b[0m:      aggregate_fit: received 2 results and 0 failures\n",
      "\u001b[92mINFO \u001b[0m:      configure_evaluate: strategy sampled 2 clients (out of 2)\n",
      "\u001b[92mINFO \u001b[0m:      aggregate_evaluate: received 2 results and 0 failures\n",
      "\u001b[92mINFO \u001b[0m:      \n",
      "\u001b[92mINFO \u001b[0m:      [ROUND 54]\n",
      "\u001b[92mINFO \u001b[0m:      configure_fit: strategy sampled 2 clients (out of 2)\n"
     ]
    },
    {
     "name": "stdout",
     "output_type": "stream",
     "text": [
      "\u001b[36m(ClientAppActor pid=14088)\u001b[0m Client's model: ETM_Client0\n",
      "\u001b[36m(ClientAppActor pid=14088)\u001b[0m Epoch: 000 | Loss: 761.2236328125\n"
     ]
    },
    {
     "name": "stderr",
     "output_type": "stream",
     "text": [
      "\u001b[92mINFO \u001b[0m:      aggregate_fit: received 2 results and 0 failures\n",
      "\u001b[92mINFO \u001b[0m:      configure_evaluate: strategy sampled 2 clients (out of 2)\n"
     ]
    },
    {
     "name": "stdout",
     "output_type": "stream",
     "text": [
      "\u001b[36m(ClientAppActor pid=14088)\u001b[0m Client's model: ETM_Client1\n",
      "\u001b[36m(ClientAppActor pid=14088)\u001b[0m Epoch: 000 | Loss: 746.0966796875\n"
     ]
    },
    {
     "name": "stderr",
     "output_type": "stream",
     "text": [
      "\u001b[92mINFO \u001b[0m:      aggregate_evaluate: received 2 results and 0 failures\n",
      "\u001b[92mINFO \u001b[0m:      \n",
      "\u001b[92mINFO \u001b[0m:      [ROUND 55]\n",
      "\u001b[92mINFO \u001b[0m:      configure_fit: strategy sampled 2 clients (out of 2)\n"
     ]
    },
    {
     "name": "stdout",
     "output_type": "stream",
     "text": [
      "\u001b[36m(ClientAppActor pid=14088)\u001b[0m Client's model: ETM_Client0\n",
      "\u001b[36m(ClientAppActor pid=14088)\u001b[0m Epoch: 000 | Loss: 760.9050903320312\n"
     ]
    },
    {
     "name": "stderr",
     "output_type": "stream",
     "text": [
      "\u001b[92mINFO \u001b[0m:      aggregate_fit: received 2 results and 0 failures\n",
      "\u001b[92mINFO \u001b[0m:      configure_evaluate: strategy sampled 2 clients (out of 2)\n"
     ]
    },
    {
     "name": "stdout",
     "output_type": "stream",
     "text": [
      "\u001b[36m(ClientAppActor pid=14088)\u001b[0m Client's model: ETM_Client1\n",
      "\u001b[36m(ClientAppActor pid=14088)\u001b[0m Epoch: 000 | Loss: 745.7877807617188\n"
     ]
    },
    {
     "name": "stderr",
     "output_type": "stream",
     "text": [
      "\u001b[92mINFO \u001b[0m:      aggregate_evaluate: received 2 results and 0 failures\n",
      "\u001b[92mINFO \u001b[0m:      \n",
      "\u001b[92mINFO \u001b[0m:      [ROUND 56]\n",
      "\u001b[92mINFO \u001b[0m:      configure_fit: strategy sampled 2 clients (out of 2)\n"
     ]
    },
    {
     "name": "stdout",
     "output_type": "stream",
     "text": [
      "\u001b[36m(ClientAppActor pid=14088)\u001b[0m Client's model: ETM_Client0\n",
      "\u001b[36m(ClientAppActor pid=14088)\u001b[0m Epoch: 000 | Loss: 760.8388061523438\n",
      "\u001b[36m(ClientAppActor pid=14088)\u001b[0m Client's model: ETM_Client1\n",
      "\u001b[36m(ClientAppActor pid=14088)\u001b[0m Epoch: 000 | Loss: 745.0802612304688\n"
     ]
    },
    {
     "name": "stderr",
     "output_type": "stream",
     "text": [
      "\u001b[92mINFO \u001b[0m:      aggregate_fit: received 2 results and 0 failures\n",
      "\u001b[92mINFO \u001b[0m:      configure_evaluate: strategy sampled 2 clients (out of 2)\n",
      "\u001b[92mINFO \u001b[0m:      aggregate_evaluate: received 2 results and 0 failures\n",
      "\u001b[92mINFO \u001b[0m:      \n",
      "\u001b[92mINFO \u001b[0m:      [ROUND 57]\n",
      "\u001b[92mINFO \u001b[0m:      configure_fit: strategy sampled 2 clients (out of 2)\n"
     ]
    },
    {
     "name": "stdout",
     "output_type": "stream",
     "text": [
      "\u001b[36m(ClientAppActor pid=14088)\u001b[0m Client's model: ETM_Client0\n",
      "\u001b[36m(ClientAppActor pid=14088)\u001b[0m Epoch: 000 | Loss: 760.309814453125\n"
     ]
    },
    {
     "name": "stderr",
     "output_type": "stream",
     "text": [
      "\u001b[92mINFO \u001b[0m:      aggregate_fit: received 2 results and 0 failures\n",
      "\u001b[92mINFO \u001b[0m:      configure_evaluate: strategy sampled 2 clients (out of 2)\n"
     ]
    },
    {
     "name": "stdout",
     "output_type": "stream",
     "text": [
      "\u001b[36m(ClientAppActor pid=14088)\u001b[0m Client's model: ETM_Client1\n",
      "\u001b[36m(ClientAppActor pid=14088)\u001b[0m Epoch: 000 | Loss: 745.3005981445312\n"
     ]
    },
    {
     "name": "stderr",
     "output_type": "stream",
     "text": [
      "\u001b[92mINFO \u001b[0m:      aggregate_evaluate: received 2 results and 0 failures\n",
      "\u001b[92mINFO \u001b[0m:      \n",
      "\u001b[92mINFO \u001b[0m:      [ROUND 58]\n",
      "\u001b[92mINFO \u001b[0m:      configure_fit: strategy sampled 2 clients (out of 2)\n"
     ]
    },
    {
     "name": "stdout",
     "output_type": "stream",
     "text": [
      "\u001b[36m(ClientAppActor pid=14088)\u001b[0m Client's model: ETM_Client0\n",
      "\u001b[36m(ClientAppActor pid=14088)\u001b[0m Epoch: 000 | Loss: 760.0975952148438\n"
     ]
    },
    {
     "name": "stderr",
     "output_type": "stream",
     "text": [
      "\u001b[92mINFO \u001b[0m:      aggregate_fit: received 2 results and 0 failures\n"
     ]
    },
    {
     "name": "stdout",
     "output_type": "stream",
     "text": [
      "\u001b[36m(ClientAppActor pid=14088)\u001b[0m Client's model: ETM_Client1\n",
      "\u001b[36m(ClientAppActor pid=14088)\u001b[0m Epoch: 000 | Loss: 744.8994750976562\n"
     ]
    },
    {
     "name": "stderr",
     "output_type": "stream",
     "text": [
      "\u001b[92mINFO \u001b[0m:      configure_evaluate: strategy sampled 2 clients (out of 2)\n",
      "\u001b[92mINFO \u001b[0m:      aggregate_evaluate: received 2 results and 0 failures\n",
      "\u001b[92mINFO \u001b[0m:      \n",
      "\u001b[92mINFO \u001b[0m:      [ROUND 59]\n",
      "\u001b[92mINFO \u001b[0m:      configure_fit: strategy sampled 2 clients (out of 2)\n"
     ]
    },
    {
     "name": "stdout",
     "output_type": "stream",
     "text": [
      "\u001b[36m(ClientAppActor pid=14088)\u001b[0m Client's model: ETM_Client0\n",
      "\u001b[36m(ClientAppActor pid=14088)\u001b[0m Epoch: 000 | Loss: 759.964111328125\n"
     ]
    },
    {
     "name": "stderr",
     "output_type": "stream",
     "text": [
      "\u001b[92mINFO \u001b[0m:      aggregate_fit: received 2 results and 0 failures\n",
      "\u001b[92mINFO \u001b[0m:      configure_evaluate: strategy sampled 2 clients (out of 2)\n"
     ]
    },
    {
     "name": "stdout",
     "output_type": "stream",
     "text": [
      "\u001b[36m(ClientAppActor pid=14088)\u001b[0m Client's model: ETM_Client1\n",
      "\u001b[36m(ClientAppActor pid=14088)\u001b[0m Epoch: 000 | Loss: 744.8269653320312\n"
     ]
    },
    {
     "name": "stderr",
     "output_type": "stream",
     "text": [
      "\u001b[92mINFO \u001b[0m:      aggregate_evaluate: received 2 results and 0 failures\n",
      "\u001b[92mINFO \u001b[0m:      \n",
      "\u001b[92mINFO \u001b[0m:      [ROUND 60]\n",
      "\u001b[92mINFO \u001b[0m:      configure_fit: strategy sampled 2 clients (out of 2)\n"
     ]
    },
    {
     "name": "stdout",
     "output_type": "stream",
     "text": [
      "\u001b[36m(ClientAppActor pid=14088)\u001b[0m Client's model: ETM_Client0\n",
      "\u001b[36m(ClientAppActor pid=14088)\u001b[0m Epoch: 000 | Loss: 759.8245239257812\n"
     ]
    },
    {
     "name": "stderr",
     "output_type": "stream",
     "text": [
      "\u001b[92mINFO \u001b[0m:      aggregate_fit: received 2 results and 0 failures\n"
     ]
    },
    {
     "name": "stdout",
     "output_type": "stream",
     "text": [
      "\u001b[36m(ClientAppActor pid=14088)\u001b[0m Client's model: ETM_Client1\n",
      "\u001b[36m(ClientAppActor pid=14088)\u001b[0m Epoch: 000 | Loss: 744.6351318359375\n",
      "Saving round 60 aggregated_ndarrays...\n"
     ]
    },
    {
     "name": "stderr",
     "output_type": "stream",
     "text": [
      "\u001b[92mINFO \u001b[0m:      configure_evaluate: strategy sampled 2 clients (out of 2)\n",
      "\u001b[92mINFO \u001b[0m:      aggregate_evaluate: received 2 results and 0 failures\n",
      "\u001b[92mINFO \u001b[0m:      \n",
      "\u001b[92mINFO \u001b[0m:      [ROUND 61]\n",
      "\u001b[92mINFO \u001b[0m:      configure_fit: strategy sampled 2 clients (out of 2)\n"
     ]
    },
    {
     "name": "stdout",
     "output_type": "stream",
     "text": [
      "\u001b[36m(ClientAppActor pid=14088)\u001b[0m Client's model: ETM_Client0\n",
      "\u001b[36m(ClientAppActor pid=14088)\u001b[0m Epoch: 000 | Loss: 759.628173828125\n"
     ]
    },
    {
     "name": "stderr",
     "output_type": "stream",
     "text": [
      "\u001b[92mINFO \u001b[0m:      aggregate_fit: received 2 results and 0 failures\n"
     ]
    },
    {
     "name": "stdout",
     "output_type": "stream",
     "text": [
      "\u001b[36m(ClientAppActor pid=14088)\u001b[0m Client's model: ETM_Client1\n",
      "\u001b[36m(ClientAppActor pid=14088)\u001b[0m Epoch: 000 | Loss: 744.298828125\n"
     ]
    },
    {
     "name": "stderr",
     "output_type": "stream",
     "text": [
      "\u001b[92mINFO \u001b[0m:      configure_evaluate: strategy sampled 2 clients (out of 2)\n",
      "\u001b[92mINFO \u001b[0m:      aggregate_evaluate: received 2 results and 0 failures\n",
      "\u001b[92mINFO \u001b[0m:      \n",
      "\u001b[92mINFO \u001b[0m:      [ROUND 62]\n",
      "\u001b[92mINFO \u001b[0m:      configure_fit: strategy sampled 2 clients (out of 2)\n"
     ]
    },
    {
     "name": "stdout",
     "output_type": "stream",
     "text": [
      "\u001b[36m(ClientAppActor pid=14088)\u001b[0m Client's model: ETM_Client0\n",
      "\u001b[36m(ClientAppActor pid=14088)\u001b[0m Epoch: 000 | Loss: 759.2808837890625\n"
     ]
    },
    {
     "name": "stderr",
     "output_type": "stream",
     "text": [
      "\u001b[92mINFO \u001b[0m:      aggregate_fit: received 2 results and 0 failures\n",
      "\u001b[92mINFO \u001b[0m:      configure_evaluate: strategy sampled 2 clients (out of 2)\n"
     ]
    },
    {
     "name": "stdout",
     "output_type": "stream",
     "text": [
      "\u001b[36m(ClientAppActor pid=14088)\u001b[0m Client's model: ETM_Client1\n",
      "\u001b[36m(ClientAppActor pid=14088)\u001b[0m Epoch: 000 | Loss: 743.9973754882812\n"
     ]
    },
    {
     "name": "stderr",
     "output_type": "stream",
     "text": [
      "\u001b[92mINFO \u001b[0m:      aggregate_evaluate: received 2 results and 0 failures\n",
      "\u001b[92mINFO \u001b[0m:      \n",
      "\u001b[92mINFO \u001b[0m:      [ROUND 63]\n",
      "\u001b[92mINFO \u001b[0m:      configure_fit: strategy sampled 2 clients (out of 2)\n"
     ]
    },
    {
     "name": "stdout",
     "output_type": "stream",
     "text": [
      "\u001b[36m(ClientAppActor pid=14088)\u001b[0m Client's model: ETM_Client0\n",
      "\u001b[36m(ClientAppActor pid=14088)\u001b[0m Epoch: 000 | Loss: 759.7045288085938\n"
     ]
    },
    {
     "name": "stderr",
     "output_type": "stream",
     "text": [
      "\u001b[92mINFO \u001b[0m:      aggregate_fit: received 2 results and 0 failures\n",
      "\u001b[92mINFO \u001b[0m:      configure_evaluate: strategy sampled 2 clients (out of 2)\n"
     ]
    },
    {
     "name": "stdout",
     "output_type": "stream",
     "text": [
      "\u001b[36m(ClientAppActor pid=14088)\u001b[0m Client's model: ETM_Client1\n",
      "\u001b[36m(ClientAppActor pid=14088)\u001b[0m Epoch: 000 | Loss: 743.9991455078125\n"
     ]
    },
    {
     "name": "stderr",
     "output_type": "stream",
     "text": [
      "\u001b[92mINFO \u001b[0m:      aggregate_evaluate: received 2 results and 0 failures\n",
      "\u001b[92mINFO \u001b[0m:      \n",
      "\u001b[92mINFO \u001b[0m:      [ROUND 64]\n",
      "\u001b[92mINFO \u001b[0m:      configure_fit: strategy sampled 2 clients (out of 2)\n"
     ]
    },
    {
     "name": "stdout",
     "output_type": "stream",
     "text": [
      "\u001b[36m(ClientAppActor pid=14088)\u001b[0m Client's model: ETM_Client0\n",
      "\u001b[36m(ClientAppActor pid=14088)\u001b[0m Epoch: 000 | Loss: 759.1370239257812\n"
     ]
    },
    {
     "name": "stderr",
     "output_type": "stream",
     "text": [
      "\u001b[92mINFO \u001b[0m:      aggregate_fit: received 2 results and 0 failures\n",
      "\u001b[92mINFO \u001b[0m:      configure_evaluate: strategy sampled 2 clients (out of 2)\n"
     ]
    },
    {
     "name": "stdout",
     "output_type": "stream",
     "text": [
      "\u001b[36m(ClientAppActor pid=14088)\u001b[0m Client's model: ETM_Client1\n",
      "\u001b[36m(ClientAppActor pid=14088)\u001b[0m Epoch: 000 | Loss: 743.7012329101562\n"
     ]
    },
    {
     "name": "stderr",
     "output_type": "stream",
     "text": [
      "\u001b[92mINFO \u001b[0m:      aggregate_evaluate: received 2 results and 0 failures\n",
      "\u001b[92mINFO \u001b[0m:      \n",
      "\u001b[92mINFO \u001b[0m:      [ROUND 65]\n",
      "\u001b[92mINFO \u001b[0m:      configure_fit: strategy sampled 2 clients (out of 2)\n"
     ]
    },
    {
     "name": "stdout",
     "output_type": "stream",
     "text": [
      "\u001b[36m(ClientAppActor pid=14088)\u001b[0m Client's model: ETM_Client0\n",
      "\u001b[36m(ClientAppActor pid=14088)\u001b[0m Epoch: 000 | Loss: 759.0228271484375\n"
     ]
    },
    {
     "name": "stderr",
     "output_type": "stream",
     "text": [
      "\u001b[92mINFO \u001b[0m:      aggregate_fit: received 2 results and 0 failures\n",
      "\u001b[92mINFO \u001b[0m:      configure_evaluate: strategy sampled 2 clients (out of 2)\n"
     ]
    },
    {
     "name": "stdout",
     "output_type": "stream",
     "text": [
      "\u001b[36m(ClientAppActor pid=14088)\u001b[0m Client's model: ETM_Client1\n",
      "\u001b[36m(ClientAppActor pid=14088)\u001b[0m Epoch: 000 | Loss: 743.561279296875\n"
     ]
    },
    {
     "name": "stderr",
     "output_type": "stream",
     "text": [
      "\u001b[92mINFO \u001b[0m:      aggregate_evaluate: received 2 results and 0 failures\n",
      "\u001b[92mINFO \u001b[0m:      \n",
      "\u001b[92mINFO \u001b[0m:      [ROUND 66]\n",
      "\u001b[92mINFO \u001b[0m:      configure_fit: strategy sampled 2 clients (out of 2)\n"
     ]
    },
    {
     "name": "stdout",
     "output_type": "stream",
     "text": [
      "\u001b[36m(ClientAppActor pid=14088)\u001b[0m Client's model: ETM_Client0\n",
      "\u001b[36m(ClientAppActor pid=14088)\u001b[0m Epoch: 000 | Loss: 758.8134765625\n"
     ]
    },
    {
     "name": "stderr",
     "output_type": "stream",
     "text": [
      "\u001b[92mINFO \u001b[0m:      aggregate_fit: received 2 results and 0 failures\n",
      "\u001b[92mINFO \u001b[0m:      configure_evaluate: strategy sampled 2 clients (out of 2)\n"
     ]
    },
    {
     "name": "stdout",
     "output_type": "stream",
     "text": [
      "\u001b[36m(ClientAppActor pid=14088)\u001b[0m Client's model: ETM_Client1\n",
      "\u001b[36m(ClientAppActor pid=14088)\u001b[0m Epoch: 000 | Loss: 743.450927734375\n"
     ]
    },
    {
     "name": "stderr",
     "output_type": "stream",
     "text": [
      "\u001b[92mINFO \u001b[0m:      aggregate_evaluate: received 2 results and 0 failures\n",
      "\u001b[92mINFO \u001b[0m:      \n",
      "\u001b[92mINFO \u001b[0m:      [ROUND 67]\n",
      "\u001b[92mINFO \u001b[0m:      configure_fit: strategy sampled 2 clients (out of 2)\n"
     ]
    },
    {
     "name": "stdout",
     "output_type": "stream",
     "text": [
      "\u001b[36m(ClientAppActor pid=14088)\u001b[0m Client's model: ETM_Client0\n",
      "\u001b[36m(ClientAppActor pid=14088)\u001b[0m Epoch: 000 | Loss: 758.6469116210938\n"
     ]
    },
    {
     "name": "stderr",
     "output_type": "stream",
     "text": [
      "\u001b[92mINFO \u001b[0m:      aggregate_fit: received 2 results and 0 failures\n",
      "\u001b[92mINFO \u001b[0m:      configure_evaluate: strategy sampled 2 clients (out of 2)\n"
     ]
    },
    {
     "name": "stdout",
     "output_type": "stream",
     "text": [
      "\u001b[36m(ClientAppActor pid=14088)\u001b[0m Client's model: ETM_Client1\n",
      "\u001b[36m(ClientAppActor pid=14088)\u001b[0m Epoch: 000 | Loss: 743.4725952148438\n"
     ]
    },
    {
     "name": "stderr",
     "output_type": "stream",
     "text": [
      "\u001b[92mINFO \u001b[0m:      aggregate_evaluate: received 2 results and 0 failures\n",
      "\u001b[92mINFO \u001b[0m:      \n",
      "\u001b[92mINFO \u001b[0m:      [ROUND 68]\n",
      "\u001b[92mINFO \u001b[0m:      configure_fit: strategy sampled 2 clients (out of 2)\n"
     ]
    },
    {
     "name": "stdout",
     "output_type": "stream",
     "text": [
      "\u001b[36m(ClientAppActor pid=14088)\u001b[0m Client's model: ETM_Client0\n",
      "\u001b[36m(ClientAppActor pid=14088)\u001b[0m Epoch: 000 | Loss: 758.3569946289062\n"
     ]
    },
    {
     "name": "stderr",
     "output_type": "stream",
     "text": [
      "\u001b[92mINFO \u001b[0m:      aggregate_fit: received 2 results and 0 failures\n"
     ]
    },
    {
     "name": "stdout",
     "output_type": "stream",
     "text": [
      "\u001b[36m(ClientAppActor pid=14088)\u001b[0m Client's model: ETM_Client1\n",
      "\u001b[36m(ClientAppActor pid=14088)\u001b[0m Epoch: 000 | Loss: 743.3333740234375\n"
     ]
    },
    {
     "name": "stderr",
     "output_type": "stream",
     "text": [
      "\u001b[92mINFO \u001b[0m:      configure_evaluate: strategy sampled 2 clients (out of 2)\n",
      "\u001b[92mINFO \u001b[0m:      aggregate_evaluate: received 2 results and 0 failures\n",
      "\u001b[92mINFO \u001b[0m:      \n",
      "\u001b[92mINFO \u001b[0m:      [ROUND 69]\n",
      "\u001b[92mINFO \u001b[0m:      configure_fit: strategy sampled 2 clients (out of 2)\n"
     ]
    },
    {
     "name": "stdout",
     "output_type": "stream",
     "text": [
      "\u001b[36m(ClientAppActor pid=14088)\u001b[0m Client's model: ETM_Client0\n",
      "\u001b[36m(ClientAppActor pid=14088)\u001b[0m Epoch: 000 | Loss: 758.4012451171875\n"
     ]
    },
    {
     "name": "stderr",
     "output_type": "stream",
     "text": [
      "\u001b[92mINFO \u001b[0m:      aggregate_fit: received 2 results and 0 failures\n",
      "\u001b[92mINFO \u001b[0m:      configure_evaluate: strategy sampled 2 clients (out of 2)\n"
     ]
    },
    {
     "name": "stdout",
     "output_type": "stream",
     "text": [
      "\u001b[36m(ClientAppActor pid=14088)\u001b[0m Client's model: ETM_Client1\n",
      "\u001b[36m(ClientAppActor pid=14088)\u001b[0m Epoch: 000 | Loss: 743.1318969726562\n"
     ]
    },
    {
     "name": "stderr",
     "output_type": "stream",
     "text": [
      "\u001b[92mINFO \u001b[0m:      aggregate_evaluate: received 2 results and 0 failures\n",
      "\u001b[92mINFO \u001b[0m:      \n",
      "\u001b[92mINFO \u001b[0m:      [ROUND 70]\n",
      "\u001b[92mINFO \u001b[0m:      configure_fit: strategy sampled 2 clients (out of 2)\n"
     ]
    },
    {
     "name": "stdout",
     "output_type": "stream",
     "text": [
      "\u001b[36m(ClientAppActor pid=14088)\u001b[0m Client's model: ETM_Client0\n",
      "\u001b[36m(ClientAppActor pid=14088)\u001b[0m Epoch: 000 | Loss: 758.1954956054688\n"
     ]
    },
    {
     "name": "stderr",
     "output_type": "stream",
     "text": [
      "\u001b[92mINFO \u001b[0m:      aggregate_fit: received 2 results and 0 failures\n"
     ]
    },
    {
     "name": "stdout",
     "output_type": "stream",
     "text": [
      "\u001b[36m(ClientAppActor pid=14088)\u001b[0m Client's model: ETM_Client1\n",
      "\u001b[36m(ClientAppActor pid=14088)\u001b[0m Epoch: 000 | Loss: 742.898681640625\n",
      "Saving round 70 aggregated_ndarrays...\n"
     ]
    },
    {
     "name": "stderr",
     "output_type": "stream",
     "text": [
      "\u001b[92mINFO \u001b[0m:      configure_evaluate: strategy sampled 2 clients (out of 2)\n",
      "\u001b[92mINFO \u001b[0m:      aggregate_evaluate: received 2 results and 0 failures\n",
      "\u001b[92mINFO \u001b[0m:      \n",
      "\u001b[92mINFO \u001b[0m:      [ROUND 71]\n",
      "\u001b[92mINFO \u001b[0m:      configure_fit: strategy sampled 2 clients (out of 2)\n"
     ]
    },
    {
     "name": "stdout",
     "output_type": "stream",
     "text": [
      "\u001b[36m(ClientAppActor pid=14088)\u001b[0m Client's model: ETM_Client0\n",
      "\u001b[36m(ClientAppActor pid=14088)\u001b[0m Epoch: 000 | Loss: 758.189697265625\n",
      "\u001b[36m(ClientAppActor pid=14088)\u001b[0m Client's model: ETM_Client1\n",
      "\u001b[36m(ClientAppActor pid=14088)\u001b[0m Epoch: 000 | Loss: 743.0054931640625\n"
     ]
    },
    {
     "name": "stderr",
     "output_type": "stream",
     "text": [
      "\u001b[92mINFO \u001b[0m:      aggregate_fit: received 2 results and 0 failures\n",
      "\u001b[92mINFO \u001b[0m:      configure_evaluate: strategy sampled 2 clients (out of 2)\n",
      "\u001b[92mINFO \u001b[0m:      aggregate_evaluate: received 2 results and 0 failures\n",
      "\u001b[92mINFO \u001b[0m:      \n",
      "\u001b[92mINFO \u001b[0m:      [ROUND 72]\n",
      "\u001b[92mINFO \u001b[0m:      configure_fit: strategy sampled 2 clients (out of 2)\n"
     ]
    },
    {
     "name": "stdout",
     "output_type": "stream",
     "text": [
      "\u001b[36m(ClientAppActor pid=14088)\u001b[0m Client's model: ETM_Client0\n",
      "\u001b[36m(ClientAppActor pid=14088)\u001b[0m Epoch: 000 | Loss: 758.1984252929688\n",
      "\u001b[36m(ClientAppActor pid=14088)\u001b[0m Client's model: ETM_Client1\n",
      "\u001b[36m(ClientAppActor pid=14088)\u001b[0m Epoch: 000 | Loss: 742.8251953125\n"
     ]
    },
    {
     "name": "stderr",
     "output_type": "stream",
     "text": [
      "\u001b[92mINFO \u001b[0m:      aggregate_fit: received 2 results and 0 failures\n",
      "\u001b[92mINFO \u001b[0m:      configure_evaluate: strategy sampled 2 clients (out of 2)\n",
      "\u001b[92mINFO \u001b[0m:      aggregate_evaluate: received 2 results and 0 failures\n",
      "\u001b[92mINFO \u001b[0m:      \n",
      "\u001b[92mINFO \u001b[0m:      [ROUND 73]\n",
      "\u001b[92mINFO \u001b[0m:      configure_fit: strategy sampled 2 clients (out of 2)\n"
     ]
    },
    {
     "name": "stdout",
     "output_type": "stream",
     "text": [
      "\u001b[36m(ClientAppActor pid=14088)\u001b[0m Client's model: ETM_Client0\n",
      "\u001b[36m(ClientAppActor pid=14088)\u001b[0m Epoch: 000 | Loss: 758.1116333007812\n"
     ]
    },
    {
     "name": "stderr",
     "output_type": "stream",
     "text": [
      "\u001b[92mINFO \u001b[0m:      aggregate_fit: received 2 results and 0 failures\n"
     ]
    },
    {
     "name": "stdout",
     "output_type": "stream",
     "text": [
      "\u001b[36m(ClientAppActor pid=14088)\u001b[0m Client's model: ETM_Client1\n",
      "\u001b[36m(ClientAppActor pid=14088)\u001b[0m Epoch: 000 | Loss: 742.7073364257812\n"
     ]
    },
    {
     "name": "stderr",
     "output_type": "stream",
     "text": [
      "\u001b[92mINFO \u001b[0m:      configure_evaluate: strategy sampled 2 clients (out of 2)\n",
      "\u001b[92mINFO \u001b[0m:      aggregate_evaluate: received 2 results and 0 failures\n",
      "\u001b[92mINFO \u001b[0m:      \n",
      "\u001b[92mINFO \u001b[0m:      [ROUND 74]\n",
      "\u001b[92mINFO \u001b[0m:      configure_fit: strategy sampled 2 clients (out of 2)\n"
     ]
    },
    {
     "name": "stdout",
     "output_type": "stream",
     "text": [
      "\u001b[36m(ClientAppActor pid=14088)\u001b[0m Client's model: ETM_Client0\n",
      "\u001b[36m(ClientAppActor pid=14088)\u001b[0m Epoch: 000 | Loss: 757.86669921875\n"
     ]
    },
    {
     "name": "stderr",
     "output_type": "stream",
     "text": [
      "\u001b[92mINFO \u001b[0m:      aggregate_fit: received 2 results and 0 failures\n",
      "\u001b[92mINFO \u001b[0m:      configure_evaluate: strategy sampled 2 clients (out of 2)\n"
     ]
    },
    {
     "name": "stdout",
     "output_type": "stream",
     "text": [
      "\u001b[36m(ClientAppActor pid=14088)\u001b[0m Client's model: ETM_Client1\n",
      "\u001b[36m(ClientAppActor pid=14088)\u001b[0m Epoch: 000 | Loss: 742.6976318359375\n"
     ]
    },
    {
     "name": "stderr",
     "output_type": "stream",
     "text": [
      "\u001b[92mINFO \u001b[0m:      aggregate_evaluate: received 2 results and 0 failures\n",
      "\u001b[92mINFO \u001b[0m:      \n",
      "\u001b[92mINFO \u001b[0m:      [ROUND 75]\n",
      "\u001b[92mINFO \u001b[0m:      configure_fit: strategy sampled 2 clients (out of 2)\n"
     ]
    },
    {
     "name": "stdout",
     "output_type": "stream",
     "text": [
      "\u001b[36m(ClientAppActor pid=14088)\u001b[0m Client's model: ETM_Client0\n",
      "\u001b[36m(ClientAppActor pid=14088)\u001b[0m Epoch: 000 | Loss: 757.5735473632812\n"
     ]
    },
    {
     "name": "stderr",
     "output_type": "stream",
     "text": [
      "\u001b[92mINFO \u001b[0m:      aggregate_fit: received 2 results and 0 failures\n"
     ]
    },
    {
     "name": "stdout",
     "output_type": "stream",
     "text": [
      "\u001b[36m(ClientAppActor pid=14088)\u001b[0m Client's model: ETM_Client1\n",
      "\u001b[36m(ClientAppActor pid=14088)\u001b[0m Epoch: 000 | Loss: 742.48583984375\n"
     ]
    },
    {
     "name": "stderr",
     "output_type": "stream",
     "text": [
      "\u001b[92mINFO \u001b[0m:      configure_evaluate: strategy sampled 2 clients (out of 2)\n",
      "\u001b[92mINFO \u001b[0m:      aggregate_evaluate: received 2 results and 0 failures\n",
      "\u001b[92mINFO \u001b[0m:      \n",
      "\u001b[92mINFO \u001b[0m:      [ROUND 76]\n",
      "\u001b[92mINFO \u001b[0m:      configure_fit: strategy sampled 2 clients (out of 2)\n"
     ]
    },
    {
     "name": "stdout",
     "output_type": "stream",
     "text": [
      "\u001b[36m(ClientAppActor pid=14088)\u001b[0m Client's model: ETM_Client0\n",
      "\u001b[36m(ClientAppActor pid=14088)\u001b[0m Epoch: 000 | Loss: 757.7283935546875\n"
     ]
    },
    {
     "name": "stderr",
     "output_type": "stream",
     "text": [
      "\u001b[92mINFO \u001b[0m:      aggregate_fit: received 2 results and 0 failures\n",
      "\u001b[92mINFO \u001b[0m:      configure_evaluate: strategy sampled 2 clients (out of 2)\n"
     ]
    },
    {
     "name": "stdout",
     "output_type": "stream",
     "text": [
      "\u001b[36m(ClientAppActor pid=14088)\u001b[0m Client's model: ETM_Client1\n",
      "\u001b[36m(ClientAppActor pid=14088)\u001b[0m Epoch: 000 | Loss: 742.3700561523438\n"
     ]
    },
    {
     "name": "stderr",
     "output_type": "stream",
     "text": [
      "\u001b[92mINFO \u001b[0m:      aggregate_evaluate: received 2 results and 0 failures\n",
      "\u001b[92mINFO \u001b[0m:      \n",
      "\u001b[92mINFO \u001b[0m:      [ROUND 77]\n",
      "\u001b[92mINFO \u001b[0m:      configure_fit: strategy sampled 2 clients (out of 2)\n"
     ]
    },
    {
     "name": "stdout",
     "output_type": "stream",
     "text": [
      "\u001b[36m(ClientAppActor pid=14088)\u001b[0m Client's model: ETM_Client0\n",
      "\u001b[36m(ClientAppActor pid=14088)\u001b[0m Epoch: 000 | Loss: 758.0270385742188\n"
     ]
    },
    {
     "name": "stderr",
     "output_type": "stream",
     "text": [
      "\u001b[92mINFO \u001b[0m:      aggregate_fit: received 2 results and 0 failures\n",
      "\u001b[92mINFO \u001b[0m:      configure_evaluate: strategy sampled 2 clients (out of 2)\n"
     ]
    },
    {
     "name": "stdout",
     "output_type": "stream",
     "text": [
      "\u001b[36m(ClientAppActor pid=14088)\u001b[0m Client's model: ETM_Client1\n",
      "\u001b[36m(ClientAppActor pid=14088)\u001b[0m Epoch: 000 | Loss: 742.3049926757812\n"
     ]
    },
    {
     "name": "stderr",
     "output_type": "stream",
     "text": [
      "\u001b[92mINFO \u001b[0m:      aggregate_evaluate: received 2 results and 0 failures\n",
      "\u001b[92mINFO \u001b[0m:      \n",
      "\u001b[92mINFO \u001b[0m:      [ROUND 78]\n",
      "\u001b[92mINFO \u001b[0m:      configure_fit: strategy sampled 2 clients (out of 2)\n"
     ]
    },
    {
     "name": "stdout",
     "output_type": "stream",
     "text": [
      "\u001b[36m(ClientAppActor pid=14088)\u001b[0m Client's model: ETM_Client0\n",
      "\u001b[36m(ClientAppActor pid=14088)\u001b[0m Epoch: 000 | Loss: 757.8634643554688\n"
     ]
    },
    {
     "name": "stderr",
     "output_type": "stream",
     "text": [
      "\u001b[92mINFO \u001b[0m:      aggregate_fit: received 2 results and 0 failures\n",
      "\u001b[92mINFO \u001b[0m:      configure_evaluate: strategy sampled 2 clients (out of 2)\n"
     ]
    },
    {
     "name": "stdout",
     "output_type": "stream",
     "text": [
      "\u001b[36m(ClientAppActor pid=14088)\u001b[0m Client's model: ETM_Client1\n",
      "\u001b[36m(ClientAppActor pid=14088)\u001b[0m Epoch: 000 | Loss: 742.6214599609375\n"
     ]
    },
    {
     "name": "stderr",
     "output_type": "stream",
     "text": [
      "\u001b[92mINFO \u001b[0m:      aggregate_evaluate: received 2 results and 0 failures\n",
      "\u001b[92mINFO \u001b[0m:      \n",
      "\u001b[92mINFO \u001b[0m:      [ROUND 79]\n",
      "\u001b[92mINFO \u001b[0m:      configure_fit: strategy sampled 2 clients (out of 2)\n"
     ]
    },
    {
     "name": "stdout",
     "output_type": "stream",
     "text": [
      "\u001b[36m(ClientAppActor pid=14088)\u001b[0m Client's model: ETM_Client0\n",
      "\u001b[36m(ClientAppActor pid=14088)\u001b[0m Epoch: 000 | Loss: 757.4224243164062\n"
     ]
    },
    {
     "name": "stderr",
     "output_type": "stream",
     "text": [
      "\u001b[92mINFO \u001b[0m:      aggregate_fit: received 2 results and 0 failures\n",
      "\u001b[92mINFO \u001b[0m:      configure_evaluate: strategy sampled 2 clients (out of 2)\n"
     ]
    },
    {
     "name": "stdout",
     "output_type": "stream",
     "text": [
      "\u001b[36m(ClientAppActor pid=14088)\u001b[0m Client's model: ETM_Client1\n",
      "\u001b[36m(ClientAppActor pid=14088)\u001b[0m Epoch: 000 | Loss: 742.4528198242188\n"
     ]
    },
    {
     "name": "stderr",
     "output_type": "stream",
     "text": [
      "\u001b[92mINFO \u001b[0m:      aggregate_evaluate: received 2 results and 0 failures\n",
      "\u001b[92mINFO \u001b[0m:      \n",
      "\u001b[92mINFO \u001b[0m:      [ROUND 80]\n",
      "\u001b[92mINFO \u001b[0m:      configure_fit: strategy sampled 2 clients (out of 2)\n"
     ]
    },
    {
     "name": "stdout",
     "output_type": "stream",
     "text": [
      "\u001b[36m(ClientAppActor pid=14088)\u001b[0m Client's model: ETM_Client0\n",
      "\u001b[36m(ClientAppActor pid=14088)\u001b[0m Epoch: 000 | Loss: 757.2557983398438\n",
      "\u001b[36m(ClientAppActor pid=14088)\u001b[0m Client's model: ETM_Client1\n",
      "\u001b[36m(ClientAppActor pid=14088)\u001b[0m Epoch: 000 | Loss: 742.1895141601562\n"
     ]
    },
    {
     "name": "stderr",
     "output_type": "stream",
     "text": [
      "\u001b[92mINFO \u001b[0m:      aggregate_fit: received 2 results and 0 failures\n",
      "\u001b[92mINFO \u001b[0m:      configure_evaluate: strategy sampled 2 clients (out of 2)\n"
     ]
    },
    {
     "name": "stdout",
     "output_type": "stream",
     "text": [
      "Saving round 80 aggregated_ndarrays...\n"
     ]
    },
    {
     "name": "stderr",
     "output_type": "stream",
     "text": [
      "\u001b[92mINFO \u001b[0m:      aggregate_evaluate: received 2 results and 0 failures\n",
      "\u001b[92mINFO \u001b[0m:      \n",
      "\u001b[92mINFO \u001b[0m:      [ROUND 81]\n",
      "\u001b[92mINFO \u001b[0m:      configure_fit: strategy sampled 2 clients (out of 2)\n"
     ]
    },
    {
     "name": "stdout",
     "output_type": "stream",
     "text": [
      "\u001b[36m(ClientAppActor pid=14088)\u001b[0m Client's model: ETM_Client0\n",
      "\u001b[36m(ClientAppActor pid=14088)\u001b[0m Epoch: 000 | Loss: 757.4306030273438\n"
     ]
    },
    {
     "name": "stderr",
     "output_type": "stream",
     "text": [
      "\u001b[92mINFO \u001b[0m:      aggregate_fit: received 2 results and 0 failures\n",
      "\u001b[92mINFO \u001b[0m:      configure_evaluate: strategy sampled 2 clients (out of 2)\n"
     ]
    },
    {
     "name": "stdout",
     "output_type": "stream",
     "text": [
      "\u001b[36m(ClientAppActor pid=14088)\u001b[0m Client's model: ETM_Client1\n",
      "\u001b[36m(ClientAppActor pid=14088)\u001b[0m Epoch: 000 | Loss: 742.14599609375\n"
     ]
    },
    {
     "name": "stderr",
     "output_type": "stream",
     "text": [
      "\u001b[92mINFO \u001b[0m:      aggregate_evaluate: received 2 results and 0 failures\n",
      "\u001b[92mINFO \u001b[0m:      \n",
      "\u001b[92mINFO \u001b[0m:      [ROUND 82]\n",
      "\u001b[92mINFO \u001b[0m:      configure_fit: strategy sampled 2 clients (out of 2)\n"
     ]
    },
    {
     "name": "stdout",
     "output_type": "stream",
     "text": [
      "\u001b[36m(ClientAppActor pid=14088)\u001b[0m Client's model: ETM_Client0\n",
      "\u001b[36m(ClientAppActor pid=14088)\u001b[0m Epoch: 000 | Loss: 757.3519287109375\n"
     ]
    },
    {
     "name": "stderr",
     "output_type": "stream",
     "text": [
      "\u001b[92mINFO \u001b[0m:      aggregate_fit: received 2 results and 0 failures\n",
      "\u001b[92mINFO \u001b[0m:      configure_evaluate: strategy sampled 2 clients (out of 2)\n"
     ]
    },
    {
     "name": "stdout",
     "output_type": "stream",
     "text": [
      "\u001b[36m(ClientAppActor pid=14088)\u001b[0m Client's model: ETM_Client1\n",
      "\u001b[36m(ClientAppActor pid=14088)\u001b[0m Epoch: 000 | Loss: 742.0822143554688\n"
     ]
    },
    {
     "name": "stderr",
     "output_type": "stream",
     "text": [
      "\u001b[92mINFO \u001b[0m:      aggregate_evaluate: received 2 results and 0 failures\n",
      "\u001b[92mINFO \u001b[0m:      \n",
      "\u001b[92mINFO \u001b[0m:      [ROUND 83]\n",
      "\u001b[92mINFO \u001b[0m:      configure_fit: strategy sampled 2 clients (out of 2)\n"
     ]
    },
    {
     "name": "stdout",
     "output_type": "stream",
     "text": [
      "\u001b[36m(ClientAppActor pid=14088)\u001b[0m Client's model: ETM_Client0\n",
      "\u001b[36m(ClientAppActor pid=14088)\u001b[0m Epoch: 000 | Loss: 757.2223510742188\n"
     ]
    },
    {
     "name": "stderr",
     "output_type": "stream",
     "text": [
      "\u001b[92mINFO \u001b[0m:      aggregate_fit: received 2 results and 0 failures\n",
      "\u001b[92mINFO \u001b[0m:      configure_evaluate: strategy sampled 2 clients (out of 2)\n"
     ]
    },
    {
     "name": "stdout",
     "output_type": "stream",
     "text": [
      "\u001b[36m(ClientAppActor pid=14088)\u001b[0m Client's model: ETM_Client1\n",
      "\u001b[36m(ClientAppActor pid=14088)\u001b[0m Epoch: 000 | Loss: 741.9007568359375\n"
     ]
    },
    {
     "name": "stderr",
     "output_type": "stream",
     "text": [
      "\u001b[92mINFO \u001b[0m:      aggregate_evaluate: received 2 results and 0 failures\n",
      "\u001b[92mINFO \u001b[0m:      \n",
      "\u001b[92mINFO \u001b[0m:      [ROUND 84]\n",
      "\u001b[92mINFO \u001b[0m:      configure_fit: strategy sampled 2 clients (out of 2)\n"
     ]
    },
    {
     "name": "stdout",
     "output_type": "stream",
     "text": [
      "\u001b[36m(ClientAppActor pid=14088)\u001b[0m Client's model: ETM_Client0\n",
      "\u001b[36m(ClientAppActor pid=14088)\u001b[0m Epoch: 000 | Loss: 757.21484375\n"
     ]
    },
    {
     "name": "stderr",
     "output_type": "stream",
     "text": [
      "\u001b[92mINFO \u001b[0m:      aggregate_fit: received 2 results and 0 failures\n",
      "\u001b[92mINFO \u001b[0m:      configure_evaluate: strategy sampled 2 clients (out of 2)\n"
     ]
    },
    {
     "name": "stdout",
     "output_type": "stream",
     "text": [
      "\u001b[36m(ClientAppActor pid=14088)\u001b[0m Client's model: ETM_Client1\n",
      "\u001b[36m(ClientAppActor pid=14088)\u001b[0m Epoch: 000 | Loss: 742.0404052734375\n"
     ]
    },
    {
     "name": "stderr",
     "output_type": "stream",
     "text": [
      "\u001b[92mINFO \u001b[0m:      aggregate_evaluate: received 2 results and 0 failures\n",
      "\u001b[92mINFO \u001b[0m:      \n",
      "\u001b[92mINFO \u001b[0m:      [ROUND 85]\n",
      "\u001b[92mINFO \u001b[0m:      configure_fit: strategy sampled 2 clients (out of 2)\n"
     ]
    },
    {
     "name": "stdout",
     "output_type": "stream",
     "text": [
      "\u001b[36m(ClientAppActor pid=14088)\u001b[0m Client's model: ETM_Client0\n",
      "\u001b[36m(ClientAppActor pid=14088)\u001b[0m Epoch: 000 | Loss: 757.3964233398438\n"
     ]
    },
    {
     "name": "stderr",
     "output_type": "stream",
     "text": [
      "\u001b[92mINFO \u001b[0m:      aggregate_fit: received 2 results and 0 failures\n"
     ]
    },
    {
     "name": "stdout",
     "output_type": "stream",
     "text": [
      "\u001b[36m(ClientAppActor pid=14088)\u001b[0m Client's model: ETM_Client1\n",
      "\u001b[36m(ClientAppActor pid=14088)\u001b[0m Epoch: 000 | Loss: 741.9155883789062\n"
     ]
    },
    {
     "name": "stderr",
     "output_type": "stream",
     "text": [
      "\u001b[92mINFO \u001b[0m:      configure_evaluate: strategy sampled 2 clients (out of 2)\n",
      "\u001b[92mINFO \u001b[0m:      aggregate_evaluate: received 2 results and 0 failures\n",
      "\u001b[92mINFO \u001b[0m:      \n",
      "\u001b[92mINFO \u001b[0m:      [ROUND 86]\n",
      "\u001b[92mINFO \u001b[0m:      configure_fit: strategy sampled 2 clients (out of 2)\n"
     ]
    },
    {
     "name": "stdout",
     "output_type": "stream",
     "text": [
      "\u001b[36m(ClientAppActor pid=14088)\u001b[0m Client's model: ETM_Client0\n",
      "\u001b[36m(ClientAppActor pid=14088)\u001b[0m Epoch: 000 | Loss: 757.0315551757812\n"
     ]
    },
    {
     "name": "stderr",
     "output_type": "stream",
     "text": [
      "\u001b[92mINFO \u001b[0m:      aggregate_fit: received 2 results and 0 failures\n",
      "\u001b[92mINFO \u001b[0m:      configure_evaluate: strategy sampled 2 clients (out of 2)\n"
     ]
    },
    {
     "name": "stdout",
     "output_type": "stream",
     "text": [
      "\u001b[36m(ClientAppActor pid=14088)\u001b[0m Client's model: ETM_Client1\n",
      "\u001b[36m(ClientAppActor pid=14088)\u001b[0m Epoch: 000 | Loss: 742.1472778320312\n"
     ]
    },
    {
     "name": "stderr",
     "output_type": "stream",
     "text": [
      "\u001b[92mINFO \u001b[0m:      aggregate_evaluate: received 2 results and 0 failures\n",
      "\u001b[92mINFO \u001b[0m:      \n",
      "\u001b[92mINFO \u001b[0m:      [ROUND 87]\n",
      "\u001b[92mINFO \u001b[0m:      configure_fit: strategy sampled 2 clients (out of 2)\n"
     ]
    },
    {
     "name": "stdout",
     "output_type": "stream",
     "text": [
      "\u001b[36m(ClientAppActor pid=14088)\u001b[0m Client's model: ETM_Client0\n",
      "\u001b[36m(ClientAppActor pid=14088)\u001b[0m Epoch: 000 | Loss: 757.1898803710938\n"
     ]
    },
    {
     "name": "stderr",
     "output_type": "stream",
     "text": [
      "\u001b[92mINFO \u001b[0m:      aggregate_fit: received 2 results and 0 failures\n",
      "\u001b[92mINFO \u001b[0m:      configure_evaluate: strategy sampled 2 clients (out of 2)\n"
     ]
    },
    {
     "name": "stdout",
     "output_type": "stream",
     "text": [
      "\u001b[36m(ClientAppActor pid=14088)\u001b[0m Client's model: ETM_Client1\n",
      "\u001b[36m(ClientAppActor pid=14088)\u001b[0m Epoch: 000 | Loss: 741.8388061523438\n"
     ]
    },
    {
     "name": "stderr",
     "output_type": "stream",
     "text": [
      "\u001b[92mINFO \u001b[0m:      aggregate_evaluate: received 2 results and 0 failures\n",
      "\u001b[92mINFO \u001b[0m:      \n",
      "\u001b[92mINFO \u001b[0m:      [ROUND 88]\n",
      "\u001b[92mINFO \u001b[0m:      configure_fit: strategy sampled 2 clients (out of 2)\n"
     ]
    },
    {
     "name": "stdout",
     "output_type": "stream",
     "text": [
      "\u001b[36m(ClientAppActor pid=14088)\u001b[0m Client's model: ETM_Client0\n",
      "\u001b[36m(ClientAppActor pid=14088)\u001b[0m Epoch: 000 | Loss: 757.0907592773438\n"
     ]
    },
    {
     "name": "stderr",
     "output_type": "stream",
     "text": [
      "\u001b[92mINFO \u001b[0m:      aggregate_fit: received 2 results and 0 failures\n",
      "\u001b[92mINFO \u001b[0m:      configure_evaluate: strategy sampled 2 clients (out of 2)\n"
     ]
    },
    {
     "name": "stdout",
     "output_type": "stream",
     "text": [
      "\u001b[36m(ClientAppActor pid=14088)\u001b[0m Client's model: ETM_Client1\n",
      "\u001b[36m(ClientAppActor pid=14088)\u001b[0m Epoch: 000 | Loss: 741.678466796875\n"
     ]
    },
    {
     "name": "stderr",
     "output_type": "stream",
     "text": [
      "\u001b[92mINFO \u001b[0m:      aggregate_evaluate: received 2 results and 0 failures\n",
      "\u001b[92mINFO \u001b[0m:      \n",
      "\u001b[92mINFO \u001b[0m:      [ROUND 89]\n",
      "\u001b[92mINFO \u001b[0m:      configure_fit: strategy sampled 2 clients (out of 2)\n"
     ]
    },
    {
     "name": "stdout",
     "output_type": "stream",
     "text": [
      "\u001b[36m(ClientAppActor pid=14088)\u001b[0m Client's model: ETM_Client0\n",
      "\u001b[36m(ClientAppActor pid=14088)\u001b[0m Epoch: 000 | Loss: 756.8690185546875\n"
     ]
    },
    {
     "name": "stderr",
     "output_type": "stream",
     "text": [
      "\u001b[92mINFO \u001b[0m:      aggregate_fit: received 2 results and 0 failures\n",
      "\u001b[92mINFO \u001b[0m:      configure_evaluate: strategy sampled 2 clients (out of 2)\n"
     ]
    },
    {
     "name": "stdout",
     "output_type": "stream",
     "text": [
      "\u001b[36m(ClientAppActor pid=14088)\u001b[0m Client's model: ETM_Client1\n",
      "\u001b[36m(ClientAppActor pid=14088)\u001b[0m Epoch: 000 | Loss: 741.537841796875\n"
     ]
    },
    {
     "name": "stderr",
     "output_type": "stream",
     "text": [
      "\u001b[92mINFO \u001b[0m:      aggregate_evaluate: received 2 results and 0 failures\n",
      "\u001b[92mINFO \u001b[0m:      \n",
      "\u001b[92mINFO \u001b[0m:      [ROUND 90]\n",
      "\u001b[92mINFO \u001b[0m:      configure_fit: strategy sampled 2 clients (out of 2)\n"
     ]
    },
    {
     "name": "stdout",
     "output_type": "stream",
     "text": [
      "\u001b[36m(ClientAppActor pid=14088)\u001b[0m Client's model: ETM_Client0\n",
      "\u001b[36m(ClientAppActor pid=14088)\u001b[0m Epoch: 000 | Loss: 756.8118896484375\n"
     ]
    },
    {
     "name": "stderr",
     "output_type": "stream",
     "text": [
      "\u001b[92mINFO \u001b[0m:      aggregate_fit: received 2 results and 0 failures\n"
     ]
    },
    {
     "name": "stdout",
     "output_type": "stream",
     "text": [
      "\u001b[36m(ClientAppActor pid=14088)\u001b[0m Client's model: ETM_Client1\n",
      "\u001b[36m(ClientAppActor pid=14088)\u001b[0m Epoch: 000 | Loss: 741.7710571289062\n"
     ]
    },
    {
     "name": "stderr",
     "output_type": "stream",
     "text": [
      "\u001b[92mINFO \u001b[0m:      configure_evaluate: strategy sampled 2 clients (out of 2)\n"
     ]
    },
    {
     "name": "stdout",
     "output_type": "stream",
     "text": [
      "Saving round 90 aggregated_ndarrays...\n"
     ]
    },
    {
     "name": "stderr",
     "output_type": "stream",
     "text": [
      "\u001b[92mINFO \u001b[0m:      aggregate_evaluate: received 2 results and 0 failures\n",
      "\u001b[92mINFO \u001b[0m:      \n",
      "\u001b[92mINFO \u001b[0m:      [ROUND 91]\n",
      "\u001b[92mINFO \u001b[0m:      configure_fit: strategy sampled 2 clients (out of 2)\n"
     ]
    },
    {
     "name": "stdout",
     "output_type": "stream",
     "text": [
      "\u001b[36m(ClientAppActor pid=14088)\u001b[0m Client's model: ETM_Client0\n",
      "\u001b[36m(ClientAppActor pid=14088)\u001b[0m Epoch: 000 | Loss: 756.9467163085938\n"
     ]
    },
    {
     "name": "stderr",
     "output_type": "stream",
     "text": [
      "\u001b[92mINFO \u001b[0m:      aggregate_fit: received 2 results and 0 failures\n",
      "\u001b[92mINFO \u001b[0m:      configure_evaluate: strategy sampled 2 clients (out of 2)\n"
     ]
    },
    {
     "name": "stdout",
     "output_type": "stream",
     "text": [
      "\u001b[36m(ClientAppActor pid=14088)\u001b[0m Client's model: ETM_Client1\n",
      "\u001b[36m(ClientAppActor pid=14088)\u001b[0m Epoch: 000 | Loss: 741.5435791015625\n"
     ]
    },
    {
     "name": "stderr",
     "output_type": "stream",
     "text": [
      "\u001b[92mINFO \u001b[0m:      aggregate_evaluate: received 2 results and 0 failures\n",
      "\u001b[92mINFO \u001b[0m:      \n",
      "\u001b[92mINFO \u001b[0m:      [ROUND 92]\n",
      "\u001b[92mINFO \u001b[0m:      configure_fit: strategy sampled 2 clients (out of 2)\n"
     ]
    },
    {
     "name": "stdout",
     "output_type": "stream",
     "text": [
      "\u001b[36m(ClientAppActor pid=14088)\u001b[0m Client's model: ETM_Client0\n",
      "\u001b[36m(ClientAppActor pid=14088)\u001b[0m Epoch: 000 | Loss: 757.1884155273438\n"
     ]
    },
    {
     "name": "stderr",
     "output_type": "stream",
     "text": [
      "\u001b[92mINFO \u001b[0m:      aggregate_fit: received 2 results and 0 failures\n"
     ]
    },
    {
     "name": "stdout",
     "output_type": "stream",
     "text": [
      "\u001b[36m(ClientAppActor pid=14088)\u001b[0m Client's model: ETM_Client1\n",
      "\u001b[36m(ClientAppActor pid=14088)\u001b[0m Epoch: 000 | Loss: 741.4791259765625\n"
     ]
    },
    {
     "name": "stderr",
     "output_type": "stream",
     "text": [
      "\u001b[92mINFO \u001b[0m:      configure_evaluate: strategy sampled 2 clients (out of 2)\n",
      "\u001b[92mINFO \u001b[0m:      aggregate_evaluate: received 2 results and 0 failures\n",
      "\u001b[92mINFO \u001b[0m:      \n",
      "\u001b[92mINFO \u001b[0m:      [ROUND 93]\n",
      "\u001b[92mINFO \u001b[0m:      configure_fit: strategy sampled 2 clients (out of 2)\n"
     ]
    },
    {
     "name": "stdout",
     "output_type": "stream",
     "text": [
      "\u001b[36m(ClientAppActor pid=14088)\u001b[0m Client's model: ETM_Client0\n",
      "\u001b[36m(ClientAppActor pid=14088)\u001b[0m Epoch: 000 | Loss: 756.8734130859375\n"
     ]
    },
    {
     "name": "stderr",
     "output_type": "stream",
     "text": [
      "\u001b[92mINFO \u001b[0m:      aggregate_fit: received 2 results and 0 failures\n"
     ]
    },
    {
     "name": "stdout",
     "output_type": "stream",
     "text": [
      "\u001b[36m(ClientAppActor pid=14088)\u001b[0m Client's model: ETM_Client1\n",
      "\u001b[36m(ClientAppActor pid=14088)\u001b[0m Epoch: 000 | Loss: 741.7540283203125\n"
     ]
    },
    {
     "name": "stderr",
     "output_type": "stream",
     "text": [
      "\u001b[92mINFO \u001b[0m:      configure_evaluate: strategy sampled 2 clients (out of 2)\n",
      "\u001b[92mINFO \u001b[0m:      aggregate_evaluate: received 2 results and 0 failures\n",
      "\u001b[92mINFO \u001b[0m:      \n",
      "\u001b[92mINFO \u001b[0m:      [ROUND 94]\n",
      "\u001b[92mINFO \u001b[0m:      configure_fit: strategy sampled 2 clients (out of 2)\n"
     ]
    },
    {
     "name": "stdout",
     "output_type": "stream",
     "text": [
      "\u001b[36m(ClientAppActor pid=14088)\u001b[0m Client's model: ETM_Client0\n",
      "\u001b[36m(ClientAppActor pid=14088)\u001b[0m Epoch: 000 | Loss: 756.72998046875\n"
     ]
    },
    {
     "name": "stderr",
     "output_type": "stream",
     "text": [
      "\u001b[92mINFO \u001b[0m:      aggregate_fit: received 2 results and 0 failures\n"
     ]
    },
    {
     "name": "stdout",
     "output_type": "stream",
     "text": [
      "\u001b[36m(ClientAppActor pid=14088)\u001b[0m Client's model: ETM_Client1\n",
      "\u001b[36m(ClientAppActor pid=14088)\u001b[0m Epoch: 000 | Loss: 741.5306396484375\n"
     ]
    },
    {
     "name": "stderr",
     "output_type": "stream",
     "text": [
      "\u001b[92mINFO \u001b[0m:      configure_evaluate: strategy sampled 2 clients (out of 2)\n",
      "\u001b[92mINFO \u001b[0m:      aggregate_evaluate: received 2 results and 0 failures\n",
      "\u001b[92mINFO \u001b[0m:      \n",
      "\u001b[92mINFO \u001b[0m:      [ROUND 95]\n",
      "\u001b[92mINFO \u001b[0m:      configure_fit: strategy sampled 2 clients (out of 2)\n"
     ]
    },
    {
     "name": "stdout",
     "output_type": "stream",
     "text": [
      "\u001b[36m(ClientAppActor pid=14088)\u001b[0m Client's model: ETM_Client0\n",
      "\u001b[36m(ClientAppActor pid=14088)\u001b[0m Epoch: 000 | Loss: 756.7457275390625\n"
     ]
    },
    {
     "name": "stderr",
     "output_type": "stream",
     "text": [
      "\u001b[92mINFO \u001b[0m:      aggregate_fit: received 2 results and 0 failures\n",
      "\u001b[92mINFO \u001b[0m:      configure_evaluate: strategy sampled 2 clients (out of 2)\n"
     ]
    },
    {
     "name": "stdout",
     "output_type": "stream",
     "text": [
      "\u001b[36m(ClientAppActor pid=14088)\u001b[0m Client's model: ETM_Client1\n",
      "\u001b[36m(ClientAppActor pid=14088)\u001b[0m Epoch: 000 | Loss: 741.3988647460938\n"
     ]
    },
    {
     "name": "stderr",
     "output_type": "stream",
     "text": [
      "\u001b[92mINFO \u001b[0m:      aggregate_evaluate: received 2 results and 0 failures\n",
      "\u001b[92mINFO \u001b[0m:      \n",
      "\u001b[92mINFO \u001b[0m:      [ROUND 96]\n",
      "\u001b[92mINFO \u001b[0m:      configure_fit: strategy sampled 2 clients (out of 2)\n"
     ]
    },
    {
     "name": "stdout",
     "output_type": "stream",
     "text": [
      "\u001b[36m(ClientAppActor pid=14088)\u001b[0m Client's model: ETM_Client0\n",
      "\u001b[36m(ClientAppActor pid=14088)\u001b[0m Epoch: 000 | Loss: 756.7509155273438\n"
     ]
    },
    {
     "name": "stderr",
     "output_type": "stream",
     "text": [
      "\u001b[92mINFO \u001b[0m:      aggregate_fit: received 2 results and 0 failures\n",
      "\u001b[92mINFO \u001b[0m:      configure_evaluate: strategy sampled 2 clients (out of 2)\n"
     ]
    },
    {
     "name": "stdout",
     "output_type": "stream",
     "text": [
      "\u001b[36m(ClientAppActor pid=14088)\u001b[0m Client's model: ETM_Client1\n",
      "\u001b[36m(ClientAppActor pid=14088)\u001b[0m Epoch: 000 | Loss: 741.5702514648438\n"
     ]
    },
    {
     "name": "stderr",
     "output_type": "stream",
     "text": [
      "\u001b[92mINFO \u001b[0m:      aggregate_evaluate: received 2 results and 0 failures\n",
      "\u001b[92mINFO \u001b[0m:      \n",
      "\u001b[92mINFO \u001b[0m:      [ROUND 97]\n",
      "\u001b[92mINFO \u001b[0m:      configure_fit: strategy sampled 2 clients (out of 2)\n"
     ]
    },
    {
     "name": "stdout",
     "output_type": "stream",
     "text": [
      "\u001b[36m(ClientAppActor pid=14088)\u001b[0m Client's model: ETM_Client0\n",
      "\u001b[36m(ClientAppActor pid=14088)\u001b[0m Epoch: 000 | Loss: 756.7559814453125\n"
     ]
    },
    {
     "name": "stderr",
     "output_type": "stream",
     "text": [
      "\u001b[92mINFO \u001b[0m:      aggregate_fit: received 2 results and 0 failures\n",
      "\u001b[92mINFO \u001b[0m:      configure_evaluate: strategy sampled 2 clients (out of 2)\n"
     ]
    },
    {
     "name": "stdout",
     "output_type": "stream",
     "text": [
      "\u001b[36m(ClientAppActor pid=14088)\u001b[0m Client's model: ETM_Client1\n",
      "\u001b[36m(ClientAppActor pid=14088)\u001b[0m Epoch: 000 | Loss: 741.5071411132812\n"
     ]
    },
    {
     "name": "stderr",
     "output_type": "stream",
     "text": [
      "\u001b[92mINFO \u001b[0m:      aggregate_evaluate: received 2 results and 0 failures\n",
      "\u001b[92mINFO \u001b[0m:      \n",
      "\u001b[92mINFO \u001b[0m:      [ROUND 98]\n",
      "\u001b[92mINFO \u001b[0m:      configure_fit: strategy sampled 2 clients (out of 2)\n"
     ]
    },
    {
     "name": "stdout",
     "output_type": "stream",
     "text": [
      "\u001b[36m(ClientAppActor pid=14088)\u001b[0m Client's model: ETM_Client0\n",
      "\u001b[36m(ClientAppActor pid=14088)\u001b[0m Epoch: 000 | Loss: 756.5718383789062\n"
     ]
    },
    {
     "name": "stderr",
     "output_type": "stream",
     "text": [
      "\u001b[92mINFO \u001b[0m:      aggregate_fit: received 2 results and 0 failures\n",
      "\u001b[92mINFO \u001b[0m:      configure_evaluate: strategy sampled 2 clients (out of 2)\n"
     ]
    },
    {
     "name": "stdout",
     "output_type": "stream",
     "text": [
      "\u001b[36m(ClientAppActor pid=14088)\u001b[0m Client's model: ETM_Client1\n",
      "\u001b[36m(ClientAppActor pid=14088)\u001b[0m Epoch: 000 | Loss: 741.2454223632812\n"
     ]
    },
    {
     "name": "stderr",
     "output_type": "stream",
     "text": [
      "\u001b[92mINFO \u001b[0m:      aggregate_evaluate: received 2 results and 0 failures\n",
      "\u001b[92mINFO \u001b[0m:      \n",
      "\u001b[92mINFO \u001b[0m:      [ROUND 99]\n",
      "\u001b[92mINFO \u001b[0m:      configure_fit: strategy sampled 2 clients (out of 2)\n"
     ]
    },
    {
     "name": "stdout",
     "output_type": "stream",
     "text": [
      "\u001b[36m(ClientAppActor pid=14088)\u001b[0m Client's model: ETM_Client0\n",
      "\u001b[36m(ClientAppActor pid=14088)\u001b[0m Epoch: 000 | Loss: 756.4849853515625\n"
     ]
    },
    {
     "name": "stderr",
     "output_type": "stream",
     "text": [
      "\u001b[92mINFO \u001b[0m:      aggregate_fit: received 2 results and 0 failures\n"
     ]
    },
    {
     "name": "stdout",
     "output_type": "stream",
     "text": [
      "\u001b[36m(ClientAppActor pid=14088)\u001b[0m Client's model: ETM_Client1\n",
      "\u001b[36m(ClientAppActor pid=14088)\u001b[0m Epoch: 000 | Loss: 741.40771484375\n"
     ]
    },
    {
     "name": "stderr",
     "output_type": "stream",
     "text": [
      "\u001b[92mINFO \u001b[0m:      configure_evaluate: strategy sampled 2 clients (out of 2)\n",
      "\u001b[92mINFO \u001b[0m:      aggregate_evaluate: received 2 results and 0 failures\n",
      "\u001b[92mINFO \u001b[0m:      \n",
      "\u001b[92mINFO \u001b[0m:      [ROUND 100]\n",
      "\u001b[92mINFO \u001b[0m:      configure_fit: strategy sampled 2 clients (out of 2)\n"
     ]
    },
    {
     "name": "stdout",
     "output_type": "stream",
     "text": [
      "\u001b[36m(ClientAppActor pid=14088)\u001b[0m Client's model: ETM_Client0\n",
      "\u001b[36m(ClientAppActor pid=14088)\u001b[0m Epoch: 000 | Loss: 756.5396118164062\n",
      "\u001b[36m(ClientAppActor pid=14088)\u001b[0m Client's model: ETM_Client1\n",
      "\u001b[36m(ClientAppActor pid=14088)\u001b[0m Epoch: 000 | Loss: 741.179443359375\n"
     ]
    },
    {
     "name": "stderr",
     "output_type": "stream",
     "text": [
      "\u001b[92mINFO \u001b[0m:      aggregate_fit: received 2 results and 0 failures\n",
      "\u001b[92mINFO \u001b[0m:      configure_evaluate: strategy sampled 2 clients (out of 2)\n"
     ]
    },
    {
     "name": "stdout",
     "output_type": "stream",
     "text": [
      "Saving round 100 aggregated_ndarrays...\n"
     ]
    },
    {
     "name": "stderr",
     "output_type": "stream",
     "text": [
      "\u001b[92mINFO \u001b[0m:      aggregate_evaluate: received 2 results and 0 failures\n",
      "\u001b[92mINFO \u001b[0m:      \n",
      "\u001b[92mINFO \u001b[0m:      [ROUND 101]\n",
      "\u001b[92mINFO \u001b[0m:      configure_fit: strategy sampled 2 clients (out of 2)\n"
     ]
    },
    {
     "name": "stdout",
     "output_type": "stream",
     "text": [
      "\u001b[36m(ClientAppActor pid=14088)\u001b[0m Client's model: ETM_Client0\n",
      "\u001b[36m(ClientAppActor pid=14088)\u001b[0m Epoch: 000 | Loss: 756.4453125\n"
     ]
    },
    {
     "name": "stderr",
     "output_type": "stream",
     "text": [
      "\u001b[92mINFO \u001b[0m:      aggregate_fit: received 2 results and 0 failures\n",
      "\u001b[92mINFO \u001b[0m:      configure_evaluate: strategy sampled 2 clients (out of 2)\n"
     ]
    },
    {
     "name": "stdout",
     "output_type": "stream",
     "text": [
      "\u001b[36m(ClientAppActor pid=14088)\u001b[0m Client's model: ETM_Client1\n",
      "\u001b[36m(ClientAppActor pid=14088)\u001b[0m Epoch: 000 | Loss: 741.3230590820312\n"
     ]
    },
    {
     "name": "stderr",
     "output_type": "stream",
     "text": [
      "\u001b[92mINFO \u001b[0m:      aggregate_evaluate: received 2 results and 0 failures\n",
      "\u001b[92mINFO \u001b[0m:      \n",
      "\u001b[92mINFO \u001b[0m:      [ROUND 102]\n",
      "\u001b[92mINFO \u001b[0m:      configure_fit: strategy sampled 2 clients (out of 2)\n"
     ]
    },
    {
     "name": "stdout",
     "output_type": "stream",
     "text": [
      "\u001b[36m(ClientAppActor pid=14088)\u001b[0m Client's model: ETM_Client0\n",
      "\u001b[36m(ClientAppActor pid=14088)\u001b[0m Epoch: 000 | Loss: 756.4595336914062\n"
     ]
    },
    {
     "name": "stderr",
     "output_type": "stream",
     "text": [
      "\u001b[92mINFO \u001b[0m:      aggregate_fit: received 2 results and 0 failures\n"
     ]
    },
    {
     "name": "stdout",
     "output_type": "stream",
     "text": [
      "\u001b[36m(ClientAppActor pid=14088)\u001b[0m Client's model: ETM_Client1\n",
      "\u001b[36m(ClientAppActor pid=14088)\u001b[0m Epoch: 000 | Loss: 741.26953125\n"
     ]
    },
    {
     "name": "stderr",
     "output_type": "stream",
     "text": [
      "\u001b[92mINFO \u001b[0m:      configure_evaluate: strategy sampled 2 clients (out of 2)\n",
      "\u001b[92mINFO \u001b[0m:      aggregate_evaluate: received 2 results and 0 failures\n",
      "\u001b[92mINFO \u001b[0m:      \n",
      "\u001b[92mINFO \u001b[0m:      [ROUND 103]\n",
      "\u001b[92mINFO \u001b[0m:      configure_fit: strategy sampled 2 clients (out of 2)\n"
     ]
    },
    {
     "name": "stdout",
     "output_type": "stream",
     "text": [
      "\u001b[36m(ClientAppActor pid=14088)\u001b[0m Client's model: ETM_Client0\n",
      "\u001b[36m(ClientAppActor pid=14088)\u001b[0m Epoch: 000 | Loss: 756.461181640625\n"
     ]
    },
    {
     "name": "stderr",
     "output_type": "stream",
     "text": [
      "\u001b[92mINFO \u001b[0m:      aggregate_fit: received 2 results and 0 failures\n"
     ]
    },
    {
     "name": "stdout",
     "output_type": "stream",
     "text": [
      "\u001b[36m(ClientAppActor pid=14088)\u001b[0m Client's model: ETM_Client1\n",
      "\u001b[36m(ClientAppActor pid=14088)\u001b[0m Epoch: 000 | Loss: 741.1614379882812\n"
     ]
    },
    {
     "name": "stderr",
     "output_type": "stream",
     "text": [
      "\u001b[92mINFO \u001b[0m:      configure_evaluate: strategy sampled 2 clients (out of 2)\n",
      "\u001b[92mINFO \u001b[0m:      aggregate_evaluate: received 2 results and 0 failures\n",
      "\u001b[92mINFO \u001b[0m:      \n",
      "\u001b[92mINFO \u001b[0m:      [ROUND 104]\n",
      "\u001b[92mINFO \u001b[0m:      configure_fit: strategy sampled 2 clients (out of 2)\n"
     ]
    },
    {
     "name": "stdout",
     "output_type": "stream",
     "text": [
      "\u001b[36m(ClientAppActor pid=14088)\u001b[0m Client's model: ETM_Client0\n",
      "\u001b[36m(ClientAppActor pid=14088)\u001b[0m Epoch: 000 | Loss: 756.5171508789062\n"
     ]
    },
    {
     "name": "stderr",
     "output_type": "stream",
     "text": [
      "\u001b[92mINFO \u001b[0m:      aggregate_fit: received 2 results and 0 failures\n",
      "\u001b[92mINFO \u001b[0m:      configure_evaluate: strategy sampled 2 clients (out of 2)\n"
     ]
    },
    {
     "name": "stdout",
     "output_type": "stream",
     "text": [
      "\u001b[36m(ClientAppActor pid=14088)\u001b[0m Client's model: ETM_Client1\n",
      "\u001b[36m(ClientAppActor pid=14088)\u001b[0m Epoch: 000 | Loss: 741.30810546875\n"
     ]
    },
    {
     "name": "stderr",
     "output_type": "stream",
     "text": [
      "\u001b[92mINFO \u001b[0m:      aggregate_evaluate: received 2 results and 0 failures\n",
      "\u001b[92mINFO \u001b[0m:      \n",
      "\u001b[92mINFO \u001b[0m:      [ROUND 105]\n",
      "\u001b[92mINFO \u001b[0m:      configure_fit: strategy sampled 2 clients (out of 2)\n"
     ]
    },
    {
     "name": "stdout",
     "output_type": "stream",
     "text": [
      "\u001b[36m(ClientAppActor pid=14088)\u001b[0m Client's model: ETM_Client0\n",
      "\u001b[36m(ClientAppActor pid=14088)\u001b[0m Epoch: 000 | Loss: 756.4717407226562\n"
     ]
    },
    {
     "name": "stderr",
     "output_type": "stream",
     "text": [
      "\u001b[92mINFO \u001b[0m:      aggregate_fit: received 2 results and 0 failures\n"
     ]
    },
    {
     "name": "stdout",
     "output_type": "stream",
     "text": [
      "\u001b[36m(ClientAppActor pid=14088)\u001b[0m Client's model: ETM_Client1\n",
      "\u001b[36m(ClientAppActor pid=14088)\u001b[0m Epoch: 000 | Loss: 741.1478881835938\n"
     ]
    },
    {
     "name": "stderr",
     "output_type": "stream",
     "text": [
      "\u001b[92mINFO \u001b[0m:      configure_evaluate: strategy sampled 2 clients (out of 2)\n",
      "\u001b[92mINFO \u001b[0m:      aggregate_evaluate: received 2 results and 0 failures\n",
      "\u001b[92mINFO \u001b[0m:      \n",
      "\u001b[92mINFO \u001b[0m:      [ROUND 106]\n",
      "\u001b[92mINFO \u001b[0m:      configure_fit: strategy sampled 2 clients (out of 2)\n"
     ]
    },
    {
     "name": "stdout",
     "output_type": "stream",
     "text": [
      "\u001b[36m(ClientAppActor pid=14088)\u001b[0m Client's model: ETM_Client0\n",
      "\u001b[36m(ClientAppActor pid=14088)\u001b[0m Epoch: 000 | Loss: 756.3857421875\n"
     ]
    },
    {
     "name": "stderr",
     "output_type": "stream",
     "text": [
      "\u001b[92mINFO \u001b[0m:      aggregate_fit: received 2 results and 0 failures\n",
      "\u001b[92mINFO \u001b[0m:      configure_evaluate: strategy sampled 2 clients (out of 2)\n"
     ]
    },
    {
     "name": "stdout",
     "output_type": "stream",
     "text": [
      "\u001b[36m(ClientAppActor pid=14088)\u001b[0m Client's model: ETM_Client1\n",
      "\u001b[36m(ClientAppActor pid=14088)\u001b[0m Epoch: 000 | Loss: 740.9414672851562\n"
     ]
    },
    {
     "name": "stderr",
     "output_type": "stream",
     "text": [
      "\u001b[92mINFO \u001b[0m:      aggregate_evaluate: received 2 results and 0 failures\n",
      "\u001b[92mINFO \u001b[0m:      \n",
      "\u001b[92mINFO \u001b[0m:      [ROUND 107]\n",
      "\u001b[92mINFO \u001b[0m:      configure_fit: strategy sampled 2 clients (out of 2)\n"
     ]
    },
    {
     "name": "stdout",
     "output_type": "stream",
     "text": [
      "\u001b[36m(ClientAppActor pid=14088)\u001b[0m Client's model: ETM_Client0\n",
      "\u001b[36m(ClientAppActor pid=14088)\u001b[0m Epoch: 000 | Loss: 756.4036865234375\n",
      "\u001b[36m(ClientAppActor pid=14088)\u001b[0m Client's model: ETM_Client1\n",
      "\u001b[36m(ClientAppActor pid=14088)\u001b[0m Epoch: 000 | Loss: 741.01708984375\n"
     ]
    },
    {
     "name": "stderr",
     "output_type": "stream",
     "text": [
      "\u001b[92mINFO \u001b[0m:      aggregate_fit: received 2 results and 0 failures\n",
      "\u001b[92mINFO \u001b[0m:      configure_evaluate: strategy sampled 2 clients (out of 2)\n",
      "\u001b[92mINFO \u001b[0m:      aggregate_evaluate: received 2 results and 0 failures\n",
      "\u001b[92mINFO \u001b[0m:      \n",
      "\u001b[92mINFO \u001b[0m:      [ROUND 108]\n",
      "\u001b[92mINFO \u001b[0m:      configure_fit: strategy sampled 2 clients (out of 2)\n"
     ]
    },
    {
     "name": "stdout",
     "output_type": "stream",
     "text": [
      "\u001b[36m(ClientAppActor pid=14088)\u001b[0m Client's model: ETM_Client0\n",
      "\u001b[36m(ClientAppActor pid=14088)\u001b[0m Epoch: 000 | Loss: 756.244384765625\n"
     ]
    },
    {
     "name": "stderr",
     "output_type": "stream",
     "text": [
      "\u001b[92mINFO \u001b[0m:      aggregate_fit: received 2 results and 0 failures\n"
     ]
    },
    {
     "name": "stdout",
     "output_type": "stream",
     "text": [
      "\u001b[36m(ClientAppActor pid=14088)\u001b[0m Client's model: ETM_Client1\n",
      "\u001b[36m(ClientAppActor pid=14088)\u001b[0m Epoch: 000 | Loss: 741.0367431640625\n"
     ]
    },
    {
     "name": "stderr",
     "output_type": "stream",
     "text": [
      "\u001b[92mINFO \u001b[0m:      configure_evaluate: strategy sampled 2 clients (out of 2)\n",
      "\u001b[92mINFO \u001b[0m:      aggregate_evaluate: received 2 results and 0 failures\n",
      "\u001b[92mINFO \u001b[0m:      \n",
      "\u001b[92mINFO \u001b[0m:      [ROUND 109]\n",
      "\u001b[92mINFO \u001b[0m:      configure_fit: strategy sampled 2 clients (out of 2)\n"
     ]
    },
    {
     "name": "stdout",
     "output_type": "stream",
     "text": [
      "\u001b[36m(ClientAppActor pid=14088)\u001b[0m Client's model: ETM_Client0\n",
      "\u001b[36m(ClientAppActor pid=14088)\u001b[0m Epoch: 000 | Loss: 756.3328857421875\n"
     ]
    },
    {
     "name": "stderr",
     "output_type": "stream",
     "text": [
      "\u001b[92mINFO \u001b[0m:      aggregate_fit: received 2 results and 0 failures\n",
      "\u001b[92mINFO \u001b[0m:      configure_evaluate: strategy sampled 2 clients (out of 2)\n"
     ]
    },
    {
     "name": "stdout",
     "output_type": "stream",
     "text": [
      "\u001b[36m(ClientAppActor pid=14088)\u001b[0m Client's model: ETM_Client1\n",
      "\u001b[36m(ClientAppActor pid=14088)\u001b[0m Epoch: 000 | Loss: 740.8789672851562\n"
     ]
    },
    {
     "name": "stderr",
     "output_type": "stream",
     "text": [
      "\u001b[92mINFO \u001b[0m:      aggregate_evaluate: received 2 results and 0 failures\n",
      "\u001b[92mINFO \u001b[0m:      \n",
      "\u001b[92mINFO \u001b[0m:      [ROUND 110]\n",
      "\u001b[92mINFO \u001b[0m:      configure_fit: strategy sampled 2 clients (out of 2)\n"
     ]
    },
    {
     "name": "stdout",
     "output_type": "stream",
     "text": [
      "\u001b[36m(ClientAppActor pid=14088)\u001b[0m Client's model: ETM_Client0\n",
      "\u001b[36m(ClientAppActor pid=14088)\u001b[0m Epoch: 000 | Loss: 756.3167724609375\n"
     ]
    },
    {
     "name": "stderr",
     "output_type": "stream",
     "text": [
      "\u001b[92mINFO \u001b[0m:      aggregate_fit: received 2 results and 0 failures\n",
      "\u001b[92mINFO \u001b[0m:      configure_evaluate: strategy sampled 2 clients (out of 2)\n"
     ]
    },
    {
     "name": "stdout",
     "output_type": "stream",
     "text": [
      "\u001b[36m(ClientAppActor pid=14088)\u001b[0m Client's model: ETM_Client1\n",
      "\u001b[36m(ClientAppActor pid=14088)\u001b[0m Epoch: 000 | Loss: 740.8564453125\n",
      "Saving round 110 aggregated_ndarrays...\n"
     ]
    },
    {
     "name": "stderr",
     "output_type": "stream",
     "text": [
      "\u001b[92mINFO \u001b[0m:      aggregate_evaluate: received 2 results and 0 failures\n",
      "\u001b[92mINFO \u001b[0m:      \n",
      "\u001b[92mINFO \u001b[0m:      [ROUND 111]\n",
      "\u001b[92mINFO \u001b[0m:      configure_fit: strategy sampled 2 clients (out of 2)\n"
     ]
    },
    {
     "name": "stdout",
     "output_type": "stream",
     "text": [
      "\u001b[36m(ClientAppActor pid=14088)\u001b[0m Client's model: ETM_Client0\n",
      "\u001b[36m(ClientAppActor pid=14088)\u001b[0m Epoch: 000 | Loss: 756.0883178710938\n"
     ]
    },
    {
     "name": "stderr",
     "output_type": "stream",
     "text": [
      "\u001b[92mINFO \u001b[0m:      aggregate_fit: received 2 results and 0 failures\n",
      "\u001b[92mINFO \u001b[0m:      configure_evaluate: strategy sampled 2 clients (out of 2)\n"
     ]
    },
    {
     "name": "stdout",
     "output_type": "stream",
     "text": [
      "\u001b[36m(ClientAppActor pid=14088)\u001b[0m Client's model: ETM_Client1\n",
      "\u001b[36m(ClientAppActor pid=14088)\u001b[0m Epoch: 000 | Loss: 740.7025756835938\n"
     ]
    },
    {
     "name": "stderr",
     "output_type": "stream",
     "text": [
      "\u001b[92mINFO \u001b[0m:      aggregate_evaluate: received 2 results and 0 failures\n",
      "\u001b[92mINFO \u001b[0m:      \n",
      "\u001b[92mINFO \u001b[0m:      [ROUND 112]\n",
      "\u001b[92mINFO \u001b[0m:      configure_fit: strategy sampled 2 clients (out of 2)\n"
     ]
    },
    {
     "name": "stdout",
     "output_type": "stream",
     "text": [
      "\u001b[36m(ClientAppActor pid=14088)\u001b[0m Client's model: ETM_Client0\n",
      "\u001b[36m(ClientAppActor pid=14088)\u001b[0m Epoch: 000 | Loss: 756.3323974609375\n"
     ]
    },
    {
     "name": "stderr",
     "output_type": "stream",
     "text": [
      "\u001b[92mINFO \u001b[0m:      aggregate_fit: received 2 results and 0 failures\n"
     ]
    },
    {
     "name": "stdout",
     "output_type": "stream",
     "text": [
      "\u001b[36m(ClientAppActor pid=14088)\u001b[0m Client's model: ETM_Client1\n",
      "\u001b[36m(ClientAppActor pid=14088)\u001b[0m Epoch: 000 | Loss: 740.8593139648438\n"
     ]
    },
    {
     "name": "stderr",
     "output_type": "stream",
     "text": [
      "\u001b[92mINFO \u001b[0m:      configure_evaluate: strategy sampled 2 clients (out of 2)\n",
      "\u001b[92mINFO \u001b[0m:      aggregate_evaluate: received 2 results and 0 failures\n",
      "\u001b[92mINFO \u001b[0m:      \n",
      "\u001b[92mINFO \u001b[0m:      [ROUND 113]\n",
      "\u001b[92mINFO \u001b[0m:      configure_fit: strategy sampled 2 clients (out of 2)\n"
     ]
    },
    {
     "name": "stdout",
     "output_type": "stream",
     "text": [
      "\u001b[36m(ClientAppActor pid=14088)\u001b[0m Client's model: ETM_Client0\n",
      "\u001b[36m(ClientAppActor pid=14088)\u001b[0m Epoch: 000 | Loss: 756.0116577148438\n"
     ]
    },
    {
     "name": "stderr",
     "output_type": "stream",
     "text": [
      "\u001b[92mINFO \u001b[0m:      aggregate_fit: received 2 results and 0 failures\n",
      "\u001b[92mINFO \u001b[0m:      configure_evaluate: strategy sampled 2 clients (out of 2)\n"
     ]
    },
    {
     "name": "stdout",
     "output_type": "stream",
     "text": [
      "\u001b[36m(ClientAppActor pid=14088)\u001b[0m Client's model: ETM_Client1\n",
      "\u001b[36m(ClientAppActor pid=14088)\u001b[0m Epoch: 000 | Loss: 740.92529296875\n"
     ]
    },
    {
     "name": "stderr",
     "output_type": "stream",
     "text": [
      "\u001b[92mINFO \u001b[0m:      aggregate_evaluate: received 2 results and 0 failures\n",
      "\u001b[92mINFO \u001b[0m:      \n",
      "\u001b[92mINFO \u001b[0m:      [ROUND 114]\n",
      "\u001b[92mINFO \u001b[0m:      configure_fit: strategy sampled 2 clients (out of 2)\n"
     ]
    },
    {
     "name": "stdout",
     "output_type": "stream",
     "text": [
      "\u001b[36m(ClientAppActor pid=14088)\u001b[0m Client's model: ETM_Client0\n",
      "\u001b[36m(ClientAppActor pid=14088)\u001b[0m Epoch: 000 | Loss: 756.061767578125\n"
     ]
    },
    {
     "name": "stderr",
     "output_type": "stream",
     "text": [
      "\u001b[92mINFO \u001b[0m:      aggregate_fit: received 2 results and 0 failures\n",
      "\u001b[92mINFO \u001b[0m:      configure_evaluate: strategy sampled 2 clients (out of 2)\n"
     ]
    },
    {
     "name": "stdout",
     "output_type": "stream",
     "text": [
      "\u001b[36m(ClientAppActor pid=14088)\u001b[0m Client's model: ETM_Client1\n",
      "\u001b[36m(ClientAppActor pid=14088)\u001b[0m Epoch: 000 | Loss: 740.8045043945312\n"
     ]
    },
    {
     "name": "stderr",
     "output_type": "stream",
     "text": [
      "\u001b[92mINFO \u001b[0m:      aggregate_evaluate: received 2 results and 0 failures\n",
      "\u001b[92mINFO \u001b[0m:      \n",
      "\u001b[92mINFO \u001b[0m:      [ROUND 115]\n",
      "\u001b[92mINFO \u001b[0m:      configure_fit: strategy sampled 2 clients (out of 2)\n"
     ]
    },
    {
     "name": "stdout",
     "output_type": "stream",
     "text": [
      "\u001b[36m(ClientAppActor pid=14088)\u001b[0m Client's model: ETM_Client0\n",
      "\u001b[36m(ClientAppActor pid=14088)\u001b[0m Epoch: 000 | Loss: 756.104736328125\n"
     ]
    },
    {
     "name": "stderr",
     "output_type": "stream",
     "text": [
      "\u001b[92mINFO \u001b[0m:      aggregate_fit: received 2 results and 0 failures\n",
      "\u001b[92mINFO \u001b[0m:      configure_evaluate: strategy sampled 2 clients (out of 2)\n"
     ]
    },
    {
     "name": "stdout",
     "output_type": "stream",
     "text": [
      "\u001b[36m(ClientAppActor pid=14088)\u001b[0m Client's model: ETM_Client1\n",
      "\u001b[36m(ClientAppActor pid=14088)\u001b[0m Epoch: 000 | Loss: 740.7831420898438\n"
     ]
    },
    {
     "name": "stderr",
     "output_type": "stream",
     "text": [
      "\u001b[92mINFO \u001b[0m:      aggregate_evaluate: received 2 results and 0 failures\n",
      "\u001b[92mINFO \u001b[0m:      \n",
      "\u001b[92mINFO \u001b[0m:      [ROUND 116]\n",
      "\u001b[92mINFO \u001b[0m:      configure_fit: strategy sampled 2 clients (out of 2)\n"
     ]
    },
    {
     "name": "stdout",
     "output_type": "stream",
     "text": [
      "\u001b[36m(ClientAppActor pid=14088)\u001b[0m Client's model: ETM_Client0\n",
      "\u001b[36m(ClientAppActor pid=14088)\u001b[0m Epoch: 000 | Loss: 756.027587890625\n"
     ]
    },
    {
     "name": "stderr",
     "output_type": "stream",
     "text": [
      "\u001b[92mINFO \u001b[0m:      aggregate_fit: received 2 results and 0 failures\n"
     ]
    },
    {
     "name": "stdout",
     "output_type": "stream",
     "text": [
      "\u001b[36m(ClientAppActor pid=14088)\u001b[0m Client's model: ETM_Client1\n",
      "\u001b[36m(ClientAppActor pid=14088)\u001b[0m Epoch: 000 | Loss: 740.8170776367188\n"
     ]
    },
    {
     "name": "stderr",
     "output_type": "stream",
     "text": [
      "\u001b[92mINFO \u001b[0m:      configure_evaluate: strategy sampled 2 clients (out of 2)\n",
      "\u001b[92mINFO \u001b[0m:      aggregate_evaluate: received 2 results and 0 failures\n",
      "\u001b[92mINFO \u001b[0m:      \n",
      "\u001b[92mINFO \u001b[0m:      [ROUND 117]\n",
      "\u001b[92mINFO \u001b[0m:      configure_fit: strategy sampled 2 clients (out of 2)\n"
     ]
    },
    {
     "name": "stdout",
     "output_type": "stream",
     "text": [
      "\u001b[36m(ClientAppActor pid=14088)\u001b[0m Client's model: ETM_Client0\n",
      "\u001b[36m(ClientAppActor pid=14088)\u001b[0m Epoch: 000 | Loss: 756.125244140625\n"
     ]
    },
    {
     "name": "stderr",
     "output_type": "stream",
     "text": [
      "\u001b[92mINFO \u001b[0m:      aggregate_fit: received 2 results and 0 failures\n",
      "\u001b[92mINFO \u001b[0m:      configure_evaluate: strategy sampled 2 clients (out of 2)\n"
     ]
    },
    {
     "name": "stdout",
     "output_type": "stream",
     "text": [
      "\u001b[36m(ClientAppActor pid=14088)\u001b[0m Client's model: ETM_Client1\n",
      "\u001b[36m(ClientAppActor pid=14088)\u001b[0m Epoch: 000 | Loss: 740.9044799804688\n"
     ]
    },
    {
     "name": "stderr",
     "output_type": "stream",
     "text": [
      "\u001b[92mINFO \u001b[0m:      aggregate_evaluate: received 2 results and 0 failures\n",
      "\u001b[92mINFO \u001b[0m:      \n",
      "\u001b[92mINFO \u001b[0m:      [ROUND 118]\n",
      "\u001b[92mINFO \u001b[0m:      configure_fit: strategy sampled 2 clients (out of 2)\n"
     ]
    },
    {
     "name": "stdout",
     "output_type": "stream",
     "text": [
      "\u001b[36m(ClientAppActor pid=14088)\u001b[0m Client's model: ETM_Client0\n",
      "\u001b[36m(ClientAppActor pid=14088)\u001b[0m Epoch: 000 | Loss: 755.8992309570312\n"
     ]
    },
    {
     "name": "stderr",
     "output_type": "stream",
     "text": [
      "\u001b[92mINFO \u001b[0m:      aggregate_fit: received 2 results and 0 failures\n"
     ]
    },
    {
     "name": "stdout",
     "output_type": "stream",
     "text": [
      "\u001b[36m(ClientAppActor pid=14088)\u001b[0m Client's model: ETM_Client1\n",
      "\u001b[36m(ClientAppActor pid=14088)\u001b[0m Epoch: 000 | Loss: 740.6901245117188\n"
     ]
    },
    {
     "name": "stderr",
     "output_type": "stream",
     "text": [
      "\u001b[92mINFO \u001b[0m:      configure_evaluate: strategy sampled 2 clients (out of 2)\n",
      "\u001b[92mINFO \u001b[0m:      aggregate_evaluate: received 2 results and 0 failures\n",
      "\u001b[92mINFO \u001b[0m:      \n",
      "\u001b[92mINFO \u001b[0m:      [ROUND 119]\n",
      "\u001b[92mINFO \u001b[0m:      configure_fit: strategy sampled 2 clients (out of 2)\n"
     ]
    },
    {
     "name": "stdout",
     "output_type": "stream",
     "text": [
      "\u001b[36m(ClientAppActor pid=14088)\u001b[0m Client's model: ETM_Client0\n",
      "\u001b[36m(ClientAppActor pid=14088)\u001b[0m Epoch: 000 | Loss: 755.8760986328125\n"
     ]
    },
    {
     "name": "stderr",
     "output_type": "stream",
     "text": [
      "\u001b[92mINFO \u001b[0m:      aggregate_fit: received 2 results and 0 failures\n",
      "\u001b[92mINFO \u001b[0m:      configure_evaluate: strategy sampled 2 clients (out of 2)\n"
     ]
    },
    {
     "name": "stdout",
     "output_type": "stream",
     "text": [
      "\u001b[36m(ClientAppActor pid=14088)\u001b[0m Client's model: ETM_Client1\n",
      "\u001b[36m(ClientAppActor pid=14088)\u001b[0m Epoch: 000 | Loss: 740.7349243164062\n"
     ]
    },
    {
     "name": "stderr",
     "output_type": "stream",
     "text": [
      "\u001b[92mINFO \u001b[0m:      aggregate_evaluate: received 2 results and 0 failures\n",
      "\u001b[92mINFO \u001b[0m:      \n",
      "\u001b[92mINFO \u001b[0m:      [ROUND 120]\n",
      "\u001b[92mINFO \u001b[0m:      configure_fit: strategy sampled 2 clients (out of 2)\n"
     ]
    },
    {
     "name": "stdout",
     "output_type": "stream",
     "text": [
      "\u001b[36m(ClientAppActor pid=14088)\u001b[0m Client's model: ETM_Client0\n",
      "\u001b[36m(ClientAppActor pid=14088)\u001b[0m Epoch: 000 | Loss: 755.982666015625\n"
     ]
    },
    {
     "name": "stderr",
     "output_type": "stream",
     "text": [
      "\u001b[92mINFO \u001b[0m:      aggregate_fit: received 2 results and 0 failures\n",
      "\u001b[92mINFO \u001b[0m:      configure_evaluate: strategy sampled 2 clients (out of 2)\n"
     ]
    },
    {
     "name": "stdout",
     "output_type": "stream",
     "text": [
      "\u001b[36m(ClientAppActor pid=14088)\u001b[0m Client's model: ETM_Client1\n",
      "\u001b[36m(ClientAppActor pid=14088)\u001b[0m Epoch: 000 | Loss: 740.7691040039062\n",
      "Saving round 120 aggregated_ndarrays...\n"
     ]
    },
    {
     "name": "stderr",
     "output_type": "stream",
     "text": [
      "\u001b[92mINFO \u001b[0m:      aggregate_evaluate: received 2 results and 0 failures\n",
      "\u001b[92mINFO \u001b[0m:      \n",
      "\u001b[92mINFO \u001b[0m:      [ROUND 121]\n",
      "\u001b[92mINFO \u001b[0m:      configure_fit: strategy sampled 2 clients (out of 2)\n"
     ]
    },
    {
     "name": "stdout",
     "output_type": "stream",
     "text": [
      "\u001b[36m(ClientAppActor pid=14088)\u001b[0m Client's model: ETM_Client0\n",
      "\u001b[36m(ClientAppActor pid=14088)\u001b[0m Epoch: 000 | Loss: 755.9341430664062\n"
     ]
    },
    {
     "name": "stderr",
     "output_type": "stream",
     "text": [
      "\u001b[92mINFO \u001b[0m:      aggregate_fit: received 2 results and 0 failures\n",
      "\u001b[92mINFO \u001b[0m:      configure_evaluate: strategy sampled 2 clients (out of 2)\n"
     ]
    },
    {
     "name": "stdout",
     "output_type": "stream",
     "text": [
      "\u001b[36m(ClientAppActor pid=14088)\u001b[0m Client's model: ETM_Client1\n",
      "\u001b[36m(ClientAppActor pid=14088)\u001b[0m Epoch: 000 | Loss: 740.483154296875\n"
     ]
    },
    {
     "name": "stderr",
     "output_type": "stream",
     "text": [
      "\u001b[92mINFO \u001b[0m:      aggregate_evaluate: received 2 results and 0 failures\n",
      "\u001b[92mINFO \u001b[0m:      \n",
      "\u001b[92mINFO \u001b[0m:      [ROUND 122]\n",
      "\u001b[92mINFO \u001b[0m:      configure_fit: strategy sampled 2 clients (out of 2)\n"
     ]
    },
    {
     "name": "stdout",
     "output_type": "stream",
     "text": [
      "\u001b[36m(ClientAppActor pid=14088)\u001b[0m Client's model: ETM_Client0\n",
      "\u001b[36m(ClientAppActor pid=14088)\u001b[0m Epoch: 000 | Loss: 755.9410400390625\n",
      "\u001b[36m(ClientAppActor pid=14088)\u001b[0m Client's model: ETM_Client1\n",
      "\u001b[36m(ClientAppActor pid=14088)\u001b[0m Epoch: 000 | Loss: 740.5069580078125\n"
     ]
    },
    {
     "name": "stderr",
     "output_type": "stream",
     "text": [
      "\u001b[92mINFO \u001b[0m:      aggregate_fit: received 2 results and 0 failures\n",
      "\u001b[92mINFO \u001b[0m:      configure_evaluate: strategy sampled 2 clients (out of 2)\n",
      "\u001b[92mINFO \u001b[0m:      aggregate_evaluate: received 2 results and 0 failures\n",
      "\u001b[92mINFO \u001b[0m:      \n",
      "\u001b[92mINFO \u001b[0m:      [ROUND 123]\n",
      "\u001b[92mINFO \u001b[0m:      configure_fit: strategy sampled 2 clients (out of 2)\n"
     ]
    },
    {
     "name": "stdout",
     "output_type": "stream",
     "text": [
      "\u001b[36m(ClientAppActor pid=14088)\u001b[0m Client's model: ETM_Client0\n",
      "\u001b[36m(ClientAppActor pid=14088)\u001b[0m Epoch: 000 | Loss: 755.7970581054688\n"
     ]
    },
    {
     "name": "stderr",
     "output_type": "stream",
     "text": [
      "\u001b[92mINFO \u001b[0m:      aggregate_fit: received 2 results and 0 failures\n"
     ]
    },
    {
     "name": "stdout",
     "output_type": "stream",
     "text": [
      "\u001b[36m(ClientAppActor pid=14088)\u001b[0m Client's model: ETM_Client1\n",
      "\u001b[36m(ClientAppActor pid=14088)\u001b[0m Epoch: 000 | Loss: 740.649658203125\n"
     ]
    },
    {
     "name": "stderr",
     "output_type": "stream",
     "text": [
      "\u001b[92mINFO \u001b[0m:      configure_evaluate: strategy sampled 2 clients (out of 2)\n",
      "\u001b[92mINFO \u001b[0m:      aggregate_evaluate: received 2 results and 0 failures\n",
      "\u001b[92mINFO \u001b[0m:      \n",
      "\u001b[92mINFO \u001b[0m:      [ROUND 124]\n",
      "\u001b[92mINFO \u001b[0m:      configure_fit: strategy sampled 2 clients (out of 2)\n"
     ]
    },
    {
     "name": "stdout",
     "output_type": "stream",
     "text": [
      "\u001b[36m(ClientAppActor pid=14088)\u001b[0m Client's model: ETM_Client0\n",
      "\u001b[36m(ClientAppActor pid=14088)\u001b[0m Epoch: 000 | Loss: 755.9193115234375\n"
     ]
    },
    {
     "name": "stderr",
     "output_type": "stream",
     "text": [
      "\u001b[92mINFO \u001b[0m:      aggregate_fit: received 2 results and 0 failures\n",
      "\u001b[92mINFO \u001b[0m:      configure_evaluate: strategy sampled 2 clients (out of 2)\n"
     ]
    },
    {
     "name": "stdout",
     "output_type": "stream",
     "text": [
      "\u001b[36m(ClientAppActor pid=14088)\u001b[0m Client's model: ETM_Client1\n",
      "\u001b[36m(ClientAppActor pid=14088)\u001b[0m Epoch: 000 | Loss: 740.71533203125\n"
     ]
    },
    {
     "name": "stderr",
     "output_type": "stream",
     "text": [
      "\u001b[92mINFO \u001b[0m:      aggregate_evaluate: received 2 results and 0 failures\n",
      "\u001b[92mINFO \u001b[0m:      \n",
      "\u001b[92mINFO \u001b[0m:      [ROUND 125]\n",
      "\u001b[92mINFO \u001b[0m:      configure_fit: strategy sampled 2 clients (out of 2)\n"
     ]
    },
    {
     "name": "stdout",
     "output_type": "stream",
     "text": [
      "\u001b[36m(ClientAppActor pid=14088)\u001b[0m Client's model: ETM_Client0\n",
      "\u001b[36m(ClientAppActor pid=14088)\u001b[0m Epoch: 000 | Loss: 755.9430541992188\n"
     ]
    },
    {
     "name": "stderr",
     "output_type": "stream",
     "text": [
      "\u001b[92mINFO \u001b[0m:      aggregate_fit: received 2 results and 0 failures\n"
     ]
    },
    {
     "name": "stdout",
     "output_type": "stream",
     "text": [
      "\u001b[36m(ClientAppActor pid=14088)\u001b[0m Client's model: ETM_Client1\n",
      "\u001b[36m(ClientAppActor pid=14088)\u001b[0m Epoch: 000 | Loss: 740.73486328125\n"
     ]
    },
    {
     "name": "stderr",
     "output_type": "stream",
     "text": [
      "\u001b[92mINFO \u001b[0m:      configure_evaluate: strategy sampled 2 clients (out of 2)\n",
      "\u001b[92mINFO \u001b[0m:      aggregate_evaluate: received 2 results and 0 failures\n",
      "\u001b[92mINFO \u001b[0m:      \n",
      "\u001b[92mINFO \u001b[0m:      [ROUND 126]\n",
      "\u001b[92mINFO \u001b[0m:      configure_fit: strategy sampled 2 clients (out of 2)\n"
     ]
    },
    {
     "name": "stdout",
     "output_type": "stream",
     "text": [
      "\u001b[36m(ClientAppActor pid=14088)\u001b[0m Client's model: ETM_Client0\n",
      "\u001b[36m(ClientAppActor pid=14088)\u001b[0m Epoch: 000 | Loss: 755.8441162109375\n"
     ]
    },
    {
     "name": "stderr",
     "output_type": "stream",
     "text": [
      "\u001b[92mINFO \u001b[0m:      aggregate_fit: received 2 results and 0 failures\n",
      "\u001b[92mINFO \u001b[0m:      configure_evaluate: strategy sampled 2 clients (out of 2)\n"
     ]
    },
    {
     "name": "stdout",
     "output_type": "stream",
     "text": [
      "\u001b[36m(ClientAppActor pid=14088)\u001b[0m Client's model: ETM_Client1\n",
      "\u001b[36m(ClientAppActor pid=14088)\u001b[0m Epoch: 000 | Loss: 740.5128784179688\n"
     ]
    },
    {
     "name": "stderr",
     "output_type": "stream",
     "text": [
      "\u001b[92mINFO \u001b[0m:      aggregate_evaluate: received 2 results and 0 failures\n",
      "\u001b[92mINFO \u001b[0m:      \n",
      "\u001b[92mINFO \u001b[0m:      [ROUND 127]\n",
      "\u001b[92mINFO \u001b[0m:      configure_fit: strategy sampled 2 clients (out of 2)\n"
     ]
    },
    {
     "name": "stdout",
     "output_type": "stream",
     "text": [
      "\u001b[36m(ClientAppActor pid=14088)\u001b[0m Client's model: ETM_Client0\n",
      "\u001b[36m(ClientAppActor pid=14088)\u001b[0m Epoch: 000 | Loss: 755.8568115234375\n"
     ]
    },
    {
     "name": "stderr",
     "output_type": "stream",
     "text": [
      "\u001b[92mINFO \u001b[0m:      aggregate_fit: received 2 results and 0 failures\n",
      "\u001b[92mINFO \u001b[0m:      configure_evaluate: strategy sampled 2 clients (out of 2)\n"
     ]
    },
    {
     "name": "stdout",
     "output_type": "stream",
     "text": [
      "\u001b[36m(ClientAppActor pid=14088)\u001b[0m Client's model: ETM_Client1\n",
      "\u001b[36m(ClientAppActor pid=14088)\u001b[0m Epoch: 000 | Loss: 740.324951171875\n"
     ]
    },
    {
     "name": "stderr",
     "output_type": "stream",
     "text": [
      "\u001b[92mINFO \u001b[0m:      aggregate_evaluate: received 2 results and 0 failures\n",
      "\u001b[92mINFO \u001b[0m:      \n",
      "\u001b[92mINFO \u001b[0m:      [ROUND 128]\n",
      "\u001b[92mINFO \u001b[0m:      configure_fit: strategy sampled 2 clients (out of 2)\n"
     ]
    },
    {
     "name": "stdout",
     "output_type": "stream",
     "text": [
      "\u001b[36m(ClientAppActor pid=14088)\u001b[0m Client's model: ETM_Client0\n",
      "\u001b[36m(ClientAppActor pid=14088)\u001b[0m Epoch: 000 | Loss: 755.722900390625\n"
     ]
    },
    {
     "name": "stderr",
     "output_type": "stream",
     "text": [
      "\u001b[92mINFO \u001b[0m:      aggregate_fit: received 2 results and 0 failures\n",
      "\u001b[92mINFO \u001b[0m:      configure_evaluate: strategy sampled 2 clients (out of 2)\n"
     ]
    },
    {
     "name": "stdout",
     "output_type": "stream",
     "text": [
      "\u001b[36m(ClientAppActor pid=14088)\u001b[0m Client's model: ETM_Client1\n",
      "\u001b[36m(ClientAppActor pid=14088)\u001b[0m Epoch: 000 | Loss: 740.6422119140625\n"
     ]
    },
    {
     "name": "stderr",
     "output_type": "stream",
     "text": [
      "\u001b[92mINFO \u001b[0m:      aggregate_evaluate: received 2 results and 0 failures\n",
      "\u001b[92mINFO \u001b[0m:      \n",
      "\u001b[92mINFO \u001b[0m:      [ROUND 129]\n",
      "\u001b[92mINFO \u001b[0m:      configure_fit: strategy sampled 2 clients (out of 2)\n"
     ]
    },
    {
     "name": "stdout",
     "output_type": "stream",
     "text": [
      "\u001b[36m(ClientAppActor pid=14088)\u001b[0m Client's model: ETM_Client0\n",
      "\u001b[36m(ClientAppActor pid=14088)\u001b[0m Epoch: 000 | Loss: 755.8641357421875\n"
     ]
    },
    {
     "name": "stderr",
     "output_type": "stream",
     "text": [
      "\u001b[92mINFO \u001b[0m:      aggregate_fit: received 2 results and 0 failures\n",
      "\u001b[92mINFO \u001b[0m:      configure_evaluate: strategy sampled 2 clients (out of 2)\n"
     ]
    },
    {
     "name": "stdout",
     "output_type": "stream",
     "text": [
      "\u001b[36m(ClientAppActor pid=14088)\u001b[0m Client's model: ETM_Client1\n",
      "\u001b[36m(ClientAppActor pid=14088)\u001b[0m Epoch: 000 | Loss: 740.412841796875\n"
     ]
    },
    {
     "name": "stderr",
     "output_type": "stream",
     "text": [
      "\u001b[92mINFO \u001b[0m:      aggregate_evaluate: received 2 results and 0 failures\n",
      "\u001b[92mINFO \u001b[0m:      \n",
      "\u001b[92mINFO \u001b[0m:      [ROUND 130]\n",
      "\u001b[92mINFO \u001b[0m:      configure_fit: strategy sampled 2 clients (out of 2)\n"
     ]
    },
    {
     "name": "stdout",
     "output_type": "stream",
     "text": [
      "\u001b[36m(ClientAppActor pid=14088)\u001b[0m Client's model: ETM_Client0\n",
      "\u001b[36m(ClientAppActor pid=14088)\u001b[0m Epoch: 000 | Loss: 755.7515258789062\n"
     ]
    },
    {
     "name": "stderr",
     "output_type": "stream",
     "text": [
      "\u001b[92mINFO \u001b[0m:      aggregate_fit: received 2 results and 0 failures\n",
      "\u001b[92mINFO \u001b[0m:      configure_evaluate: strategy sampled 2 clients (out of 2)\n"
     ]
    },
    {
     "name": "stdout",
     "output_type": "stream",
     "text": [
      "\u001b[36m(ClientAppActor pid=14088)\u001b[0m Client's model: ETM_Client1\n",
      "\u001b[36m(ClientAppActor pid=14088)\u001b[0m Epoch: 000 | Loss: 740.3225708007812\n",
      "Saving round 130 aggregated_ndarrays...\n"
     ]
    },
    {
     "name": "stderr",
     "output_type": "stream",
     "text": [
      "\u001b[92mINFO \u001b[0m:      aggregate_evaluate: received 2 results and 0 failures\n",
      "\u001b[92mINFO \u001b[0m:      \n",
      "\u001b[92mINFO \u001b[0m:      [ROUND 131]\n",
      "\u001b[92mINFO \u001b[0m:      configure_fit: strategy sampled 2 clients (out of 2)\n"
     ]
    },
    {
     "name": "stdout",
     "output_type": "stream",
     "text": [
      "\u001b[36m(ClientAppActor pid=14088)\u001b[0m Client's model: ETM_Client0\n",
      "\u001b[36m(ClientAppActor pid=14088)\u001b[0m Epoch: 000 | Loss: 755.7117919921875\n"
     ]
    },
    {
     "name": "stderr",
     "output_type": "stream",
     "text": [
      "\u001b[92mINFO \u001b[0m:      aggregate_fit: received 2 results and 0 failures\n",
      "\u001b[92mINFO \u001b[0m:      configure_evaluate: strategy sampled 2 clients (out of 2)\n"
     ]
    },
    {
     "name": "stdout",
     "output_type": "stream",
     "text": [
      "\u001b[36m(ClientAppActor pid=14088)\u001b[0m Client's model: ETM_Client1\n",
      "\u001b[36m(ClientAppActor pid=14088)\u001b[0m Epoch: 000 | Loss: 740.5448608398438\n"
     ]
    },
    {
     "name": "stderr",
     "output_type": "stream",
     "text": [
      "\u001b[92mINFO \u001b[0m:      aggregate_evaluate: received 2 results and 0 failures\n",
      "\u001b[92mINFO \u001b[0m:      \n",
      "\u001b[92mINFO \u001b[0m:      [ROUND 132]\n",
      "\u001b[92mINFO \u001b[0m:      configure_fit: strategy sampled 2 clients (out of 2)\n"
     ]
    },
    {
     "name": "stdout",
     "output_type": "stream",
     "text": [
      "\u001b[36m(ClientAppActor pid=14088)\u001b[0m Client's model: ETM_Client0\n",
      "\u001b[36m(ClientAppActor pid=14088)\u001b[0m Epoch: 000 | Loss: 756.0364990234375\n"
     ]
    },
    {
     "name": "stderr",
     "output_type": "stream",
     "text": [
      "\u001b[92mINFO \u001b[0m:      aggregate_fit: received 2 results and 0 failures\n",
      "\u001b[92mINFO \u001b[0m:      configure_evaluate: strategy sampled 2 clients (out of 2)\n"
     ]
    },
    {
     "name": "stdout",
     "output_type": "stream",
     "text": [
      "\u001b[36m(ClientAppActor pid=14088)\u001b[0m Client's model: ETM_Client1\n",
      "\u001b[36m(ClientAppActor pid=14088)\u001b[0m Epoch: 000 | Loss: 740.7631225585938\n"
     ]
    },
    {
     "name": "stderr",
     "output_type": "stream",
     "text": [
      "\u001b[92mINFO \u001b[0m:      aggregate_evaluate: received 2 results and 0 failures\n",
      "\u001b[92mINFO \u001b[0m:      \n",
      "\u001b[92mINFO \u001b[0m:      [ROUND 133]\n",
      "\u001b[92mINFO \u001b[0m:      configure_fit: strategy sampled 2 clients (out of 2)\n"
     ]
    },
    {
     "name": "stdout",
     "output_type": "stream",
     "text": [
      "\u001b[36m(ClientAppActor pid=14088)\u001b[0m Client's model: ETM_Client0\n",
      "\u001b[36m(ClientAppActor pid=14088)\u001b[0m Epoch: 000 | Loss: 755.743408203125\n"
     ]
    },
    {
     "name": "stderr",
     "output_type": "stream",
     "text": [
      "\u001b[92mINFO \u001b[0m:      aggregate_fit: received 2 results and 0 failures\n",
      "\u001b[92mINFO \u001b[0m:      configure_evaluate: strategy sampled 2 clients (out of 2)\n"
     ]
    },
    {
     "name": "stdout",
     "output_type": "stream",
     "text": [
      "\u001b[36m(ClientAppActor pid=14088)\u001b[0m Client's model: ETM_Client1\n",
      "\u001b[36m(ClientAppActor pid=14088)\u001b[0m Epoch: 000 | Loss: 740.3671264648438\n"
     ]
    },
    {
     "name": "stderr",
     "output_type": "stream",
     "text": [
      "\u001b[92mINFO \u001b[0m:      aggregate_evaluate: received 2 results and 0 failures\n",
      "\u001b[92mINFO \u001b[0m:      \n",
      "\u001b[92mINFO \u001b[0m:      [ROUND 134]\n",
      "\u001b[92mINFO \u001b[0m:      configure_fit: strategy sampled 2 clients (out of 2)\n"
     ]
    },
    {
     "name": "stdout",
     "output_type": "stream",
     "text": [
      "\u001b[36m(ClientAppActor pid=14088)\u001b[0m Client's model: ETM_Client0\n",
      "\u001b[36m(ClientAppActor pid=14088)\u001b[0m Epoch: 000 | Loss: 755.748779296875\n"
     ]
    },
    {
     "name": "stderr",
     "output_type": "stream",
     "text": [
      "\u001b[92mINFO \u001b[0m:      aggregate_fit: received 2 results and 0 failures\n"
     ]
    },
    {
     "name": "stdout",
     "output_type": "stream",
     "text": [
      "\u001b[36m(ClientAppActor pid=14088)\u001b[0m Client's model: ETM_Client1\n",
      "\u001b[36m(ClientAppActor pid=14088)\u001b[0m Epoch: 000 | Loss: 740.2401733398438\n"
     ]
    },
    {
     "name": "stderr",
     "output_type": "stream",
     "text": [
      "\u001b[92mINFO \u001b[0m:      configure_evaluate: strategy sampled 2 clients (out of 2)\n",
      "\u001b[92mINFO \u001b[0m:      aggregate_evaluate: received 2 results and 0 failures\n",
      "\u001b[92mINFO \u001b[0m:      \n",
      "\u001b[92mINFO \u001b[0m:      [ROUND 135]\n",
      "\u001b[92mINFO \u001b[0m:      configure_fit: strategy sampled 2 clients (out of 2)\n"
     ]
    },
    {
     "name": "stdout",
     "output_type": "stream",
     "text": [
      "\u001b[36m(ClientAppActor pid=14088)\u001b[0m Client's model: ETM_Client0\n",
      "\u001b[36m(ClientAppActor pid=14088)\u001b[0m Epoch: 000 | Loss: 755.802734375\n"
     ]
    },
    {
     "name": "stderr",
     "output_type": "stream",
     "text": [
      "\u001b[92mINFO \u001b[0m:      aggregate_fit: received 2 results and 0 failures\n",
      "\u001b[92mINFO \u001b[0m:      configure_evaluate: strategy sampled 2 clients (out of 2)\n"
     ]
    },
    {
     "name": "stdout",
     "output_type": "stream",
     "text": [
      "\u001b[36m(ClientAppActor pid=14088)\u001b[0m Client's model: ETM_Client1\n",
      "\u001b[36m(ClientAppActor pid=14088)\u001b[0m Epoch: 000 | Loss: 740.3958740234375\n"
     ]
    },
    {
     "name": "stderr",
     "output_type": "stream",
     "text": [
      "\u001b[92mINFO \u001b[0m:      aggregate_evaluate: received 2 results and 0 failures\n",
      "\u001b[92mINFO \u001b[0m:      \n",
      "\u001b[92mINFO \u001b[0m:      [ROUND 136]\n",
      "\u001b[92mINFO \u001b[0m:      configure_fit: strategy sampled 2 clients (out of 2)\n"
     ]
    },
    {
     "name": "stdout",
     "output_type": "stream",
     "text": [
      "\u001b[36m(ClientAppActor pid=14088)\u001b[0m Client's model: ETM_Client0\n",
      "\u001b[36m(ClientAppActor pid=14088)\u001b[0m Epoch: 000 | Loss: 755.7814331054688\n"
     ]
    },
    {
     "name": "stderr",
     "output_type": "stream",
     "text": [
      "\u001b[92mINFO \u001b[0m:      aggregate_fit: received 2 results and 0 failures\n",
      "\u001b[92mINFO \u001b[0m:      configure_evaluate: strategy sampled 2 clients (out of 2)\n"
     ]
    },
    {
     "name": "stdout",
     "output_type": "stream",
     "text": [
      "\u001b[36m(ClientAppActor pid=14088)\u001b[0m Client's model: ETM_Client1\n",
      "\u001b[36m(ClientAppActor pid=14088)\u001b[0m Epoch: 000 | Loss: 740.2356567382812\n"
     ]
    },
    {
     "name": "stderr",
     "output_type": "stream",
     "text": [
      "\u001b[92mINFO \u001b[0m:      aggregate_evaluate: received 2 results and 0 failures\n",
      "\u001b[92mINFO \u001b[0m:      \n",
      "\u001b[92mINFO \u001b[0m:      [ROUND 137]\n",
      "\u001b[92mINFO \u001b[0m:      configure_fit: strategy sampled 2 clients (out of 2)\n"
     ]
    },
    {
     "name": "stdout",
     "output_type": "stream",
     "text": [
      "\u001b[36m(ClientAppActor pid=14088)\u001b[0m Client's model: ETM_Client0\n",
      "\u001b[36m(ClientAppActor pid=14088)\u001b[0m Epoch: 000 | Loss: 755.9258422851562\n"
     ]
    },
    {
     "name": "stderr",
     "output_type": "stream",
     "text": [
      "\u001b[92mINFO \u001b[0m:      aggregate_fit: received 2 results and 0 failures\n",
      "\u001b[92mINFO \u001b[0m:      configure_evaluate: strategy sampled 2 clients (out of 2)\n"
     ]
    },
    {
     "name": "stdout",
     "output_type": "stream",
     "text": [
      "\u001b[36m(ClientAppActor pid=14088)\u001b[0m Client's model: ETM_Client1\n",
      "\u001b[36m(ClientAppActor pid=14088)\u001b[0m Epoch: 000 | Loss: 740.48583984375\n"
     ]
    },
    {
     "name": "stderr",
     "output_type": "stream",
     "text": [
      "\u001b[92mINFO \u001b[0m:      aggregate_evaluate: received 2 results and 0 failures\n",
      "\u001b[92mINFO \u001b[0m:      \n",
      "\u001b[92mINFO \u001b[0m:      [ROUND 138]\n",
      "\u001b[92mINFO \u001b[0m:      configure_fit: strategy sampled 2 clients (out of 2)\n"
     ]
    },
    {
     "name": "stdout",
     "output_type": "stream",
     "text": [
      "\u001b[36m(ClientAppActor pid=14088)\u001b[0m Client's model: ETM_Client0\n",
      "\u001b[36m(ClientAppActor pid=14088)\u001b[0m Epoch: 000 | Loss: 755.5847778320312\n"
     ]
    },
    {
     "name": "stderr",
     "output_type": "stream",
     "text": [
      "\u001b[92mINFO \u001b[0m:      aggregate_fit: received 2 results and 0 failures\n",
      "\u001b[92mINFO \u001b[0m:      configure_evaluate: strategy sampled 2 clients (out of 2)\n"
     ]
    },
    {
     "name": "stdout",
     "output_type": "stream",
     "text": [
      "\u001b[36m(ClientAppActor pid=14088)\u001b[0m Client's model: ETM_Client1\n",
      "\u001b[36m(ClientAppActor pid=14088)\u001b[0m Epoch: 000 | Loss: 740.4671630859375\n"
     ]
    },
    {
     "name": "stderr",
     "output_type": "stream",
     "text": [
      "\u001b[92mINFO \u001b[0m:      aggregate_evaluate: received 2 results and 0 failures\n",
      "\u001b[92mINFO \u001b[0m:      \n",
      "\u001b[92mINFO \u001b[0m:      [ROUND 139]\n",
      "\u001b[92mINFO \u001b[0m:      configure_fit: strategy sampled 2 clients (out of 2)\n"
     ]
    },
    {
     "name": "stdout",
     "output_type": "stream",
     "text": [
      "\u001b[36m(ClientAppActor pid=14088)\u001b[0m Client's model: ETM_Client0\n",
      "\u001b[36m(ClientAppActor pid=14088)\u001b[0m Epoch: 000 | Loss: 755.6149291992188\n",
      "\u001b[36m(ClientAppActor pid=14088)\u001b[0m Client's model: ETM_Client1\n",
      "\u001b[36m(ClientAppActor pid=14088)\u001b[0m Epoch: 000 | Loss: 740.3805541992188\n"
     ]
    },
    {
     "name": "stderr",
     "output_type": "stream",
     "text": [
      "\u001b[92mINFO \u001b[0m:      aggregate_fit: received 2 results and 0 failures\n",
      "\u001b[92mINFO \u001b[0m:      configure_evaluate: strategy sampled 2 clients (out of 2)\n",
      "\u001b[92mINFO \u001b[0m:      aggregate_evaluate: received 2 results and 0 failures\n",
      "\u001b[92mINFO \u001b[0m:      \n",
      "\u001b[92mINFO \u001b[0m:      [ROUND 140]\n",
      "\u001b[92mINFO \u001b[0m:      configure_fit: strategy sampled 2 clients (out of 2)\n"
     ]
    },
    {
     "name": "stdout",
     "output_type": "stream",
     "text": [
      "\u001b[36m(ClientAppActor pid=14088)\u001b[0m Client's model: ETM_Client0\n",
      "\u001b[36m(ClientAppActor pid=14088)\u001b[0m Epoch: 000 | Loss: 755.7913208007812\n"
     ]
    },
    {
     "name": "stderr",
     "output_type": "stream",
     "text": [
      "\u001b[92mINFO \u001b[0m:      aggregate_fit: received 2 results and 0 failures\n"
     ]
    },
    {
     "name": "stdout",
     "output_type": "stream",
     "text": [
      "\u001b[36m(ClientAppActor pid=14088)\u001b[0m Client's model: ETM_Client1\n",
      "\u001b[36m(ClientAppActor pid=14088)\u001b[0m Epoch: 000 | Loss: 740.5140380859375\n",
      "Saving round 140 aggregated_ndarrays...\n"
     ]
    },
    {
     "name": "stderr",
     "output_type": "stream",
     "text": [
      "\u001b[92mINFO \u001b[0m:      configure_evaluate: strategy sampled 2 clients (out of 2)\n",
      "\u001b[92mINFO \u001b[0m:      aggregate_evaluate: received 2 results and 0 failures\n",
      "\u001b[92mINFO \u001b[0m:      \n",
      "\u001b[92mINFO \u001b[0m:      [ROUND 141]\n",
      "\u001b[92mINFO \u001b[0m:      configure_fit: strategy sampled 2 clients (out of 2)\n"
     ]
    },
    {
     "name": "stdout",
     "output_type": "stream",
     "text": [
      "\u001b[36m(ClientAppActor pid=14088)\u001b[0m Client's model: ETM_Client0\n",
      "\u001b[36m(ClientAppActor pid=14088)\u001b[0m Epoch: 000 | Loss: 755.6459350585938\n"
     ]
    },
    {
     "name": "stderr",
     "output_type": "stream",
     "text": [
      "\u001b[92mINFO \u001b[0m:      aggregate_fit: received 2 results and 0 failures\n"
     ]
    },
    {
     "name": "stdout",
     "output_type": "stream",
     "text": [
      "\u001b[36m(ClientAppActor pid=14088)\u001b[0m Client's model: ETM_Client1\n",
      "\u001b[36m(ClientAppActor pid=14088)\u001b[0m Epoch: 000 | Loss: 740.5377197265625\n"
     ]
    },
    {
     "name": "stderr",
     "output_type": "stream",
     "text": [
      "\u001b[92mINFO \u001b[0m:      configure_evaluate: strategy sampled 2 clients (out of 2)\n",
      "\u001b[92mINFO \u001b[0m:      aggregate_evaluate: received 2 results and 0 failures\n",
      "\u001b[92mINFO \u001b[0m:      \n",
      "\u001b[92mINFO \u001b[0m:      [ROUND 142]\n",
      "\u001b[92mINFO \u001b[0m:      configure_fit: strategy sampled 2 clients (out of 2)\n"
     ]
    },
    {
     "name": "stdout",
     "output_type": "stream",
     "text": [
      "\u001b[36m(ClientAppActor pid=14088)\u001b[0m Client's model: ETM_Client0\n",
      "\u001b[36m(ClientAppActor pid=14088)\u001b[0m Epoch: 000 | Loss: 755.5482788085938\n"
     ]
    },
    {
     "name": "stderr",
     "output_type": "stream",
     "text": [
      "\u001b[92mINFO \u001b[0m:      aggregate_fit: received 2 results and 0 failures\n",
      "\u001b[92mINFO \u001b[0m:      configure_evaluate: strategy sampled 2 clients (out of 2)\n"
     ]
    },
    {
     "name": "stdout",
     "output_type": "stream",
     "text": [
      "\u001b[36m(ClientAppActor pid=14088)\u001b[0m Client's model: ETM_Client1\n",
      "\u001b[36m(ClientAppActor pid=14088)\u001b[0m Epoch: 000 | Loss: 740.3704833984375\n"
     ]
    },
    {
     "name": "stderr",
     "output_type": "stream",
     "text": [
      "\u001b[92mINFO \u001b[0m:      aggregate_evaluate: received 2 results and 0 failures\n",
      "\u001b[92mINFO \u001b[0m:      \n",
      "\u001b[92mINFO \u001b[0m:      [ROUND 143]\n",
      "\u001b[92mINFO \u001b[0m:      configure_fit: strategy sampled 2 clients (out of 2)\n"
     ]
    },
    {
     "name": "stdout",
     "output_type": "stream",
     "text": [
      "\u001b[36m(ClientAppActor pid=14088)\u001b[0m Client's model: ETM_Client0\n",
      "\u001b[36m(ClientAppActor pid=14088)\u001b[0m Epoch: 000 | Loss: 755.6830444335938\n"
     ]
    },
    {
     "name": "stderr",
     "output_type": "stream",
     "text": [
      "\u001b[92mINFO \u001b[0m:      aggregate_fit: received 2 results and 0 failures\n",
      "\u001b[92mINFO \u001b[0m:      configure_evaluate: strategy sampled 2 clients (out of 2)\n"
     ]
    },
    {
     "name": "stdout",
     "output_type": "stream",
     "text": [
      "\u001b[36m(ClientAppActor pid=14088)\u001b[0m Client's model: ETM_Client1\n",
      "\u001b[36m(ClientAppActor pid=14088)\u001b[0m Epoch: 000 | Loss: 740.15185546875\n"
     ]
    },
    {
     "name": "stderr",
     "output_type": "stream",
     "text": [
      "\u001b[92mINFO \u001b[0m:      aggregate_evaluate: received 2 results and 0 failures\n",
      "\u001b[92mINFO \u001b[0m:      \n",
      "\u001b[92mINFO \u001b[0m:      [ROUND 144]\n",
      "\u001b[92mINFO \u001b[0m:      configure_fit: strategy sampled 2 clients (out of 2)\n"
     ]
    },
    {
     "name": "stdout",
     "output_type": "stream",
     "text": [
      "\u001b[36m(ClientAppActor pid=14088)\u001b[0m Client's model: ETM_Client0\n",
      "\u001b[36m(ClientAppActor pid=14088)\u001b[0m Epoch: 000 | Loss: 755.5180053710938\n"
     ]
    },
    {
     "name": "stderr",
     "output_type": "stream",
     "text": [
      "\u001b[92mINFO \u001b[0m:      aggregate_fit: received 2 results and 0 failures\n"
     ]
    },
    {
     "name": "stdout",
     "output_type": "stream",
     "text": [
      "\u001b[36m(ClientAppActor pid=14088)\u001b[0m Client's model: ETM_Client1\n",
      "\u001b[36m(ClientAppActor pid=14088)\u001b[0m Epoch: 000 | Loss: 740.148193359375\n"
     ]
    },
    {
     "name": "stderr",
     "output_type": "stream",
     "text": [
      "\u001b[92mINFO \u001b[0m:      configure_evaluate: strategy sampled 2 clients (out of 2)\n",
      "\u001b[92mINFO \u001b[0m:      aggregate_evaluate: received 2 results and 0 failures\n",
      "\u001b[92mINFO \u001b[0m:      \n",
      "\u001b[92mINFO \u001b[0m:      [ROUND 145]\n",
      "\u001b[92mINFO \u001b[0m:      configure_fit: strategy sampled 2 clients (out of 2)\n"
     ]
    },
    {
     "name": "stdout",
     "output_type": "stream",
     "text": [
      "\u001b[36m(ClientAppActor pid=14088)\u001b[0m Client's model: ETM_Client0\n",
      "\u001b[36m(ClientAppActor pid=14088)\u001b[0m Epoch: 000 | Loss: 755.573974609375\n"
     ]
    },
    {
     "name": "stderr",
     "output_type": "stream",
     "text": [
      "\u001b[92mINFO \u001b[0m:      aggregate_fit: received 2 results and 0 failures\n",
      "\u001b[92mINFO \u001b[0m:      configure_evaluate: strategy sampled 2 clients (out of 2)\n"
     ]
    },
    {
     "name": "stdout",
     "output_type": "stream",
     "text": [
      "\u001b[36m(ClientAppActor pid=14088)\u001b[0m Client's model: ETM_Client1\n",
      "\u001b[36m(ClientAppActor pid=14088)\u001b[0m Epoch: 000 | Loss: 740.4995727539062\n"
     ]
    },
    {
     "name": "stderr",
     "output_type": "stream",
     "text": [
      "\u001b[92mINFO \u001b[0m:      aggregate_evaluate: received 2 results and 0 failures\n",
      "\u001b[92mINFO \u001b[0m:      \n",
      "\u001b[92mINFO \u001b[0m:      [ROUND 146]\n",
      "\u001b[92mINFO \u001b[0m:      configure_fit: strategy sampled 2 clients (out of 2)\n"
     ]
    },
    {
     "name": "stdout",
     "output_type": "stream",
     "text": [
      "\u001b[36m(ClientAppActor pid=14088)\u001b[0m Client's model: ETM_Client0\n",
      "\u001b[36m(ClientAppActor pid=14088)\u001b[0m Epoch: 000 | Loss: 755.5838623046875\n"
     ]
    },
    {
     "name": "stderr",
     "output_type": "stream",
     "text": [
      "\u001b[92mINFO \u001b[0m:      aggregate_fit: received 2 results and 0 failures\n",
      "\u001b[92mINFO \u001b[0m:      configure_evaluate: strategy sampled 2 clients (out of 2)\n"
     ]
    },
    {
     "name": "stdout",
     "output_type": "stream",
     "text": [
      "\u001b[36m(ClientAppActor pid=14088)\u001b[0m Client's model: ETM_Client1\n",
      "\u001b[36m(ClientAppActor pid=14088)\u001b[0m Epoch: 000 | Loss: 740.0990600585938\n"
     ]
    },
    {
     "name": "stderr",
     "output_type": "stream",
     "text": [
      "\u001b[92mINFO \u001b[0m:      aggregate_evaluate: received 2 results and 0 failures\n",
      "\u001b[92mINFO \u001b[0m:      \n",
      "\u001b[92mINFO \u001b[0m:      [ROUND 147]\n",
      "\u001b[92mINFO \u001b[0m:      configure_fit: strategy sampled 2 clients (out of 2)\n"
     ]
    },
    {
     "name": "stdout",
     "output_type": "stream",
     "text": [
      "\u001b[36m(ClientAppActor pid=14088)\u001b[0m Client's model: ETM_Client0\n",
      "\u001b[36m(ClientAppActor pid=14088)\u001b[0m Epoch: 000 | Loss: 755.447509765625\n"
     ]
    },
    {
     "name": "stderr",
     "output_type": "stream",
     "text": [
      "\u001b[92mINFO \u001b[0m:      aggregate_fit: received 2 results and 0 failures\n",
      "\u001b[92mINFO \u001b[0m:      configure_evaluate: strategy sampled 2 clients (out of 2)\n"
     ]
    },
    {
     "name": "stdout",
     "output_type": "stream",
     "text": [
      "\u001b[36m(ClientAppActor pid=14088)\u001b[0m Client's model: ETM_Client1\n",
      "\u001b[36m(ClientAppActor pid=14088)\u001b[0m Epoch: 000 | Loss: 740.0213623046875\n"
     ]
    },
    {
     "name": "stderr",
     "output_type": "stream",
     "text": [
      "\u001b[92mINFO \u001b[0m:      aggregate_evaluate: received 2 results and 0 failures\n",
      "\u001b[92mINFO \u001b[0m:      \n",
      "\u001b[92mINFO \u001b[0m:      [ROUND 148]\n",
      "\u001b[92mINFO \u001b[0m:      configure_fit: strategy sampled 2 clients (out of 2)\n"
     ]
    },
    {
     "name": "stdout",
     "output_type": "stream",
     "text": [
      "\u001b[36m(ClientAppActor pid=14088)\u001b[0m Client's model: ETM_Client0\n",
      "\u001b[36m(ClientAppActor pid=14088)\u001b[0m Epoch: 000 | Loss: 755.4318237304688\n"
     ]
    },
    {
     "name": "stderr",
     "output_type": "stream",
     "text": [
      "\u001b[92mINFO \u001b[0m:      aggregate_fit: received 2 results and 0 failures\n",
      "\u001b[92mINFO \u001b[0m:      configure_evaluate: strategy sampled 2 clients (out of 2)\n"
     ]
    },
    {
     "name": "stdout",
     "output_type": "stream",
     "text": [
      "\u001b[36m(ClientAppActor pid=14088)\u001b[0m Client's model: ETM_Client1\n",
      "\u001b[36m(ClientAppActor pid=14088)\u001b[0m Epoch: 000 | Loss: 740.1905517578125\n"
     ]
    },
    {
     "name": "stderr",
     "output_type": "stream",
     "text": [
      "\u001b[92mINFO \u001b[0m:      aggregate_evaluate: received 2 results and 0 failures\n",
      "\u001b[92mINFO \u001b[0m:      \n",
      "\u001b[92mINFO \u001b[0m:      [ROUND 149]\n",
      "\u001b[92mINFO \u001b[0m:      configure_fit: strategy sampled 2 clients (out of 2)\n"
     ]
    },
    {
     "name": "stdout",
     "output_type": "stream",
     "text": [
      "\u001b[36m(ClientAppActor pid=14088)\u001b[0m Client's model: ETM_Client0\n",
      "\u001b[36m(ClientAppActor pid=14088)\u001b[0m Epoch: 000 | Loss: 755.362548828125\n"
     ]
    },
    {
     "name": "stderr",
     "output_type": "stream",
     "text": [
      "\u001b[92mINFO \u001b[0m:      aggregate_fit: received 2 results and 0 failures\n",
      "\u001b[92mINFO \u001b[0m:      configure_evaluate: strategy sampled 2 clients (out of 2)\n"
     ]
    },
    {
     "name": "stdout",
     "output_type": "stream",
     "text": [
      "\u001b[36m(ClientAppActor pid=14088)\u001b[0m Client's model: ETM_Client1\n",
      "\u001b[36m(ClientAppActor pid=14088)\u001b[0m Epoch: 000 | Loss: 740.0986938476562\n"
     ]
    },
    {
     "name": "stderr",
     "output_type": "stream",
     "text": [
      "\u001b[92mINFO \u001b[0m:      aggregate_evaluate: received 2 results and 0 failures\n",
      "\u001b[92mINFO \u001b[0m:      \n",
      "\u001b[92mINFO \u001b[0m:      [ROUND 150]\n",
      "\u001b[92mINFO \u001b[0m:      configure_fit: strategy sampled 2 clients (out of 2)\n"
     ]
    },
    {
     "name": "stdout",
     "output_type": "stream",
     "text": [
      "\u001b[36m(ClientAppActor pid=14088)\u001b[0m Client's model: ETM_Client0\n",
      "\u001b[36m(ClientAppActor pid=14088)\u001b[0m Epoch: 000 | Loss: 755.234375\n"
     ]
    },
    {
     "name": "stderr",
     "output_type": "stream",
     "text": [
      "\u001b[92mINFO \u001b[0m:      aggregate_fit: received 2 results and 0 failures\n",
      "\u001b[92mINFO \u001b[0m:      configure_evaluate: strategy sampled 2 clients (out of 2)\n"
     ]
    },
    {
     "name": "stdout",
     "output_type": "stream",
     "text": [
      "\u001b[36m(ClientAppActor pid=14088)\u001b[0m Client's model: ETM_Client1\n",
      "\u001b[36m(ClientAppActor pid=14088)\u001b[0m Epoch: 000 | Loss: 740.1316528320312\n",
      "Saving round 150 aggregated_ndarrays...\n"
     ]
    },
    {
     "name": "stderr",
     "output_type": "stream",
     "text": [
      "\u001b[92mINFO \u001b[0m:      aggregate_evaluate: received 2 results and 0 failures\n",
      "\u001b[92mINFO \u001b[0m:      \n",
      "\u001b[92mINFO \u001b[0m:      [ROUND 151]\n",
      "\u001b[92mINFO \u001b[0m:      configure_fit: strategy sampled 2 clients (out of 2)\n"
     ]
    },
    {
     "name": "stdout",
     "output_type": "stream",
     "text": [
      "\u001b[36m(ClientAppActor pid=14088)\u001b[0m Client's model: ETM_Client0\n",
      "\u001b[36m(ClientAppActor pid=14088)\u001b[0m Epoch: 000 | Loss: 755.2335205078125\n"
     ]
    },
    {
     "name": "stderr",
     "output_type": "stream",
     "text": [
      "\u001b[92mINFO \u001b[0m:      aggregate_fit: received 2 results and 0 failures\n",
      "\u001b[92mINFO \u001b[0m:      configure_evaluate: strategy sampled 2 clients (out of 2)\n"
     ]
    },
    {
     "name": "stdout",
     "output_type": "stream",
     "text": [
      "\u001b[36m(ClientAppActor pid=14088)\u001b[0m Client's model: ETM_Client1\n",
      "\u001b[36m(ClientAppActor pid=14088)\u001b[0m Epoch: 000 | Loss: 740.0167846679688\n"
     ]
    },
    {
     "name": "stderr",
     "output_type": "stream",
     "text": [
      "\u001b[92mINFO \u001b[0m:      aggregate_evaluate: received 2 results and 0 failures\n",
      "\u001b[92mINFO \u001b[0m:      \n",
      "\u001b[92mINFO \u001b[0m:      [ROUND 152]\n",
      "\u001b[92mINFO \u001b[0m:      configure_fit: strategy sampled 2 clients (out of 2)\n"
     ]
    },
    {
     "name": "stdout",
     "output_type": "stream",
     "text": [
      "\u001b[36m(ClientAppActor pid=14088)\u001b[0m Client's model: ETM_Client0\n",
      "\u001b[36m(ClientAppActor pid=14088)\u001b[0m Epoch: 000 | Loss: 755.357177734375\n"
     ]
    },
    {
     "name": "stderr",
     "output_type": "stream",
     "text": [
      "\u001b[92mINFO \u001b[0m:      aggregate_fit: received 2 results and 0 failures\n",
      "\u001b[92mINFO \u001b[0m:      configure_evaluate: strategy sampled 2 clients (out of 2)\n"
     ]
    },
    {
     "name": "stdout",
     "output_type": "stream",
     "text": [
      "\u001b[36m(ClientAppActor pid=14088)\u001b[0m Client's model: ETM_Client1\n",
      "\u001b[36m(ClientAppActor pid=14088)\u001b[0m Epoch: 000 | Loss: 740.3863525390625\n"
     ]
    },
    {
     "name": "stderr",
     "output_type": "stream",
     "text": [
      "\u001b[92mINFO \u001b[0m:      aggregate_evaluate: received 2 results and 0 failures\n",
      "\u001b[92mINFO \u001b[0m:      \n",
      "\u001b[92mINFO \u001b[0m:      [ROUND 153]\n",
      "\u001b[92mINFO \u001b[0m:      configure_fit: strategy sampled 2 clients (out of 2)\n"
     ]
    },
    {
     "name": "stdout",
     "output_type": "stream",
     "text": [
      "\u001b[36m(ClientAppActor pid=14088)\u001b[0m Client's model: ETM_Client0\n",
      "\u001b[36m(ClientAppActor pid=14088)\u001b[0m Epoch: 000 | Loss: 755.3701782226562\n"
     ]
    },
    {
     "name": "stderr",
     "output_type": "stream",
     "text": [
      "\u001b[92mINFO \u001b[0m:      aggregate_fit: received 2 results and 0 failures\n"
     ]
    },
    {
     "name": "stdout",
     "output_type": "stream",
     "text": [
      "\u001b[36m(ClientAppActor pid=14088)\u001b[0m Client's model: ETM_Client1\n",
      "\u001b[36m(ClientAppActor pid=14088)\u001b[0m Epoch: 000 | Loss: 740.3191528320312\n"
     ]
    },
    {
     "name": "stderr",
     "output_type": "stream",
     "text": [
      "\u001b[92mINFO \u001b[0m:      configure_evaluate: strategy sampled 2 clients (out of 2)\n",
      "\u001b[92mINFO \u001b[0m:      aggregate_evaluate: received 2 results and 0 failures\n",
      "\u001b[92mINFO \u001b[0m:      \n",
      "\u001b[92mINFO \u001b[0m:      [ROUND 154]\n",
      "\u001b[92mINFO \u001b[0m:      configure_fit: strategy sampled 2 clients (out of 2)\n"
     ]
    },
    {
     "name": "stdout",
     "output_type": "stream",
     "text": [
      "\u001b[36m(ClientAppActor pid=14088)\u001b[0m Client's model: ETM_Client0\n",
      "\u001b[36m(ClientAppActor pid=14088)\u001b[0m Epoch: 000 | Loss: 755.6236572265625\n"
     ]
    },
    {
     "name": "stderr",
     "output_type": "stream",
     "text": [
      "\u001b[92mINFO \u001b[0m:      aggregate_fit: received 2 results and 0 failures\n"
     ]
    },
    {
     "name": "stdout",
     "output_type": "stream",
     "text": [
      "\u001b[36m(ClientAppActor pid=14088)\u001b[0m Client's model: ETM_Client1\n",
      "\u001b[36m(ClientAppActor pid=14088)\u001b[0m Epoch: 000 | Loss: 740.27734375\n"
     ]
    },
    {
     "name": "stderr",
     "output_type": "stream",
     "text": [
      "\u001b[92mINFO \u001b[0m:      configure_evaluate: strategy sampled 2 clients (out of 2)\n",
      "\u001b[92mINFO \u001b[0m:      aggregate_evaluate: received 2 results and 0 failures\n",
      "\u001b[92mINFO \u001b[0m:      \n",
      "\u001b[92mINFO \u001b[0m:      [ROUND 155]\n",
      "\u001b[92mINFO \u001b[0m:      configure_fit: strategy sampled 2 clients (out of 2)\n"
     ]
    },
    {
     "name": "stdout",
     "output_type": "stream",
     "text": [
      "\u001b[36m(ClientAppActor pid=14088)\u001b[0m Client's model: ETM_Client0\n",
      "\u001b[36m(ClientAppActor pid=14088)\u001b[0m Epoch: 000 | Loss: 755.3502807617188\n"
     ]
    },
    {
     "name": "stderr",
     "output_type": "stream",
     "text": [
      "\u001b[92mINFO \u001b[0m:      aggregate_fit: received 2 results and 0 failures\n",
      "\u001b[92mINFO \u001b[0m:      configure_evaluate: strategy sampled 2 clients (out of 2)\n"
     ]
    },
    {
     "name": "stdout",
     "output_type": "stream",
     "text": [
      "\u001b[36m(ClientAppActor pid=14088)\u001b[0m Client's model: ETM_Client1\n",
      "\u001b[36m(ClientAppActor pid=14088)\u001b[0m Epoch: 000 | Loss: 740.161376953125\n"
     ]
    },
    {
     "name": "stderr",
     "output_type": "stream",
     "text": [
      "\u001b[92mINFO \u001b[0m:      aggregate_evaluate: received 2 results and 0 failures\n",
      "\u001b[92mINFO \u001b[0m:      \n",
      "\u001b[92mINFO \u001b[0m:      [ROUND 156]\n",
      "\u001b[92mINFO \u001b[0m:      configure_fit: strategy sampled 2 clients (out of 2)\n"
     ]
    },
    {
     "name": "stdout",
     "output_type": "stream",
     "text": [
      "\u001b[36m(ClientAppActor pid=14088)\u001b[0m Client's model: ETM_Client0\n",
      "\u001b[36m(ClientAppActor pid=14088)\u001b[0m Epoch: 000 | Loss: 755.4029541015625\n"
     ]
    },
    {
     "name": "stderr",
     "output_type": "stream",
     "text": [
      "\u001b[92mINFO \u001b[0m:      aggregate_fit: received 2 results and 0 failures\n",
      "\u001b[92mINFO \u001b[0m:      configure_evaluate: strategy sampled 2 clients (out of 2)\n"
     ]
    },
    {
     "name": "stdout",
     "output_type": "stream",
     "text": [
      "\u001b[36m(ClientAppActor pid=14088)\u001b[0m Client's model: ETM_Client1\n",
      "\u001b[36m(ClientAppActor pid=14088)\u001b[0m Epoch: 000 | Loss: 740.018798828125\n"
     ]
    },
    {
     "name": "stderr",
     "output_type": "stream",
     "text": [
      "\u001b[92mINFO \u001b[0m:      aggregate_evaluate: received 2 results and 0 failures\n",
      "\u001b[92mINFO \u001b[0m:      \n",
      "\u001b[92mINFO \u001b[0m:      [ROUND 157]\n",
      "\u001b[92mINFO \u001b[0m:      configure_fit: strategy sampled 2 clients (out of 2)\n"
     ]
    },
    {
     "name": "stdout",
     "output_type": "stream",
     "text": [
      "\u001b[36m(ClientAppActor pid=14088)\u001b[0m Client's model: ETM_Client0\n",
      "\u001b[36m(ClientAppActor pid=14088)\u001b[0m Epoch: 000 | Loss: 755.250732421875\n"
     ]
    },
    {
     "name": "stderr",
     "output_type": "stream",
     "text": [
      "\u001b[92mINFO \u001b[0m:      aggregate_fit: received 2 results and 0 failures\n",
      "\u001b[92mINFO \u001b[0m:      configure_evaluate: strategy sampled 2 clients (out of 2)\n"
     ]
    },
    {
     "name": "stdout",
     "output_type": "stream",
     "text": [
      "\u001b[36m(ClientAppActor pid=14088)\u001b[0m Client's model: ETM_Client1\n",
      "\u001b[36m(ClientAppActor pid=14088)\u001b[0m Epoch: 000 | Loss: 739.9649658203125\n"
     ]
    },
    {
     "name": "stderr",
     "output_type": "stream",
     "text": [
      "\u001b[92mINFO \u001b[0m:      aggregate_evaluate: received 2 results and 0 failures\n",
      "\u001b[92mINFO \u001b[0m:      \n",
      "\u001b[92mINFO \u001b[0m:      [ROUND 158]\n",
      "\u001b[92mINFO \u001b[0m:      configure_fit: strategy sampled 2 clients (out of 2)\n"
     ]
    },
    {
     "name": "stdout",
     "output_type": "stream",
     "text": [
      "\u001b[36m(ClientAppActor pid=14088)\u001b[0m Client's model: ETM_Client0\n",
      "\u001b[36m(ClientAppActor pid=14088)\u001b[0m Epoch: 000 | Loss: 755.2794799804688\n"
     ]
    },
    {
     "name": "stderr",
     "output_type": "stream",
     "text": [
      "\u001b[92mINFO \u001b[0m:      aggregate_fit: received 2 results and 0 failures\n",
      "\u001b[92mINFO \u001b[0m:      configure_evaluate: strategy sampled 2 clients (out of 2)\n"
     ]
    },
    {
     "name": "stdout",
     "output_type": "stream",
     "text": [
      "\u001b[36m(ClientAppActor pid=14088)\u001b[0m Client's model: ETM_Client1\n",
      "\u001b[36m(ClientAppActor pid=14088)\u001b[0m Epoch: 000 | Loss: 739.9107666015625\n"
     ]
    },
    {
     "name": "stderr",
     "output_type": "stream",
     "text": [
      "\u001b[92mINFO \u001b[0m:      aggregate_evaluate: received 2 results and 0 failures\n",
      "\u001b[92mINFO \u001b[0m:      \n",
      "\u001b[92mINFO \u001b[0m:      [ROUND 159]\n",
      "\u001b[92mINFO \u001b[0m:      configure_fit: strategy sampled 2 clients (out of 2)\n"
     ]
    },
    {
     "name": "stdout",
     "output_type": "stream",
     "text": [
      "\u001b[36m(ClientAppActor pid=14088)\u001b[0m Client's model: ETM_Client0\n",
      "\u001b[36m(ClientAppActor pid=14088)\u001b[0m Epoch: 000 | Loss: 755.2871704101562\n"
     ]
    },
    {
     "name": "stderr",
     "output_type": "stream",
     "text": [
      "\u001b[92mINFO \u001b[0m:      aggregate_fit: received 2 results and 0 failures\n",
      "\u001b[92mINFO \u001b[0m:      configure_evaluate: strategy sampled 2 clients (out of 2)\n"
     ]
    },
    {
     "name": "stdout",
     "output_type": "stream",
     "text": [
      "\u001b[36m(ClientAppActor pid=14088)\u001b[0m Client's model: ETM_Client1\n",
      "\u001b[36m(ClientAppActor pid=14088)\u001b[0m Epoch: 000 | Loss: 740.1336059570312\n"
     ]
    },
    {
     "name": "stderr",
     "output_type": "stream",
     "text": [
      "\u001b[92mINFO \u001b[0m:      aggregate_evaluate: received 2 results and 0 failures\n",
      "\u001b[92mINFO \u001b[0m:      \n",
      "\u001b[92mINFO \u001b[0m:      [ROUND 160]\n",
      "\u001b[92mINFO \u001b[0m:      configure_fit: strategy sampled 2 clients (out of 2)\n"
     ]
    },
    {
     "name": "stdout",
     "output_type": "stream",
     "text": [
      "\u001b[36m(ClientAppActor pid=14088)\u001b[0m Client's model: ETM_Client0\n",
      "\u001b[36m(ClientAppActor pid=14088)\u001b[0m Epoch: 000 | Loss: 755.3634643554688\n"
     ]
    },
    {
     "name": "stderr",
     "output_type": "stream",
     "text": [
      "\u001b[92mINFO \u001b[0m:      aggregate_fit: received 2 results and 0 failures\n"
     ]
    },
    {
     "name": "stdout",
     "output_type": "stream",
     "text": [
      "\u001b[36m(ClientAppActor pid=14088)\u001b[0m Client's model: ETM_Client1\n",
      "\u001b[36m(ClientAppActor pid=14088)\u001b[0m Epoch: 000 | Loss: 739.94482421875\n"
     ]
    },
    {
     "name": "stderr",
     "output_type": "stream",
     "text": [
      "\u001b[92mINFO \u001b[0m:      configure_evaluate: strategy sampled 2 clients (out of 2)\n"
     ]
    },
    {
     "name": "stdout",
     "output_type": "stream",
     "text": [
      "Saving round 160 aggregated_ndarrays...\n"
     ]
    },
    {
     "name": "stderr",
     "output_type": "stream",
     "text": [
      "\u001b[92mINFO \u001b[0m:      aggregate_evaluate: received 2 results and 0 failures\n",
      "\u001b[92mINFO \u001b[0m:      \n",
      "\u001b[92mINFO \u001b[0m:      [ROUND 161]\n",
      "\u001b[92mINFO \u001b[0m:      configure_fit: strategy sampled 2 clients (out of 2)\n"
     ]
    },
    {
     "name": "stdout",
     "output_type": "stream",
     "text": [
      "\u001b[36m(ClientAppActor pid=14088)\u001b[0m Client's model: ETM_Client0\n",
      "\u001b[36m(ClientAppActor pid=14088)\u001b[0m Epoch: 000 | Loss: 755.2469482421875\n"
     ]
    },
    {
     "name": "stderr",
     "output_type": "stream",
     "text": [
      "\u001b[92mINFO \u001b[0m:      aggregate_fit: received 2 results and 0 failures\n",
      "\u001b[92mINFO \u001b[0m:      configure_evaluate: strategy sampled 2 clients (out of 2)\n"
     ]
    },
    {
     "name": "stdout",
     "output_type": "stream",
     "text": [
      "\u001b[36m(ClientAppActor pid=14088)\u001b[0m Client's model: ETM_Client1\n",
      "\u001b[36m(ClientAppActor pid=14088)\u001b[0m Epoch: 000 | Loss: 740.2864379882812\n"
     ]
    },
    {
     "name": "stderr",
     "output_type": "stream",
     "text": [
      "\u001b[92mINFO \u001b[0m:      aggregate_evaluate: received 2 results and 0 failures\n",
      "\u001b[92mINFO \u001b[0m:      \n",
      "\u001b[92mINFO \u001b[0m:      [ROUND 162]\n",
      "\u001b[92mINFO \u001b[0m:      configure_fit: strategy sampled 2 clients (out of 2)\n"
     ]
    },
    {
     "name": "stdout",
     "output_type": "stream",
     "text": [
      "\u001b[36m(ClientAppActor pid=14088)\u001b[0m Client's model: ETM_Client0\n",
      "\u001b[36m(ClientAppActor pid=14088)\u001b[0m Epoch: 000 | Loss: 755.1492919921875\n"
     ]
    },
    {
     "name": "stderr",
     "output_type": "stream",
     "text": [
      "\u001b[92mINFO \u001b[0m:      aggregate_fit: received 2 results and 0 failures\n",
      "\u001b[92mINFO \u001b[0m:      configure_evaluate: strategy sampled 2 clients (out of 2)\n"
     ]
    },
    {
     "name": "stdout",
     "output_type": "stream",
     "text": [
      "\u001b[36m(ClientAppActor pid=14088)\u001b[0m Client's model: ETM_Client1\n",
      "\u001b[36m(ClientAppActor pid=14088)\u001b[0m Epoch: 000 | Loss: 739.952880859375\n"
     ]
    },
    {
     "name": "stderr",
     "output_type": "stream",
     "text": [
      "\u001b[92mINFO \u001b[0m:      aggregate_evaluate: received 2 results and 0 failures\n",
      "\u001b[92mINFO \u001b[0m:      \n",
      "\u001b[92mINFO \u001b[0m:      [ROUND 163]\n",
      "\u001b[92mINFO \u001b[0m:      configure_fit: strategy sampled 2 clients (out of 2)\n"
     ]
    },
    {
     "name": "stdout",
     "output_type": "stream",
     "text": [
      "\u001b[36m(ClientAppActor pid=14088)\u001b[0m Client's model: ETM_Client0\n",
      "\u001b[36m(ClientAppActor pid=14088)\u001b[0m Epoch: 000 | Loss: 755.36328125\n"
     ]
    },
    {
     "name": "stderr",
     "output_type": "stream",
     "text": [
      "\u001b[92mINFO \u001b[0m:      aggregate_fit: received 2 results and 0 failures\n",
      "\u001b[92mINFO \u001b[0m:      configure_evaluate: strategy sampled 2 clients (out of 2)\n"
     ]
    },
    {
     "name": "stdout",
     "output_type": "stream",
     "text": [
      "\u001b[36m(ClientAppActor pid=14088)\u001b[0m Client's model: ETM_Client1\n",
      "\u001b[36m(ClientAppActor pid=14088)\u001b[0m Epoch: 000 | Loss: 739.9976196289062\n"
     ]
    },
    {
     "name": "stderr",
     "output_type": "stream",
     "text": [
      "\u001b[92mINFO \u001b[0m:      aggregate_evaluate: received 2 results and 0 failures\n",
      "\u001b[92mINFO \u001b[0m:      \n",
      "\u001b[92mINFO \u001b[0m:      [ROUND 164]\n",
      "\u001b[92mINFO \u001b[0m:      configure_fit: strategy sampled 2 clients (out of 2)\n"
     ]
    },
    {
     "name": "stdout",
     "output_type": "stream",
     "text": [
      "\u001b[36m(ClientAppActor pid=14088)\u001b[0m Client's model: ETM_Client0\n",
      "\u001b[36m(ClientAppActor pid=14088)\u001b[0m Epoch: 000 | Loss: 755.4281616210938\n"
     ]
    },
    {
     "name": "stderr",
     "output_type": "stream",
     "text": [
      "\u001b[92mINFO \u001b[0m:      aggregate_fit: received 2 results and 0 failures\n",
      "\u001b[92mINFO \u001b[0m:      configure_evaluate: strategy sampled 2 clients (out of 2)\n"
     ]
    },
    {
     "name": "stdout",
     "output_type": "stream",
     "text": [
      "\u001b[36m(ClientAppActor pid=14088)\u001b[0m Client's model: ETM_Client1\n",
      "\u001b[36m(ClientAppActor pid=14088)\u001b[0m Epoch: 000 | Loss: 740.0573120117188\n"
     ]
    },
    {
     "name": "stderr",
     "output_type": "stream",
     "text": [
      "\u001b[92mINFO \u001b[0m:      aggregate_evaluate: received 2 results and 0 failures\n",
      "\u001b[92mINFO \u001b[0m:      \n",
      "\u001b[92mINFO \u001b[0m:      [ROUND 165]\n",
      "\u001b[92mINFO \u001b[0m:      configure_fit: strategy sampled 2 clients (out of 2)\n"
     ]
    },
    {
     "name": "stdout",
     "output_type": "stream",
     "text": [
      "\u001b[36m(ClientAppActor pid=14088)\u001b[0m Client's model: ETM_Client0\n",
      "\u001b[36m(ClientAppActor pid=14088)\u001b[0m Epoch: 000 | Loss: 755.2009887695312\n"
     ]
    },
    {
     "name": "stderr",
     "output_type": "stream",
     "text": [
      "\u001b[92mINFO \u001b[0m:      aggregate_fit: received 2 results and 0 failures\n",
      "\u001b[92mINFO \u001b[0m:      configure_evaluate: strategy sampled 2 clients (out of 2)\n"
     ]
    },
    {
     "name": "stdout",
     "output_type": "stream",
     "text": [
      "\u001b[36m(ClientAppActor pid=14088)\u001b[0m Client's model: ETM_Client1\n",
      "\u001b[36m(ClientAppActor pid=14088)\u001b[0m Epoch: 000 | Loss: 739.8154907226562\n"
     ]
    },
    {
     "name": "stderr",
     "output_type": "stream",
     "text": [
      "\u001b[92mINFO \u001b[0m:      aggregate_evaluate: received 2 results and 0 failures\n",
      "\u001b[92mINFO \u001b[0m:      \n",
      "\u001b[92mINFO \u001b[0m:      [ROUND 166]\n",
      "\u001b[92mINFO \u001b[0m:      configure_fit: strategy sampled 2 clients (out of 2)\n"
     ]
    },
    {
     "name": "stdout",
     "output_type": "stream",
     "text": [
      "\u001b[36m(ClientAppActor pid=14088)\u001b[0m Client's model: ETM_Client0\n",
      "\u001b[36m(ClientAppActor pid=14088)\u001b[0m Epoch: 000 | Loss: 755.1214599609375\n"
     ]
    },
    {
     "name": "stderr",
     "output_type": "stream",
     "text": [
      "\u001b[92mINFO \u001b[0m:      aggregate_fit: received 2 results and 0 failures\n",
      "\u001b[92mINFO \u001b[0m:      configure_evaluate: strategy sampled 2 clients (out of 2)\n"
     ]
    },
    {
     "name": "stdout",
     "output_type": "stream",
     "text": [
      "\u001b[36m(ClientAppActor pid=14088)\u001b[0m Client's model: ETM_Client1\n",
      "\u001b[36m(ClientAppActor pid=14088)\u001b[0m Epoch: 000 | Loss: 739.7777099609375\n"
     ]
    },
    {
     "name": "stderr",
     "output_type": "stream",
     "text": [
      "\u001b[92mINFO \u001b[0m:      aggregate_evaluate: received 2 results and 0 failures\n",
      "\u001b[92mINFO \u001b[0m:      \n",
      "\u001b[92mINFO \u001b[0m:      [ROUND 167]\n",
      "\u001b[92mINFO \u001b[0m:      configure_fit: strategy sampled 2 clients (out of 2)\n"
     ]
    },
    {
     "name": "stdout",
     "output_type": "stream",
     "text": [
      "\u001b[36m(ClientAppActor pid=14088)\u001b[0m Client's model: ETM_Client0\n",
      "\u001b[36m(ClientAppActor pid=14088)\u001b[0m Epoch: 000 | Loss: 755.1343383789062\n"
     ]
    },
    {
     "name": "stderr",
     "output_type": "stream",
     "text": [
      "\u001b[92mINFO \u001b[0m:      aggregate_fit: received 2 results and 0 failures\n",
      "\u001b[92mINFO \u001b[0m:      configure_evaluate: strategy sampled 2 clients (out of 2)\n"
     ]
    },
    {
     "name": "stdout",
     "output_type": "stream",
     "text": [
      "\u001b[36m(ClientAppActor pid=14088)\u001b[0m Client's model: ETM_Client1\n",
      "\u001b[36m(ClientAppActor pid=14088)\u001b[0m Epoch: 000 | Loss: 739.7427978515625\n"
     ]
    },
    {
     "name": "stderr",
     "output_type": "stream",
     "text": [
      "\u001b[92mINFO \u001b[0m:      aggregate_evaluate: received 2 results and 0 failures\n",
      "\u001b[92mINFO \u001b[0m:      \n",
      "\u001b[92mINFO \u001b[0m:      [ROUND 168]\n",
      "\u001b[92mINFO \u001b[0m:      configure_fit: strategy sampled 2 clients (out of 2)\n"
     ]
    },
    {
     "name": "stdout",
     "output_type": "stream",
     "text": [
      "\u001b[36m(ClientAppActor pid=14088)\u001b[0m Client's model: ETM_Client0\n",
      "\u001b[36m(ClientAppActor pid=14088)\u001b[0m Epoch: 000 | Loss: 755.3475341796875\n"
     ]
    },
    {
     "name": "stderr",
     "output_type": "stream",
     "text": [
      "\u001b[92mINFO \u001b[0m:      aggregate_fit: received 2 results and 0 failures\n"
     ]
    },
    {
     "name": "stdout",
     "output_type": "stream",
     "text": [
      "\u001b[36m(ClientAppActor pid=14088)\u001b[0m Client's model: ETM_Client1\n",
      "\u001b[36m(ClientAppActor pid=14088)\u001b[0m Epoch: 000 | Loss: 740.0718383789062\n"
     ]
    },
    {
     "name": "stderr",
     "output_type": "stream",
     "text": [
      "\u001b[92mINFO \u001b[0m:      configure_evaluate: strategy sampled 2 clients (out of 2)\n",
      "\u001b[92mINFO \u001b[0m:      aggregate_evaluate: received 2 results and 0 failures\n",
      "\u001b[92mINFO \u001b[0m:      \n",
      "\u001b[92mINFO \u001b[0m:      [ROUND 169]\n",
      "\u001b[92mINFO \u001b[0m:      configure_fit: strategy sampled 2 clients (out of 2)\n"
     ]
    },
    {
     "name": "stdout",
     "output_type": "stream",
     "text": [
      "\u001b[36m(ClientAppActor pid=14088)\u001b[0m Client's model: ETM_Client0\n",
      "\u001b[36m(ClientAppActor pid=14088)\u001b[0m Epoch: 000 | Loss: 755.357421875\n"
     ]
    },
    {
     "name": "stderr",
     "output_type": "stream",
     "text": [
      "\u001b[92mINFO \u001b[0m:      aggregate_fit: received 2 results and 0 failures\n"
     ]
    },
    {
     "name": "stdout",
     "output_type": "stream",
     "text": [
      "\u001b[36m(ClientAppActor pid=14088)\u001b[0m Client's model: ETM_Client1\n",
      "\u001b[36m(ClientAppActor pid=14088)\u001b[0m Epoch: 000 | Loss: 739.8374633789062\n"
     ]
    },
    {
     "name": "stderr",
     "output_type": "stream",
     "text": [
      "\u001b[92mINFO \u001b[0m:      configure_evaluate: strategy sampled 2 clients (out of 2)\n",
      "\u001b[92mINFO \u001b[0m:      aggregate_evaluate: received 2 results and 0 failures\n",
      "\u001b[92mINFO \u001b[0m:      \n",
      "\u001b[92mINFO \u001b[0m:      [ROUND 170]\n",
      "\u001b[92mINFO \u001b[0m:      configure_fit: strategy sampled 2 clients (out of 2)\n"
     ]
    },
    {
     "name": "stdout",
     "output_type": "stream",
     "text": [
      "\u001b[36m(ClientAppActor pid=14088)\u001b[0m Client's model: ETM_Client0\n",
      "\u001b[36m(ClientAppActor pid=14088)\u001b[0m Epoch: 000 | Loss: 754.9143676757812\n"
     ]
    },
    {
     "name": "stderr",
     "output_type": "stream",
     "text": [
      "\u001b[92mINFO \u001b[0m:      aggregate_fit: received 2 results and 0 failures\n"
     ]
    },
    {
     "name": "stdout",
     "output_type": "stream",
     "text": [
      "\u001b[36m(ClientAppActor pid=14088)\u001b[0m Client's model: ETM_Client1\n",
      "\u001b[36m(ClientAppActor pid=14088)\u001b[0m Epoch: 000 | Loss: 739.8270874023438\n"
     ]
    },
    {
     "name": "stderr",
     "output_type": "stream",
     "text": [
      "\u001b[92mINFO \u001b[0m:      configure_evaluate: strategy sampled 2 clients (out of 2)\n"
     ]
    },
    {
     "name": "stdout",
     "output_type": "stream",
     "text": [
      "Saving round 170 aggregated_ndarrays...\n"
     ]
    },
    {
     "name": "stderr",
     "output_type": "stream",
     "text": [
      "\u001b[92mINFO \u001b[0m:      aggregate_evaluate: received 2 results and 0 failures\n",
      "\u001b[92mINFO \u001b[0m:      \n",
      "\u001b[92mINFO \u001b[0m:      [ROUND 171]\n",
      "\u001b[92mINFO \u001b[0m:      configure_fit: strategy sampled 2 clients (out of 2)\n"
     ]
    },
    {
     "name": "stdout",
     "output_type": "stream",
     "text": [
      "\u001b[36m(ClientAppActor pid=14088)\u001b[0m Client's model: ETM_Client0\n",
      "\u001b[36m(ClientAppActor pid=14088)\u001b[0m Epoch: 000 | Loss: 755.1611938476562\n"
     ]
    },
    {
     "name": "stderr",
     "output_type": "stream",
     "text": [
      "\u001b[92mINFO \u001b[0m:      aggregate_fit: received 2 results and 0 failures\n"
     ]
    },
    {
     "name": "stdout",
     "output_type": "stream",
     "text": [
      "\u001b[36m(ClientAppActor pid=14088)\u001b[0m Client's model: ETM_Client1\n",
      "\u001b[36m(ClientAppActor pid=14088)\u001b[0m Epoch: 000 | Loss: 739.922119140625\n"
     ]
    },
    {
     "name": "stderr",
     "output_type": "stream",
     "text": [
      "\u001b[92mINFO \u001b[0m:      configure_evaluate: strategy sampled 2 clients (out of 2)\n",
      "\u001b[92mINFO \u001b[0m:      aggregate_evaluate: received 2 results and 0 failures\n",
      "\u001b[92mINFO \u001b[0m:      \n",
      "\u001b[92mINFO \u001b[0m:      [ROUND 172]\n",
      "\u001b[92mINFO \u001b[0m:      configure_fit: strategy sampled 2 clients (out of 2)\n"
     ]
    },
    {
     "name": "stdout",
     "output_type": "stream",
     "text": [
      "\u001b[36m(ClientAppActor pid=14088)\u001b[0m Client's model: ETM_Client0\n",
      "\u001b[36m(ClientAppActor pid=14088)\u001b[0m Epoch: 000 | Loss: 755.1268310546875\n"
     ]
    },
    {
     "name": "stderr",
     "output_type": "stream",
     "text": [
      "\u001b[92mINFO \u001b[0m:      aggregate_fit: received 2 results and 0 failures\n",
      "\u001b[92mINFO \u001b[0m:      configure_evaluate: strategy sampled 2 clients (out of 2)\n"
     ]
    },
    {
     "name": "stdout",
     "output_type": "stream",
     "text": [
      "\u001b[36m(ClientAppActor pid=14088)\u001b[0m Client's model: ETM_Client1\n",
      "\u001b[36m(ClientAppActor pid=14088)\u001b[0m Epoch: 000 | Loss: 739.793212890625\n"
     ]
    },
    {
     "name": "stderr",
     "output_type": "stream",
     "text": [
      "\u001b[92mINFO \u001b[0m:      aggregate_evaluate: received 2 results and 0 failures\n",
      "\u001b[92mINFO \u001b[0m:      \n",
      "\u001b[92mINFO \u001b[0m:      [ROUND 173]\n",
      "\u001b[92mINFO \u001b[0m:      configure_fit: strategy sampled 2 clients (out of 2)\n"
     ]
    },
    {
     "name": "stdout",
     "output_type": "stream",
     "text": [
      "\u001b[36m(ClientAppActor pid=14088)\u001b[0m Client's model: ETM_Client0\n",
      "\u001b[36m(ClientAppActor pid=14088)\u001b[0m Epoch: 000 | Loss: 755.1004028320312\n"
     ]
    },
    {
     "name": "stderr",
     "output_type": "stream",
     "text": [
      "\u001b[92mINFO \u001b[0m:      aggregate_fit: received 2 results and 0 failures\n",
      "\u001b[92mINFO \u001b[0m:      configure_evaluate: strategy sampled 2 clients (out of 2)\n"
     ]
    },
    {
     "name": "stdout",
     "output_type": "stream",
     "text": [
      "\u001b[36m(ClientAppActor pid=14088)\u001b[0m Client's model: ETM_Client1\n",
      "\u001b[36m(ClientAppActor pid=14088)\u001b[0m Epoch: 000 | Loss: 739.9632568359375\n"
     ]
    },
    {
     "name": "stderr",
     "output_type": "stream",
     "text": [
      "\u001b[92mINFO \u001b[0m:      aggregate_evaluate: received 2 results and 0 failures\n",
      "\u001b[92mINFO \u001b[0m:      \n",
      "\u001b[92mINFO \u001b[0m:      [ROUND 174]\n",
      "\u001b[92mINFO \u001b[0m:      configure_fit: strategy sampled 2 clients (out of 2)\n"
     ]
    },
    {
     "name": "stdout",
     "output_type": "stream",
     "text": [
      "\u001b[36m(ClientAppActor pid=14088)\u001b[0m Client's model: ETM_Client0\n",
      "\u001b[36m(ClientAppActor pid=14088)\u001b[0m Epoch: 000 | Loss: 755.1964111328125\n"
     ]
    },
    {
     "name": "stderr",
     "output_type": "stream",
     "text": [
      "\u001b[92mINFO \u001b[0m:      aggregate_fit: received 2 results and 0 failures\n",
      "\u001b[92mINFO \u001b[0m:      configure_evaluate: strategy sampled 2 clients (out of 2)\n"
     ]
    },
    {
     "name": "stdout",
     "output_type": "stream",
     "text": [
      "\u001b[36m(ClientAppActor pid=14088)\u001b[0m Client's model: ETM_Client1\n",
      "\u001b[36m(ClientAppActor pid=14088)\u001b[0m Epoch: 000 | Loss: 739.8320922851562\n"
     ]
    },
    {
     "name": "stderr",
     "output_type": "stream",
     "text": [
      "\u001b[92mINFO \u001b[0m:      aggregate_evaluate: received 2 results and 0 failures\n",
      "\u001b[92mINFO \u001b[0m:      \n",
      "\u001b[92mINFO \u001b[0m:      [ROUND 175]\n",
      "\u001b[92mINFO \u001b[0m:      configure_fit: strategy sampled 2 clients (out of 2)\n"
     ]
    },
    {
     "name": "stdout",
     "output_type": "stream",
     "text": [
      "\u001b[36m(ClientAppActor pid=14088)\u001b[0m Client's model: ETM_Client0\n",
      "\u001b[36m(ClientAppActor pid=14088)\u001b[0m Epoch: 000 | Loss: 755.1873168945312\n"
     ]
    },
    {
     "name": "stderr",
     "output_type": "stream",
     "text": [
      "\u001b[92mINFO \u001b[0m:      aggregate_fit: received 2 results and 0 failures\n",
      "\u001b[92mINFO \u001b[0m:      configure_evaluate: strategy sampled 2 clients (out of 2)\n"
     ]
    },
    {
     "name": "stdout",
     "output_type": "stream",
     "text": [
      "\u001b[36m(ClientAppActor pid=14088)\u001b[0m Client's model: ETM_Client1\n",
      "\u001b[36m(ClientAppActor pid=14088)\u001b[0m Epoch: 000 | Loss: 739.8785400390625\n"
     ]
    },
    {
     "name": "stderr",
     "output_type": "stream",
     "text": [
      "\u001b[92mINFO \u001b[0m:      aggregate_evaluate: received 2 results and 0 failures\n",
      "\u001b[92mINFO \u001b[0m:      \n",
      "\u001b[92mINFO \u001b[0m:      [ROUND 176]\n",
      "\u001b[92mINFO \u001b[0m:      configure_fit: strategy sampled 2 clients (out of 2)\n"
     ]
    },
    {
     "name": "stdout",
     "output_type": "stream",
     "text": [
      "\u001b[36m(ClientAppActor pid=14088)\u001b[0m Client's model: ETM_Client0\n",
      "\u001b[36m(ClientAppActor pid=14088)\u001b[0m Epoch: 000 | Loss: 755.0159301757812\n",
      "\u001b[36m(ClientAppActor pid=14088)\u001b[0m Client's model: ETM_Client1\n",
      "\u001b[36m(ClientAppActor pid=14088)\u001b[0m Epoch: 000 | Loss: 739.704833984375\n"
     ]
    },
    {
     "name": "stderr",
     "output_type": "stream",
     "text": [
      "\u001b[92mINFO \u001b[0m:      aggregate_fit: received 2 results and 0 failures\n",
      "\u001b[92mINFO \u001b[0m:      configure_evaluate: strategy sampled 2 clients (out of 2)\n",
      "\u001b[92mINFO \u001b[0m:      aggregate_evaluate: received 2 results and 0 failures\n",
      "\u001b[92mINFO \u001b[0m:      \n",
      "\u001b[92mINFO \u001b[0m:      [ROUND 177]\n",
      "\u001b[92mINFO \u001b[0m:      configure_fit: strategy sampled 2 clients (out of 2)\n"
     ]
    },
    {
     "name": "stdout",
     "output_type": "stream",
     "text": [
      "\u001b[36m(ClientAppActor pid=14088)\u001b[0m Client's model: ETM_Client0\n",
      "\u001b[36m(ClientAppActor pid=14088)\u001b[0m Epoch: 000 | Loss: 755.1307373046875\n"
     ]
    },
    {
     "name": "stderr",
     "output_type": "stream",
     "text": [
      "\u001b[92mINFO \u001b[0m:      aggregate_fit: received 2 results and 0 failures\n",
      "\u001b[92mINFO \u001b[0m:      configure_evaluate: strategy sampled 2 clients (out of 2)\n"
     ]
    },
    {
     "name": "stdout",
     "output_type": "stream",
     "text": [
      "\u001b[36m(ClientAppActor pid=14088)\u001b[0m Client's model: ETM_Client1\n",
      "\u001b[36m(ClientAppActor pid=14088)\u001b[0m Epoch: 000 | Loss: 739.8477172851562\n"
     ]
    },
    {
     "name": "stderr",
     "output_type": "stream",
     "text": [
      "\u001b[92mINFO \u001b[0m:      aggregate_evaluate: received 2 results and 0 failures\n",
      "\u001b[92mINFO \u001b[0m:      \n",
      "\u001b[92mINFO \u001b[0m:      [ROUND 178]\n",
      "\u001b[92mINFO \u001b[0m:      configure_fit: strategy sampled 2 clients (out of 2)\n"
     ]
    },
    {
     "name": "stdout",
     "output_type": "stream",
     "text": [
      "\u001b[36m(ClientAppActor pid=14088)\u001b[0m Client's model: ETM_Client0\n",
      "\u001b[36m(ClientAppActor pid=14088)\u001b[0m Epoch: 000 | Loss: 755.003173828125\n"
     ]
    },
    {
     "name": "stderr",
     "output_type": "stream",
     "text": [
      "\u001b[92mINFO \u001b[0m:      aggregate_fit: received 2 results and 0 failures\n",
      "\u001b[92mINFO \u001b[0m:      configure_evaluate: strategy sampled 2 clients (out of 2)\n"
     ]
    },
    {
     "name": "stdout",
     "output_type": "stream",
     "text": [
      "\u001b[36m(ClientAppActor pid=14088)\u001b[0m Client's model: ETM_Client1\n",
      "\u001b[36m(ClientAppActor pid=14088)\u001b[0m Epoch: 000 | Loss: 739.6676635742188\n"
     ]
    },
    {
     "name": "stderr",
     "output_type": "stream",
     "text": [
      "\u001b[92mINFO \u001b[0m:      aggregate_evaluate: received 2 results and 0 failures\n",
      "\u001b[92mINFO \u001b[0m:      \n",
      "\u001b[92mINFO \u001b[0m:      [ROUND 179]\n",
      "\u001b[92mINFO \u001b[0m:      configure_fit: strategy sampled 2 clients (out of 2)\n"
     ]
    },
    {
     "name": "stdout",
     "output_type": "stream",
     "text": [
      "\u001b[36m(ClientAppActor pid=14088)\u001b[0m Client's model: ETM_Client0\n",
      "\u001b[36m(ClientAppActor pid=14088)\u001b[0m Epoch: 000 | Loss: 755.1196899414062\n"
     ]
    },
    {
     "name": "stderr",
     "output_type": "stream",
     "text": [
      "\u001b[92mINFO \u001b[0m:      aggregate_fit: received 2 results and 0 failures\n"
     ]
    },
    {
     "name": "stdout",
     "output_type": "stream",
     "text": [
      "\u001b[36m(ClientAppActor pid=14088)\u001b[0m Client's model: ETM_Client1\n",
      "\u001b[36m(ClientAppActor pid=14088)\u001b[0m Epoch: 000 | Loss: 739.7335815429688\n"
     ]
    },
    {
     "name": "stderr",
     "output_type": "stream",
     "text": [
      "\u001b[92mINFO \u001b[0m:      configure_evaluate: strategy sampled 2 clients (out of 2)\n",
      "\u001b[92mINFO \u001b[0m:      aggregate_evaluate: received 2 results and 0 failures\n",
      "\u001b[92mINFO \u001b[0m:      \n",
      "\u001b[92mINFO \u001b[0m:      [ROUND 180]\n",
      "\u001b[92mINFO \u001b[0m:      configure_fit: strategy sampled 2 clients (out of 2)\n"
     ]
    },
    {
     "name": "stdout",
     "output_type": "stream",
     "text": [
      "\u001b[36m(ClientAppActor pid=14088)\u001b[0m Client's model: ETM_Client0\n",
      "\u001b[36m(ClientAppActor pid=14088)\u001b[0m Epoch: 000 | Loss: 755.0643310546875\n"
     ]
    },
    {
     "name": "stderr",
     "output_type": "stream",
     "text": [
      "\u001b[92mINFO \u001b[0m:      aggregate_fit: received 2 results and 0 failures\n"
     ]
    },
    {
     "name": "stdout",
     "output_type": "stream",
     "text": [
      "\u001b[36m(ClientAppActor pid=14088)\u001b[0m Client's model: ETM_Client1\n",
      "\u001b[36m(ClientAppActor pid=14088)\u001b[0m Epoch: 000 | Loss: 739.7415771484375\n",
      "Saving round 180 aggregated_ndarrays...\n"
     ]
    },
    {
     "name": "stderr",
     "output_type": "stream",
     "text": [
      "\u001b[92mINFO \u001b[0m:      configure_evaluate: strategy sampled 2 clients (out of 2)\n",
      "\u001b[92mINFO \u001b[0m:      aggregate_evaluate: received 2 results and 0 failures\n",
      "\u001b[92mINFO \u001b[0m:      \n",
      "\u001b[92mINFO \u001b[0m:      [ROUND 181]\n",
      "\u001b[92mINFO \u001b[0m:      configure_fit: strategy sampled 2 clients (out of 2)\n"
     ]
    },
    {
     "name": "stdout",
     "output_type": "stream",
     "text": [
      "\u001b[36m(ClientAppActor pid=14088)\u001b[0m Client's model: ETM_Client0\n",
      "\u001b[36m(ClientAppActor pid=14088)\u001b[0m Epoch: 000 | Loss: 754.9086303710938\n"
     ]
    },
    {
     "name": "stderr",
     "output_type": "stream",
     "text": [
      "\u001b[92mINFO \u001b[0m:      aggregate_fit: received 2 results and 0 failures\n",
      "\u001b[92mINFO \u001b[0m:      configure_evaluate: strategy sampled 2 clients (out of 2)\n"
     ]
    },
    {
     "name": "stdout",
     "output_type": "stream",
     "text": [
      "\u001b[36m(ClientAppActor pid=14088)\u001b[0m Client's model: ETM_Client1\n",
      "\u001b[36m(ClientAppActor pid=14088)\u001b[0m Epoch: 000 | Loss: 739.9542236328125\n"
     ]
    },
    {
     "name": "stderr",
     "output_type": "stream",
     "text": [
      "\u001b[92mINFO \u001b[0m:      aggregate_evaluate: received 2 results and 0 failures\n",
      "\u001b[92mINFO \u001b[0m:      \n",
      "\u001b[92mINFO \u001b[0m:      [ROUND 182]\n",
      "\u001b[92mINFO \u001b[0m:      configure_fit: strategy sampled 2 clients (out of 2)\n"
     ]
    },
    {
     "name": "stdout",
     "output_type": "stream",
     "text": [
      "\u001b[36m(ClientAppActor pid=14088)\u001b[0m Client's model: ETM_Client0\n",
      "\u001b[36m(ClientAppActor pid=14088)\u001b[0m Epoch: 000 | Loss: 755.070556640625\n"
     ]
    },
    {
     "name": "stderr",
     "output_type": "stream",
     "text": [
      "\u001b[92mINFO \u001b[0m:      aggregate_fit: received 2 results and 0 failures\n",
      "\u001b[92mINFO \u001b[0m:      configure_evaluate: strategy sampled 2 clients (out of 2)\n"
     ]
    },
    {
     "name": "stdout",
     "output_type": "stream",
     "text": [
      "\u001b[36m(ClientAppActor pid=14088)\u001b[0m Client's model: ETM_Client1\n",
      "\u001b[36m(ClientAppActor pid=14088)\u001b[0m Epoch: 000 | Loss: 740.0026245117188\n"
     ]
    },
    {
     "name": "stderr",
     "output_type": "stream",
     "text": [
      "\u001b[92mINFO \u001b[0m:      aggregate_evaluate: received 2 results and 0 failures\n",
      "\u001b[92mINFO \u001b[0m:      \n",
      "\u001b[92mINFO \u001b[0m:      [ROUND 183]\n",
      "\u001b[92mINFO \u001b[0m:      configure_fit: strategy sampled 2 clients (out of 2)\n"
     ]
    },
    {
     "name": "stdout",
     "output_type": "stream",
     "text": [
      "\u001b[36m(ClientAppActor pid=14088)\u001b[0m Client's model: ETM_Client0\n",
      "\u001b[36m(ClientAppActor pid=14088)\u001b[0m Epoch: 000 | Loss: 755.0293579101562\n"
     ]
    },
    {
     "name": "stderr",
     "output_type": "stream",
     "text": [
      "\u001b[92mINFO \u001b[0m:      aggregate_fit: received 2 results and 0 failures\n"
     ]
    },
    {
     "name": "stdout",
     "output_type": "stream",
     "text": [
      "\u001b[36m(ClientAppActor pid=14088)\u001b[0m Client's model: ETM_Client1\n",
      "\u001b[36m(ClientAppActor pid=14088)\u001b[0m Epoch: 000 | Loss: 739.793701171875\n"
     ]
    },
    {
     "name": "stderr",
     "output_type": "stream",
     "text": [
      "\u001b[92mINFO \u001b[0m:      configure_evaluate: strategy sampled 2 clients (out of 2)\n",
      "\u001b[92mINFO \u001b[0m:      aggregate_evaluate: received 2 results and 0 failures\n",
      "\u001b[92mINFO \u001b[0m:      \n",
      "\u001b[92mINFO \u001b[0m:      [ROUND 184]\n",
      "\u001b[92mINFO \u001b[0m:      configure_fit: strategy sampled 2 clients (out of 2)\n"
     ]
    },
    {
     "name": "stdout",
     "output_type": "stream",
     "text": [
      "\u001b[36m(ClientAppActor pid=14088)\u001b[0m Client's model: ETM_Client0\n",
      "\u001b[36m(ClientAppActor pid=14088)\u001b[0m Epoch: 000 | Loss: 755.1688842773438\n"
     ]
    },
    {
     "name": "stderr",
     "output_type": "stream",
     "text": [
      "\u001b[92mINFO \u001b[0m:      aggregate_fit: received 2 results and 0 failures\n",
      "\u001b[92mINFO \u001b[0m:      configure_evaluate: strategy sampled 2 clients (out of 2)\n"
     ]
    },
    {
     "name": "stdout",
     "output_type": "stream",
     "text": [
      "\u001b[36m(ClientAppActor pid=14088)\u001b[0m Client's model: ETM_Client1\n",
      "\u001b[36m(ClientAppActor pid=14088)\u001b[0m Epoch: 000 | Loss: 739.7444458007812\n"
     ]
    },
    {
     "name": "stderr",
     "output_type": "stream",
     "text": [
      "\u001b[92mINFO \u001b[0m:      aggregate_evaluate: received 2 results and 0 failures\n",
      "\u001b[92mINFO \u001b[0m:      \n",
      "\u001b[92mINFO \u001b[0m:      [ROUND 185]\n",
      "\u001b[92mINFO \u001b[0m:      configure_fit: strategy sampled 2 clients (out of 2)\n"
     ]
    },
    {
     "name": "stdout",
     "output_type": "stream",
     "text": [
      "\u001b[36m(ClientAppActor pid=14088)\u001b[0m Client's model: ETM_Client0\n",
      "\u001b[36m(ClientAppActor pid=14088)\u001b[0m Epoch: 000 | Loss: 755.00732421875\n"
     ]
    },
    {
     "name": "stderr",
     "output_type": "stream",
     "text": [
      "\u001b[92mINFO \u001b[0m:      aggregate_fit: received 2 results and 0 failures\n",
      "\u001b[92mINFO \u001b[0m:      configure_evaluate: strategy sampled 2 clients (out of 2)\n"
     ]
    },
    {
     "name": "stdout",
     "output_type": "stream",
     "text": [
      "\u001b[36m(ClientAppActor pid=14088)\u001b[0m Client's model: ETM_Client1\n",
      "\u001b[36m(ClientAppActor pid=14088)\u001b[0m Epoch: 000 | Loss: 739.7916259765625\n"
     ]
    },
    {
     "name": "stderr",
     "output_type": "stream",
     "text": [
      "\u001b[92mINFO \u001b[0m:      aggregate_evaluate: received 2 results and 0 failures\n",
      "\u001b[92mINFO \u001b[0m:      \n",
      "\u001b[92mINFO \u001b[0m:      [ROUND 186]\n",
      "\u001b[92mINFO \u001b[0m:      configure_fit: strategy sampled 2 clients (out of 2)\n"
     ]
    },
    {
     "name": "stdout",
     "output_type": "stream",
     "text": [
      "\u001b[36m(ClientAppActor pid=14088)\u001b[0m Client's model: ETM_Client0\n",
      "\u001b[36m(ClientAppActor pid=14088)\u001b[0m Epoch: 000 | Loss: 755.044189453125\n"
     ]
    },
    {
     "name": "stderr",
     "output_type": "stream",
     "text": [
      "\u001b[92mINFO \u001b[0m:      aggregate_fit: received 2 results and 0 failures\n"
     ]
    },
    {
     "name": "stdout",
     "output_type": "stream",
     "text": [
      "\u001b[36m(ClientAppActor pid=14088)\u001b[0m Client's model: ETM_Client1\n",
      "\u001b[36m(ClientAppActor pid=14088)\u001b[0m Epoch: 000 | Loss: 739.6983642578125\n"
     ]
    },
    {
     "name": "stderr",
     "output_type": "stream",
     "text": [
      "\u001b[92mINFO \u001b[0m:      configure_evaluate: strategy sampled 2 clients (out of 2)\n",
      "\u001b[92mINFO \u001b[0m:      aggregate_evaluate: received 2 results and 0 failures\n",
      "\u001b[92mINFO \u001b[0m:      \n",
      "\u001b[92mINFO \u001b[0m:      [ROUND 187]\n",
      "\u001b[92mINFO \u001b[0m:      configure_fit: strategy sampled 2 clients (out of 2)\n"
     ]
    },
    {
     "name": "stdout",
     "output_type": "stream",
     "text": [
      "\u001b[36m(ClientAppActor pid=14088)\u001b[0m Client's model: ETM_Client0\n",
      "\u001b[36m(ClientAppActor pid=14088)\u001b[0m Epoch: 000 | Loss: 754.7755126953125\n"
     ]
    },
    {
     "name": "stderr",
     "output_type": "stream",
     "text": [
      "\u001b[92mINFO \u001b[0m:      aggregate_fit: received 2 results and 0 failures\n",
      "\u001b[92mINFO \u001b[0m:      configure_evaluate: strategy sampled 2 clients (out of 2)\n"
     ]
    },
    {
     "name": "stdout",
     "output_type": "stream",
     "text": [
      "\u001b[36m(ClientAppActor pid=14088)\u001b[0m Client's model: ETM_Client1\n",
      "\u001b[36m(ClientAppActor pid=14088)\u001b[0m Epoch: 000 | Loss: 739.8082275390625\n"
     ]
    },
    {
     "name": "stderr",
     "output_type": "stream",
     "text": [
      "\u001b[92mINFO \u001b[0m:      aggregate_evaluate: received 2 results and 0 failures\n",
      "\u001b[92mINFO \u001b[0m:      \n",
      "\u001b[92mINFO \u001b[0m:      [ROUND 188]\n",
      "\u001b[92mINFO \u001b[0m:      configure_fit: strategy sampled 2 clients (out of 2)\n"
     ]
    },
    {
     "name": "stdout",
     "output_type": "stream",
     "text": [
      "\u001b[36m(ClientAppActor pid=14088)\u001b[0m Client's model: ETM_Client0\n",
      "\u001b[36m(ClientAppActor pid=14088)\u001b[0m Epoch: 000 | Loss: 755.2623291015625\n"
     ]
    },
    {
     "name": "stderr",
     "output_type": "stream",
     "text": [
      "\u001b[92mINFO \u001b[0m:      aggregate_fit: received 2 results and 0 failures\n",
      "\u001b[92mINFO \u001b[0m:      configure_evaluate: strategy sampled 2 clients (out of 2)\n"
     ]
    },
    {
     "name": "stdout",
     "output_type": "stream",
     "text": [
      "\u001b[36m(ClientAppActor pid=14088)\u001b[0m Client's model: ETM_Client1\n",
      "\u001b[36m(ClientAppActor pid=14088)\u001b[0m Epoch: 000 | Loss: 739.560791015625\n"
     ]
    },
    {
     "name": "stderr",
     "output_type": "stream",
     "text": [
      "\u001b[92mINFO \u001b[0m:      aggregate_evaluate: received 2 results and 0 failures\n",
      "\u001b[92mINFO \u001b[0m:      \n",
      "\u001b[92mINFO \u001b[0m:      [ROUND 189]\n",
      "\u001b[92mINFO \u001b[0m:      configure_fit: strategy sampled 2 clients (out of 2)\n"
     ]
    },
    {
     "name": "stdout",
     "output_type": "stream",
     "text": [
      "\u001b[36m(ClientAppActor pid=14088)\u001b[0m Client's model: ETM_Client0\n",
      "\u001b[36m(ClientAppActor pid=14088)\u001b[0m Epoch: 000 | Loss: 754.9230346679688\n"
     ]
    },
    {
     "name": "stderr",
     "output_type": "stream",
     "text": [
      "\u001b[92mINFO \u001b[0m:      aggregate_fit: received 2 results and 0 failures\n",
      "\u001b[92mINFO \u001b[0m:      configure_evaluate: strategy sampled 2 clients (out of 2)\n"
     ]
    },
    {
     "name": "stdout",
     "output_type": "stream",
     "text": [
      "\u001b[36m(ClientAppActor pid=14088)\u001b[0m Client's model: ETM_Client1\n",
      "\u001b[36m(ClientAppActor pid=14088)\u001b[0m Epoch: 000 | Loss: 739.6704711914062\n"
     ]
    },
    {
     "name": "stderr",
     "output_type": "stream",
     "text": [
      "\u001b[92mINFO \u001b[0m:      aggregate_evaluate: received 2 results and 0 failures\n",
      "\u001b[92mINFO \u001b[0m:      \n",
      "\u001b[92mINFO \u001b[0m:      [ROUND 190]\n",
      "\u001b[92mINFO \u001b[0m:      configure_fit: strategy sampled 2 clients (out of 2)\n"
     ]
    },
    {
     "name": "stdout",
     "output_type": "stream",
     "text": [
      "\u001b[36m(ClientAppActor pid=14088)\u001b[0m Client's model: ETM_Client0\n",
      "\u001b[36m(ClientAppActor pid=14088)\u001b[0m Epoch: 000 | Loss: 754.9854125976562\n"
     ]
    },
    {
     "name": "stderr",
     "output_type": "stream",
     "text": [
      "\u001b[92mINFO \u001b[0m:      aggregate_fit: received 2 results and 0 failures\n"
     ]
    },
    {
     "name": "stdout",
     "output_type": "stream",
     "text": [
      "\u001b[36m(ClientAppActor pid=14088)\u001b[0m Client's model: ETM_Client1\n",
      "\u001b[36m(ClientAppActor pid=14088)\u001b[0m Epoch: 000 | Loss: 739.5833129882812\n",
      "Saving round 190 aggregated_ndarrays...\n"
     ]
    },
    {
     "name": "stderr",
     "output_type": "stream",
     "text": [
      "\u001b[92mINFO \u001b[0m:      configure_evaluate: strategy sampled 2 clients (out of 2)\n",
      "\u001b[92mINFO \u001b[0m:      aggregate_evaluate: received 2 results and 0 failures\n",
      "\u001b[92mINFO \u001b[0m:      \n",
      "\u001b[92mINFO \u001b[0m:      [ROUND 191]\n",
      "\u001b[92mINFO \u001b[0m:      configure_fit: strategy sampled 2 clients (out of 2)\n"
     ]
    },
    {
     "name": "stdout",
     "output_type": "stream",
     "text": [
      "\u001b[36m(ClientAppActor pid=14088)\u001b[0m Client's model: ETM_Client1\n",
      "\u001b[36m(ClientAppActor pid=14088)\u001b[0m Epoch: 000 | Loss: 739.6976928710938\n"
     ]
    },
    {
     "name": "stderr",
     "output_type": "stream",
     "text": [
      "\u001b[92mINFO \u001b[0m:      aggregate_fit: received 2 results and 0 failures\n"
     ]
    },
    {
     "name": "stdout",
     "output_type": "stream",
     "text": [
      "\u001b[36m(ClientAppActor pid=14088)\u001b[0m Client's model: ETM_Client0\n",
      "\u001b[36m(ClientAppActor pid=14088)\u001b[0m Epoch: 000 | Loss: 755.0084228515625\n"
     ]
    },
    {
     "name": "stderr",
     "output_type": "stream",
     "text": [
      "\u001b[92mINFO \u001b[0m:      configure_evaluate: strategy sampled 2 clients (out of 2)\n",
      "\u001b[92mINFO \u001b[0m:      aggregate_evaluate: received 2 results and 0 failures\n",
      "\u001b[92mINFO \u001b[0m:      \n",
      "\u001b[92mINFO \u001b[0m:      [ROUND 192]\n",
      "\u001b[92mINFO \u001b[0m:      configure_fit: strategy sampled 2 clients (out of 2)\n"
     ]
    },
    {
     "name": "stdout",
     "output_type": "stream",
     "text": [
      "\u001b[36m(ClientAppActor pid=14088)\u001b[0m Client's model: ETM_Client0\n",
      "\u001b[36m(ClientAppActor pid=14088)\u001b[0m Epoch: 000 | Loss: 754.9786376953125\n"
     ]
    },
    {
     "name": "stderr",
     "output_type": "stream",
     "text": [
      "\u001b[92mINFO \u001b[0m:      aggregate_fit: received 2 results and 0 failures\n",
      "\u001b[92mINFO \u001b[0m:      configure_evaluate: strategy sampled 2 clients (out of 2)\n"
     ]
    },
    {
     "name": "stdout",
     "output_type": "stream",
     "text": [
      "\u001b[36m(ClientAppActor pid=14088)\u001b[0m Client's model: ETM_Client1\n",
      "\u001b[36m(ClientAppActor pid=14088)\u001b[0m Epoch: 000 | Loss: 739.519287109375\n"
     ]
    },
    {
     "name": "stderr",
     "output_type": "stream",
     "text": [
      "\u001b[92mINFO \u001b[0m:      aggregate_evaluate: received 2 results and 0 failures\n",
      "\u001b[92mINFO \u001b[0m:      \n",
      "\u001b[92mINFO \u001b[0m:      [ROUND 193]\n",
      "\u001b[92mINFO \u001b[0m:      configure_fit: strategy sampled 2 clients (out of 2)\n"
     ]
    },
    {
     "name": "stdout",
     "output_type": "stream",
     "text": [
      "\u001b[36m(ClientAppActor pid=14088)\u001b[0m Client's model: ETM_Client0\n",
      "\u001b[36m(ClientAppActor pid=14088)\u001b[0m Epoch: 000 | Loss: 754.9197387695312\n"
     ]
    },
    {
     "name": "stderr",
     "output_type": "stream",
     "text": [
      "\u001b[92mINFO \u001b[0m:      aggregate_fit: received 2 results and 0 failures\n",
      "\u001b[92mINFO \u001b[0m:      configure_evaluate: strategy sampled 2 clients (out of 2)\n"
     ]
    },
    {
     "name": "stdout",
     "output_type": "stream",
     "text": [
      "\u001b[36m(ClientAppActor pid=14088)\u001b[0m Client's model: ETM_Client1\n",
      "\u001b[36m(ClientAppActor pid=14088)\u001b[0m Epoch: 000 | Loss: 739.91650390625\n"
     ]
    },
    {
     "name": "stderr",
     "output_type": "stream",
     "text": [
      "\u001b[92mINFO \u001b[0m:      aggregate_evaluate: received 2 results and 0 failures\n",
      "\u001b[92mINFO \u001b[0m:      \n",
      "\u001b[92mINFO \u001b[0m:      [ROUND 194]\n",
      "\u001b[92mINFO \u001b[0m:      configure_fit: strategy sampled 2 clients (out of 2)\n"
     ]
    },
    {
     "name": "stdout",
     "output_type": "stream",
     "text": [
      "\u001b[36m(ClientAppActor pid=14088)\u001b[0m Client's model: ETM_Client0\n",
      "\u001b[36m(ClientAppActor pid=14088)\u001b[0m Epoch: 000 | Loss: 755.0274658203125\n",
      "\u001b[36m(ClientAppActor pid=14088)\u001b[0m Client's model: ETM_Client1\n",
      "\u001b[36m(ClientAppActor pid=14088)\u001b[0m Epoch: 000 | Loss: 739.5089111328125\n"
     ]
    },
    {
     "name": "stderr",
     "output_type": "stream",
     "text": [
      "\u001b[92mINFO \u001b[0m:      aggregate_fit: received 2 results and 0 failures\n",
      "\u001b[92mINFO \u001b[0m:      configure_evaluate: strategy sampled 2 clients (out of 2)\n",
      "\u001b[92mINFO \u001b[0m:      aggregate_evaluate: received 2 results and 0 failures\n",
      "\u001b[92mINFO \u001b[0m:      \n",
      "\u001b[92mINFO \u001b[0m:      [ROUND 195]\n",
      "\u001b[92mINFO \u001b[0m:      configure_fit: strategy sampled 2 clients (out of 2)\n"
     ]
    },
    {
     "name": "stdout",
     "output_type": "stream",
     "text": [
      "\u001b[36m(ClientAppActor pid=14088)\u001b[0m Client's model: ETM_Client0\n",
      "\u001b[36m(ClientAppActor pid=14088)\u001b[0m Epoch: 000 | Loss: 755.0392456054688\n"
     ]
    },
    {
     "name": "stderr",
     "output_type": "stream",
     "text": [
      "\u001b[92mINFO \u001b[0m:      aggregate_fit: received 2 results and 0 failures\n",
      "\u001b[92mINFO \u001b[0m:      configure_evaluate: strategy sampled 2 clients (out of 2)\n"
     ]
    },
    {
     "name": "stdout",
     "output_type": "stream",
     "text": [
      "\u001b[36m(ClientAppActor pid=14088)\u001b[0m Client's model: ETM_Client1\n",
      "\u001b[36m(ClientAppActor pid=14088)\u001b[0m Epoch: 000 | Loss: 739.63427734375\n"
     ]
    },
    {
     "name": "stderr",
     "output_type": "stream",
     "text": [
      "\u001b[92mINFO \u001b[0m:      aggregate_evaluate: received 2 results and 0 failures\n",
      "\u001b[92mINFO \u001b[0m:      \n",
      "\u001b[92mINFO \u001b[0m:      [ROUND 196]\n",
      "\u001b[92mINFO \u001b[0m:      configure_fit: strategy sampled 2 clients (out of 2)\n"
     ]
    },
    {
     "name": "stdout",
     "output_type": "stream",
     "text": [
      "\u001b[36m(ClientAppActor pid=14088)\u001b[0m Client's model: ETM_Client0\n",
      "\u001b[36m(ClientAppActor pid=14088)\u001b[0m Epoch: 000 | Loss: 755.011474609375\n"
     ]
    },
    {
     "name": "stderr",
     "output_type": "stream",
     "text": [
      "\u001b[92mINFO \u001b[0m:      aggregate_fit: received 2 results and 0 failures\n",
      "\u001b[92mINFO \u001b[0m:      configure_evaluate: strategy sampled 2 clients (out of 2)\n"
     ]
    },
    {
     "name": "stdout",
     "output_type": "stream",
     "text": [
      "\u001b[36m(ClientAppActor pid=14088)\u001b[0m Client's model: ETM_Client1\n",
      "\u001b[36m(ClientAppActor pid=14088)\u001b[0m Epoch: 000 | Loss: 739.8104858398438\n"
     ]
    },
    {
     "name": "stderr",
     "output_type": "stream",
     "text": [
      "\u001b[92mINFO \u001b[0m:      aggregate_evaluate: received 2 results and 0 failures\n",
      "\u001b[92mINFO \u001b[0m:      \n",
      "\u001b[92mINFO \u001b[0m:      [ROUND 197]\n",
      "\u001b[92mINFO \u001b[0m:      configure_fit: strategy sampled 2 clients (out of 2)\n"
     ]
    },
    {
     "name": "stdout",
     "output_type": "stream",
     "text": [
      "\u001b[36m(ClientAppActor pid=14088)\u001b[0m Client's model: ETM_Client0\n",
      "\u001b[36m(ClientAppActor pid=14088)\u001b[0m Epoch: 000 | Loss: 754.7822265625\n"
     ]
    },
    {
     "name": "stderr",
     "output_type": "stream",
     "text": [
      "\u001b[92mINFO \u001b[0m:      aggregate_fit: received 2 results and 0 failures\n"
     ]
    },
    {
     "name": "stdout",
     "output_type": "stream",
     "text": [
      "\u001b[36m(ClientAppActor pid=14088)\u001b[0m Client's model: ETM_Client1\n",
      "\u001b[36m(ClientAppActor pid=14088)\u001b[0m Epoch: 000 | Loss: 739.7869262695312\n"
     ]
    },
    {
     "name": "stderr",
     "output_type": "stream",
     "text": [
      "\u001b[92mINFO \u001b[0m:      configure_evaluate: strategy sampled 2 clients (out of 2)\n",
      "\u001b[92mINFO \u001b[0m:      aggregate_evaluate: received 2 results and 0 failures\n",
      "\u001b[92mINFO \u001b[0m:      \n",
      "\u001b[92mINFO \u001b[0m:      [ROUND 198]\n",
      "\u001b[92mINFO \u001b[0m:      configure_fit: strategy sampled 2 clients (out of 2)\n"
     ]
    },
    {
     "name": "stdout",
     "output_type": "stream",
     "text": [
      "\u001b[36m(ClientAppActor pid=14088)\u001b[0m Client's model: ETM_Client0\n",
      "\u001b[36m(ClientAppActor pid=14088)\u001b[0m Epoch: 000 | Loss: 754.9918823242188\n"
     ]
    },
    {
     "name": "stderr",
     "output_type": "stream",
     "text": [
      "\u001b[92mINFO \u001b[0m:      aggregate_fit: received 2 results and 0 failures\n",
      "\u001b[92mINFO \u001b[0m:      configure_evaluate: strategy sampled 2 clients (out of 2)\n"
     ]
    },
    {
     "name": "stdout",
     "output_type": "stream",
     "text": [
      "\u001b[36m(ClientAppActor pid=14088)\u001b[0m Client's model: ETM_Client1\n",
      "\u001b[36m(ClientAppActor pid=14088)\u001b[0m Epoch: 000 | Loss: 739.5436401367188\n"
     ]
    },
    {
     "name": "stderr",
     "output_type": "stream",
     "text": [
      "\u001b[92mINFO \u001b[0m:      aggregate_evaluate: received 2 results and 0 failures\n",
      "\u001b[92mINFO \u001b[0m:      \n",
      "\u001b[92mINFO \u001b[0m:      [ROUND 199]\n",
      "\u001b[92mINFO \u001b[0m:      configure_fit: strategy sampled 2 clients (out of 2)\n"
     ]
    },
    {
     "name": "stdout",
     "output_type": "stream",
     "text": [
      "\u001b[36m(ClientAppActor pid=14088)\u001b[0m Client's model: ETM_Client0\n",
      "\u001b[36m(ClientAppActor pid=14088)\u001b[0m Epoch: 000 | Loss: 754.8079223632812\n"
     ]
    },
    {
     "name": "stderr",
     "output_type": "stream",
     "text": [
      "\u001b[92mINFO \u001b[0m:      aggregate_fit: received 2 results and 0 failures\n",
      "\u001b[92mINFO \u001b[0m:      configure_evaluate: strategy sampled 2 clients (out of 2)\n"
     ]
    },
    {
     "name": "stdout",
     "output_type": "stream",
     "text": [
      "\u001b[36m(ClientAppActor pid=14088)\u001b[0m Client's model: ETM_Client1\n",
      "\u001b[36m(ClientAppActor pid=14088)\u001b[0m Epoch: 000 | Loss: 739.5557250976562\n"
     ]
    },
    {
     "name": "stderr",
     "output_type": "stream",
     "text": [
      "\u001b[92mINFO \u001b[0m:      aggregate_evaluate: received 2 results and 0 failures\n",
      "\u001b[92mINFO \u001b[0m:      \n",
      "\u001b[92mINFO \u001b[0m:      [ROUND 200]\n",
      "\u001b[92mINFO \u001b[0m:      configure_fit: strategy sampled 2 clients (out of 2)\n"
     ]
    },
    {
     "name": "stdout",
     "output_type": "stream",
     "text": [
      "\u001b[36m(ClientAppActor pid=14088)\u001b[0m Client's model: ETM_Client0\n",
      "\u001b[36m(ClientAppActor pid=14088)\u001b[0m Epoch: 000 | Loss: 754.8633422851562\n"
     ]
    },
    {
     "name": "stderr",
     "output_type": "stream",
     "text": [
      "\u001b[92mINFO \u001b[0m:      aggregate_fit: received 2 results and 0 failures\n"
     ]
    },
    {
     "name": "stdout",
     "output_type": "stream",
     "text": [
      "\u001b[36m(ClientAppActor pid=14088)\u001b[0m Client's model: ETM_Client1\n",
      "\u001b[36m(ClientAppActor pid=14088)\u001b[0m Epoch: 000 | Loss: 739.5944213867188\n",
      "Saving round 200 aggregated_ndarrays...\n"
     ]
    },
    {
     "name": "stderr",
     "output_type": "stream",
     "text": [
      "\u001b[92mINFO \u001b[0m:      configure_evaluate: strategy sampled 2 clients (out of 2)\n",
      "\u001b[92mINFO \u001b[0m:      aggregate_evaluate: received 2 results and 0 failures\n",
      "\u001b[92mINFO \u001b[0m:      \n",
      "\u001b[92mINFO \u001b[0m:      [SUMMARY]\n",
      "\u001b[92mINFO \u001b[0m:      Run finished 200 round(s) in 882.81s\n",
      "\u001b[92mINFO \u001b[0m:      \tHistory (loss, distributed):\n",
      "\u001b[92mINFO \u001b[0m:      \t\tround 1: -1.0\n",
      "\u001b[92mINFO \u001b[0m:      \t\tround 2: -1.0\n",
      "\u001b[92mINFO \u001b[0m:      \t\tround 3: -1.0\n",
      "\u001b[92mINFO \u001b[0m:      \t\tround 4: -1.0\n",
      "\u001b[92mINFO \u001b[0m:      \t\tround 5: -1.0\n",
      "\u001b[92mINFO \u001b[0m:      \t\tround 6: -1.0\n",
      "\u001b[92mINFO \u001b[0m:      \t\tround 7: -1.0\n",
      "\u001b[92mINFO \u001b[0m:      \t\tround 8: -1.0\n",
      "\u001b[92mINFO \u001b[0m:      \t\tround 9: -1.0\n",
      "\u001b[92mINFO \u001b[0m:      \t\tround 10: -1.0\n",
      "\u001b[92mINFO \u001b[0m:      \t\tround 11: -1.0\n",
      "\u001b[92mINFO \u001b[0m:      \t\tround 12: -1.0\n",
      "\u001b[92mINFO \u001b[0m:      \t\tround 13: -1.0\n",
      "\u001b[92mINFO \u001b[0m:      \t\tround 14: -1.0\n",
      "\u001b[92mINFO \u001b[0m:      \t\tround 15: -1.0\n",
      "\u001b[92mINFO \u001b[0m:      \t\tround 16: -1.0\n",
      "\u001b[92mINFO \u001b[0m:      \t\tround 17: -1.0\n",
      "\u001b[92mINFO \u001b[0m:      \t\tround 18: -1.0\n",
      "\u001b[92mINFO \u001b[0m:      \t\tround 19: -1.0\n",
      "\u001b[92mINFO \u001b[0m:      \t\tround 20: -1.0\n",
      "\u001b[92mINFO \u001b[0m:      \t\tround 21: -1.0\n",
      "\u001b[92mINFO \u001b[0m:      \t\tround 22: -1.0\n",
      "\u001b[92mINFO \u001b[0m:      \t\tround 23: -1.0\n",
      "\u001b[92mINFO \u001b[0m:      \t\tround 24: -1.0\n",
      "\u001b[92mINFO \u001b[0m:      \t\tround 25: -1.0\n",
      "\u001b[92mINFO \u001b[0m:      \t\tround 26: -1.0\n",
      "\u001b[92mINFO \u001b[0m:      \t\tround 27: -1.0\n",
      "\u001b[92mINFO \u001b[0m:      \t\tround 28: -1.0\n",
      "\u001b[92mINFO \u001b[0m:      \t\tround 29: -1.0\n",
      "\u001b[92mINFO \u001b[0m:      \t\tround 30: -1.0\n",
      "\u001b[92mINFO \u001b[0m:      \t\tround 31: -1.0\n",
      "\u001b[92mINFO \u001b[0m:      \t\tround 32: -1.0\n",
      "\u001b[92mINFO \u001b[0m:      \t\tround 33: -1.0\n",
      "\u001b[92mINFO \u001b[0m:      \t\tround 34: -1.0\n",
      "\u001b[92mINFO \u001b[0m:      \t\tround 35: -1.0\n",
      "\u001b[92mINFO \u001b[0m:      \t\tround 36: -1.0\n",
      "\u001b[92mINFO \u001b[0m:      \t\tround 37: -1.0\n",
      "\u001b[92mINFO \u001b[0m:      \t\tround 38: -1.0\n",
      "\u001b[92mINFO \u001b[0m:      \t\tround 39: -1.0\n",
      "\u001b[92mINFO \u001b[0m:      \t\tround 40: -1.0\n",
      "\u001b[92mINFO \u001b[0m:      \t\tround 41: -1.0\n",
      "\u001b[92mINFO \u001b[0m:      \t\tround 42: -1.0\n",
      "\u001b[92mINFO \u001b[0m:      \t\tround 43: -1.0\n",
      "\u001b[92mINFO \u001b[0m:      \t\tround 44: -1.0\n",
      "\u001b[92mINFO \u001b[0m:      \t\tround 45: -1.0\n",
      "\u001b[92mINFO \u001b[0m:      \t\tround 46: -1.0\n",
      "\u001b[92mINFO \u001b[0m:      \t\tround 47: -1.0\n",
      "\u001b[92mINFO \u001b[0m:      \t\tround 48: -1.0\n",
      "\u001b[92mINFO \u001b[0m:      \t\tround 49: -1.0\n",
      "\u001b[92mINFO \u001b[0m:      \t\tround 50: -1.0\n",
      "\u001b[92mINFO \u001b[0m:      \t\tround 51: -1.0\n",
      "\u001b[92mINFO \u001b[0m:      \t\tround 52: -1.0\n",
      "\u001b[92mINFO \u001b[0m:      \t\tround 53: -1.0\n",
      "\u001b[92mINFO \u001b[0m:      \t\tround 54: -1.0\n",
      "\u001b[92mINFO \u001b[0m:      \t\tround 55: -1.0\n",
      "\u001b[92mINFO \u001b[0m:      \t\tround 56: -1.0\n",
      "\u001b[92mINFO \u001b[0m:      \t\tround 57: -1.0\n",
      "\u001b[92mINFO \u001b[0m:      \t\tround 58: -1.0\n",
      "\u001b[92mINFO \u001b[0m:      \t\tround 59: -1.0\n",
      "\u001b[92mINFO \u001b[0m:      \t\tround 60: -1.0\n",
      "\u001b[92mINFO \u001b[0m:      \t\tround 61: -1.0\n",
      "\u001b[92mINFO \u001b[0m:      \t\tround 62: -1.0\n",
      "\u001b[92mINFO \u001b[0m:      \t\tround 63: -1.0\n",
      "\u001b[92mINFO \u001b[0m:      \t\tround 64: -1.0\n",
      "\u001b[92mINFO \u001b[0m:      \t\tround 65: -1.0\n",
      "\u001b[92mINFO \u001b[0m:      \t\tround 66: -1.0\n",
      "\u001b[92mINFO \u001b[0m:      \t\tround 67: -1.0\n",
      "\u001b[92mINFO \u001b[0m:      \t\tround 68: -1.0\n",
      "\u001b[92mINFO \u001b[0m:      \t\tround 69: -1.0\n",
      "\u001b[92mINFO \u001b[0m:      \t\tround 70: -1.0\n",
      "\u001b[92mINFO \u001b[0m:      \t\tround 71: -1.0\n",
      "\u001b[92mINFO \u001b[0m:      \t\tround 72: -1.0\n",
      "\u001b[92mINFO \u001b[0m:      \t\tround 73: -1.0\n",
      "\u001b[92mINFO \u001b[0m:      \t\tround 74: -1.0\n",
      "\u001b[92mINFO \u001b[0m:      \t\tround 75: -1.0\n",
      "\u001b[92mINFO \u001b[0m:      \t\tround 76: -1.0\n",
      "\u001b[92mINFO \u001b[0m:      \t\tround 77: -1.0\n",
      "\u001b[92mINFO \u001b[0m:      \t\tround 78: -1.0\n",
      "\u001b[92mINFO \u001b[0m:      \t\tround 79: -1.0\n",
      "\u001b[92mINFO \u001b[0m:      \t\tround 80: -1.0\n",
      "\u001b[92mINFO \u001b[0m:      \t\tround 81: -1.0\n",
      "\u001b[92mINFO \u001b[0m:      \t\tround 82: -1.0\n",
      "\u001b[92mINFO \u001b[0m:      \t\tround 83: -1.0\n",
      "\u001b[92mINFO \u001b[0m:      \t\tround 84: -1.0\n",
      "\u001b[92mINFO \u001b[0m:      \t\tround 85: -1.0\n",
      "\u001b[92mINFO \u001b[0m:      \t\tround 86: -1.0\n",
      "\u001b[92mINFO \u001b[0m:      \t\tround 87: -1.0\n",
      "\u001b[92mINFO \u001b[0m:      \t\tround 88: -1.0\n",
      "\u001b[92mINFO \u001b[0m:      \t\tround 89: -1.0\n",
      "\u001b[92mINFO \u001b[0m:      \t\tround 90: -1.0\n",
      "\u001b[92mINFO \u001b[0m:      \t\tround 91: -1.0\n",
      "\u001b[92mINFO \u001b[0m:      \t\tround 92: -1.0\n",
      "\u001b[92mINFO \u001b[0m:      \t\tround 93: -1.0\n",
      "\u001b[92mINFO \u001b[0m:      \t\tround 94: -1.0\n",
      "\u001b[92mINFO \u001b[0m:      \t\tround 95: -1.0\n",
      "\u001b[92mINFO \u001b[0m:      \t\tround 96: -1.0\n",
      "\u001b[92mINFO \u001b[0m:      \t\tround 97: -1.0\n",
      "\u001b[92mINFO \u001b[0m:      \t\tround 98: -1.0\n",
      "\u001b[92mINFO \u001b[0m:      \t\tround 99: -1.0\n",
      "\u001b[92mINFO \u001b[0m:      \t\tround 100: -1.0\n",
      "\u001b[92mINFO \u001b[0m:      \t\tround 101: -1.0\n",
      "\u001b[92mINFO \u001b[0m:      \t\tround 102: -1.0\n",
      "\u001b[92mINFO \u001b[0m:      \t\tround 103: -1.0\n",
      "\u001b[92mINFO \u001b[0m:      \t\tround 104: -1.0\n",
      "\u001b[92mINFO \u001b[0m:      \t\tround 105: -1.0\n",
      "\u001b[92mINFO \u001b[0m:      \t\tround 106: -1.0\n",
      "\u001b[92mINFO \u001b[0m:      \t\tround 107: -1.0\n",
      "\u001b[92mINFO \u001b[0m:      \t\tround 108: -1.0\n",
      "\u001b[92mINFO \u001b[0m:      \t\tround 109: -1.0\n",
      "\u001b[92mINFO \u001b[0m:      \t\tround 110: -1.0\n",
      "\u001b[92mINFO \u001b[0m:      \t\tround 111: -1.0\n",
      "\u001b[92mINFO \u001b[0m:      \t\tround 112: -1.0\n",
      "\u001b[92mINFO \u001b[0m:      \t\tround 113: -1.0\n",
      "\u001b[92mINFO \u001b[0m:      \t\tround 114: -1.0\n",
      "\u001b[92mINFO \u001b[0m:      \t\tround 115: -1.0\n",
      "\u001b[92mINFO \u001b[0m:      \t\tround 116: -1.0\n",
      "\u001b[92mINFO \u001b[0m:      \t\tround 117: -1.0\n",
      "\u001b[92mINFO \u001b[0m:      \t\tround 118: -1.0\n",
      "\u001b[92mINFO \u001b[0m:      \t\tround 119: -1.0\n",
      "\u001b[92mINFO \u001b[0m:      \t\tround 120: -1.0\n",
      "\u001b[92mINFO \u001b[0m:      \t\tround 121: -1.0\n",
      "\u001b[92mINFO \u001b[0m:      \t\tround 122: -1.0\n",
      "\u001b[92mINFO \u001b[0m:      \t\tround 123: -1.0\n",
      "\u001b[92mINFO \u001b[0m:      \t\tround 124: -1.0\n",
      "\u001b[92mINFO \u001b[0m:      \t\tround 125: -1.0\n",
      "\u001b[92mINFO \u001b[0m:      \t\tround 126: -1.0\n",
      "\u001b[92mINFO \u001b[0m:      \t\tround 127: -1.0\n",
      "\u001b[92mINFO \u001b[0m:      \t\tround 128: -1.0\n",
      "\u001b[92mINFO \u001b[0m:      \t\tround 129: -1.0\n",
      "\u001b[92mINFO \u001b[0m:      \t\tround 130: -1.0\n",
      "\u001b[92mINFO \u001b[0m:      \t\tround 131: -1.0\n",
      "\u001b[92mINFO \u001b[0m:      \t\tround 132: -1.0\n",
      "\u001b[92mINFO \u001b[0m:      \t\tround 133: -1.0\n",
      "\u001b[92mINFO \u001b[0m:      \t\tround 134: -1.0\n",
      "\u001b[92mINFO \u001b[0m:      \t\tround 135: -1.0\n",
      "\u001b[92mINFO \u001b[0m:      \t\tround 136: -1.0\n",
      "\u001b[92mINFO \u001b[0m:      \t\tround 137: -1.0\n",
      "\u001b[92mINFO \u001b[0m:      \t\tround 138: -1.0\n",
      "\u001b[92mINFO \u001b[0m:      \t\tround 139: -1.0\n",
      "\u001b[92mINFO \u001b[0m:      \t\tround 140: -1.0\n",
      "\u001b[92mINFO \u001b[0m:      \t\tround 141: -1.0\n",
      "\u001b[92mINFO \u001b[0m:      \t\tround 142: -1.0\n",
      "\u001b[92mINFO \u001b[0m:      \t\tround 143: -1.0\n",
      "\u001b[92mINFO \u001b[0m:      \t\tround 144: -1.0\n",
      "\u001b[92mINFO \u001b[0m:      \t\tround 145: -1.0\n",
      "\u001b[92mINFO \u001b[0m:      \t\tround 146: -1.0\n",
      "\u001b[92mINFO \u001b[0m:      \t\tround 147: -1.0\n",
      "\u001b[92mINFO \u001b[0m:      \t\tround 148: -1.0\n",
      "\u001b[92mINFO \u001b[0m:      \t\tround 149: -1.0\n",
      "\u001b[92mINFO \u001b[0m:      \t\tround 150: -1.0\n",
      "\u001b[92mINFO \u001b[0m:      \t\tround 151: -1.0\n",
      "\u001b[92mINFO \u001b[0m:      \t\tround 152: -1.0\n",
      "\u001b[92mINFO \u001b[0m:      \t\tround 153: -1.0\n",
      "\u001b[92mINFO \u001b[0m:      \t\tround 154: -1.0\n",
      "\u001b[92mINFO \u001b[0m:      \t\tround 155: -1.0\n",
      "\u001b[92mINFO \u001b[0m:      \t\tround 156: -1.0\n",
      "\u001b[92mINFO \u001b[0m:      \t\tround 157: -1.0\n",
      "\u001b[92mINFO \u001b[0m:      \t\tround 158: -1.0\n",
      "\u001b[92mINFO \u001b[0m:      \t\tround 159: -1.0\n",
      "\u001b[92mINFO \u001b[0m:      \t\tround 160: -1.0\n",
      "\u001b[92mINFO \u001b[0m:      \t\tround 161: -1.0\n",
      "\u001b[92mINFO \u001b[0m:      \t\tround 162: -1.0\n",
      "\u001b[92mINFO \u001b[0m:      \t\tround 163: -1.0\n",
      "\u001b[92mINFO \u001b[0m:      \t\tround 164: -1.0\n",
      "\u001b[92mINFO \u001b[0m:      \t\tround 165: -1.0\n",
      "\u001b[92mINFO \u001b[0m:      \t\tround 166: -1.0\n",
      "\u001b[92mINFO \u001b[0m:      \t\tround 167: -1.0\n",
      "\u001b[92mINFO \u001b[0m:      \t\tround 168: -1.0\n",
      "\u001b[92mINFO \u001b[0m:      \t\tround 169: -1.0\n",
      "\u001b[92mINFO \u001b[0m:      \t\tround 170: -1.0\n",
      "\u001b[92mINFO \u001b[0m:      \t\tround 171: -1.0\n",
      "\u001b[92mINFO \u001b[0m:      \t\tround 172: -1.0\n",
      "\u001b[92mINFO \u001b[0m:      \t\tround 173: -1.0\n",
      "\u001b[92mINFO \u001b[0m:      \t\tround 174: -1.0\n",
      "\u001b[92mINFO \u001b[0m:      \t\tround 175: -1.0\n",
      "\u001b[92mINFO \u001b[0m:      \t\tround 176: -1.0\n",
      "\u001b[92mINFO \u001b[0m:      \t\tround 177: -1.0\n",
      "\u001b[92mINFO \u001b[0m:      \t\tround 178: -1.0\n",
      "\u001b[92mINFO \u001b[0m:      \t\tround 179: -1.0\n",
      "\u001b[92mINFO \u001b[0m:      \t\tround 180: -1.0\n",
      "\u001b[92mINFO \u001b[0m:      \t\tround 181: -1.0\n",
      "\u001b[92mINFO \u001b[0m:      \t\tround 182: -1.0\n",
      "\u001b[92mINFO \u001b[0m:      \t\tround 183: -1.0\n",
      "\u001b[92mINFO \u001b[0m:      \t\tround 184: -1.0\n",
      "\u001b[92mINFO \u001b[0m:      \t\tround 185: -1.0\n",
      "\u001b[92mINFO \u001b[0m:      \t\tround 186: -1.0\n",
      "\u001b[92mINFO \u001b[0m:      \t\tround 187: -1.0\n",
      "\u001b[92mINFO \u001b[0m:      \t\tround 188: -1.0\n",
      "\u001b[92mINFO \u001b[0m:      \t\tround 189: -1.0\n",
      "\u001b[92mINFO \u001b[0m:      \t\tround 190: -1.0\n",
      "\u001b[92mINFO \u001b[0m:      \t\tround 191: -1.0\n",
      "\u001b[92mINFO \u001b[0m:      \t\tround 192: -1.0\n",
      "\u001b[92mINFO \u001b[0m:      \t\tround 193: -1.0\n",
      "\u001b[92mINFO \u001b[0m:      \t\tround 194: -1.0\n",
      "\u001b[92mINFO \u001b[0m:      \t\tround 195: -1.0\n",
      "\u001b[92mINFO \u001b[0m:      \t\tround 196: -1.0\n",
      "\u001b[92mINFO \u001b[0m:      \t\tround 197: -1.0\n",
      "\u001b[92mINFO \u001b[0m:      \t\tround 198: -1.0\n",
      "\u001b[92mINFO \u001b[0m:      \t\tround 199: -1.0\n",
      "\u001b[92mINFO \u001b[0m:      \t\tround 200: -1.0\n",
      "\u001b[92mINFO \u001b[0m:      \n"
     ]
    }
   ],
   "source": [
    "# Run simulation\n",
    "run_simulation(\n",
    "    server_app=server,\n",
    "    client_app=client,\n",
    "    num_supernodes=NUM_CLIENTS,\n",
    "    backend_config=backend_config,\n",
    "    verbose_logging=False\n",
    ")"
   ]
  },
  {
   "cell_type": "code",
   "execution_count": 11,
   "id": "912afd51",
   "metadata": {},
   "outputs": [
    {
     "name": "stdout",
     "output_type": "stream",
     "text": [
      "Loading pre-trained model from:  model_parameters\\model_round_200.npz\n",
      "Topic 0: organization lines long real group things idea general small video robert service exactly rate coming\n",
      "Topic 1: right god second things play source word years works michael machine israeli period rest road\n",
      "Topic 2: going game news files department server original keywords position military model business laws andrew die\n",
      "Topic 3: use probably getting available newsreader needed apple non legal hold heard commercial internal necessarily mention\n",
      "Topic 4: sure window given message man check came faith death history society case way medical included\n",
      "Topic 5: writes run company user large disclaimer ram online soldiers definition transfer define story nature special\n",
      "Topic 6: organization file question windows able start address canada summary light night gary reports guys cleveland\n",
      "Topic 7: number example true evidence pretty type took talking asked york anti today chicago present bought\n",
      "Topic 8: technology mac clipper stuff provide goes guess private division away league guns voice weeks communications\n",
      "Topic 9: little public looking order change clinton pittsburgh texas development widget thank scientific goal paper los\n",
      "Topic 10: lines religion discussion happened turn morality words cross joseph wondering woman turned fully sciences fall\n",
      "Topic 11: good fact speed important deal ibm drives policy united quality computing newsgroup ide gets makes\n",
      "Topic 12: university data set list graphics memory contact paul necessary water drugs doug author stand mailing\n",
      "Topic 13: think max services rules language claims advice request ray function times constitution handle absolute summer\n",
      "Topic 14: jesus university actually years yes encryption access kind opinions hand answer interested jim simply output\n",
      "Topic 15: point post know rights season common opinion internet peace million congress theory gordon eric insurance\n",
      "Topic 16: article problem send couple players looks cover especially job privacy smith community decided following electronic\n",
      "Topic 17: host nntp end gun numbers usually written weapons hit parts wish pat mail age unfortunately\n",
      "Topic 18: new thing car steve college killed crime points bob runs cars near land keith north\n",
      "Topic 19: usa questions current price programs understand christians net tin images nhl completely administration market blood\n",
      "Topic 20: law power systems team code control case available disk text jewish hardware sorry return tax\n",
      "Topic 21: thanks software look free standard hope color buy jews consider later unix security package experience\n",
      "Topic 22: distribution national phone times board uses washington months away date action result create issues enforcement\n",
      "Topic 23: come mail called let california following armenian box police copy great members plus sell worth\n",
      "Topic 24: high course try president person groups started christ anybody dod cut happen russian inside secure\n",
      "Topic 25: way nntp bible working hockey bus algorithm willing stupid command letter companies green killing floppy\n",
      "Topic 26: organization reply center scsi running nasa body users product previous volume proper interface picture rates\n",
      "Topic 27: wrong place money institute games care turkish known head offer white mouse feel difference atheists\n",
      "Topic 28: people book instead posted stop true guy manager nice air richard escrow laboratory limited sin\n",
      "Topic 29: bit information different possible bad based claim men correct pub armenians exist reference station process\n",
      "Topic 30: posting remember certainly country told advance corporation needs young univ books frank anonymous gave addition\n",
      "Topic 31: info comes area ones clear red study thomas asking freedom loss colors fred scale exact\n",
      "Topic 32: better card says old house saying size james form mentioned food kill performance solution input\n",
      "Topic 33: want read trying local issue likely simple city health sound situation fbi population armenia engine\n",
      "Topic 34: subject world year believe best note states days live making value keys western week response\n",
      "Topic 35: key science tell reason display include engineering went fast gods particular peter internet final individuals\n",
      "Topic 36: space email sun including black taken lost defense federal tom baseball machines add received release\n",
      "Topic 37: like john problems dept ftp total chance street modern late risk florida relationship disagree operations\n",
      "Topic 38: subject life dos apr matter thinking early face brian illinois ideas gay recently tony property\n",
      "Topic 39: line version mark hard maybe open short fine radio record sent month driving fans posts\n",
      "Topic 40: research distribution american sale love single sense dave motif certain according arms objective obviously generally\n",
      "Topic 41: lot wrote win mike cost school non built teams george south lead friends wife ride\n",
      "Topic 42: know day chip big april mind level mode reading speak father dead plan talk happens\n",
      "Topic 43: government drive war earth women statement view soon design currently effect digital media tape jon\n",
      "Topic 44: thought ask write assume controller court break worked realize rom judge lab faster meant wings\n",
      "Topic 45: work help david support church faq tried screen drivers specific international involved device appreciated problems\n",
      "Topic 46: state home image run far san pay gmt test wanted monitor political major genocide articles\n",
      "Topic 47: time got mean israel left christian human similar truth report entry america half press agree\n",
      "Topic 48: need said seen low ago children sort saw build office accept strong moral takes network\n",
      "Topic 49: program great fax means bike self toronto error format section cause close let attack far\n"
     ]
    }
   ],
   "source": [
    "from utils._utils import get_top_words\n",
    "net = ETM(len(vocab))\n",
    "test = get_latest_server_model(net)\n",
    "beta = net.get_beta().detach().cpu().numpy()\n",
    "topwords = get_top_words(beta, vocab, 15, verbose=True)"
   ]
  },
  {
   "cell_type": "code",
   "execution_count": 12,
   "id": "ba6075b0",
   "metadata": {},
   "outputs": [],
   "source": [
    "trainer = BasicTrainer(net, datasets[0])"
   ]
  },
  {
   "cell_type": "code",
   "execution_count": 13,
   "id": "c05de09a",
   "metadata": {},
   "outputs": [
    {
     "data": {
      "text/plain": [
       "ETM(\n",
       "  (encoder1): Sequential(\n",
       "    (0): Linear(in_features=5000, out_features=800, bias=True)\n",
       "    (1): ReLU()\n",
       "    (2): Linear(in_features=800, out_features=800, bias=True)\n",
       "    (3): ReLU()\n",
       "    (4): Dropout(p=0.0, inplace=False)\n",
       "  )\n",
       "  (fc21): Linear(in_features=800, out_features=50, bias=True)\n",
       "  (fc22): Linear(in_features=800, out_features=50, bias=True)\n",
       ")"
      ]
     },
     "execution_count": 13,
     "metadata": {},
     "output_type": "execute_result"
    }
   ],
   "source": [
    "net.to(DEVICE)"
   ]
  },
  {
   "cell_type": "code",
   "execution_count": 14,
   "id": "ac98a3fd",
   "metadata": {},
   "outputs": [
    {
     "name": "stderr",
     "output_type": "stream",
     "text": [
      "parsing texts: 100%|██████████| 2/2 [00:00<00:00, 2002.05it/s]\n"
     ]
    },
    {
     "name": "stdout",
     "output_type": "stream",
     "text": [
      "(2, 5000)\n",
      "[[0 0 0 ... 0 0 0]\n",
      " [0 0 0 ... 0 0 0]]\n",
      "tensor([[0., 0., 0.,  ..., 0., 0., 0.],\n",
      "        [0., 0., 0.,  ..., 0., 0., 0.]], device='cuda:0')\n",
      "[36  6]\n",
      "space email sun including black taken lost defense federal tom baseball machines add received release\n",
      "organization file question windows able start address canada summary light night gary reports guys cleveland\n"
     ]
    }
   ],
   "source": [
    "########################### test new documents ####################################\n",
    "from data.preprocess import Preprocess\n",
    "\n",
    "preprocess = Preprocess()\n",
    "\n",
    "new_docs = [\n",
    "    \"This is a new document about space, including words like space, satellite, launch, orbit.\",\n",
    "    \"This is a new document about Microsoft Windows, including words like windows, files, dos.\"\n",
    "]\n",
    "\n",
    "parsed_new_docs, new_bow = preprocess.parse(new_docs, vocab)\n",
    "print(new_bow.shape)\n",
    "\n",
    "print(new_bow.toarray())\n",
    "input = torch.as_tensor(new_bow.toarray(), device=\"cuda\").float()\n",
    "print(input)\n",
    "new_theta = trainer.test(input)\n",
    "\n",
    "print(new_theta.argmax(1))\n",
    "for x in new_theta.argmax(1):\n",
    "    print(topwords[x])"
   ]
  }
 ],
 "metadata": {
  "kernelspec": {
   "display_name": "TMenv",
   "language": "python",
   "name": "python3"
  },
  "language_info": {
   "codemirror_mode": {
    "name": "ipython",
    "version": 3
   },
   "file_extension": ".py",
   "mimetype": "text/x-python",
   "name": "python",
   "nbconvert_exporter": "python",
   "pygments_lexer": "ipython3",
   "version": "3.9.21"
  }
 },
 "nbformat": 4,
 "nbformat_minor": 5
}
