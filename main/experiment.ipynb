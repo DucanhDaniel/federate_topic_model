{
 "cells": [
  {
   "cell_type": "code",
   "execution_count": 84,
   "id": "720f1a5f",
   "metadata": {},
   "outputs": [
    {
     "name": "stdout",
     "output_type": "stream",
     "text": [
      "d:\\MachineLearning\\federated_vae\\main\n"
     ]
    }
   ],
   "source": [
    "%cd ."
   ]
  },
  {
   "cell_type": "code",
   "execution_count": 85,
   "id": "c1964b06",
   "metadata": {},
   "outputs": [
    {
     "name": "stdout",
     "output_type": "stream",
     "text": [
      "Training on cuda\n",
      "Flower 1.19.0 / PyTorch 2.5.1+cu121\n"
     ]
    }
   ],
   "source": [
    "from collections import OrderedDict\n",
    "from typing import List, Tuple, Union, Optional\n",
    "\n",
    "import matplotlib.pyplot as plt\n",
    "import numpy as np\n",
    "import torch\n",
    "import torch.nn as nn\n",
    "import torch.nn.functional as F\n",
    "import torchvision.transforms as transforms\n",
    "from datasets.utils.logging import disable_progress_bar\n",
    "from torch.utils.data import DataLoader\n",
    "\n",
    "import flwr as fl\n",
    "import numpy as np\n",
    "import torch\n",
    "import glob\n",
    "import os\n",
    "from flwr.common import ndarrays_to_parameters\n",
    "from flwr.client import Client, ClientApp, NumPyClient\n",
    "from flwr.common import Metrics, Context, FitRes, Parameters, Scalar\n",
    "from flwr.server import ServerApp, ServerConfig, ServerAppComponents\n",
    "from flwr.server.client_proxy import ClientProxy\n",
    "from flwr.server.strategy import FedAvg\n",
    "from flwr.simulation import run_simulation\n",
    "from flwr_datasets import FederatedDataset\n",
    "\n",
    "DEVICE = \"cuda\" if torch.cuda.is_available() else \"cpu\"\n",
    "print(f\"Training on {DEVICE}\")\n",
    "print(f\"Flower {fl.__version__} / PyTorch {torch.__version__}\")\n",
    "disable_progress_bar()"
   ]
  },
  {
   "cell_type": "code",
   "execution_count": 86,
   "id": "6c028d54",
   "metadata": {},
   "outputs": [
    {
     "name": "stdout",
     "output_type": "stream",
     "text": [
      "train_size:  11314\n",
      "test_size:  7532\n",
      "vocab_size:  5000\n",
      "average length: 110.543\n"
     ]
    },
    {
     "name": "stderr",
     "output_type": "stream",
     "text": [
      "loading train texts: 100%|██████████| 5657/5657 [00:00<00:00, 8107.73it/s]\n",
      "parsing texts: 100%|██████████| 5657/5657 [00:00<00:00, 9776.49it/s] \n",
      "loading train texts: 100%|██████████| 5657/5657 [00:00<00:00, 8314.55it/s]\n",
      "parsing texts: 100%|██████████| 5657/5657 [00:00<00:00, 10730.31it/s]\n"
     ]
    }
   ],
   "source": [
    "NUM_CLIENTS = 2\n",
    "BATCH_SIZE = 256\n",
    "NUM_ROUNDS = 30\n",
    "\n",
    "from test_flwr import get_all_vocab, split_data\n",
    "vocab = get_all_vocab([\"../data/20NG\"])\n",
    "datasets = split_data(dir = \"../data/20NG\", num_split=NUM_CLIENTS, vocab = vocab, batch_size= BATCH_SIZE)"
   ]
  },
  {
   "cell_type": "code",
   "execution_count": null,
   "id": "805637fd",
   "metadata": {},
   "outputs": [],
   "source": [
    "from model.ETM import ETM\n",
    "from trainer.basic_trainer import BasicTrainer\n",
    "\n"
   ]
  },
  {
   "cell_type": "code",
   "execution_count": 89,
   "id": "caebed0f",
   "metadata": {},
   "outputs": [],
   "source": [
    "def set_parameters(net, parameters: List[np.ndarray]):\n",
    "    params_dict = zip(net.state_dict().keys(), parameters)\n",
    "    state_dict = OrderedDict({k: torch.Tensor(v) for k, v in params_dict})\n",
    "    net.load_state_dict(state_dict, strict=True)\n",
    "\n",
    "\n",
    "def get_parameters(net) -> List[np.ndarray]:\n",
    "    return [val.cpu().numpy() for _, val in net.state_dict().items()]"
   ]
  },
  {
   "cell_type": "code",
   "execution_count": 90,
   "id": "dfa431d2",
   "metadata": {},
   "outputs": [],
   "source": [
    "from data.basic_dataset import RawDataset\n",
    "class FlowerClient(NumPyClient):\n",
    "  def __init__(self, net, dataset : RawDataset, id):\n",
    "    self.net = net\n",
    "    self.dataset = dataset\n",
    "    self.trainer = BasicTrainer(net, dataset, epochs = 1, log_interval=10, device = DEVICE, save_model = True, save_interval=NUM_ROUNDS)\n",
    "    self.id = id\n",
    "    self.save_dir = \"model_parameters/\"\n",
    "    self.round_id = 0\n",
    "    self.total_round = NUM_ROUNDS\n",
    "\n",
    "  # return the current local model parameters\n",
    "  def get_parameters(self, config):\n",
    "    return get_parameters(self.net)\n",
    "\n",
    "  # receive global parameter, train, return updated model to server\n",
    "  def fit(self, parameters, config):\n",
    "    set_parameters(self.net, parameters)\n",
    "    self.trainer.train(model_name = f\"ETM_Client{self.id}\")\n",
    "\n",
    "    return get_parameters(self.net), len(self.dataset.train_texts), {}\n",
    "\n",
    "  # receive global parameter, evaluate model from local's data, return the evaluation result\n",
    "  def evaluate(self, parameters, config):\n",
    "    set_parameters(self.net, parameters)\n",
    "    loss, acc = -1, -1\n",
    "    return float(loss), 1, {\"accuracy\":float(acc)}\n",
    "\n",
    "\n",
    "test = FlowerClient(ETM(len(vocab)), datasets[0], 0)"
   ]
  },
  {
   "cell_type": "code",
   "execution_count": 91,
   "id": "8236b702",
   "metadata": {},
   "outputs": [],
   "source": [
    "def client_fn(context: Context) -> Client:\n",
    "    \"\"\"Create a Flower client representing a single organization.\"\"\"\n",
    "\n",
    "    # Load model\n",
    "    net = ETM(len(vocab)).to(DEVICE)\n",
    "\n",
    "    # Load data (CIFAR-10)\n",
    "    # Note: each client gets a different trainloader/valloader, so each client\n",
    "    # will train and evaluate on their own unique data partition\n",
    "    # Read the node_config to fetch data partition associated to this node\n",
    "    partition_id = context.node_config[\"partition-id\"]\n",
    "    dataset = datasets[partition_id]\n",
    "\n",
    "    # Create a single Flower client representing a single organization\n",
    "    # FlowerClient is a subclass of NumPyClient, so we need to call .to_client()\n",
    "    # to convert it to a subclass of `flwr.client.Client`\n",
    "    return FlowerClient(net, dataset, partition_id).to_client()\n",
    "\n",
    "\n",
    "# Create the ClientApp\n",
    "client = ClientApp(client_fn=client_fn)"
   ]
  },
  {
   "cell_type": "code",
   "execution_count": null,
   "id": "85551854",
   "metadata": {},
   "outputs": [],
   "source": [
    "class SaveModelStrategy(fl.server.strategy.FedAvg):\n",
    "    def aggregate_fit(\n",
    "        self,\n",
    "        server_round: int,\n",
    "        results: list[tuple[fl.server.client_proxy.ClientProxy, fl.common.FitRes]],\n",
    "        failures: list[Union[tuple[ClientProxy, FitRes], BaseException]],\n",
    "    ) -> tuple[Optional[Parameters], dict[str, Scalar]]:\n",
    "\n",
    "        # Call aggregate_fit from base class (FedAvg) to aggregate parameters and metrics\n",
    "        aggregated_parameters, aggregated_metrics = super().aggregate_fit(\n",
    "            server_round, results, failures\n",
    "        )\n",
    "\n",
    "        if aggregated_parameters is not None:\n",
    "            # Convert `Parameters` to `list[np.ndarray]`\n",
    "            aggregated_ndarrays: list[np.ndarray] = fl.common.parameters_to_ndarrays(\n",
    "                aggregated_parameters\n",
    "            )\n",
    "\n",
    "            # Save aggregated_ndarrays to disk\n",
    "            if server_round % 10 == 0:\n",
    "                print(f\"Saving round {server_round} aggregated_ndarrays...\")\n",
    "                np.savez(f\"model_parameters/model_round_{server_round}.npz\", *aggregated_ndarrays)\n",
    "\n",
    "        return aggregated_parameters, aggregated_metrics\n",
    "\n",
    "\n",
    "# Create strategy and pass into ServerApp\n",
    "def server_fn(context):\n",
    "    strategy = SaveModelStrategy(\n",
    "        fraction_fit=1.0,\n",
    "        fraction_evaluate=0.5,\n",
    "        min_fit_clients=NUM_CLIENTS,\n",
    "        min_available_clients=NUM_CLIENTS,\n",
    "    )\n",
    "    config = ServerConfig(num_rounds=NUM_ROUNDS)\n",
    "    return ServerAppComponents(strategy=strategy, config=config)\n",
    "\n",
    "\n",
    "server = ServerApp(server_fn=server_fn)"
   ]
  },
  {
   "cell_type": "code",
   "execution_count": 94,
   "id": "7bd19cd1",
   "metadata": {},
   "outputs": [],
   "source": [
    "def get_latest_server_model(net):\n",
    "    list_of_files = [fname for fname in glob.glob(\"model_parameters/model_round_*\")]\n",
    "    latest_round_file = max(list_of_files, key=os.path.getctime)\n",
    "    print(\"Loading pre-trained model from: \", latest_round_file)\n",
    "    \n",
    "    # Load NumPy arrays from .npz file\n",
    "    with np.load(latest_round_file) as data:\n",
    "        arrays = [data[f'arr_{i}'] for i in range(len(data.files))]\n",
    "    \n",
    "    # Convert to PyTorch state_dict\n",
    "    state_dict = {k: torch.from_numpy(v) for k, v in zip(net.state_dict().keys(), arrays)}\n",
    "    net.load_state_dict(state_dict)\n",
    "    \n",
    "    # Convert to Flower Parameters\n",
    "    state_dict_ndarrays = [v.cpu().numpy() for v in net.state_dict().values()]\n",
    "    parameters = fl.common.ndarrays_to_parameters(state_dict_ndarrays)\n",
    "    return parameters"
   ]
  },
  {
   "cell_type": "code",
   "execution_count": 95,
   "id": "a830fd98",
   "metadata": {},
   "outputs": [],
   "source": [
    "# Specify the resources each of your clients need\n",
    "# By default, each client will be allocated 1x CPU and 0x GPUs\n",
    "backend_config = {\"client_resources\": {\"num_cpus\": 1, \"num_gpus\": 0.0}}\n",
    "\n",
    "# When running on GPU, assign an entire GPU for each client\n",
    "if DEVICE == \"cuda\":\n",
    "    backend_config = {\"client_resources\": {\"num_cpus\": 1, \"num_gpus\": 1.0}}\n",
    "    # Refer to our Flower framework documentation for more details about Flower simulations\n",
    "    # and how to set up the `backend_config`"
   ]
  },
  {
   "cell_type": "code",
   "execution_count": 96,
   "id": "22fadb84",
   "metadata": {},
   "outputs": [
    {
     "name": "stderr",
     "output_type": "stream",
     "text": [
      "\u001b[94mDEBUG 2025-07-13 00:28:06,339\u001b[0m:     Asyncio event loop already running.\n"
     ]
    },
    {
     "name": "stderr",
     "output_type": "stream",
     "text": [
      "\u001b[94mDEBUG 2025-07-13 00:28:06,362\u001b[0m:     Logger propagate set to False\n",
      "\u001b[94mDEBUG 2025-07-13 00:28:06,363\u001b[0m:     Pre-registering run with id 3275487587500647736\n",
      "\u001b[94mDEBUG 2025-07-13 00:28:06,365\u001b[0m:     Using InMemoryState\n",
      "\u001b[94mDEBUG 2025-07-13 00:28:06,366\u001b[0m:     Using InMemoryState\n",
      "\u001b[92mINFO 2025-07-13 00:28:06,369\u001b[0m:      Starting Flower ServerApp, config: num_rounds=30, no round_timeout\n",
      "\u001b[92mINFO 2025-07-13 00:28:06,370\u001b[0m:      \n",
      "\u001b[94mDEBUG 2025-07-13 00:28:06,371\u001b[0m:     Using InMemoryState\n",
      "\u001b[94mDEBUG 2025-07-13 00:28:06,373\u001b[0m:     Registered 2 nodes\n",
      "\u001b[92mINFO 2025-07-13 00:28:06,374\u001b[0m:      [INIT]\n",
      "\u001b[94mDEBUG 2025-07-13 00:28:06,375\u001b[0m:     Supported backends: ['ray']\n",
      "\u001b[92mINFO 2025-07-13 00:28:06,375\u001b[0m:      Requesting initial parameters from one random client\n",
      "\u001b[94mDEBUG 2025-07-13 00:28:06,376\u001b[0m:     Initialising: RayBackend\n",
      "\u001b[94mDEBUG 2025-07-13 00:28:06,378\u001b[0m:     Backend config: {'client_resources': {'num_cpus': 1, 'num_gpus': 1.0}, 'init_args': {}, 'actor': {'tensorflow': 0}}\n",
      "2025-07-13 00:28:09,662\tINFO worker.py:1771 -- Started a local Ray instance.\n",
      "\u001b[94mDEBUG 2025-07-13 00:28:11,487\u001b[0m:     Constructed ActorPool with: 1 actors\n",
      "\u001b[94mDEBUG 2025-07-13 00:28:11,488\u001b[0m:     Using InMemoryState\n",
      "\u001b[92mINFO 2025-07-13 00:28:31,035\u001b[0m:      Received initial parameters from one random client\n",
      "\u001b[92mINFO 2025-07-13 00:28:31,042\u001b[0m:      Starting evaluation of initial global parameters\n",
      "\u001b[92mINFO 2025-07-13 00:28:31,045\u001b[0m:      Evaluation returned no results (`None`)\n",
      "\u001b[92mINFO 2025-07-13 00:28:31,049\u001b[0m:      \n",
      "\u001b[92mINFO 2025-07-13 00:28:31,051\u001b[0m:      [ROUND 1]\n",
      "\u001b[92mINFO 2025-07-13 00:28:31,055\u001b[0m:      configure_fit: strategy sampled 2 clients (out of 2)\n"
     ]
    },
    {
     "name": "stdout",
     "output_type": "stream",
     "text": [
      "\u001b[36m(ClientAppActor pid=21468)\u001b[0m Client's model: ETM_Client0\n",
      "\u001b[36m(ClientAppActor pid=21468)\u001b[0m Epoch: 000 | Loss: 1957.7569580078125\n"
     ]
    },
    {
     "name": "stderr",
     "output_type": "stream",
     "text": [
      "\u001b[92mINFO 2025-07-13 00:28:35,754\u001b[0m:      aggregate_fit: received 2 results and 0 failures\n",
      "\u001b[93mWARNING 2025-07-13 00:28:35,819\u001b[0m:   No fit_metrics_aggregation_fn provided\n",
      "\u001b[92mINFO 2025-07-13 00:28:35,877\u001b[0m:      configure_evaluate: strategy sampled 2 clients (out of 2)\n"
     ]
    },
    {
     "name": "stdout",
     "output_type": "stream",
     "text": [
      "\u001b[36m(ClientAppActor pid=21468)\u001b[0m Client's model: ETM_Client1\n",
      "\u001b[36m(ClientAppActor pid=21468)\u001b[0m Epoch: 000 | Loss: 1905.6146240234375\n",
      "Saving round 1 aggregated_ndarrays...\n"
     ]
    },
    {
     "name": "stderr",
     "output_type": "stream",
     "text": [
      "\u001b[92mINFO 2025-07-13 00:28:38,031\u001b[0m:      aggregate_evaluate: received 2 results and 0 failures\n",
      "\u001b[93mWARNING 2025-07-13 00:28:38,032\u001b[0m:   No evaluate_metrics_aggregation_fn provided\n",
      "\u001b[92mINFO 2025-07-13 00:28:38,032\u001b[0m:      \n",
      "\u001b[92mINFO 2025-07-13 00:28:38,034\u001b[0m:      [ROUND 2]\n",
      "\u001b[92mINFO 2025-07-13 00:28:38,035\u001b[0m:      configure_fit: strategy sampled 2 clients (out of 2)\n"
     ]
    },
    {
     "name": "stdout",
     "output_type": "stream",
     "text": [
      "\u001b[36m(ClientAppActor pid=21468)\u001b[0m Client's model: ETM_Client0\n",
      "\u001b[36m(ClientAppActor pid=21468)\u001b[0m Epoch: 000 | Loss: 1606.6868896484375\n"
     ]
    },
    {
     "name": "stderr",
     "output_type": "stream",
     "text": [
      "\u001b[92mINFO 2025-07-13 00:28:40,698\u001b[0m:      aggregate_fit: received 2 results and 0 failures\n"
     ]
    },
    {
     "name": "stdout",
     "output_type": "stream",
     "text": [
      "\u001b[36m(ClientAppActor pid=21468)\u001b[0m Client's model: ETM_Client1\n",
      "\u001b[36m(ClientAppActor pid=21468)\u001b[0m Epoch: 000 | Loss: 1564.1192626953125\n"
     ]
    },
    {
     "name": "stderr",
     "output_type": "stream",
     "text": [
      "\u001b[92mINFO 2025-07-13 00:28:40,826\u001b[0m:      configure_evaluate: strategy sampled 2 clients (out of 2)\n"
     ]
    },
    {
     "name": "stdout",
     "output_type": "stream",
     "text": [
      "Saving round 2 aggregated_ndarrays...\n"
     ]
    },
    {
     "name": "stderr",
     "output_type": "stream",
     "text": [
      "\u001b[92mINFO 2025-07-13 00:28:43,706\u001b[0m:      aggregate_evaluate: received 2 results and 0 failures\n",
      "\u001b[92mINFO 2025-07-13 00:28:43,706\u001b[0m:      \n",
      "\u001b[92mINFO 2025-07-13 00:28:43,707\u001b[0m:      [ROUND 3]\n",
      "\u001b[92mINFO 2025-07-13 00:28:43,708\u001b[0m:      configure_fit: strategy sampled 2 clients (out of 2)\n"
     ]
    },
    {
     "name": "stdout",
     "output_type": "stream",
     "text": [
      "\u001b[36m(ClientAppActor pid=21468)\u001b[0m Client's model: ETM_Client0\n",
      "\u001b[36m(ClientAppActor pid=21468)\u001b[0m Epoch: 000 | Loss: 1377.3734130859375\n"
     ]
    },
    {
     "name": "stderr",
     "output_type": "stream",
     "text": [
      "\u001b[92mINFO 2025-07-13 00:28:46,419\u001b[0m:      aggregate_fit: received 2 results and 0 failures\n"
     ]
    },
    {
     "name": "stdout",
     "output_type": "stream",
     "text": [
      "\u001b[36m(ClientAppActor pid=21468)\u001b[0m Client's model: ETM_Client1\n",
      "\u001b[36m(ClientAppActor pid=21468)\u001b[0m Epoch: 000 | Loss: 1341.1683349609375\n"
     ]
    },
    {
     "name": "stderr",
     "output_type": "stream",
     "text": [
      "\u001b[92mINFO 2025-07-13 00:28:46,548\u001b[0m:      configure_evaluate: strategy sampled 2 clients (out of 2)\n"
     ]
    },
    {
     "name": "stdout",
     "output_type": "stream",
     "text": [
      "Saving round 3 aggregated_ndarrays...\n"
     ]
    },
    {
     "name": "stderr",
     "output_type": "stream",
     "text": [
      "\u001b[92mINFO 2025-07-13 00:28:48,580\u001b[0m:      aggregate_evaluate: received 2 results and 0 failures\n",
      "\u001b[92mINFO 2025-07-13 00:28:48,582\u001b[0m:      \n",
      "\u001b[92mINFO 2025-07-13 00:28:48,582\u001b[0m:      [ROUND 4]\n",
      "\u001b[92mINFO 2025-07-13 00:28:48,584\u001b[0m:      configure_fit: strategy sampled 2 clients (out of 2)\n"
     ]
    },
    {
     "name": "stdout",
     "output_type": "stream",
     "text": [
      "\u001b[36m(ClientAppActor pid=21468)\u001b[0m Client's model: ETM_Client0\n",
      "\u001b[36m(ClientAppActor pid=21468)\u001b[0m Epoch: 000 | Loss: 1219.7779541015625\n"
     ]
    },
    {
     "name": "stderr",
     "output_type": "stream",
     "text": [
      "\u001b[92mINFO 2025-07-13 00:28:51,035\u001b[0m:      aggregate_fit: received 2 results and 0 failures\n",
      "\u001b[92mINFO 2025-07-13 00:28:51,132\u001b[0m:      configure_evaluate: strategy sampled 2 clients (out of 2)\n"
     ]
    },
    {
     "name": "stdout",
     "output_type": "stream",
     "text": [
      "\u001b[36m(ClientAppActor pid=21468)\u001b[0m Client's model: ETM_Client1\n",
      "\u001b[36m(ClientAppActor pid=21468)\u001b[0m Epoch: 000 | Loss: 1194.0657958984375\n",
      "Saving round 4 aggregated_ndarrays...\n"
     ]
    },
    {
     "name": "stderr",
     "output_type": "stream",
     "text": [
      "\u001b[92mINFO 2025-07-13 00:28:53,030\u001b[0m:      aggregate_evaluate: received 2 results and 0 failures\n",
      "\u001b[92mINFO 2025-07-13 00:28:53,031\u001b[0m:      \n",
      "\u001b[92mINFO 2025-07-13 00:28:53,031\u001b[0m:      [ROUND 5]\n",
      "\u001b[92mINFO 2025-07-13 00:28:53,033\u001b[0m:      configure_fit: strategy sampled 2 clients (out of 2)\n"
     ]
    },
    {
     "name": "stdout",
     "output_type": "stream",
     "text": [
      "\u001b[36m(ClientAppActor pid=21468)\u001b[0m Client's model: ETM_Client0\n",
      "\u001b[36m(ClientAppActor pid=21468)\u001b[0m Epoch: 000 | Loss: 1110.7203369140625\n"
     ]
    },
    {
     "name": "stderr",
     "output_type": "stream",
     "text": [
      "\u001b[92mINFO 2025-07-13 00:28:55,496\u001b[0m:      aggregate_fit: received 2 results and 0 failures\n"
     ]
    },
    {
     "name": "stdout",
     "output_type": "stream",
     "text": [
      "\u001b[36m(ClientAppActor pid=21468)\u001b[0m Client's model: ETM_Client1\n",
      "\u001b[36m(ClientAppActor pid=21468)\u001b[0m Epoch: 000 | Loss: 1085.0416259765625\n"
     ]
    },
    {
     "name": "stderr",
     "output_type": "stream",
     "text": [
      "\u001b[92mINFO 2025-07-13 00:28:55,598\u001b[0m:      configure_evaluate: strategy sampled 2 clients (out of 2)\n"
     ]
    },
    {
     "name": "stdout",
     "output_type": "stream",
     "text": [
      "Saving round 5 aggregated_ndarrays...\n"
     ]
    },
    {
     "name": "stderr",
     "output_type": "stream",
     "text": [
      "\u001b[92mINFO 2025-07-13 00:28:57,650\u001b[0m:      aggregate_evaluate: received 2 results and 0 failures\n",
      "\u001b[92mINFO 2025-07-13 00:28:57,651\u001b[0m:      \n",
      "\u001b[92mINFO 2025-07-13 00:28:57,651\u001b[0m:      [ROUND 6]\n",
      "\u001b[92mINFO 2025-07-13 00:28:57,652\u001b[0m:      configure_fit: strategy sampled 2 clients (out of 2)\n"
     ]
    },
    {
     "name": "stdout",
     "output_type": "stream",
     "text": [
      "\u001b[36m(ClientAppActor pid=21468)\u001b[0m Client's model: ETM_Client0\n",
      "\u001b[36m(ClientAppActor pid=21468)\u001b[0m Epoch: 000 | Loss: 1030.103271484375\n"
     ]
    },
    {
     "name": "stderr",
     "output_type": "stream",
     "text": [
      "\u001b[92mINFO 2025-07-13 00:29:00,084\u001b[0m:      aggregate_fit: received 2 results and 0 failures\n"
     ]
    },
    {
     "name": "stdout",
     "output_type": "stream",
     "text": [
      "\u001b[36m(ClientAppActor pid=21468)\u001b[0m Client's model: ETM_Client1\n",
      "\u001b[36m(ClientAppActor pid=21468)\u001b[0m Epoch: 000 | Loss: 1006.30419921875\n",
      "Saving round 6 aggregated_ndarrays...\n"
     ]
    },
    {
     "name": "stderr",
     "output_type": "stream",
     "text": [
      "\u001b[92mINFO 2025-07-13 00:29:00,191\u001b[0m:      configure_evaluate: strategy sampled 2 clients (out of 2)\n",
      "\u001b[92mINFO 2025-07-13 00:29:02,401\u001b[0m:      aggregate_evaluate: received 2 results and 0 failures\n",
      "\u001b[92mINFO 2025-07-13 00:29:02,402\u001b[0m:      \n",
      "\u001b[92mINFO 2025-07-13 00:29:02,403\u001b[0m:      [ROUND 7]\n",
      "\u001b[92mINFO 2025-07-13 00:29:02,404\u001b[0m:      configure_fit: strategy sampled 2 clients (out of 2)\n"
     ]
    },
    {
     "name": "stdout",
     "output_type": "stream",
     "text": [
      "\u001b[36m(ClientAppActor pid=21468)\u001b[0m Client's model: ETM_Client0\n",
      "\u001b[36m(ClientAppActor pid=21468)\u001b[0m Epoch: 000 | Loss: 970.5216674804688\n"
     ]
    },
    {
     "name": "stderr",
     "output_type": "stream",
     "text": [
      "\u001b[92mINFO 2025-07-13 00:29:04,809\u001b[0m:      aggregate_fit: received 2 results and 0 failures\n"
     ]
    },
    {
     "name": "stdout",
     "output_type": "stream",
     "text": [
      "\u001b[36m(ClientAppActor pid=21468)\u001b[0m Client's model: ETM_Client1\n",
      "\u001b[36m(ClientAppActor pid=21468)\u001b[0m Epoch: 000 | Loss: 949.8295288085938\n",
      "Saving round 7 aggregated_ndarrays...\n"
     ]
    },
    {
     "name": "stderr",
     "output_type": "stream",
     "text": [
      "\u001b[92mINFO 2025-07-13 00:29:04,904\u001b[0m:      configure_evaluate: strategy sampled 2 clients (out of 2)\n",
      "\u001b[92mINFO 2025-07-13 00:29:06,750\u001b[0m:      aggregate_evaluate: received 2 results and 0 failures\n",
      "\u001b[92mINFO 2025-07-13 00:29:06,752\u001b[0m:      \n",
      "\u001b[92mINFO 2025-07-13 00:29:06,753\u001b[0m:      [ROUND 8]\n",
      "\u001b[92mINFO 2025-07-13 00:29:06,754\u001b[0m:      configure_fit: strategy sampled 2 clients (out of 2)\n"
     ]
    },
    {
     "name": "stdout",
     "output_type": "stream",
     "text": [
      "\u001b[36m(ClientAppActor pid=21468)\u001b[0m Client's model: ETM_Client0\n",
      "\u001b[36m(ClientAppActor pid=21468)\u001b[0m Epoch: 000 | Loss: 928.3550415039062\n"
     ]
    },
    {
     "name": "stderr",
     "output_type": "stream",
     "text": [
      "\u001b[92mINFO 2025-07-13 00:29:09,263\u001b[0m:      aggregate_fit: received 2 results and 0 failures\n",
      "\u001b[92mINFO 2025-07-13 00:29:09,364\u001b[0m:      configure_evaluate: strategy sampled 2 clients (out of 2)\n"
     ]
    },
    {
     "name": "stdout",
     "output_type": "stream",
     "text": [
      "\u001b[36m(ClientAppActor pid=21468)\u001b[0m Client's model: ETM_Client1\n",
      "\u001b[36m(ClientAppActor pid=21468)\u001b[0m Epoch: 000 | Loss: 908.63623046875\n",
      "Saving round 8 aggregated_ndarrays...\n"
     ]
    },
    {
     "name": "stderr",
     "output_type": "stream",
     "text": [
      "\u001b[92mINFO 2025-07-13 00:29:11,798\u001b[0m:      aggregate_evaluate: received 2 results and 0 failures\n",
      "\u001b[92mINFO 2025-07-13 00:29:11,798\u001b[0m:      \n",
      "\u001b[92mINFO 2025-07-13 00:29:11,800\u001b[0m:      [ROUND 9]\n",
      "\u001b[92mINFO 2025-07-13 00:29:11,801\u001b[0m:      configure_fit: strategy sampled 2 clients (out of 2)\n"
     ]
    },
    {
     "name": "stdout",
     "output_type": "stream",
     "text": [
      "\u001b[36m(ClientAppActor pid=21468)\u001b[0m Client's model: ETM_Client0\n",
      "\u001b[36m(ClientAppActor pid=21468)\u001b[0m Epoch: 000 | Loss: 897.1045532226562\n"
     ]
    },
    {
     "name": "stderr",
     "output_type": "stream",
     "text": [
      "\u001b[92mINFO 2025-07-13 00:29:14,627\u001b[0m:      aggregate_fit: received 2 results and 0 failures\n",
      "\u001b[92mINFO 2025-07-13 00:29:14,728\u001b[0m:      configure_evaluate: strategy sampled 2 clients (out of 2)\n"
     ]
    },
    {
     "name": "stdout",
     "output_type": "stream",
     "text": [
      "\u001b[36m(ClientAppActor pid=21468)\u001b[0m Client's model: ETM_Client1\n",
      "\u001b[36m(ClientAppActor pid=21468)\u001b[0m Epoch: 000 | Loss: 878.5476684570312\n",
      "Saving round 9 aggregated_ndarrays...\n"
     ]
    },
    {
     "name": "stderr",
     "output_type": "stream",
     "text": [
      "\u001b[92mINFO 2025-07-13 00:29:16,704\u001b[0m:      aggregate_evaluate: received 2 results and 0 failures\n",
      "\u001b[92mINFO 2025-07-13 00:29:16,705\u001b[0m:      \n",
      "\u001b[92mINFO 2025-07-13 00:29:16,706\u001b[0m:      [ROUND 10]\n",
      "\u001b[92mINFO 2025-07-13 00:29:16,706\u001b[0m:      configure_fit: strategy sampled 2 clients (out of 2)\n"
     ]
    },
    {
     "name": "stdout",
     "output_type": "stream",
     "text": [
      "\u001b[36m(ClientAppActor pid=21468)\u001b[0m Client's model: ETM_Client0\n",
      "\u001b[36m(ClientAppActor pid=21468)\u001b[0m Epoch: 000 | Loss: 873.4866333007812\n"
     ]
    },
    {
     "name": "stderr",
     "output_type": "stream",
     "text": [
      "\u001b[92mINFO 2025-07-13 00:29:19,108\u001b[0m:      aggregate_fit: received 2 results and 0 failures\n",
      "\u001b[92mINFO 2025-07-13 00:29:19,208\u001b[0m:      configure_evaluate: strategy sampled 2 clients (out of 2)\n"
     ]
    },
    {
     "name": "stdout",
     "output_type": "stream",
     "text": [
      "\u001b[36m(ClientAppActor pid=21468)\u001b[0m Client's model: ETM_Client1\n",
      "\u001b[36m(ClientAppActor pid=21468)\u001b[0m Epoch: 000 | Loss: 856.02392578125\n",
      "Saving round 10 aggregated_ndarrays...\n"
     ]
    },
    {
     "name": "stderr",
     "output_type": "stream",
     "text": [
      "\u001b[92mINFO 2025-07-13 00:29:21,382\u001b[0m:      aggregate_evaluate: received 2 results and 0 failures\n",
      "\u001b[92mINFO 2025-07-13 00:29:21,383\u001b[0m:      \n",
      "\u001b[92mINFO 2025-07-13 00:29:21,384\u001b[0m:      [ROUND 11]\n",
      "\u001b[92mINFO 2025-07-13 00:29:21,385\u001b[0m:      configure_fit: strategy sampled 2 clients (out of 2)\n"
     ]
    },
    {
     "name": "stdout",
     "output_type": "stream",
     "text": [
      "\u001b[36m(ClientAppActor pid=21468)\u001b[0m Client's model: ETM_Client0\n",
      "\u001b[36m(ClientAppActor pid=21468)\u001b[0m Epoch: 000 | Loss: 855.5550537109375\n"
     ]
    },
    {
     "name": "stderr",
     "output_type": "stream",
     "text": [
      "\u001b[92mINFO 2025-07-13 00:29:23,794\u001b[0m:      aggregate_fit: received 2 results and 0 failures\n",
      "\u001b[92mINFO 2025-07-13 00:29:23,894\u001b[0m:      configure_evaluate: strategy sampled 2 clients (out of 2)\n"
     ]
    },
    {
     "name": "stdout",
     "output_type": "stream",
     "text": [
      "\u001b[36m(ClientAppActor pid=21468)\u001b[0m Client's model: ETM_Client1\n",
      "\u001b[36m(ClientAppActor pid=21468)\u001b[0m Epoch: 000 | Loss: 838.1940307617188\n",
      "Saving round 11 aggregated_ndarrays...\n"
     ]
    },
    {
     "name": "stderr",
     "output_type": "stream",
     "text": [
      "\u001b[92mINFO 2025-07-13 00:29:25,870\u001b[0m:      aggregate_evaluate: received 2 results and 0 failures\n",
      "\u001b[92mINFO 2025-07-13 00:29:25,871\u001b[0m:      \n",
      "\u001b[92mINFO 2025-07-13 00:29:25,872\u001b[0m:      [ROUND 12]\n",
      "\u001b[92mINFO 2025-07-13 00:29:25,873\u001b[0m:      configure_fit: strategy sampled 2 clients (out of 2)\n"
     ]
    },
    {
     "name": "stdout",
     "output_type": "stream",
     "text": [
      "\u001b[36m(ClientAppActor pid=21468)\u001b[0m Client's model: ETM_Client0\n",
      "\u001b[36m(ClientAppActor pid=21468)\u001b[0m Epoch: 000 | Loss: 841.649658203125\n"
     ]
    },
    {
     "name": "stderr",
     "output_type": "stream",
     "text": [
      "\u001b[92mINFO 2025-07-13 00:29:28,614\u001b[0m:      aggregate_fit: received 2 results and 0 failures\n"
     ]
    },
    {
     "name": "stdout",
     "output_type": "stream",
     "text": [
      "\u001b[36m(ClientAppActor pid=21468)\u001b[0m Client's model: ETM_Client1\n",
      "\u001b[36m(ClientAppActor pid=21468)\u001b[0m Epoch: 000 | Loss: 824.5891723632812\n"
     ]
    },
    {
     "name": "stderr",
     "output_type": "stream",
     "text": [
      "\u001b[92mINFO 2025-07-13 00:29:28,749\u001b[0m:      configure_evaluate: strategy sampled 2 clients (out of 2)\n"
     ]
    },
    {
     "name": "stdout",
     "output_type": "stream",
     "text": [
      "Saving round 12 aggregated_ndarrays...\n"
     ]
    },
    {
     "name": "stderr",
     "output_type": "stream",
     "text": [
      "\u001b[92mINFO 2025-07-13 00:29:31,010\u001b[0m:      aggregate_evaluate: received 2 results and 0 failures\n",
      "\u001b[92mINFO 2025-07-13 00:29:31,011\u001b[0m:      \n",
      "\u001b[92mINFO 2025-07-13 00:29:31,012\u001b[0m:      [ROUND 13]\n",
      "\u001b[92mINFO 2025-07-13 00:29:31,013\u001b[0m:      configure_fit: strategy sampled 2 clients (out of 2)\n"
     ]
    },
    {
     "name": "stdout",
     "output_type": "stream",
     "text": [
      "\u001b[36m(ClientAppActor pid=21468)\u001b[0m Client's model: ETM_Client0\n",
      "\u001b[36m(ClientAppActor pid=21468)\u001b[0m Epoch: 000 | Loss: 830.05615234375\n"
     ]
    },
    {
     "name": "stderr",
     "output_type": "stream",
     "text": [
      "\u001b[92mINFO 2025-07-13 00:29:34,096\u001b[0m:      aggregate_fit: received 2 results and 0 failures\n"
     ]
    },
    {
     "name": "stdout",
     "output_type": "stream",
     "text": [
      "\u001b[36m(ClientAppActor pid=21468)\u001b[0m Client's model: ETM_Client1\n",
      "\u001b[36m(ClientAppActor pid=21468)\u001b[0m Epoch: 000 | Loss: 813.4004516601562\n",
      "Saving round 13 aggregated_ndarrays...\n"
     ]
    },
    {
     "name": "stderr",
     "output_type": "stream",
     "text": [
      "\u001b[92mINFO 2025-07-13 00:29:34,196\u001b[0m:      configure_evaluate: strategy sampled 2 clients (out of 2)\n",
      "\u001b[92mINFO 2025-07-13 00:29:36,346\u001b[0m:      aggregate_evaluate: received 2 results and 0 failures\n",
      "\u001b[92mINFO 2025-07-13 00:29:36,347\u001b[0m:      \n",
      "\u001b[92mINFO 2025-07-13 00:29:36,347\u001b[0m:      [ROUND 14]\n",
      "\u001b[92mINFO 2025-07-13 00:29:36,348\u001b[0m:      configure_fit: strategy sampled 2 clients (out of 2)\n"
     ]
    },
    {
     "name": "stdout",
     "output_type": "stream",
     "text": [
      "\u001b[36m(ClientAppActor pid=21468)\u001b[0m Client's model: ETM_Client0\n",
      "\u001b[36m(ClientAppActor pid=21468)\u001b[0m Epoch: 000 | Loss: 821.3988037109375\n"
     ]
    },
    {
     "name": "stderr",
     "output_type": "stream",
     "text": [
      "\u001b[92mINFO 2025-07-13 00:29:38,759\u001b[0m:      aggregate_fit: received 2 results and 0 failures\n",
      "\u001b[92mINFO 2025-07-13 00:29:38,858\u001b[0m:      configure_evaluate: strategy sampled 2 clients (out of 2)\n"
     ]
    },
    {
     "name": "stdout",
     "output_type": "stream",
     "text": [
      "\u001b[36m(ClientAppActor pid=21468)\u001b[0m Client's model: ETM_Client1\n",
      "\u001b[36m(ClientAppActor pid=21468)\u001b[0m Epoch: 000 | Loss: 804.63525390625\n",
      "Saving round 14 aggregated_ndarrays...\n"
     ]
    },
    {
     "name": "stderr",
     "output_type": "stream",
     "text": [
      "\u001b[92mINFO 2025-07-13 00:29:40,833\u001b[0m:      aggregate_evaluate: received 2 results and 0 failures\n",
      "\u001b[92mINFO 2025-07-13 00:29:40,834\u001b[0m:      \n",
      "\u001b[92mINFO 2025-07-13 00:29:40,835\u001b[0m:      [ROUND 15]\n",
      "\u001b[92mINFO 2025-07-13 00:29:40,836\u001b[0m:      configure_fit: strategy sampled 2 clients (out of 2)\n"
     ]
    },
    {
     "name": "stdout",
     "output_type": "stream",
     "text": [
      "\u001b[36m(ClientAppActor pid=21468)\u001b[0m Client's model: ETM_Client0\n",
      "\u001b[36m(ClientAppActor pid=21468)\u001b[0m Epoch: 000 | Loss: 814.098876953125\n",
      "\u001b[36m(ClientAppActor pid=21468)\u001b[0m Client's model: ETM_Client1\n",
      "\u001b[36m(ClientAppActor pid=21468)\u001b[0m Epoch: 000 | Loss: 797.4954833984375\n"
     ]
    },
    {
     "name": "stderr",
     "output_type": "stream",
     "text": [
      "\u001b[92mINFO 2025-07-13 00:29:44,160\u001b[0m:      aggregate_fit: received 2 results and 0 failures\n",
      "\u001b[92mINFO 2025-07-13 00:29:44,270\u001b[0m:      configure_evaluate: strategy sampled 2 clients (out of 2)\n"
     ]
    },
    {
     "name": "stdout",
     "output_type": "stream",
     "text": [
      "Saving round 15 aggregated_ndarrays...\n"
     ]
    },
    {
     "name": "stderr",
     "output_type": "stream",
     "text": [
      "\u001b[92mINFO 2025-07-13 00:29:46,385\u001b[0m:      aggregate_evaluate: received 2 results and 0 failures\n",
      "\u001b[92mINFO 2025-07-13 00:29:46,386\u001b[0m:      \n",
      "\u001b[92mINFO 2025-07-13 00:29:46,386\u001b[0m:      [ROUND 16]\n",
      "\u001b[92mINFO 2025-07-13 00:29:46,387\u001b[0m:      configure_fit: strategy sampled 2 clients (out of 2)\n"
     ]
    },
    {
     "name": "stdout",
     "output_type": "stream",
     "text": [
      "\u001b[36m(ClientAppActor pid=21468)\u001b[0m Client's model: ETM_Client0\n",
      "\u001b[36m(ClientAppActor pid=21468)\u001b[0m Epoch: 000 | Loss: 807.8772583007812\n"
     ]
    },
    {
     "name": "stderr",
     "output_type": "stream",
     "text": [
      "\u001b[92mINFO 2025-07-13 00:29:48,978\u001b[0m:      aggregate_fit: received 2 results and 0 failures\n"
     ]
    },
    {
     "name": "stdout",
     "output_type": "stream",
     "text": [
      "\u001b[36m(ClientAppActor pid=21468)\u001b[0m Client's model: ETM_Client1\n",
      "\u001b[36m(ClientAppActor pid=21468)\u001b[0m Epoch: 000 | Loss: 791.816162109375\n",
      "Saving round 16 aggregated_ndarrays...\n"
     ]
    },
    {
     "name": "stderr",
     "output_type": "stream",
     "text": [
      "\u001b[92mINFO 2025-07-13 00:29:49,089\u001b[0m:      configure_evaluate: strategy sampled 2 clients (out of 2)\n",
      "\u001b[92mINFO 2025-07-13 00:29:51,234\u001b[0m:      aggregate_evaluate: received 2 results and 0 failures\n",
      "\u001b[92mINFO 2025-07-13 00:29:51,234\u001b[0m:      \n",
      "\u001b[92mINFO 2025-07-13 00:29:51,235\u001b[0m:      [ROUND 17]\n",
      "\u001b[92mINFO 2025-07-13 00:29:51,235\u001b[0m:      configure_fit: strategy sampled 2 clients (out of 2)\n"
     ]
    },
    {
     "name": "stdout",
     "output_type": "stream",
     "text": [
      "\u001b[36m(ClientAppActor pid=21468)\u001b[0m Client's model: ETM_Client0\n",
      "\u001b[36m(ClientAppActor pid=21468)\u001b[0m Epoch: 000 | Loss: 803.079833984375\n"
     ]
    },
    {
     "name": "stderr",
     "output_type": "stream",
     "text": [
      "\u001b[92mINFO 2025-07-13 00:29:53,790\u001b[0m:      aggregate_fit: received 2 results and 0 failures\n",
      "\u001b[92mINFO 2025-07-13 00:29:53,889\u001b[0m:      configure_evaluate: strategy sampled 2 clients (out of 2)\n"
     ]
    },
    {
     "name": "stdout",
     "output_type": "stream",
     "text": [
      "\u001b[36m(ClientAppActor pid=21468)\u001b[0m Client's model: ETM_Client1\n",
      "\u001b[36m(ClientAppActor pid=21468)\u001b[0m Epoch: 000 | Loss: 786.9244995117188\n",
      "Saving round 17 aggregated_ndarrays...\n"
     ]
    },
    {
     "name": "stderr",
     "output_type": "stream",
     "text": [
      "\u001b[92mINFO 2025-07-13 00:29:56,260\u001b[0m:      aggregate_evaluate: received 2 results and 0 failures\n",
      "\u001b[92mINFO 2025-07-13 00:29:56,262\u001b[0m:      \n",
      "\u001b[92mINFO 2025-07-13 00:29:56,264\u001b[0m:      [ROUND 18]\n",
      "\u001b[92mINFO 2025-07-13 00:29:56,265\u001b[0m:      configure_fit: strategy sampled 2 clients (out of 2)\n"
     ]
    },
    {
     "name": "stdout",
     "output_type": "stream",
     "text": [
      "\u001b[36m(ClientAppActor pid=21468)\u001b[0m Client's model: ETM_Client0\n",
      "\u001b[36m(ClientAppActor pid=21468)\u001b[0m Epoch: 000 | Loss: 799.2915649414062\n"
     ]
    },
    {
     "name": "stderr",
     "output_type": "stream",
     "text": [
      "\u001b[92mINFO 2025-07-13 00:29:59,814\u001b[0m:      aggregate_fit: received 2 results and 0 failures\n"
     ]
    },
    {
     "name": "stdout",
     "output_type": "stream",
     "text": [
      "\u001b[36m(ClientAppActor pid=21468)\u001b[0m Client's model: ETM_Client1\n",
      "\u001b[36m(ClientAppActor pid=21468)\u001b[0m Epoch: 000 | Loss: 783.129638671875\n",
      "Saving round 18 aggregated_ndarrays...\n"
     ]
    },
    {
     "name": "stderr",
     "output_type": "stream",
     "text": [
      "\u001b[92mINFO 2025-07-13 00:29:59,930\u001b[0m:      configure_evaluate: strategy sampled 2 clients (out of 2)\n",
      "\u001b[92mINFO 2025-07-13 00:30:02,927\u001b[0m:      aggregate_evaluate: received 2 results and 0 failures\n",
      "\u001b[92mINFO 2025-07-13 00:30:02,928\u001b[0m:      \n",
      "\u001b[92mINFO 2025-07-13 00:30:02,929\u001b[0m:      [ROUND 19]\n",
      "\u001b[92mINFO 2025-07-13 00:30:02,930\u001b[0m:      configure_fit: strategy sampled 2 clients (out of 2)\n"
     ]
    },
    {
     "name": "stdout",
     "output_type": "stream",
     "text": [
      "\u001b[36m(ClientAppActor pid=21468)\u001b[0m Client's model: ETM_Client0\n",
      "\u001b[36m(ClientAppActor pid=21468)\u001b[0m Epoch: 000 | Loss: 795.3217163085938\n"
     ]
    },
    {
     "name": "stderr",
     "output_type": "stream",
     "text": [
      "\u001b[92mINFO 2025-07-13 00:30:05,530\u001b[0m:      aggregate_fit: received 2 results and 0 failures\n",
      "\u001b[92mINFO 2025-07-13 00:30:05,621\u001b[0m:      configure_evaluate: strategy sampled 2 clients (out of 2)\n"
     ]
    },
    {
     "name": "stdout",
     "output_type": "stream",
     "text": [
      "\u001b[36m(ClientAppActor pid=21468)\u001b[0m Client's model: ETM_Client1\n",
      "\u001b[36m(ClientAppActor pid=21468)\u001b[0m Epoch: 000 | Loss: 779.5692749023438\n",
      "Saving round 19 aggregated_ndarrays...\n"
     ]
    },
    {
     "name": "stderr",
     "output_type": "stream",
     "text": [
      "\u001b[92mINFO 2025-07-13 00:30:08,206\u001b[0m:      aggregate_evaluate: received 2 results and 0 failures\n",
      "\u001b[92mINFO 2025-07-13 00:30:08,207\u001b[0m:      \n",
      "\u001b[92mINFO 2025-07-13 00:30:08,207\u001b[0m:      [ROUND 20]\n",
      "\u001b[92mINFO 2025-07-13 00:30:08,208\u001b[0m:      configure_fit: strategy sampled 2 clients (out of 2)\n"
     ]
    },
    {
     "name": "stdout",
     "output_type": "stream",
     "text": [
      "\u001b[36m(ClientAppActor pid=21468)\u001b[0m Client's model: ETM_Client0\n",
      "\u001b[36m(ClientAppActor pid=21468)\u001b[0m Epoch: 000 | Loss: 792.4185180664062\n"
     ]
    },
    {
     "name": "stderr",
     "output_type": "stream",
     "text": [
      "\u001b[92mINFO 2025-07-13 00:30:11,170\u001b[0m:      aggregate_fit: received 2 results and 0 failures\n"
     ]
    },
    {
     "name": "stdout",
     "output_type": "stream",
     "text": [
      "\u001b[36m(ClientAppActor pid=21468)\u001b[0m Client's model: ETM_Client1\n",
      "\u001b[36m(ClientAppActor pid=21468)\u001b[0m Epoch: 000 | Loss: 776.4039916992188\n",
      "Saving round 20 aggregated_ndarrays...\n"
     ]
    },
    {
     "name": "stderr",
     "output_type": "stream",
     "text": [
      "\u001b[92mINFO 2025-07-13 00:30:12,174\u001b[0m:      configure_evaluate: strategy sampled 2 clients (out of 2)\n",
      "\u001b[92mINFO 2025-07-13 00:30:15,621\u001b[0m:      aggregate_evaluate: received 2 results and 0 failures\n",
      "\u001b[92mINFO 2025-07-13 00:30:15,623\u001b[0m:      \n",
      "\u001b[92mINFO 2025-07-13 00:30:15,624\u001b[0m:      [ROUND 21]\n",
      "\u001b[92mINFO 2025-07-13 00:30:15,626\u001b[0m:      configure_fit: strategy sampled 2 clients (out of 2)\n"
     ]
    },
    {
     "name": "stdout",
     "output_type": "stream",
     "text": [
      "\u001b[36m(ClientAppActor pid=21468)\u001b[0m Client's model: ETM_Client0\n",
      "\u001b[36m(ClientAppActor pid=21468)\u001b[0m Epoch: 000 | Loss: 789.4107055664062\n"
     ]
    },
    {
     "name": "stderr",
     "output_type": "stream",
     "text": [
      "\u001b[92mINFO 2025-07-13 00:30:18,578\u001b[0m:      aggregate_fit: received 2 results and 0 failures\n"
     ]
    },
    {
     "name": "stdout",
     "output_type": "stream",
     "text": [
      "\u001b[36m(ClientAppActor pid=21468)\u001b[0m Client's model: ETM_Client1\n",
      "\u001b[36m(ClientAppActor pid=21468)\u001b[0m Epoch: 000 | Loss: 773.82763671875\n",
      "Saving round 21 aggregated_ndarrays...\n"
     ]
    },
    {
     "name": "stderr",
     "output_type": "stream",
     "text": [
      "\u001b[92mINFO 2025-07-13 00:30:18,687\u001b[0m:      configure_evaluate: strategy sampled 2 clients (out of 2)\n",
      "\u001b[92mINFO 2025-07-13 00:30:20,949\u001b[0m:      aggregate_evaluate: received 2 results and 0 failures\n",
      "\u001b[92mINFO 2025-07-13 00:30:20,950\u001b[0m:      \n",
      "\u001b[92mINFO 2025-07-13 00:30:20,951\u001b[0m:      [ROUND 22]\n",
      "\u001b[92mINFO 2025-07-13 00:30:20,951\u001b[0m:      configure_fit: strategy sampled 2 clients (out of 2)\n"
     ]
    },
    {
     "name": "stdout",
     "output_type": "stream",
     "text": [
      "\u001b[36m(ClientAppActor pid=21468)\u001b[0m Client's model: ETM_Client0\n",
      "\u001b[36m(ClientAppActor pid=21468)\u001b[0m Epoch: 000 | Loss: 786.73486328125\n"
     ]
    },
    {
     "name": "stderr",
     "output_type": "stream",
     "text": [
      "\u001b[92mINFO 2025-07-13 00:30:23,625\u001b[0m:      aggregate_fit: received 2 results and 0 failures\n"
     ]
    },
    {
     "name": "stdout",
     "output_type": "stream",
     "text": [
      "\u001b[36m(ClientAppActor pid=21468)\u001b[0m Client's model: ETM_Client1\n",
      "\u001b[36m(ClientAppActor pid=21468)\u001b[0m Epoch: 000 | Loss: 771.3928833007812\n",
      "Saving round 22 aggregated_ndarrays...\n"
     ]
    },
    {
     "name": "stderr",
     "output_type": "stream",
     "text": [
      "\u001b[92mINFO 2025-07-13 00:30:23,718\u001b[0m:      configure_evaluate: strategy sampled 2 clients (out of 2)\n",
      "\u001b[92mINFO 2025-07-13 00:30:25,782\u001b[0m:      aggregate_evaluate: received 2 results and 0 failures\n",
      "\u001b[92mINFO 2025-07-13 00:30:25,782\u001b[0m:      \n",
      "\u001b[92mINFO 2025-07-13 00:30:25,783\u001b[0m:      [ROUND 23]\n",
      "\u001b[92mINFO 2025-07-13 00:30:25,784\u001b[0m:      configure_fit: strategy sampled 2 clients (out of 2)\n"
     ]
    },
    {
     "name": "stdout",
     "output_type": "stream",
     "text": [
      "\u001b[36m(ClientAppActor pid=21468)\u001b[0m Client's model: ETM_Client0\n",
      "\u001b[36m(ClientAppActor pid=21468)\u001b[0m Epoch: 000 | Loss: 785.0015869140625\n"
     ]
    },
    {
     "name": "stderr",
     "output_type": "stream",
     "text": [
      "\u001b[92mINFO 2025-07-13 00:30:28,481\u001b[0m:      aggregate_fit: received 2 results and 0 failures\n"
     ]
    },
    {
     "name": "stdout",
     "output_type": "stream",
     "text": [
      "\u001b[36m(ClientAppActor pid=21468)\u001b[0m Client's model: ETM_Client1\n",
      "\u001b[36m(ClientAppActor pid=21468)\u001b[0m Epoch: 000 | Loss: 769.10302734375\n",
      "Saving round 23 aggregated_ndarrays...\n"
     ]
    },
    {
     "name": "stderr",
     "output_type": "stream",
     "text": [
      "\u001b[92mINFO 2025-07-13 00:30:28,631\u001b[0m:      configure_evaluate: strategy sampled 2 clients (out of 2)\n",
      "\u001b[92mINFO 2025-07-13 00:30:32,403\u001b[0m:      aggregate_evaluate: received 2 results and 0 failures\n",
      "\u001b[92mINFO 2025-07-13 00:30:32,404\u001b[0m:      \n",
      "\u001b[92mINFO 2025-07-13 00:30:32,405\u001b[0m:      [ROUND 24]\n",
      "\u001b[92mINFO 2025-07-13 00:30:32,406\u001b[0m:      configure_fit: strategy sampled 2 clients (out of 2)\n"
     ]
    },
    {
     "name": "stdout",
     "output_type": "stream",
     "text": [
      "\u001b[36m(ClientAppActor pid=21468)\u001b[0m Client's model: ETM_Client0\n",
      "\u001b[36m(ClientAppActor pid=21468)\u001b[0m Epoch: 000 | Loss: 782.7913208007812\n"
     ]
    },
    {
     "name": "stderr",
     "output_type": "stream",
     "text": [
      "\u001b[92mINFO 2025-07-13 00:30:35,857\u001b[0m:      aggregate_fit: received 2 results and 0 failures\n"
     ]
    },
    {
     "name": "stdout",
     "output_type": "stream",
     "text": [
      "\u001b[36m(ClientAppActor pid=21468)\u001b[0m Client's model: ETM_Client1\n",
      "\u001b[36m(ClientAppActor pid=21468)\u001b[0m Epoch: 000 | Loss: 766.837890625\n",
      "Saving round 24 aggregated_ndarrays...\n"
     ]
    },
    {
     "name": "stderr",
     "output_type": "stream",
     "text": [
      "\u001b[92mINFO 2025-07-13 00:30:35,992\u001b[0m:      configure_evaluate: strategy sampled 2 clients (out of 2)\n",
      "\u001b[92mINFO 2025-07-13 00:30:38,725\u001b[0m:      aggregate_evaluate: received 2 results and 0 failures\n",
      "\u001b[92mINFO 2025-07-13 00:30:38,726\u001b[0m:      \n",
      "\u001b[92mINFO 2025-07-13 00:30:38,727\u001b[0m:      [ROUND 25]\n",
      "\u001b[92mINFO 2025-07-13 00:30:38,728\u001b[0m:      configure_fit: strategy sampled 2 clients (out of 2)\n"
     ]
    },
    {
     "name": "stdout",
     "output_type": "stream",
     "text": [
      "\u001b[36m(ClientAppActor pid=21468)\u001b[0m Client's model: ETM_Client0\n",
      "\u001b[36m(ClientAppActor pid=21468)\u001b[0m Epoch: 000 | Loss: 781.1022338867188\n"
     ]
    },
    {
     "name": "stderr",
     "output_type": "stream",
     "text": [
      "\u001b[92mINFO 2025-07-13 00:30:41,838\u001b[0m:      aggregate_fit: received 2 results and 0 failures\n"
     ]
    },
    {
     "name": "stdout",
     "output_type": "stream",
     "text": [
      "\u001b[36m(ClientAppActor pid=21468)\u001b[0m Client's model: ETM_Client1\n",
      "\u001b[36m(ClientAppActor pid=21468)\u001b[0m Epoch: 000 | Loss: 765.5335693359375\n",
      "Saving round 25 aggregated_ndarrays...\n"
     ]
    },
    {
     "name": "stderr",
     "output_type": "stream",
     "text": [
      "\u001b[92mINFO 2025-07-13 00:30:41,946\u001b[0m:      configure_evaluate: strategy sampled 2 clients (out of 2)\n",
      "\u001b[92mINFO 2025-07-13 00:30:44,282\u001b[0m:      aggregate_evaluate: received 2 results and 0 failures\n",
      "\u001b[92mINFO 2025-07-13 00:30:44,283\u001b[0m:      \n",
      "\u001b[92mINFO 2025-07-13 00:30:44,283\u001b[0m:      [ROUND 26]\n",
      "\u001b[92mINFO 2025-07-13 00:30:44,284\u001b[0m:      configure_fit: strategy sampled 2 clients (out of 2)\n"
     ]
    },
    {
     "name": "stdout",
     "output_type": "stream",
     "text": [
      "\u001b[36m(ClientAppActor pid=21468)\u001b[0m Client's model: ETM_Client0\n",
      "\u001b[36m(ClientAppActor pid=21468)\u001b[0m Epoch: 000 | Loss: 779.3370971679688\n"
     ]
    },
    {
     "name": "stderr",
     "output_type": "stream",
     "text": [
      "\u001b[92mINFO 2025-07-13 00:30:46,813\u001b[0m:      aggregate_fit: received 2 results and 0 failures\n",
      "\u001b[92mINFO 2025-07-13 00:30:46,911\u001b[0m:      configure_evaluate: strategy sampled 2 clients (out of 2)\n"
     ]
    },
    {
     "name": "stdout",
     "output_type": "stream",
     "text": [
      "\u001b[36m(ClientAppActor pid=21468)\u001b[0m Client's model: ETM_Client1\n",
      "\u001b[36m(ClientAppActor pid=21468)\u001b[0m Epoch: 000 | Loss: 763.9505004882812\n",
      "Saving round 26 aggregated_ndarrays...\n"
     ]
    },
    {
     "name": "stderr",
     "output_type": "stream",
     "text": [
      "\u001b[92mINFO 2025-07-13 00:30:48,796\u001b[0m:      aggregate_evaluate: received 2 results and 0 failures\n",
      "\u001b[92mINFO 2025-07-13 00:30:48,797\u001b[0m:      \n",
      "\u001b[92mINFO 2025-07-13 00:30:48,797\u001b[0m:      [ROUND 27]\n",
      "\u001b[92mINFO 2025-07-13 00:30:48,799\u001b[0m:      configure_fit: strategy sampled 2 clients (out of 2)\n"
     ]
    },
    {
     "name": "stdout",
     "output_type": "stream",
     "text": [
      "\u001b[36m(ClientAppActor pid=21468)\u001b[0m Client's model: ETM_Client0\n",
      "\u001b[36m(ClientAppActor pid=21468)\u001b[0m Epoch: 000 | Loss: 777.7408447265625\n"
     ]
    },
    {
     "name": "stderr",
     "output_type": "stream",
     "text": [
      "\u001b[92mINFO 2025-07-13 00:30:51,356\u001b[0m:      aggregate_fit: received 2 results and 0 failures\n"
     ]
    },
    {
     "name": "stdout",
     "output_type": "stream",
     "text": [
      "\u001b[36m(ClientAppActor pid=21468)\u001b[0m Client's model: ETM_Client1\n",
      "\u001b[36m(ClientAppActor pid=21468)\u001b[0m Epoch: 000 | Loss: 762.429443359375\n",
      "Saving round 27 aggregated_ndarrays...\n"
     ]
    },
    {
     "name": "stderr",
     "output_type": "stream",
     "text": [
      "\u001b[92mINFO 2025-07-13 00:30:51,498\u001b[0m:      configure_evaluate: strategy sampled 2 clients (out of 2)\n",
      "\u001b[92mINFO 2025-07-13 00:30:53,610\u001b[0m:      aggregate_evaluate: received 2 results and 0 failures\n",
      "\u001b[92mINFO 2025-07-13 00:30:53,612\u001b[0m:      \n",
      "\u001b[92mINFO 2025-07-13 00:30:53,612\u001b[0m:      [ROUND 28]\n",
      "\u001b[92mINFO 2025-07-13 00:30:53,613\u001b[0m:      configure_fit: strategy sampled 2 clients (out of 2)\n"
     ]
    },
    {
     "name": "stdout",
     "output_type": "stream",
     "text": [
      "\u001b[36m(ClientAppActor pid=21468)\u001b[0m Client's model: ETM_Client0\n",
      "\u001b[36m(ClientAppActor pid=21468)\u001b[0m Epoch: 000 | Loss: 776.7052612304688\n"
     ]
    },
    {
     "name": "stderr",
     "output_type": "stream",
     "text": [
      "\u001b[92mINFO 2025-07-13 00:30:56,043\u001b[0m:      aggregate_fit: received 2 results and 0 failures\n"
     ]
    },
    {
     "name": "stdout",
     "output_type": "stream",
     "text": [
      "\u001b[36m(ClientAppActor pid=21468)\u001b[0m Client's model: ETM_Client1\n",
      "\u001b[36m(ClientAppActor pid=21468)\u001b[0m Epoch: 000 | Loss: 761.0396118164062\n"
     ]
    },
    {
     "name": "stderr",
     "output_type": "stream",
     "text": [
      "\u001b[92mINFO 2025-07-13 00:30:56,149\u001b[0m:      configure_evaluate: strategy sampled 2 clients (out of 2)\n"
     ]
    },
    {
     "name": "stdout",
     "output_type": "stream",
     "text": [
      "Saving round 28 aggregated_ndarrays...\n"
     ]
    },
    {
     "name": "stderr",
     "output_type": "stream",
     "text": [
      "\u001b[92mINFO 2025-07-13 00:30:58,154\u001b[0m:      aggregate_evaluate: received 2 results and 0 failures\n",
      "\u001b[92mINFO 2025-07-13 00:30:58,155\u001b[0m:      \n",
      "\u001b[92mINFO 2025-07-13 00:30:58,156\u001b[0m:      [ROUND 29]\n",
      "\u001b[92mINFO 2025-07-13 00:30:58,157\u001b[0m:      configure_fit: strategy sampled 2 clients (out of 2)\n"
     ]
    },
    {
     "name": "stdout",
     "output_type": "stream",
     "text": [
      "\u001b[36m(ClientAppActor pid=21468)\u001b[0m Client's model: ETM_Client0\n",
      "\u001b[36m(ClientAppActor pid=21468)\u001b[0m Epoch: 000 | Loss: 775.1154174804688\n"
     ]
    },
    {
     "name": "stderr",
     "output_type": "stream",
     "text": [
      "\u001b[92mINFO 2025-07-13 00:31:00,603\u001b[0m:      aggregate_fit: received 2 results and 0 failures\n"
     ]
    },
    {
     "name": "stdout",
     "output_type": "stream",
     "text": [
      "\u001b[36m(ClientAppActor pid=21468)\u001b[0m Client's model: ETM_Client1\n",
      "\u001b[36m(ClientAppActor pid=21468)\u001b[0m Epoch: 000 | Loss: 760.0211181640625\n",
      "Saving round 29 aggregated_ndarrays...\n"
     ]
    },
    {
     "name": "stderr",
     "output_type": "stream",
     "text": [
      "\u001b[92mINFO 2025-07-13 00:31:00,702\u001b[0m:      configure_evaluate: strategy sampled 2 clients (out of 2)\n",
      "\u001b[92mINFO 2025-07-13 00:31:02,917\u001b[0m:      aggregate_evaluate: received 2 results and 0 failures\n",
      "\u001b[92mINFO 2025-07-13 00:31:02,918\u001b[0m:      \n",
      "\u001b[92mINFO 2025-07-13 00:31:02,918\u001b[0m:      [ROUND 30]\n",
      "\u001b[92mINFO 2025-07-13 00:31:02,920\u001b[0m:      configure_fit: strategy sampled 2 clients (out of 2)\n"
     ]
    },
    {
     "name": "stdout",
     "output_type": "stream",
     "text": [
      "\u001b[36m(ClientAppActor pid=21468)\u001b[0m Client's model: ETM_Client0\n",
      "\u001b[36m(ClientAppActor pid=21468)\u001b[0m Epoch: 000 | Loss: 774.0159912109375\n"
     ]
    },
    {
     "name": "stderr",
     "output_type": "stream",
     "text": [
      "\u001b[92mINFO 2025-07-13 00:31:05,500\u001b[0m:      aggregate_fit: received 2 results and 0 failures\n"
     ]
    },
    {
     "name": "stdout",
     "output_type": "stream",
     "text": [
      "\u001b[36m(ClientAppActor pid=21468)\u001b[0m Client's model: ETM_Client1\n",
      "\u001b[36m(ClientAppActor pid=21468)\u001b[0m Epoch: 000 | Loss: 758.583984375\n"
     ]
    },
    {
     "name": "stderr",
     "output_type": "stream",
     "text": [
      "\u001b[92mINFO 2025-07-13 00:31:05,617\u001b[0m:      configure_evaluate: strategy sampled 2 clients (out of 2)\n"
     ]
    },
    {
     "name": "stdout",
     "output_type": "stream",
     "text": [
      "Saving round 30 aggregated_ndarrays...\n"
     ]
    },
    {
     "name": "stderr",
     "output_type": "stream",
     "text": [
      "\u001b[92mINFO 2025-07-13 00:31:07,745\u001b[0m:      aggregate_evaluate: received 2 results and 0 failures\n",
      "\u001b[92mINFO 2025-07-13 00:31:07,750\u001b[0m:      \n",
      "\u001b[92mINFO 2025-07-13 00:31:07,751\u001b[0m:      [SUMMARY]\n",
      "\u001b[92mINFO 2025-07-13 00:31:07,752\u001b[0m:      Run finished 30 round(s) in 156.70s\n",
      "\u001b[92mINFO 2025-07-13 00:31:07,753\u001b[0m:      \tHistory (loss, distributed):\n",
      "\u001b[92mINFO 2025-07-13 00:31:07,754\u001b[0m:      \t\tround 1: -1.0\n",
      "\u001b[92mINFO 2025-07-13 00:31:07,754\u001b[0m:      \t\tround 2: -1.0\n",
      "\u001b[92mINFO 2025-07-13 00:31:07,755\u001b[0m:      \t\tround 3: -1.0\n",
      "\u001b[92mINFO 2025-07-13 00:31:07,756\u001b[0m:      \t\tround 4: -1.0\n",
      "\u001b[92mINFO 2025-07-13 00:31:07,756\u001b[0m:      \t\tround 5: -1.0\n",
      "\u001b[92mINFO 2025-07-13 00:31:07,758\u001b[0m:      \t\tround 6: -1.0\n",
      "\u001b[92mINFO 2025-07-13 00:31:07,759\u001b[0m:      \t\tround 7: -1.0\n",
      "\u001b[92mINFO 2025-07-13 00:31:07,759\u001b[0m:      \t\tround 8: -1.0\n",
      "\u001b[92mINFO 2025-07-13 00:31:07,760\u001b[0m:      \t\tround 9: -1.0\n",
      "\u001b[92mINFO 2025-07-13 00:31:07,760\u001b[0m:      \t\tround 10: -1.0\n",
      "\u001b[92mINFO 2025-07-13 00:31:07,760\u001b[0m:      \t\tround 11: -1.0\n",
      "\u001b[92mINFO 2025-07-13 00:31:07,761\u001b[0m:      \t\tround 12: -1.0\n",
      "\u001b[92mINFO 2025-07-13 00:31:07,761\u001b[0m:      \t\tround 13: -1.0\n",
      "\u001b[92mINFO 2025-07-13 00:31:07,763\u001b[0m:      \t\tround 14: -1.0\n",
      "\u001b[92mINFO 2025-07-13 00:31:07,763\u001b[0m:      \t\tround 15: -1.0\n",
      "\u001b[92mINFO 2025-07-13 00:31:07,764\u001b[0m:      \t\tround 16: -1.0\n",
      "\u001b[92mINFO 2025-07-13 00:31:07,765\u001b[0m:      \t\tround 17: -1.0\n",
      "\u001b[92mINFO 2025-07-13 00:31:07,766\u001b[0m:      \t\tround 18: -1.0\n",
      "\u001b[92mINFO 2025-07-13 00:31:07,767\u001b[0m:      \t\tround 19: -1.0\n",
      "\u001b[92mINFO 2025-07-13 00:31:07,767\u001b[0m:      \t\tround 20: -1.0\n",
      "\u001b[92mINFO 2025-07-13 00:31:07,768\u001b[0m:      \t\tround 21: -1.0\n",
      "\u001b[92mINFO 2025-07-13 00:31:07,768\u001b[0m:      \t\tround 22: -1.0\n",
      "\u001b[92mINFO 2025-07-13 00:31:07,769\u001b[0m:      \t\tround 23: -1.0\n",
      "\u001b[92mINFO 2025-07-13 00:31:07,770\u001b[0m:      \t\tround 24: -1.0\n",
      "\u001b[92mINFO 2025-07-13 00:31:07,771\u001b[0m:      \t\tround 25: -1.0\n",
      "\u001b[92mINFO 2025-07-13 00:31:07,771\u001b[0m:      \t\tround 26: -1.0\n",
      "\u001b[92mINFO 2025-07-13 00:31:07,772\u001b[0m:      \t\tround 27: -1.0\n",
      "\u001b[92mINFO 2025-07-13 00:31:07,772\u001b[0m:      \t\tround 28: -1.0\n",
      "\u001b[92mINFO 2025-07-13 00:31:07,773\u001b[0m:      \t\tround 29: -1.0\n",
      "\u001b[92mINFO 2025-07-13 00:31:07,773\u001b[0m:      \t\tround 30: -1.0\n",
      "\u001b[92mINFO 2025-07-13 00:31:07,774\u001b[0m:      \n",
      "\u001b[94mDEBUG 2025-07-13 00:31:07,781\u001b[0m:     ServerApp finished running.\n",
      "\u001b[94mDEBUG 2025-07-13 00:31:07,783\u001b[0m:     ServerApp finished running.\n",
      "\u001b[94mDEBUG 2025-07-13 00:31:07,785\u001b[0m:     Triggered stop event for Simulation Engine.\n",
      "\u001b[94mDEBUG 2025-07-13 00:31:08,710\u001b[0m:     Terminated 1 actors\n",
      "\u001b[94mDEBUG 2025-07-13 00:31:09,970\u001b[0m:     Terminated RayBackend\n",
      "\u001b[94mDEBUG 2025-07-13 00:31:09,973\u001b[0m:     Stopping Simulation Engine now.\n"
     ]
    }
   ],
   "source": [
    "# Run simulation\n",
    "run_simulation(\n",
    "    server_app=server,\n",
    "    client_app=client,\n",
    "    num_supernodes=NUM_CLIENTS,\n",
    "    backend_config=backend_config,\n",
    "    verbose_logging=True\n",
    ")"
   ]
  },
  {
   "cell_type": "code",
   "execution_count": 97,
   "id": "912afd51",
   "metadata": {},
   "outputs": [
    {
     "name": "stdout",
     "output_type": "stream",
     "text": [
      "Loading pre-trained model from:  model_parameters\\model_round_30.npz\n",
      "Topic 0: sure stop necessary recently write research child event users provided wife russian names closed launch\n",
      "Topic 1: article trying thought opinions book source certainly claim pub wrote major tim moon electronic comment\n",
      "Topic 2: want people actually run looking memory faq difference short red crime keith political images mentioned\n",
      "Topic 3: bit car war questions reason hit fast device deleted chance thank turn jon freedom unix\n",
      "Topic 4: problems example makes ask school simple ibm form air north bbs oil necessarily answer space\n",
      "Topic 5: university lines article great general mark getting large days view company common bob record opinion\n",
      "Topic 6: new far phone experience strong save motif let created printer attack appropriate came copy language\n",
      "Topic 7: possible game place sun keywords ftp sense self built body worth computing anybody pro port\n",
      "Topic 8: email type current considered happened wide member stupid object jason speak summer scripture allowed born\n",
      "Topic 9: free steve disk server box paul jews nice cards single break learn stand explain civil\n",
      "Topic 10: way point technology small fax institute agree texas city lost face assume parts situation christianity\n",
      "Topic 11: dos encryption speed simply guess site included inside imagine second apparently picture took argic flames\n",
      "Topic 12: god windows real yes department apr written algorithm generally display especially understanding research practice cpu\n",
      "Topic 13: subject good problem heard christian mac april states white matter canada college making past size\n",
      "Topic 14: host long image buy day dept couple york controller suggest rule msg completely single bits\n",
      "Topic 15: file means access win original laws gets design related richard brian baseball manager building george\n",
      "Topic 16: support non comes black mind truth offer washington bad men usenet tools hear special math\n",
      "Topic 17: question law chip jesus big left today robert hand mike list effect sent months toronto\n",
      "Topic 18: science fact end says course exist anti job drives answer cases personal request ground disease\n",
      "Topic 19: software read come works running guns united according came modem young plus figure present bad\n",
      "Topic 20: like john person check money low turkish health business escrow useful boston floppy claims approach\n",
      "Topic 21: hard bible including david stuff text private services san office points allow defense net project\n",
      "Topic 22: max house application rate food son giving conference technical equipment direct league detroit watch stopped\n",
      "Topic 23: organization use believe contact add road stated hours proof xterm escape possibility net authorities spencer\n",
      "Topic 24: lines writes called day love started corporation words wrong information saw follow sell univ looks\n",
      "Topic 25: year state times kind president video output date board tried numbers asked digital quality population\n",
      "Topic 26: need case control machines gmt ways unfortunately reports station muslims age blue colorado refer vlb\n",
      "Topic 27: said got public maybe given home jim network uses policy south turned died sold remote\n",
      "Topic 28: posting key center send american sale division hardware dave nasa dod usually taken posted ago\n",
      "Topic 29: probably tell second israeli saying hope engineering certain cars exactly tape excellent western arab chips\n",
      "Topic 30: color pretty response doubt higher reasons chicago solution standards orbit education personally hey trouble noticed\n",
      "Topic 31: reply code national screen term interesting individual report phone obviously return process double ready wish\n",
      "Topic 32: thanks team seen price goes issue taking development international legal cover authority shipping roger minutes\n",
      "Topic 33: know distribution program group old mean gun include jewish security live model true monitor fine\n",
      "Topic 34: power little files lot life address human church likely head wrong military talking level set\n",
      "Topic 35: subject try scsi remember idea told value rights driver control apple cut runs sorry thing\n",
      "Topic 36: world drive message following note players christ pay bus error particular moral clearly gave basic\n",
      "Topic 37: work data version systems look available post summary went earth service advance study weeks format\n",
      "Topic 38: better graphics info news interested cost right change position rest performance purpose scott display player\n",
      "Topic 39: people years help things space order armenian care feel known police books needs previous ideas\n",
      "Topic 40: mail high standard machine provide keys consider drivers statement car gods killed understand sites kill\n",
      "Topic 41: right usa number different israel david start sound later user hockey discussion james appreciated context\n",
      "Topic 42: line man card window package communications california bike reference serial uunet hold rom shows questions\n",
      "Topic 43: think nntp lines internet able thing games michael instead children death ones christians course peter\n",
      "Topic 44: time best true research correct land corp places somebody understand west pass class agencies dealer\n",
      "Topic 45: information time play press radio pittsburgh guy involved members women final worse federal events reading\n",
      "Topic 46: going based evidence word faith religion btw fairly trial putting green fair gay meg activity\n",
      "Topic 47: writes time clipper list open thinking rules interface anonymous gives van citizens require continue serdar\n",
      "Topic 48: government away let programs wanted deal armenians entry currently shot input page jobs wait proposed\n",
      "Topic 49: local important area mail set season week tin mouse history smith test knowledge ram average\n"
     ]
    }
   ],
   "source": [
    "from utils._utils import get_top_words\n",
    "net = ETM(len(vocab))\n",
    "test = get_latest_server_model(net)\n",
    "beta = net.get_beta().detach().cpu().numpy()\n",
    "topwords = get_top_words(beta, vocab, 15, verbose=True)"
   ]
  },
  {
   "cell_type": "code",
   "execution_count": null,
   "id": "ba6075b0",
   "metadata": {},
   "outputs": [],
   "source": [
    "trainer = BasicTrainer(net, datasets[0])"
   ]
  },
  {
   "cell_type": "code",
   "execution_count": 107,
   "id": "c05de09a",
   "metadata": {},
   "outputs": [
    {
     "data": {
      "text/plain": [
       "ETM(\n",
       "  (encoder1): Sequential(\n",
       "    (0): Linear(in_features=5000, out_features=800, bias=True)\n",
       "    (1): ReLU()\n",
       "    (2): Linear(in_features=800, out_features=800, bias=True)\n",
       "    (3): ReLU()\n",
       "    (4): Dropout(p=0.0, inplace=False)\n",
       "  )\n",
       "  (fc21): Linear(in_features=800, out_features=50, bias=True)\n",
       "  (fc22): Linear(in_features=800, out_features=50, bias=True)\n",
       ")"
      ]
     },
     "execution_count": 107,
     "metadata": {},
     "output_type": "execute_result"
    }
   ],
   "source": [
    "net.to(DEVICE)"
   ]
  },
  {
   "cell_type": "code",
   "execution_count": 109,
   "id": "ac98a3fd",
   "metadata": {},
   "outputs": [
    {
     "name": "stderr",
     "output_type": "stream",
     "text": [
      "parsing texts: 100%|██████████| 2/2 [00:00<?, ?it/s]"
     ]
    },
    {
     "name": "stdout",
     "output_type": "stream",
     "text": [
      "(2, 5000)\n",
      "[[0 0 0 ... 0 0 0]\n",
      " [0 0 0 ... 0 0 0]]\n",
      "tensor([[0., 0., 0.,  ..., 0., 0., 0.],\n",
      "        [0., 0., 0.,  ..., 0., 0., 0.]], device='cuda:0')\n",
      "[39 12]\n",
      "people years help things space order armenian care feel known police books needs previous ideas\n",
      "god windows real yes department apr written algorithm generally display especially understanding research practice cpu\n"
     ]
    },
    {
     "name": "stderr",
     "output_type": "stream",
     "text": [
      "\n"
     ]
    }
   ],
   "source": [
    "########################### test new documents ####################################\n",
    "from data.preprocess import Preprocess\n",
    "\n",
    "preprocess = Preprocess()\n",
    "\n",
    "new_docs = [\n",
    "    \"This is a new document about space, including words like space, satellite, launch, orbit.\",\n",
    "    \"This is a new document about Microsoft Windows, including words like windows, files, dos.\"\n",
    "]\n",
    "\n",
    "parsed_new_docs, new_bow = preprocess.parse(new_docs, vocab)\n",
    "print(new_bow.shape)\n",
    "\n",
    "print(new_bow.toarray())\n",
    "input = torch.as_tensor(new_bow.toarray(), device=\"cuda\").float()\n",
    "print(input)\n",
    "new_theta = trainer.test(input)\n",
    "\n",
    "print(new_theta.argmax(1))\n",
    "for x in new_theta.argmax(1):\n",
    "    print(topwords[x])"
   ]
  }
 ],
 "metadata": {
  "kernelspec": {
   "display_name": "TMenv",
   "language": "python",
   "name": "python3"
  },
  "language_info": {
   "codemirror_mode": {
    "name": "ipython",
    "version": 3
   },
   "file_extension": ".py",
   "mimetype": "text/x-python",
   "name": "python",
   "nbconvert_exporter": "python",
   "pygments_lexer": "ipython3",
   "version": "3.9.21"
  }
 },
 "nbformat": 4,
 "nbformat_minor": 5
}
